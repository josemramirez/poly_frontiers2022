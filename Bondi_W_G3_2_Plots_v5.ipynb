{
 "cells": [
  {
   "cell_type": "markdown",
   "id": "f8f7c3e1",
   "metadata": {},
   "source": [
    "# Frontiers, Bondi Eqs. with consistency"
   ]
  },
  {
   "cell_type": "code",
   "execution_count": 1,
   "id": "516b14ea",
   "metadata": {},
   "outputs": [
    {
     "data": {
      "text/plain": [
       "<Figure size 432x288 with 0 Axes>"
      ]
     },
     "metadata": {},
     "output_type": "display_data"
    }
   ],
   "source": [
    "import yt\n",
    "from yt.units import kpc\n",
    "import numpy as np\n",
    "import yt.visualization.eps_writer as eps\n",
    "import matplotlib.pyplot as plt\n",
    "from yt import derived_field\n",
    "from matplotlib import pylab\n",
    "from yt.mods import * # set up our namespace\n",
    "from mpl_toolkits.axes_grid1 import AxesGrid\n",
    "from os.path import exists\n",
    "\n",
    "fig = plt.figure()\n",
    "########################################\n",
    "\n",
    "#### -----\n",
    "def putStyle(sFont,syT,top1,R1):\n",
    "    import matplotlib as mpl\n",
    "    import matplotlib.style as style\n",
    "    style.available\n",
    "\n",
    "    # General plot parameters\n",
    "    mpl.rcParams['font.family'] = 'Avenir'\n",
    "    mpl.rcParams['font.size'] = sFont\n",
    "    mpl.rcParams['axes.linewidth'] = 4\n",
    "    mpl.rcParams['axes.spines.bottom'] = top1\n",
    "    mpl.rcParams['axes.spines.right'] = R1\n",
    "    mpl.rcParams['xtick.major.size'] = 10\n",
    "    mpl.rcParams['xtick.major.width'] = 2\n",
    "    mpl.rcParams['ytick.major.size'] = 10\n",
    "    mpl.rcParams['ytick.major.width'] = syT\n",
    "    mpl.rcParams['lines.linewidth']= 3\n",
    "    mpl.rcParams[\"figure.figsize\"] = (8,8)"
   ]
  },
  {
   "cell_type": "code",
   "execution_count": 2,
   "id": "6c113479",
   "metadata": {},
   "outputs": [],
   "source": [
    "## 10pc\n",
    "Rad0=3.08568e+19\n",
    "Vel00=4.44971e7\n",
    "Vel0=4.44971e7 #\n",
    "\n",
    "\n",
    "unit_base = {'UnitLength_in_cm'         :   Rad0,\n",
    "             'UnitMass_in_g'            :   1.98892e+40,\n",
    "             'UnitVelocity_in_cm_per_s' :   Vel0,\n",
    "             'GravityConstantInternal'  :   0,\n",
    "             }\n",
    "\n",
    "bbox_lim = 20.0 #codelength\n",
    "\n",
    "bbox = [[-bbox_lim,bbox_lim],\n",
    "        [-bbox_lim,bbox_lim],\n",
    "        [-bbox_lim,bbox_lim]]"
   ]
  },
  {
   "cell_type": "code",
   "execution_count": 3,
   "id": "fb651775",
   "metadata": {},
   "outputs": [
    {
     "name": "stderr",
     "output_type": "stream",
     "text": [
      "yt : [INFO     ] 2022-02-15 14:08:18,513 Omega Lambda is 0.0, so we are turning off Cosmology.\n",
      "yt : [INFO     ] 2022-02-15 14:08:18,590 Parameters: current_time              = 0.0\n",
      "yt : [INFO     ] 2022-02-15 14:08:18,591 Parameters: domain_dimensions         = [1 1 1]\n",
      "yt : [INFO     ] 2022-02-15 14:08:18,591 Parameters: domain_left_edge          = [-20. -20. -20.]\n",
      "yt : [INFO     ] 2022-02-15 14:08:18,592 Parameters: domain_right_edge         = [20. 20. 20.]\n",
      "yt : [INFO     ] 2022-02-15 14:08:18,593 Parameters: cosmological_simulation   = 0\n",
      "yt : [INFO     ] 2022-02-15 14:08:18,603 Omega Lambda is 0.0, so we are turning off Cosmology.\n",
      "yt : [INFO     ] 2022-02-15 14:08:18,667 Parameters: current_time              = 0.05\n",
      "yt : [INFO     ] 2022-02-15 14:08:18,667 Parameters: domain_dimensions         = [1 1 1]\n",
      "yt : [INFO     ] 2022-02-15 14:08:18,668 Parameters: domain_left_edge          = [-20. -20. -20.]\n",
      "yt : [INFO     ] 2022-02-15 14:08:18,669 Parameters: domain_right_edge         = [20. 20. 20.]\n",
      "yt : [INFO     ] 2022-02-15 14:08:18,669 Parameters: cosmological_simulation   = 0\n",
      "yt : [INFO     ] 2022-02-15 14:08:18,679 Omega Lambda is 0.0, so we are turning off Cosmology.\n",
      "yt : [INFO     ] 2022-02-15 14:08:18,743 Parameters: current_time              = 0.1\n",
      "yt : [INFO     ] 2022-02-15 14:08:18,744 Parameters: domain_dimensions         = [1 1 1]\n",
      "yt : [INFO     ] 2022-02-15 14:08:18,745 Parameters: domain_left_edge          = [-20. -20. -20.]\n",
      "yt : [INFO     ] 2022-02-15 14:08:18,746 Parameters: domain_right_edge         = [20. 20. 20.]\n",
      "yt : [INFO     ] 2022-02-15 14:08:18,746 Parameters: cosmological_simulation   = 0\n",
      "yt : [INFO     ] 2022-02-15 14:08:18,756 Omega Lambda is 0.0, so we are turning off Cosmology.\n",
      "yt : [INFO     ] 2022-02-15 14:08:18,807 Parameters: current_time              = 0.15000000000000002\n"
     ]
    },
    {
     "name": "stdout",
     "output_type": "stream",
     "text": [
      "snapshot_0000\n",
      "snapshot_0001\n",
      "snapshot_0002\n"
     ]
    },
    {
     "name": "stderr",
     "output_type": "stream",
     "text": [
      "yt : [INFO     ] 2022-02-15 14:08:18,808 Parameters: domain_dimensions         = [1 1 1]\n",
      "yt : [INFO     ] 2022-02-15 14:08:18,808 Parameters: domain_left_edge          = [-20. -20. -20.]\n",
      "yt : [INFO     ] 2022-02-15 14:08:18,809 Parameters: domain_right_edge         = [20. 20. 20.]\n",
      "yt : [INFO     ] 2022-02-15 14:08:18,810 Parameters: cosmological_simulation   = 0\n",
      "yt : [INFO     ] 2022-02-15 14:08:18,818 Omega Lambda is 0.0, so we are turning off Cosmology.\n",
      "yt : [INFO     ] 2022-02-15 14:08:18,876 Parameters: current_time              = 0.2\n",
      "yt : [INFO     ] 2022-02-15 14:08:18,877 Parameters: domain_dimensions         = [1 1 1]\n",
      "yt : [INFO     ] 2022-02-15 14:08:18,878 Parameters: domain_left_edge          = [-20. -20. -20.]\n",
      "yt : [INFO     ] 2022-02-15 14:08:18,879 Parameters: domain_right_edge         = [20. 20. 20.]\n",
      "yt : [INFO     ] 2022-02-15 14:08:18,880 Parameters: cosmological_simulation   = 0\n",
      "yt : [INFO     ] 2022-02-15 14:08:18,890 Omega Lambda is 0.0, so we are turning off Cosmology.\n",
      "yt : [INFO     ] 2022-02-15 14:08:18,948 Parameters: current_time              = 0.2\n",
      "yt : [INFO     ] 2022-02-15 14:08:18,949 Parameters: domain_dimensions         = [1 1 1]\n",
      "yt : [INFO     ] 2022-02-15 14:08:18,950 Parameters: domain_left_edge          = [-20. -20. -20.]\n",
      "yt : [INFO     ] 2022-02-15 14:08:18,951 Parameters: domain_right_edge         = [20. 20. 20.]\n",
      "yt : [INFO     ] 2022-02-15 14:08:18,952 Parameters: cosmological_simulation   = 0\n",
      "yt : [INFO     ] 2022-02-15 14:08:18,966 Omega Lambda is 0.0, so we are turning off Cosmology.\n",
      "yt : [INFO     ] 2022-02-15 14:08:19,026 Parameters: current_time              = 0.0\n"
     ]
    },
    {
     "name": "stdout",
     "output_type": "stream",
     "text": [
      "snapshot_0003\n",
      "snapshot_0004\n",
      "snapshot_0005\n"
     ]
    },
    {
     "name": "stderr",
     "output_type": "stream",
     "text": [
      "yt : [INFO     ] 2022-02-15 14:08:19,027 Parameters: domain_dimensions         = [1 1 1]\n",
      "yt : [INFO     ] 2022-02-15 14:08:19,028 Parameters: domain_left_edge          = [-20. -20. -20.]\n",
      "yt : [INFO     ] 2022-02-15 14:08:19,028 Parameters: domain_right_edge         = [20. 20. 20.]\n",
      "yt : [INFO     ] 2022-02-15 14:08:19,029 Parameters: cosmological_simulation   = 0\n",
      "yt : [INFO     ] 2022-02-15 14:08:19,041 Omega Lambda is 0.0, so we are turning off Cosmology.\n",
      "yt : [INFO     ] 2022-02-15 14:08:19,099 Parameters: current_time              = 0.05\n",
      "yt : [INFO     ] 2022-02-15 14:08:19,100 Parameters: domain_dimensions         = [1 1 1]\n",
      "yt : [INFO     ] 2022-02-15 14:08:19,101 Parameters: domain_left_edge          = [-20. -20. -20.]\n",
      "yt : [INFO     ] 2022-02-15 14:08:19,102 Parameters: domain_right_edge         = [20. 20. 20.]\n",
      "yt : [INFO     ] 2022-02-15 14:08:19,103 Parameters: cosmological_simulation   = 0\n",
      "yt : [INFO     ] 2022-02-15 14:08:19,113 Omega Lambda is 0.0, so we are turning off Cosmology.\n",
      "yt : [INFO     ] 2022-02-15 14:08:19,171 Parameters: current_time              = 0.1\n",
      "yt : [INFO     ] 2022-02-15 14:08:19,172 Parameters: domain_dimensions         = [1 1 1]\n",
      "yt : [INFO     ] 2022-02-15 14:08:19,172 Parameters: domain_left_edge          = [-20. -20. -20.]\n",
      "yt : [INFO     ] 2022-02-15 14:08:19,173 Parameters: domain_right_edge         = [20. 20. 20.]\n",
      "yt : [INFO     ] 2022-02-15 14:08:19,174 Parameters: cosmological_simulation   = 0\n",
      "yt : [INFO     ] 2022-02-15 14:08:19,185 Omega Lambda is 0.0, so we are turning off Cosmology.\n"
     ]
    },
    {
     "name": "stdout",
     "output_type": "stream",
     "text": [
      "snapshot_0000\n",
      "snapshot_0001\n",
      "snapshot_0002\n"
     ]
    },
    {
     "name": "stderr",
     "output_type": "stream",
     "text": [
      "yt : [INFO     ] 2022-02-15 14:08:19,247 Parameters: current_time              = 0.15000000000000002\n",
      "yt : [INFO     ] 2022-02-15 14:08:19,248 Parameters: domain_dimensions         = [1 1 1]\n",
      "yt : [INFO     ] 2022-02-15 14:08:19,250 Parameters: domain_left_edge          = [-20. -20. -20.]\n",
      "yt : [INFO     ] 2022-02-15 14:08:19,251 Parameters: domain_right_edge         = [20. 20. 20.]\n",
      "yt : [INFO     ] 2022-02-15 14:08:19,252 Parameters: cosmological_simulation   = 0\n",
      "yt : [INFO     ] 2022-02-15 14:08:19,262 Omega Lambda is 0.0, so we are turning off Cosmology.\n",
      "yt : [INFO     ] 2022-02-15 14:08:19,324 Parameters: current_time              = 0.2\n",
      "yt : [INFO     ] 2022-02-15 14:08:19,325 Parameters: domain_dimensions         = [1 1 1]\n",
      "yt : [INFO     ] 2022-02-15 14:08:19,326 Parameters: domain_left_edge          = [-20. -20. -20.]\n",
      "yt : [INFO     ] 2022-02-15 14:08:19,326 Parameters: domain_right_edge         = [20. 20. 20.]\n",
      "yt : [INFO     ] 2022-02-15 14:08:19,327 Parameters: cosmological_simulation   = 0\n",
      "yt : [INFO     ] 2022-02-15 14:08:19,339 Omega Lambda is 0.0, so we are turning off Cosmology.\n",
      "yt : [INFO     ] 2022-02-15 14:08:19,399 Parameters: current_time              = 0.2\n",
      "yt : [INFO     ] 2022-02-15 14:08:19,400 Parameters: domain_dimensions         = [1 1 1]\n",
      "yt : [INFO     ] 2022-02-15 14:08:19,401 Parameters: domain_left_edge          = [-20. -20. -20.]\n",
      "yt : [INFO     ] 2022-02-15 14:08:19,402 Parameters: domain_right_edge         = [20. 20. 20.]\n",
      "yt : [INFO     ] 2022-02-15 14:08:19,403 Parameters: cosmological_simulation   = 0\n",
      "yt : [INFO     ] 2022-02-15 14:08:19,419 Omega Lambda is 0.0, so we are turning off Cosmology.\n"
     ]
    },
    {
     "name": "stdout",
     "output_type": "stream",
     "text": [
      "snapshot_0003\n",
      "snapshot_0004\n",
      "snapshot_0005\n"
     ]
    },
    {
     "name": "stderr",
     "output_type": "stream",
     "text": [
      "yt : [INFO     ] 2022-02-15 14:08:19,480 Parameters: current_time              = 0.0\n",
      "yt : [INFO     ] 2022-02-15 14:08:19,481 Parameters: domain_dimensions         = [1 1 1]\n",
      "yt : [INFO     ] 2022-02-15 14:08:19,481 Parameters: domain_left_edge          = [-20. -20. -20.]\n",
      "yt : [INFO     ] 2022-02-15 14:08:19,482 Parameters: domain_right_edge         = [20. 20. 20.]\n",
      "yt : [INFO     ] 2022-02-15 14:08:19,483 Parameters: cosmological_simulation   = 0\n",
      "yt : [INFO     ] 2022-02-15 14:08:19,494 Omega Lambda is 0.0, so we are turning off Cosmology.\n",
      "yt : [INFO     ] 2022-02-15 14:08:19,555 Parameters: current_time              = 0.05\n",
      "yt : [INFO     ] 2022-02-15 14:08:19,556 Parameters: domain_dimensions         = [1 1 1]\n",
      "yt : [INFO     ] 2022-02-15 14:08:19,556 Parameters: domain_left_edge          = [-20. -20. -20.]\n",
      "yt : [INFO     ] 2022-02-15 14:08:19,557 Parameters: domain_right_edge         = [20. 20. 20.]\n",
      "yt : [INFO     ] 2022-02-15 14:08:19,558 Parameters: cosmological_simulation   = 0\n",
      "yt : [INFO     ] 2022-02-15 14:08:19,570 Omega Lambda is 0.0, so we are turning off Cosmology.\n",
      "yt : [INFO     ] 2022-02-15 14:08:19,631 Parameters: current_time              = 0.1\n",
      "yt : [INFO     ] 2022-02-15 14:08:19,632 Parameters: domain_dimensions         = [1 1 1]\n",
      "yt : [INFO     ] 2022-02-15 14:08:19,633 Parameters: domain_left_edge          = [-20. -20. -20.]\n",
      "yt : [INFO     ] 2022-02-15 14:08:19,634 Parameters: domain_right_edge         = [20. 20. 20.]\n",
      "yt : [INFO     ] 2022-02-15 14:08:19,635 Parameters: cosmological_simulation   = 0\n",
      "yt : [INFO     ] 2022-02-15 14:08:19,646 Omega Lambda is 0.0, so we are turning off Cosmology.\n"
     ]
    },
    {
     "name": "stdout",
     "output_type": "stream",
     "text": [
      "snapshot_0000\n",
      "snapshot_0001\n",
      "snapshot_0002\n"
     ]
    },
    {
     "name": "stderr",
     "output_type": "stream",
     "text": [
      "yt : [INFO     ] 2022-02-15 14:08:19,708 Parameters: current_time              = 0.15000000000000002\n",
      "yt : [INFO     ] 2022-02-15 14:08:19,709 Parameters: domain_dimensions         = [1 1 1]\n",
      "yt : [INFO     ] 2022-02-15 14:08:19,709 Parameters: domain_left_edge          = [-20. -20. -20.]\n",
      "yt : [INFO     ] 2022-02-15 14:08:19,710 Parameters: domain_right_edge         = [20. 20. 20.]\n",
      "yt : [INFO     ] 2022-02-15 14:08:19,711 Parameters: cosmological_simulation   = 0\n",
      "yt : [INFO     ] 2022-02-15 14:08:19,722 Omega Lambda is 0.0, so we are turning off Cosmology.\n",
      "yt : [INFO     ] 2022-02-15 14:08:19,785 Parameters: current_time              = 0.2\n",
      "yt : [INFO     ] 2022-02-15 14:08:19,786 Parameters: domain_dimensions         = [1 1 1]\n",
      "yt : [INFO     ] 2022-02-15 14:08:19,786 Parameters: domain_left_edge          = [-20. -20. -20.]\n",
      "yt : [INFO     ] 2022-02-15 14:08:19,787 Parameters: domain_right_edge         = [20. 20. 20.]\n",
      "yt : [INFO     ] 2022-02-15 14:08:19,788 Parameters: cosmological_simulation   = 0\n",
      "yt : [INFO     ] 2022-02-15 14:08:19,799 Omega Lambda is 0.0, so we are turning off Cosmology.\n",
      "yt : [INFO     ] 2022-02-15 14:08:19,863 Parameters: current_time              = 0.2\n",
      "yt : [INFO     ] 2022-02-15 14:08:19,864 Parameters: domain_dimensions         = [1 1 1]\n",
      "yt : [INFO     ] 2022-02-15 14:08:19,865 Parameters: domain_left_edge          = [-20. -20. -20.]\n",
      "yt : [INFO     ] 2022-02-15 14:08:19,866 Parameters: domain_right_edge         = [20. 20. 20.]\n",
      "yt : [INFO     ] 2022-02-15 14:08:19,868 Parameters: cosmological_simulation   = 0\n",
      "yt : [INFO     ] 2022-02-15 14:08:19,883 Omega Lambda is 0.0, so we are turning off Cosmology.\n"
     ]
    },
    {
     "name": "stdout",
     "output_type": "stream",
     "text": [
      "snapshot_0003\n",
      "snapshot_0004\n",
      "snapshot_0005\n"
     ]
    },
    {
     "name": "stderr",
     "output_type": "stream",
     "text": [
      "yt : [INFO     ] 2022-02-15 14:08:19,944 Parameters: current_time              = 0.0\n",
      "yt : [INFO     ] 2022-02-15 14:08:19,944 Parameters: domain_dimensions         = [1 1 1]\n",
      "yt : [INFO     ] 2022-02-15 14:08:19,945 Parameters: domain_left_edge          = [-20. -20. -20.]\n",
      "yt : [INFO     ] 2022-02-15 14:08:19,946 Parameters: domain_right_edge         = [20. 20. 20.]\n",
      "yt : [INFO     ] 2022-02-15 14:08:19,946 Parameters: cosmological_simulation   = 0\n",
      "yt : [INFO     ] 2022-02-15 14:08:19,956 Omega Lambda is 0.0, so we are turning off Cosmology.\n",
      "yt : [INFO     ] 2022-02-15 14:08:20,010 Parameters: current_time              = 0.05\n",
      "yt : [INFO     ] 2022-02-15 14:08:20,011 Parameters: domain_dimensions         = [1 1 1]\n",
      "yt : [INFO     ] 2022-02-15 14:08:20,012 Parameters: domain_left_edge          = [-20. -20. -20.]\n",
      "yt : [INFO     ] 2022-02-15 14:08:20,013 Parameters: domain_right_edge         = [20. 20. 20.]\n",
      "yt : [INFO     ] 2022-02-15 14:08:20,014 Parameters: cosmological_simulation   = 0\n",
      "yt : [INFO     ] 2022-02-15 14:08:20,023 Omega Lambda is 0.0, so we are turning off Cosmology.\n",
      "yt : [INFO     ] 2022-02-15 14:08:20,087 Parameters: current_time              = 0.1\n",
      "yt : [INFO     ] 2022-02-15 14:08:20,088 Parameters: domain_dimensions         = [1 1 1]\n",
      "yt : [INFO     ] 2022-02-15 14:08:20,088 Parameters: domain_left_edge          = [-20. -20. -20.]\n",
      "yt : [INFO     ] 2022-02-15 14:08:20,090 Parameters: domain_right_edge         = [20. 20. 20.]\n",
      "yt : [INFO     ] 2022-02-15 14:08:20,091 Parameters: cosmological_simulation   = 0\n",
      "yt : [INFO     ] 2022-02-15 14:08:20,101 Omega Lambda is 0.0, so we are turning off Cosmology.\n"
     ]
    },
    {
     "name": "stdout",
     "output_type": "stream",
     "text": [
      "snapshot_0000\n",
      "snapshot_0001\n",
      "snapshot_0002\n"
     ]
    },
    {
     "name": "stderr",
     "output_type": "stream",
     "text": [
      "yt : [INFO     ] 2022-02-15 14:08:20,164 Parameters: current_time              = 0.15000000000000002\n",
      "yt : [INFO     ] 2022-02-15 14:08:20,164 Parameters: domain_dimensions         = [1 1 1]\n",
      "yt : [INFO     ] 2022-02-15 14:08:20,165 Parameters: domain_left_edge          = [-20. -20. -20.]\n",
      "yt : [INFO     ] 2022-02-15 14:08:20,166 Parameters: domain_right_edge         = [20. 20. 20.]\n",
      "yt : [INFO     ] 2022-02-15 14:08:20,167 Parameters: cosmological_simulation   = 0\n",
      "yt : [INFO     ] 2022-02-15 14:08:20,177 Omega Lambda is 0.0, so we are turning off Cosmology.\n",
      "yt : [INFO     ] 2022-02-15 14:08:20,241 Parameters: current_time              = 0.2\n",
      "yt : [INFO     ] 2022-02-15 14:08:20,242 Parameters: domain_dimensions         = [1 1 1]\n",
      "yt : [INFO     ] 2022-02-15 14:08:20,243 Parameters: domain_left_edge          = [-20. -20. -20.]\n",
      "yt : [INFO     ] 2022-02-15 14:08:20,243 Parameters: domain_right_edge         = [20. 20. 20.]\n",
      "yt : [INFO     ] 2022-02-15 14:08:20,244 Parameters: cosmological_simulation   = 0\n",
      "yt : [INFO     ] 2022-02-15 14:08:20,254 Omega Lambda is 0.0, so we are turning off Cosmology.\n",
      "yt : [INFO     ] 2022-02-15 14:08:20,317 Parameters: current_time              = 0.2\n",
      "yt : [INFO     ] 2022-02-15 14:08:20,318 Parameters: domain_dimensions         = [1 1 1]\n",
      "yt : [INFO     ] 2022-02-15 14:08:20,318 Parameters: domain_left_edge          = [-20. -20. -20.]\n",
      "yt : [INFO     ] 2022-02-15 14:08:20,319 Parameters: domain_right_edge         = [20. 20. 20.]\n",
      "yt : [INFO     ] 2022-02-15 14:08:20,320 Parameters: cosmological_simulation   = 0\n"
     ]
    },
    {
     "name": "stdout",
     "output_type": "stream",
     "text": [
      "snapshot_0003\n",
      "snapshot_0004\n",
      "snapshot_0005\n"
     ]
    }
   ],
   "source": [
    "### --\n",
    "### Directorio de la simulacion!!!--- ###############################################\n",
    "sim_dir1=\"./all_aciis_0/\"\n",
    "sim_dir2=\"./all_aciis_1/\"\n",
    "sim_dir3=\"./all_aciis_2/\"\n",
    "sim_dir4=\"./all_aciis_3/\"\n",
    "\n",
    "\n",
    "sim_Gen=[sim_dir1, sim_dir2, sim_dir3, sim_dir4]\n",
    "#####################################################################################\n",
    "\n",
    "### Finalmente levanto la data!!--\n",
    "#######################################\n",
    "\n",
    "ds_Gall=[]\n",
    "\n",
    "## 2 loops--\n",
    "for k in sim_Gen:\n",
    "### G11 Particles!!--\n",
    "    for i in range(0,1001):\n",
    "        if i<10: fn = k+\"snapshot_000%i\" % i\n",
    "        if i >10 and i<100: fn = k+\"snapshot_00%i\" % i\n",
    "        if i>100 and i<1000: fn = k+\"snapshot_0%i\" % i\n",
    "            \n",
    "        if exists(fn):\n",
    "            dt = yt.load(fn,\n",
    "                unit_base=unit_base,  ## -- No voy a override the units. Take them from the file\n",
    "                bounding_box=bbox)\n",
    "            ###\n",
    "            ds_Gall.append(dt)\n",
    "            print(dt)\n",
    "    #######################################\n",
    "    #######################################"
   ]
  },
  {
   "cell_type": "code",
   "execution_count": 4,
   "id": "321650b2",
   "metadata": {},
   "outputs": [
    {
     "data": {
      "text/plain": [
       "24"
      ]
     },
     "execution_count": 4,
     "metadata": {},
     "output_type": "execute_result"
    }
   ],
   "source": [
    "len(ds_Gall)"
   ]
  },
  {
   "cell_type": "markdown",
   "id": "3442bcd6",
   "metadata": {},
   "source": [
    "# Extracting the data --"
   ]
  },
  {
   "cell_type": "code",
   "execution_count": 5,
   "id": "fccbe9a3",
   "metadata": {},
   "outputs": [
    {
     "data": {
      "text/plain": [
       "unyt_quantity(3.08568e+19, 'cm')"
      ]
     },
     "execution_count": 5,
     "metadata": {},
     "output_type": "execute_result"
    }
   ],
   "source": [
    "Idx=0\n",
    "ds_Gall[Idx].length_unit.to('cm')"
   ]
  },
  {
   "cell_type": "code",
   "execution_count": 6,
   "id": "37bdd2e5",
   "metadata": {},
   "outputs": [
    {
     "data": {
      "text/plain": [
       "['snapshot_0001',\n",
       " 'snapshot_0000',\n",
       " 'snapshot_0005',\n",
       " 'snapshot_0002',\n",
       " 'snapshot_0003',\n",
       " 'snapshot_0004']"
      ]
     },
     "execution_count": 6,
     "metadata": {},
     "output_type": "execute_result"
    }
   ],
   "source": [
    "from os import listdir\n",
    "listdir(sim_dir2)"
   ]
  },
  {
   "cell_type": "code",
   "execution_count": 7,
   "id": "a77a228c",
   "metadata": {},
   "outputs": [
    {
     "data": {
      "text/plain": [
       "[GadgetDataset: all_aciis_0/snapshot_0000,\n",
       " GadgetDataset: all_aciis_0/snapshot_0001,\n",
       " GadgetDataset: all_aciis_0/snapshot_0002,\n",
       " GadgetDataset: all_aciis_0/snapshot_0003,\n",
       " GadgetDataset: all_aciis_0/snapshot_0004,\n",
       " GadgetDataset: all_aciis_0/snapshot_0005,\n",
       " GadgetDataset: all_aciis_1/snapshot_0000,\n",
       " GadgetDataset: all_aciis_1/snapshot_0001,\n",
       " GadgetDataset: all_aciis_1/snapshot_0002,\n",
       " GadgetDataset: all_aciis_1/snapshot_0003,\n",
       " GadgetDataset: all_aciis_1/snapshot_0004,\n",
       " GadgetDataset: all_aciis_1/snapshot_0005,\n",
       " GadgetDataset: all_aciis_2/snapshot_0000,\n",
       " GadgetDataset: all_aciis_2/snapshot_0001,\n",
       " GadgetDataset: all_aciis_2/snapshot_0002,\n",
       " GadgetDataset: all_aciis_2/snapshot_0003,\n",
       " GadgetDataset: all_aciis_2/snapshot_0004,\n",
       " GadgetDataset: all_aciis_2/snapshot_0005,\n",
       " GadgetDataset: all_aciis_3/snapshot_0000,\n",
       " GadgetDataset: all_aciis_3/snapshot_0001,\n",
       " GadgetDataset: all_aciis_3/snapshot_0002,\n",
       " GadgetDataset: all_aciis_3/snapshot_0003,\n",
       " GadgetDataset: all_aciis_3/snapshot_0004,\n",
       " GadgetDataset: all_aciis_3/snapshot_0005]"
      ]
     },
     "execution_count": 7,
     "metadata": {},
     "output_type": "execute_result"
    }
   ],
   "source": [
    "ds_Gall"
   ]
  },
  {
   "cell_type": "code",
   "execution_count": 8,
   "id": "d6d52b4c",
   "metadata": {},
   "outputs": [
    {
     "name": "stderr",
     "output_type": "stream",
     "text": [
      "yt : [INFO     ] 2022-02-15 14:08:25,489 Allocating for 1.328e+05 particles\n"
     ]
    },
    {
     "name": "stdout",
     "output_type": "stream",
     "text": [
      "0\n",
      "1\n",
      "2\n",
      "3\n",
      "4\n"
     ]
    },
    {
     "name": "stderr",
     "output_type": "stream",
     "text": [
      "yt : [INFO     ] 2022-02-15 14:08:40,808 Allocating for 3.349e+05 particles\n"
     ]
    },
    {
     "name": "stdout",
     "output_type": "stream",
     "text": [
      "5\n"
     ]
    },
    {
     "name": "stderr",
     "output_type": "stream",
     "text": [
      "Initializing coarse index : 100%|█████████████████████████████| 2/2 [00:00<00:00, 26.83it/s]\n",
      "yt : [INFO     ] 2022-02-15 14:08:40,909 Updating index_order2 from 2 to 2\n",
      "Initializing refined index: 100%|█████████████████████████████| 2/2 [00:00<00:00,  4.37it/s]\n",
      "yt : [INFO     ] 2022-02-15 14:08:41,386 Allocating for 3.349e+05 particles\n",
      "Initializing coarse index : 100%|█████████████████████████████| 2/2 [00:00<00:00, 28.06it/s]\n",
      "yt : [INFO     ] 2022-02-15 14:08:41,463 Updating index_order2 from 2 to 2\n",
      "Initializing refined index: 100%|█████████████████████████████| 2/2 [00:00<00:00,  5.29it/s]\n",
      "yt : [INFO     ] 2022-02-15 14:08:44,546 Allocating for 3.349e+05 particles\n"
     ]
    },
    {
     "name": "stdout",
     "output_type": "stream",
     "text": [
      "6\n"
     ]
    },
    {
     "name": "stderr",
     "output_type": "stream",
     "text": [
      "Initializing coarse index : 100%|█████████████████████████████| 2/2 [00:00<00:00, 29.35it/s]\n",
      "yt : [INFO     ] 2022-02-15 14:08:44,618 Updating index_order2 from 2 to 2\n",
      "Initializing refined index: 100%|█████████████████████████████| 2/2 [00:00<00:00,  3.73it/s]\n",
      "yt : [INFO     ] 2022-02-15 14:08:45,188 Allocating for 3.349e+05 particles\n",
      "Initializing coarse index : 100%|█████████████████████████████| 2/2 [00:00<00:00, 32.48it/s]\n",
      "yt : [INFO     ] 2022-02-15 14:08:45,255 Updating index_order2 from 2 to 2\n",
      "Initializing refined index: 100%|█████████████████████████████| 2/2 [00:00<00:00,  4.11it/s]\n"
     ]
    },
    {
     "name": "stdout",
     "output_type": "stream",
     "text": [
      "7\n"
     ]
    },
    {
     "name": "stderr",
     "output_type": "stream",
     "text": [
      "yt : [INFO     ] 2022-02-15 14:08:48,489 Allocating for 3.349e+05 particles\n",
      "Initializing coarse index : 100%|█████████████████████████████| 2/2 [00:00<00:00, 28.87it/s]\n",
      "yt : [INFO     ] 2022-02-15 14:08:48,563 Updating index_order2 from 2 to 2\n",
      "Initializing refined index: 100%|█████████████████████████████| 2/2 [00:00<00:00,  2.87it/s]\n",
      "yt : [INFO     ] 2022-02-15 14:08:49,295 Allocating for 3.349e+05 particles\n",
      "Initializing coarse index : 100%|█████████████████████████████| 2/2 [00:00<00:00, 27.92it/s]\n",
      "yt : [INFO     ] 2022-02-15 14:08:49,373 Updating index_order2 from 2 to 2\n",
      "Initializing refined index: 100%|█████████████████████████████| 2/2 [00:00<00:00,  3.18it/s]\n",
      "yt : [INFO     ] 2022-02-15 14:08:53,076 Allocating for 3.349e+05 particles\n"
     ]
    },
    {
     "name": "stdout",
     "output_type": "stream",
     "text": [
      "8\n"
     ]
    },
    {
     "name": "stderr",
     "output_type": "stream",
     "text": [
      "Initializing coarse index : 100%|█████████████████████████████| 2/2 [00:00<00:00, 29.14it/s]\n",
      "yt : [INFO     ] 2022-02-15 14:08:53,149 Updating index_order2 from 2 to 2\n",
      "Initializing refined index: 100%|█████████████████████████████| 2/2 [00:00<00:00,  3.37it/s]\n",
      "yt : [INFO     ] 2022-02-15 14:08:53,772 Allocating for 3.349e+05 particles\n",
      "Initializing coarse index : 100%|█████████████████████████████| 2/2 [00:00<00:00, 31.43it/s]\n",
      "yt : [INFO     ] 2022-02-15 14:08:53,840 Updating index_order2 from 2 to 2\n",
      "Initializing refined index: 100%|█████████████████████████████| 2/2 [00:00<00:00,  3.39it/s]\n"
     ]
    },
    {
     "name": "stdout",
     "output_type": "stream",
     "text": [
      "9\n"
     ]
    },
    {
     "name": "stderr",
     "output_type": "stream",
     "text": [
      "yt : [INFO     ] 2022-02-15 14:08:57,021 Allocating for 3.349e+05 particles\n",
      "Initializing coarse index : 100%|█████████████████████████████| 2/2 [00:00<00:00, 30.43it/s]\n",
      "yt : [INFO     ] 2022-02-15 14:08:57,091 Updating index_order2 from 2 to 2\n",
      "Initializing refined index: 100%|█████████████████████████████| 2/2 [00:00<00:00,  3.04it/s]\n",
      "yt : [INFO     ] 2022-02-15 14:08:57,789 Allocating for 3.349e+05 particles\n",
      "Initializing coarse index : 100%|█████████████████████████████| 2/2 [00:00<00:00, 27.88it/s]\n",
      "yt : [INFO     ] 2022-02-15 14:08:57,865 Updating index_order2 from 2 to 2\n",
      "Initializing refined index: 100%|█████████████████████████████| 2/2 [00:00<00:00,  2.89it/s]\n"
     ]
    },
    {
     "name": "stdout",
     "output_type": "stream",
     "text": [
      "10\n"
     ]
    },
    {
     "name": "stderr",
     "output_type": "stream",
     "text": [
      "yt : [INFO     ] 2022-02-15 14:09:01,312 Allocating for 3.349e+05 particles\n",
      "Initializing coarse index : 100%|█████████████████████████████| 2/2 [00:00<00:00, 30.14it/s]\n",
      "yt : [INFO     ] 2022-02-15 14:09:01,382 Updating index_order2 from 2 to 2\n",
      "Initializing refined index: 100%|█████████████████████████████| 2/2 [00:00<00:00,  3.13it/s]\n",
      "yt : [INFO     ] 2022-02-15 14:09:02,054 Allocating for 3.349e+05 particles\n",
      "Initializing coarse index : 100%|█████████████████████████████| 2/2 [00:00<00:00, 31.02it/s]\n",
      "yt : [INFO     ] 2022-02-15 14:09:02,123 Updating index_order2 from 2 to 2\n",
      "Initializing refined index: 100%|█████████████████████████████| 2/2 [00:00<00:00,  3.39it/s]\n",
      "yt : [INFO     ] 2022-02-15 14:09:05,334 Allocating for 1.000e+06 particles\n"
     ]
    },
    {
     "name": "stdout",
     "output_type": "stream",
     "text": [
      "11\n"
     ]
    },
    {
     "name": "stderr",
     "output_type": "stream",
     "text": [
      "Initializing coarse index : 100%|█████████████████████████████| 4/4 [00:00<00:00, 24.86it/s]\n",
      "yt : [INFO     ] 2022-02-15 14:09:05,499 Updating index_order2 from 2 to 2\n",
      "Initializing refined index: 100%|█████████████████████████████| 4/4 [00:00<00:00,  5.60it/s]\n",
      "yt : [INFO     ] 2022-02-15 14:09:06,249 Allocating for 1.000e+06 particles\n",
      "Initializing coarse index : 100%|█████████████████████████████| 4/4 [00:00<00:00, 27.32it/s]\n",
      "yt : [INFO     ] 2022-02-15 14:09:06,400 Updating index_order2 from 2 to 2\n",
      "Initializing refined index: 100%|█████████████████████████████| 4/4 [00:00<00:00,  5.71it/s]\n"
     ]
    },
    {
     "name": "stdout",
     "output_type": "stream",
     "text": [
      "12\n"
     ]
    },
    {
     "name": "stderr",
     "output_type": "stream",
     "text": [
      "yt : [INFO     ] 2022-02-15 14:09:10,357 Allocating for 1.000e+06 particles\n",
      "Initializing coarse index : 100%|█████████████████████████████| 4/4 [00:00<00:00, 28.22it/s]\n",
      "yt : [INFO     ] 2022-02-15 14:09:10,503 Updating index_order2 from 2 to 2\n",
      "Initializing refined index: 100%|█████████████████████████████| 4/4 [00:00<00:00,  4.29it/s]\n",
      "yt : [INFO     ] 2022-02-15 14:09:11,470 Allocating for 1.000e+06 particles\n",
      "Initializing coarse index : 100%|█████████████████████████████| 4/4 [00:00<00:00, 27.71it/s]\n",
      "yt : [INFO     ] 2022-02-15 14:09:11,619 Updating index_order2 from 2 to 2\n",
      "Initializing refined index: 100%|█████████████████████████████| 4/4 [00:01<00:00,  3.74it/s]\n"
     ]
    },
    {
     "name": "stdout",
     "output_type": "stream",
     "text": [
      "13\n"
     ]
    },
    {
     "name": "stderr",
     "output_type": "stream",
     "text": [
      "yt : [INFO     ] 2022-02-15 14:09:15,919 Allocating for 1.000e+06 particles\n",
      "Initializing coarse index : 100%|█████████████████████████████| 4/4 [00:00<00:00, 31.87it/s]\n",
      "yt : [INFO     ] 2022-02-15 14:09:16,049 Updating index_order2 from 2 to 2\n",
      "Initializing refined index: 100%|█████████████████████████████| 4/4 [00:00<00:00,  4.13it/s]\n",
      "yt : [INFO     ] 2022-02-15 14:09:17,043 Allocating for 1.000e+06 particles\n",
      "Initializing coarse index : 100%|█████████████████████████████| 4/4 [00:00<00:00, 28.49it/s]\n",
      "yt : [INFO     ] 2022-02-15 14:09:17,187 Updating index_order2 from 2 to 2\n",
      "Initializing refined index: 100%|█████████████████████████████| 4/4 [00:01<00:00,  3.82it/s]\n"
     ]
    },
    {
     "name": "stdout",
     "output_type": "stream",
     "text": [
      "14\n"
     ]
    },
    {
     "name": "stderr",
     "output_type": "stream",
     "text": [
      "yt : [INFO     ] 2022-02-15 14:09:21,479 Allocating for 1.000e+06 particles\n",
      "Initializing coarse index : 100%|█████████████████████████████| 4/4 [00:00<00:00, 28.88it/s]\n",
      "yt : [INFO     ] 2022-02-15 14:09:21,622 Updating index_order2 from 2 to 2\n",
      "Initializing refined index: 100%|█████████████████████████████| 4/4 [00:01<00:00,  3.57it/s]\n",
      "yt : [INFO     ] 2022-02-15 14:09:22,777 Allocating for 1.000e+06 particles\n",
      "Initializing coarse index : 100%|█████████████████████████████| 4/4 [00:00<00:00, 30.11it/s]\n",
      "yt : [INFO     ] 2022-02-15 14:09:22,915 Updating index_order2 from 2 to 2\n",
      "Initializing refined index: 100%|█████████████████████████████| 4/4 [00:01<00:00,  3.80it/s]\n"
     ]
    },
    {
     "name": "stdout",
     "output_type": "stream",
     "text": [
      "15\n"
     ]
    },
    {
     "name": "stderr",
     "output_type": "stream",
     "text": [
      "yt : [INFO     ] 2022-02-15 14:09:27,134 Allocating for 1.000e+06 particles\n",
      "Initializing coarse index : 100%|█████████████████████████████| 4/4 [00:00<00:00, 27.06it/s]\n",
      "yt : [INFO     ] 2022-02-15 14:09:27,286 Updating index_order2 from 2 to 2\n",
      "Initializing refined index: 100%|█████████████████████████████| 4/4 [00:01<00:00,  3.32it/s]\n",
      "yt : [INFO     ] 2022-02-15 14:09:28,523 Allocating for 1.000e+06 particles\n",
      "Initializing coarse index : 100%|█████████████████████████████| 4/4 [00:00<00:00, 31.29it/s]\n",
      "yt : [INFO     ] 2022-02-15 14:09:28,656 Updating index_order2 from 2 to 2\n",
      "Initializing refined index: 100%|█████████████████████████████| 4/4 [00:01<00:00,  3.61it/s]\n"
     ]
    },
    {
     "name": "stdout",
     "output_type": "stream",
     "text": [
      "16\n"
     ]
    },
    {
     "name": "stderr",
     "output_type": "stream",
     "text": [
      "yt : [INFO     ] 2022-02-15 14:09:33,994 Allocating for 1.000e+06 particles\n",
      "Initializing coarse index : 100%|█████████████████████████████| 4/4 [00:00<00:00, 32.57it/s]\n",
      "yt : [INFO     ] 2022-02-15 14:09:34,121 Updating index_order2 from 2 to 2\n",
      "Initializing refined index: 100%|█████████████████████████████| 4/4 [00:01<00:00,  3.45it/s]\n",
      "yt : [INFO     ] 2022-02-15 14:09:35,311 Allocating for 1.000e+06 particles\n",
      "Initializing coarse index : 100%|█████████████████████████████| 4/4 [00:00<00:00, 33.70it/s]\n",
      "yt : [INFO     ] 2022-02-15 14:09:35,433 Updating index_order2 from 2 to 2\n",
      "Initializing refined index: 100%|█████████████████████████████| 4/4 [00:01<00:00,  3.43it/s]\n"
     ]
    },
    {
     "name": "stdout",
     "output_type": "stream",
     "text": [
      "17\n"
     ]
    },
    {
     "name": "stderr",
     "output_type": "stream",
     "text": [
      "yt : [INFO     ] 2022-02-15 14:09:39,745 Allocating for 3.815e+06 particles\n",
      "Initializing coarse index : 100%|███████████████████████████| 15/15 [00:00<00:00, 42.14it/s]\n",
      "yt : [INFO     ] 2022-02-15 14:09:40,105 Updating index_order2 from 2 to 2\n",
      "Initializing refined index: 100%|███████████████████████████| 15/15 [00:02<00:00,  6.03it/s]\n",
      "yt : [INFO     ] 2022-02-15 14:09:42,618 Allocating for 3.815e+06 particles\n",
      "Initializing coarse index : 100%|███████████████████████████| 15/15 [00:00<00:00, 36.92it/s]\n",
      "yt : [INFO     ] 2022-02-15 14:09:43,030 Updating index_order2 from 2 to 2\n",
      "Initializing refined index: 100%|███████████████████████████| 15/15 [00:02<00:00,  6.19it/s]\n"
     ]
    },
    {
     "name": "stdout",
     "output_type": "stream",
     "text": [
      "18\n"
     ]
    },
    {
     "name": "stderr",
     "output_type": "stream",
     "text": [
      "yt : [INFO     ] 2022-02-15 14:09:50,847 Allocating for 3.815e+06 particles\n",
      "Initializing coarse index : 100%|███████████████████████████| 15/15 [00:00<00:00, 41.19it/s]\n",
      "yt : [INFO     ] 2022-02-15 14:09:51,215 Updating index_order2 from 2 to 2\n",
      "Initializing refined index: 100%|███████████████████████████| 15/15 [00:02<00:00,  6.13it/s]\n",
      "yt : [INFO     ] 2022-02-15 14:09:53,692 Allocating for 3.815e+06 particles\n",
      "Initializing coarse index : 100%|███████████████████████████| 15/15 [00:00<00:00, 43.06it/s]\n",
      "yt : [INFO     ] 2022-02-15 14:09:54,044 Updating index_order2 from 2 to 2\n",
      "Initializing refined index: 100%|███████████████████████████| 15/15 [00:02<00:00,  6.05it/s]\n"
     ]
    },
    {
     "name": "stdout",
     "output_type": "stream",
     "text": [
      "19\n"
     ]
    },
    {
     "name": "stderr",
     "output_type": "stream",
     "text": [
      "yt : [INFO     ] 2022-02-15 14:10:01,367 Allocating for 3.815e+06 particles\n",
      "Initializing coarse index : 100%|███████████████████████████| 15/15 [00:00<00:00, 40.16it/s]\n",
      "yt : [INFO     ] 2022-02-15 14:10:01,745 Updating index_order2 from 2 to 2\n",
      "Initializing refined index: 100%|███████████████████████████| 15/15 [00:02<00:00,  5.41it/s]\n",
      "yt : [INFO     ] 2022-02-15 14:10:04,547 Allocating for 3.815e+06 particles\n",
      "Initializing coarse index : 100%|███████████████████████████| 15/15 [00:00<00:00, 43.19it/s]\n",
      "yt : [INFO     ] 2022-02-15 14:10:04,898 Updating index_order2 from 2 to 2\n",
      "Initializing refined index: 100%|███████████████████████████| 15/15 [00:02<00:00,  5.65it/s]\n"
     ]
    },
    {
     "name": "stdout",
     "output_type": "stream",
     "text": [
      "20\n"
     ]
    },
    {
     "name": "stderr",
     "output_type": "stream",
     "text": [
      "yt : [INFO     ] 2022-02-15 14:10:12,570 Allocating for 3.815e+06 particles\n",
      "Initializing coarse index : 100%|███████████████████████████| 15/15 [00:00<00:00, 41.21it/s]\n",
      "yt : [INFO     ] 2022-02-15 14:10:12,938 Updating index_order2 from 2 to 2\n",
      "Initializing refined index: 100%|███████████████████████████| 15/15 [00:02<00:00,  6.14it/s]\n",
      "yt : [INFO     ] 2022-02-15 14:10:15,417 Allocating for 3.815e+06 particles\n",
      "Initializing coarse index : 100%|███████████████████████████| 15/15 [00:00<00:00, 42.08it/s]\n",
      "yt : [INFO     ] 2022-02-15 14:10:15,778 Updating index_order2 from 2 to 2\n",
      "Initializing refined index: 100%|███████████████████████████| 15/15 [00:02<00:00,  6.16it/s]\n"
     ]
    },
    {
     "name": "stdout",
     "output_type": "stream",
     "text": [
      "21\n"
     ]
    },
    {
     "name": "stderr",
     "output_type": "stream",
     "text": [
      "yt : [INFO     ] 2022-02-15 14:10:23,212 Allocating for 3.815e+06 particles\n",
      "Initializing coarse index : 100%|███████████████████████████| 15/15 [00:00<00:00, 42.55it/s]\n",
      "yt : [INFO     ] 2022-02-15 14:10:23,569 Updating index_order2 from 2 to 2\n",
      "Initializing refined index: 100%|███████████████████████████| 15/15 [00:02<00:00,  6.20it/s]\n",
      "yt : [INFO     ] 2022-02-15 14:10:26,022 Allocating for 3.815e+06 particles\n",
      "Initializing coarse index : 100%|███████████████████████████| 15/15 [00:00<00:00, 41.45it/s]\n",
      "yt : [INFO     ] 2022-02-15 14:10:26,391 Updating index_order2 from 2 to 2\n",
      "Initializing refined index: 100%|███████████████████████████| 15/15 [00:02<00:00,  6.17it/s]\n"
     ]
    },
    {
     "name": "stdout",
     "output_type": "stream",
     "text": [
      "22\n"
     ]
    },
    {
     "name": "stderr",
     "output_type": "stream",
     "text": [
      "yt : [INFO     ] 2022-02-15 14:10:33,543 Allocating for 3.815e+06 particles\n",
      "Initializing coarse index : 100%|███████████████████████████| 15/15 [00:00<00:00, 40.97it/s]\n",
      "yt : [INFO     ] 2022-02-15 14:10:33,914 Updating index_order2 from 2 to 2\n",
      "Initializing refined index: 100%|███████████████████████████| 15/15 [00:02<00:00,  6.00it/s]\n",
      "yt : [INFO     ] 2022-02-15 14:10:36,447 Allocating for 3.815e+06 particles\n",
      "Initializing coarse index : 100%|███████████████████████████| 15/15 [00:00<00:00, 40.86it/s]\n",
      "yt : [INFO     ] 2022-02-15 14:10:36,821 Updating index_order2 from 2 to 2\n",
      "Initializing refined index: 100%|███████████████████████████| 15/15 [00:02<00:00,  6.12it/s]\n"
     ]
    },
    {
     "name": "stdout",
     "output_type": "stream",
     "text": [
      "23\n"
     ]
    }
   ],
   "source": [
    "rhos=[]\n",
    "vels=[]\n",
    "rs=[]\n",
    "## ---------------------------------------------------------\n",
    "for Idx,k in enumerate(ds_Gall):\n",
    "    rhos1 = ds_Gall[Idx].r[\"Gas\", \"Density\"]\n",
    "    rs1 = ds_Gall[Idx].r[\"all\", \"radius\"]/Rad0\n",
    "    print(Idx)\n",
    "    if Idx == 0:\n",
    "        vs1 = ds_Gall[Idx].r[\"all\", \"radial_velocity\"]/Vel00\n",
    "    else:\n",
    "        vs1 = ds_Gall[Idx].r[\"all\", \"radial_velocity\"]/Vel0\n",
    "        \n",
    "    rhos.append(rhos1)\n",
    "    vels.append(vs1)\n",
    "    rs.append(rs1)"
   ]
  },
  {
   "cell_type": "code",
   "execution_count": 9,
   "id": "853ecf73",
   "metadata": {},
   "outputs": [
    {
     "data": {
      "text/plain": [
       "unyt_array([7.73220956e-02, 1.07613914e-01, 1.28740624e-01, ...,\n",
       "            1.12103877e-44, 5.38248000e+07, 1.87739242e-39], 'code_mass/code_length**3')"
      ]
     },
     "execution_count": 9,
     "metadata": {},
     "output_type": "execute_result"
    }
   ],
   "source": [
    "rhos[10]"
   ]
  },
  {
   "cell_type": "markdown",
   "id": "52991714",
   "metadata": {},
   "source": [
    "# Bondi numerically in Python"
   ]
  },
  {
   "cell_type": "code",
   "execution_count": 10,
   "id": "99924fb9",
   "metadata": {
    "code_folding": []
   },
   "outputs": [],
   "source": [
    "from IPython.display import display, Math, Latex\n",
    "import numpy as np\n",
    "np.seterr(divide='ignore', invalid='ignore')\n",
    "\n",
    "%matplotlib inline\n",
    "import matplotlib\n",
    "import matplotlib.pyplot as plt"
   ]
  },
  {
   "cell_type": "code",
   "execution_count": 32,
   "id": "1902e85e",
   "metadata": {
    "code_folding": [
     0,
     16
    ]
   },
   "outputs": [],
   "source": [
    "def plotBondiVelIndi(n,rb,velb,lbs,i):\n",
    "    ## --- Estilo --\n",
    "    putStyle(14,2,True,True)\n",
    "    ## -------------\n",
    "    ## ---\n",
    "    plt.scatter(rb, velb, 2, label=str(lbs)+' $\\gamma$= '+str(n)+' t~'+str(i))\n",
    "    ## ----------------------------------------------------\n",
    "    plt.legend(loc='best')\n",
    "    plt.xlabel(r'$r~(u.c)$')\n",
    "    ## Limits--\n",
    "    plt.xscale(\"log\")\n",
    "    plt.xlim(0.0005,5.1)\n",
    "    plt.ylabel(r'$v_r~(u.c)$')\n",
    "    \n",
    "    plt.ylim(-40,5)\n",
    "\n",
    "def plotBondiRhoIndi(n,rb,rhob,lbs,i):\n",
    "    ## --- Estilo --\n",
    "    putStyle(14,2,True,True)\n",
    "    ## -------------\n",
    "    width=10\n",
    "    rB1s = np.argsort(rb)\n",
    "    rB1 = rb[rB1s]\n",
    "    rB2 = rhob[rB1s]\n",
    "    rBin1 = rB1[:(rB1.size // width) * width].reshape(-1, width).mean(axis=1)\n",
    "    rBin2 = rB2[:(rB2.size // width) * width].reshape(-1, width).mean(axis=1)\n",
    "    ## ---\n",
    "    plt.scatter(rBin1, rBin2, 2, \n",
    "            label=str(lbs)+' $\\gamma$= '+str(n)+' t~'+str(i))\n",
    "    ## ----------------------------------------------------\n",
    "    plt.legend(loc='best')\n",
    "    plt.xlabel(r'$r~(u.c)$')\n",
    "    ## Limits--\n",
    "    plt.xscale(\"log\")\n",
    "    plt.yscale(\"log\")\n",
    "    plt.xlim(0.005,5.1)\n",
    "    plt.ylabel(r'$\\rho~(u.c)$')\n",
    "    plt.ylim(0.1,5)"
   ]
  },
  {
   "cell_type": "markdown",
   "id": "8726ee25",
   "metadata": {},
   "source": [
    "# n -> infty ... Isothermal $\\gamma$ = 1"
   ]
  },
  {
   "cell_type": "code",
   "execution_count": 12,
   "id": "c68e2669",
   "metadata": {},
   "outputs": [
    {
     "data": {
      "text/plain": [
       "array([3.23203368, 3.2329265 , 3.21000391, ..., 3.15128214, 3.22556846,\n",
       "       3.24278109])"
      ]
     },
     "execution_count": 12,
     "metadata": {},
     "output_type": "execute_result"
    }
   ],
   "source": [
    "rs[0].value"
   ]
  },
  {
   "cell_type": "markdown",
   "id": "8fe69d7f",
   "metadata": {},
   "source": [
    "## Creo arreglo de rhos y vels "
   ]
  },
  {
   "cell_type": "code",
   "execution_count": 13,
   "id": "51a99ee1",
   "metadata": {},
   "outputs": [
    {
     "name": "stdout",
     "output_type": "stream",
     "text": [
      "0 133000 132831\n",
      "1 133000 132831\n",
      "2 133000 132831\n",
      "3 133000 132831\n",
      "4 133000 132831\n",
      "5 133000 132831\n",
      "6 334000 334936\n",
      "7 334000 334936\n",
      "8 334000 334936\n",
      "9 334000 334936\n",
      "10 334000 334936\n",
      "11 334000 334936\n",
      "12 990900 999980\n",
      "13 990900 999980\n",
      "14 990900 999980\n",
      "15 990900 999980\n",
      "16 990900 999980\n",
      "17 990900 999980\n",
      "18 3500000 3814919\n",
      "19 3500000 3814919\n",
      "20 3500000 3814919\n",
      "21 3500000 3814919\n",
      "22 3500000 3814919\n",
      "23 3500000 3814919\n"
     ]
    }
   ],
   "source": [
    "rbArr=[]\n",
    "VelbArr=[]\n",
    "## ---- Rhos ----------------------------------------------------------------\n",
    "RhobArr=[]\n",
    "## -- version rapida:\n",
    "nro1=[133000,133000,133000,133000,133000,133000,\n",
    "      334000,334000,334000,334000,334000,334000,\n",
    "      990900,990900,990900,990900,990900,990900,\n",
    "      3500000,3500000,3500000,3500000,3500000,3500000]\n",
    "#--\n",
    "for i,(j,k,l) in enumerate(zip(rs,vels,rhos)):\n",
    "    print(i, nro1[i], len(j.value))\n",
    "#--\n",
    "    idx1 = np.random.choice(np.arange(len(j.value)), len(j.value)-1, replace=False)\n",
    "    rb, velb, rhob = j.value[idx1], k.value[idx1], l.value[idx1]\n",
    "    rbArr.append(rb)\n",
    "    VelbArr.append(velb)\n",
    "    RhobArr.append(rhob)"
   ]
  },
  {
   "cell_type": "code",
   "execution_count": 14,
   "id": "c5abbf81",
   "metadata": {},
   "outputs": [
    {
     "name": "stdout",
     "output_type": "stream",
     "text": [
      "Time unit:  21.974308169744287 kyr\n"
     ]
    }
   ],
   "source": [
    "print(\"Time unit: \", ds_Gall[0].time_unit.in_units(\"kyr\"))"
   ]
  },
  {
   "cell_type": "code",
   "execution_count": 15,
   "id": "3c3ecaab",
   "metadata": {},
   "outputs": [
    {
     "data": {
      "text/plain": [
       "[GadgetDataset: all_aciis_0/snapshot_0000,\n",
       " GadgetDataset: all_aciis_0/snapshot_0001,\n",
       " GadgetDataset: all_aciis_0/snapshot_0002,\n",
       " GadgetDataset: all_aciis_0/snapshot_0003,\n",
       " GadgetDataset: all_aciis_0/snapshot_0004,\n",
       " GadgetDataset: all_aciis_0/snapshot_0005,\n",
       " GadgetDataset: all_aciis_1/snapshot_0000,\n",
       " GadgetDataset: all_aciis_1/snapshot_0001,\n",
       " GadgetDataset: all_aciis_1/snapshot_0002,\n",
       " GadgetDataset: all_aciis_1/snapshot_0003,\n",
       " GadgetDataset: all_aciis_1/snapshot_0004,\n",
       " GadgetDataset: all_aciis_1/snapshot_0005,\n",
       " GadgetDataset: all_aciis_2/snapshot_0000,\n",
       " GadgetDataset: all_aciis_2/snapshot_0001,\n",
       " GadgetDataset: all_aciis_2/snapshot_0002,\n",
       " GadgetDataset: all_aciis_2/snapshot_0003,\n",
       " GadgetDataset: all_aciis_2/snapshot_0004,\n",
       " GadgetDataset: all_aciis_2/snapshot_0005,\n",
       " GadgetDataset: all_aciis_3/snapshot_0000,\n",
       " GadgetDataset: all_aciis_3/snapshot_0001,\n",
       " GadgetDataset: all_aciis_3/snapshot_0002,\n",
       " GadgetDataset: all_aciis_3/snapshot_0003,\n",
       " GadgetDataset: all_aciis_3/snapshot_0004,\n",
       " GadgetDataset: all_aciis_3/snapshot_0005]"
      ]
     },
     "execution_count": 15,
     "metadata": {},
     "output_type": "execute_result"
    }
   ],
   "source": [
    "ds_Gall"
   ]
  },
  {
   "cell_type": "code",
   "execution_count": 16,
   "id": "1055eb07",
   "metadata": {},
   "outputs": [
    {
     "name": "stdout",
     "output_type": "stream",
     "text": [
      "0 snapshot_0000\n",
      "1 snapshot_0001\n",
      "2 snapshot_0002\n",
      "3 snapshot_0003\n",
      "4 snapshot_0004\n",
      "5 snapshot_0005\n",
      "6 snapshot_0000\n",
      "7 snapshot_0001\n",
      "8 snapshot_0002\n",
      "9 snapshot_0003\n",
      "10 snapshot_0004\n",
      "11 snapshot_0005\n",
      "12 snapshot_0000\n",
      "13 snapshot_0001\n",
      "14 snapshot_0002\n",
      "15 snapshot_0003\n",
      "16 snapshot_0004\n",
      "17 snapshot_0005\n",
      "18 snapshot_0000\n",
      "19 snapshot_0001\n",
      "20 snapshot_0002\n",
      "21 snapshot_0003\n",
      "22 snapshot_0004\n",
      "23 snapshot_0005\n"
     ]
    }
   ],
   "source": [
    "for i,ds1 in enumerate(ds_Gall):\n",
    "    print(i, ds1)"
   ]
  },
  {
   "cell_type": "markdown",
   "id": "cd2df356",
   "metadata": {},
   "source": [
    "# Gamma = 3/2"
   ]
  },
  {
   "cell_type": "markdown",
   "id": "700f03a3",
   "metadata": {},
   "source": [
    "# Densidades - 4 modelos "
   ]
  },
  {
   "cell_type": "code",
   "execution_count": null,
   "id": "f4667da0",
   "metadata": {},
   "outputs": [],
   "source": [
    "n=3/2\n",
    "\n",
    "# W365\n",
    "model1='W365;'\n",
    "nMod='1'\n",
    "Idx1=0; Idx2=1; Idx3=2; Idx4=3;  \n",
    "Idx5=4; Idx6=5;\n",
    "\n",
    "## -- Tiempo del ultimo --\n",
    "myUnit1='kyr'\n",
    "LastTime1=ds_Gall[Idx1].time_unit.in_units(myUnit1)\n",
    "LastTime1=round(LastTime1.item(0))*0.0\n",
    "## --\n",
    "LastTime2=ds_Gall[Idx2].time_unit.in_units(myUnit1)\n",
    "LastTime2=round(LastTime2.item(0))*0.05\n",
    "## --\n",
    "LastTime3=ds_Gall[Idx3].time_unit.in_units(myUnit1)\n",
    "LastTime3=round(LastTime3.item(0))*0.1\n",
    "## --\n",
    "LastTime4=ds_Gall[Idx4].time_unit.in_units(myUnit1)\n",
    "LastTime4=round(LastTime4.item(0)*0.15)\n",
    "## --\n",
    "LastTime5=ds_Gall[Idx5].time_unit.in_units(myUnit1)\n",
    "LastTime5=round(LastTime5.item(0))*0.2\n",
    "## --\n",
    "## ----- Las imagenes --\n",
    "img2=plotBondiRhoIndi(n,rbArr[Idx2],RhobArr[Idx2],model1,str(LastTime2)+' '+myUnit1)\n",
    "img3=plotBondiRhoIndi(n,rbArr[Idx3],RhobArr[Idx3],model1,str(LastTime3)+' '+myUnit1)\n",
    "img4=plotBondiRhoIndi(n,rbArr[Idx4],RhobArr[Idx4],model1,str(LastTime4)+' '+myUnit1)\n",
    "img5=plotBondiRhoIndi(n,rbArr[Idx5],RhobArr[Idx5],model1,str(LastTime5)+' '+myUnit1)\n",
    "\n",
    "\n",
    "plt.savefig(str(model1)+'_'+str(nMod)+'_Rho_v1.png')"
   ]
  },
  {
   "cell_type": "markdown",
   "id": "c16887e1",
   "metadata": {},
   "source": [
    "---"
   ]
  },
  {
   "cell_type": "markdown",
   "id": "02d50084",
   "metadata": {},
   "source": [
    "# Cortes transversales ---"
   ]
  },
  {
   "cell_type": "code",
   "execution_count": null,
   "id": "7da6436b",
   "metadata": {},
   "outputs": [],
   "source": [
    "?annotate_timestamp"
   ]
  },
  {
   "cell_type": "code",
   "execution_count": null,
   "id": "9713c0bc",
   "metadata": {},
   "outputs": [],
   "source": [
    "print(\"Time unit: \", ds_Gall[1].time_unit.in_units(\"kyr\"))"
   ]
  },
  {
   "cell_type": "code",
   "execution_count": null,
   "id": "878645ed",
   "metadata": {},
   "outputs": [],
   "source": [
    "Idx = 22\n",
    "myUnit1='kyr'\n",
    "LastTime1=ds_Gall[Idx].time_unit.in_units(myUnit1)\n",
    "LastTime1=round(LastTime1.item(0))*0.2\n",
    "model1='W1953'\n",
    "\n",
    "\n",
    "ad = ds_Gall[Idx].all_data()\n",
    "### Aqui defino --\n",
    "density = ad[(\"Gas\",\"Density\")]\n",
    "internal= ad[(\"Gas\",\"InternalEnergy\")]\n",
    "\n",
    "#####\n",
    "wdens = np.where(density == np.max(density))\n",
    "coordinates = ad[(\"Gas\",\"Coordinates\")]\n",
    "center = coordinates[wdens][0]\n",
    "print('center = ',center)\n",
    "\n",
    "### Nueva caja\n",
    "new_box_size = ds_Gall[Idx].quan(2.5,'code_length')\n",
    "left_edge = center - new_box_size/2\n",
    "right_edge = center + new_box_size/2\n",
    "\n",
    "print('Este es el box: ', new_box_size.in_units('pc'))\n",
    "print(left_edge.in_units('pc'))\n",
    "print(right_edge.in_units('pc'))\n",
    "\n",
    "#####\n",
    "px = yt.SlicePlot(ds_Gall[Idx], 'z', ('gas', 'density'), \n",
    "#center=[0.,new_box_size/2,new_box_size/2], width=new_box_size,\n",
    "#origin='lower-left-window')\n",
    "center=[0,0,0], width=new_box_size,\n",
    "origin='center-window') #'lower-left-window'\n",
    "px.set_unit('x','code_length')\n",
    "px.set_unit('y','code_length')\n",
    "px.set_unit((\"gas\", \"density\"),'code_density')\n",
    "px.set_cmap(field=\"density\", cmap='jet') ## amfhot,jet\n",
    "\n",
    "\n",
    "\n",
    "px.annotate_text((-.5,.5), \"(c) \"+model1+'; t= '+str(LastTime1)+' '+myUnit1, \n",
    "                 coord_system=\"plot\",\n",
    "                 text_args={\"color\": \"white\", \"size\":26,\n",
    "                           'family': 'sans-serif', \n",
    "                           'style': 'italic'})"
   ]
  },
  {
   "cell_type": "code",
   "execution_count": null,
   "id": "ba914486",
   "metadata": {},
   "outputs": [],
   "source": [
    "px.save()"
   ]
  },
  {
   "cell_type": "markdown",
   "id": "b9b35202",
   "metadata": {},
   "source": [
    "# Solving and Plotting semi-Analytical solutions"
   ]
  },
  {
   "cell_type": "code",
   "execution_count": 17,
   "id": "4c80c87e",
   "metadata": {},
   "outputs": [
    {
     "data": {
      "text/plain": [
       "44508556.46624138"
      ]
     },
     "execution_count": 17,
     "metadata": {},
     "output_type": "execute_result"
    }
   ],
   "source": [
    "\n",
    "TX=1.e7\n",
    "pc = 3.18e+18\n",
    "BOLTZMANN  = 1.3806e-16\n",
    "PROTONMASS = 1.6726e-24\n",
    "HYDROGEN_MASSFRAC = 0.625\n",
    "mass_sun = 1.989e+33  ## g\n",
    "RHO0 = 1.0e-19        ## Density at infty\n",
    "Gnew = 6.672e-8       ##\n",
    "myPI = 3.14159\n",
    "Mbh  = 1.e+8*mass_sun ## Black hole mass\n",
    "## --\n",
    "#Rad0 = 3.08568025e+19 ## cm (10pc)\n",
    "myGamma=1.5\n",
    "##- Si quiero que todo quede normalizado \n",
    "mass_Nor = 1.e+6*mass_sun   ## RHO0 * (Rad0)**3\n",
    "## \n",
    "Uvel = np.sqrt((myGamma * BOLTZMANN * TX)/(HYDROGEN_MASSFRAC*PROTONMASS))\n",
    "Uvel"
   ]
  },
  {
   "cell_type": "code",
   "execution_count": 18,
   "id": "da67fc5a",
   "metadata": {},
   "outputs": [
    {
     "data": {
      "text/plain": [
       "0.21709654746320786"
      ]
     },
     "execution_count": 18,
     "metadata": {},
     "output_type": "execute_result"
    }
   ],
   "source": [
    "Rb=Gnew*Mbh/(Uvel*Uvel)  #3.*(Mbh/(1.e+8*mass_sun))/(TX/1.e+7)\n",
    "FactX=Rb/(Rad0)\n",
    "FactX"
   ]
  },
  {
   "cell_type": "markdown",
   "id": "78b77830",
   "metadata": {},
   "source": [
    "# Isothermal Model"
   ]
  },
  {
   "cell_type": "code",
   "execution_count": 19,
   "id": "014a4ea3",
   "metadata": {},
   "outputs": [],
   "source": [
    "with open('../G1/Profiles_G1_v1.txt') as f:\n",
    "    lines1 = f.readlines()"
   ]
  },
  {
   "cell_type": "code",
   "execution_count": 20,
   "id": "6be0e1e6",
   "metadata": {},
   "outputs": [],
   "source": [
    "with open('./Profiles_G3_2_v4.txt') as f:\n",
    "    lines32 = f.readlines()"
   ]
  },
  {
   "cell_type": "code",
   "execution_count": 21,
   "id": "2200901d",
   "metadata": {},
   "outputs": [
    {
     "data": {
      "text/plain": [
       "377463.5610327"
      ]
     },
     "execution_count": 21,
     "metadata": {},
     "output_type": "execute_result"
    }
   ],
   "source": [
    "np.float(lines32[5].split('\\t')[2])"
   ]
  },
  {
   "cell_type": "code",
   "execution_count": 22,
   "id": "d2750569",
   "metadata": {},
   "outputs": [],
   "source": [
    "Fact1=3.25 #\n",
    "Fact2=0.001 #\n",
    "\n",
    "xG32=[]\n",
    "MG32=[]\n",
    "RhoG32=[]\n",
    "for line in lines32[5:]:\n",
    "    xG32.append(FactX*np.float(line.split('\\t')[0]))\n",
    "    MG32.append(-Fact1*np.float(np.float(line.split('\\t')[1])))\n",
    "    RhoG32.append(Fact2 * np.float(np.float(line.split('\\t')[2])))\n",
    "#MIso"
   ]
  },
  {
   "cell_type": "code",
   "execution_count": 23,
   "id": "45ef9fb9",
   "metadata": {},
   "outputs": [
    {
     "data": {
      "text/plain": [
       "[<matplotlib.lines.Line2D at 0x14b5a9a60>]"
      ]
     },
     "execution_count": 23,
     "metadata": {},
     "output_type": "execute_result"
    },
    {
     "data": {
      "image/png": "[encoded data removed]",
      "text/plain": [
       "<Figure size 432x288 with 1 Axes>"
      ]
     },
     "metadata": {
      "needs_background": "light"
     },
     "output_type": "display_data"
    }
   ],
   "source": [
    "plt.xscale('log')\n",
    "plt.yscale('log')\n",
    "plt.plot(xG32, RhoG32)"
   ]
  },
  {
   "cell_type": "code",
   "execution_count": 34,
   "id": "5f895861",
   "metadata": {},
   "outputs": [],
   "source": [
    "from scipy import interpolate\n",
    "\n",
    "def plotBondiVelRatio(n,rb,velb,lbs,i):\n",
    "    ## --- Estilo --\n",
    "    #plt.figure(figsize=(8,2))\n",
    "    putStyle(14,2,True,True)\n",
    "    ## -------------\n",
    "    # Interpolation\n",
    "    temp = interpolate.interp1d(xG32, MG32)\n",
    "    ## ---\n",
    "    ynew = temp(rb[np.where((np.min(xG32) < rb) & (rb < np.max(xG32)))])\n",
    "    xnew = rb[np.where((np.min(xG32) < rb) & (rb < np.max(xG32)))]\n",
    "    \n",
    "    \n",
    "    plt.scatter(xnew, (velb[np.where((np.min(xG32) < rb) & (rb < np.max(xG32)))] - ynew), 2)\n",
    "    #           2, label=str(lbs)+' $\\gamma$= '+str(n)+' t~'+str(i))\n",
    "    plt.axhline(y = 0., color = 'black', linestyle = '--')\n",
    "    ## ----------------------------------------------------\n",
    "    #plt.legend(loc='best')\n",
    "    plt.xlabel(r'$r~(u.c)$')\n",
    "    ## Limits--\n",
    "    plt.xscale(\"log\")\n",
    "    plt.xlim(0.0005, 5.1)\n",
    "    plt.ylabel(r'Diff')\n",
    "    plt.ylim(-5, 5)"
   ]
  },
  {
   "cell_type": "markdown",
   "id": "79c489c1",
   "metadata": {},
   "source": [
    "# W365"
   ]
  },
  {
   "cell_type": "code",
   "execution_count": 35,
   "id": "0d74936d",
   "metadata": {},
   "outputs": [
    {
     "data": {
      "image/png": "[encoded data removed]",
      "text/plain": [
       "<Figure size 576x216 with 1 Axes>"
      ]
     },
     "metadata": {
      "needs_background": "light"
     },
     "output_type": "display_data"
    }
   ],
   "source": [
    "# plt.xscale(\"log\")\n",
    "plt.figure(figsize=(8,3))\n",
    "\n",
    "n=1\n",
    "#plt.plot(xIso,MIso,'blue', \n",
    "#         label='$\\gamma$= '+str(n)+'; Theoretical - Ramirez etal. 2021')\n",
    "\n",
    "\n",
    "# W256\n",
    "model1='W365'\n",
    "nMod='Final_Fig1'\n",
    "Idx1=0; Idx2=1; Idx3=2; Idx4=3;  \n",
    "Idx5=4; Idx6=5; Idx7=6; Idx8=7; Idx9=8; Idx10=9;\n",
    "Idx11=10;\n",
    "\n",
    "## -- Tiempo del ultimo --\n",
    "myUnit1='kyr'\n",
    "LastTime1=ds_Gall[Idx1].time_unit.in_units(myUnit1)\n",
    "LastTime1=round(LastTime1.item(0))*0.0\n",
    "## --\n",
    "LastTime2=ds_Gall[Idx2].time_unit.in_units(myUnit1)\n",
    "LastTime2=round(LastTime2.item(0))*0.05\n",
    "## --\n",
    "LastTime3=ds_Gall[Idx3].time_unit.in_units(myUnit1)\n",
    "LastTime3=round(LastTime3.item(0))*0.1\n",
    "## --\n",
    "LastTime4=ds_Gall[Idx4].time_unit.in_units(myUnit1)\n",
    "LastTime4=round(LastTime4.item(0))*0.15\n",
    "## --\n",
    "LastTime5=ds_Gall[Idx5].time_unit.in_units(myUnit1)\n",
    "LastTime5=round(LastTime5.item(0))*0.2\n",
    "## --\n",
    "\n",
    "\n",
    "\n",
    "## ----- Las imagenes --\n",
    "img2=plotBondiVelRatio(n,rbArr[Idx2]*FactX,VelbArr[Idx2]/Fact1,model1,str(LastTime2)+' '+myUnit1)\n",
    "img3=plotBondiVelRatio(n,rbArr[Idx3]*FactX,VelbArr[Idx3]/Fact1,model1,str(LastTime3)+' '+myUnit1)\n",
    "img4=plotBondiVelRatio(n,rbArr[Idx4]*FactX,VelbArr[Idx4]/Fact1,model1,'22.4'+' '+myUnit1)\n",
    "img5=plotBondiVelRatio(n,rbArr[Idx5]*FactX,VelbArr[Idx5]/Fact1,model1,str(LastTime5)+' '+myUnit1)\n",
    "\n",
    "\n",
    "plt.savefig(str(model1)+'_'+str(nMod)+'_Vel_Diff_v1.png')"
   ]
  },
  {
   "cell_type": "code",
   "execution_count": 43,
   "id": "f1b78f72",
   "metadata": {},
   "outputs": [
    {
     "data": {
      "image/png": "[encoded data removed]",
      "text/plain": [
       "<Figure size 576x576 with 1 Axes>"
      ]
     },
     "metadata": {
      "needs_background": "light"
     },
     "output_type": "display_data"
    }
   ],
   "source": [
    "plt.xscale(\"log\")\n",
    "#plt.figure(figsize=(8,6))\n",
    "\n",
    "n='3/2'\n",
    "plt.plot(xG32,MG32,'black', \n",
    "         label='$\\gamma$= '+str(n)+'; Theoretical - Ramirez etal. 2021')\n",
    "\n",
    "\n",
    "# W256\n",
    "model1='W365'\n",
    "nMod='Final_Fig1'\n",
    "Idx1=0; Idx2=1; Idx3=2; Idx4=3;  \n",
    "Idx5=4; Idx6=5;\n",
    "\n",
    "## -- Tiempo del ultimo --\n",
    "myUnit1='kyr'\n",
    "LastTime1=ds_Gall[Idx1].time_unit.in_units(myUnit1)\n",
    "LastTime1=round(LastTime1.item(0))*0.0\n",
    "## --\n",
    "LastTime2=ds_Gall[Idx2].time_unit.in_units(myUnit1)\n",
    "LastTime2=round(LastTime2.item(0))*0.05\n",
    "## --\n",
    "LastTime3=ds_Gall[Idx3].time_unit.in_units(myUnit1)\n",
    "LastTime3=round(LastTime3.item(0))*0.1\n",
    "## --\n",
    "LastTime4=ds_Gall[Idx4].time_unit.in_units(myUnit1)\n",
    "LastTime4=round(LastTime4.item(0)*0.15)\n",
    "## --\n",
    "LastTime5=ds_Gall[Idx5].time_unit.in_units(myUnit1)\n",
    "LastTime5=round(LastTime5.item(0))*0.2\n",
    "## --\n",
    "\n",
    "\n",
    "\n",
    "## ----- Las imagenes --\n",
    "img2=plotBondiVelIndi(n,rbArr[Idx2]*FactX,VelbArr[Idx2]/Fact1,model1,str(LastTime2)+' '+myUnit1)\n",
    "img3=plotBondiVelIndi(n,rbArr[Idx3]*FactX,VelbArr[Idx3]/Fact1,model1,str(LastTime3)+' '+myUnit1)\n",
    "img4=plotBondiVelIndi(n,rbArr[Idx4]*FactX,VelbArr[Idx4]/Fact1,model1,str(LastTime4)+' '+myUnit1)\n",
    "img5=plotBondiVelIndi(n,rbArr[Idx5]*FactX,VelbArr[Idx5]/Fact1,model1,str(LastTime5)+' '+myUnit1)\n",
    "\n",
    "\n",
    "plt.savefig(str(model1)+'_'+str(nMod)+'_Vel_v1.png')"
   ]
  },
  {
   "cell_type": "markdown",
   "id": "a5cc9568",
   "metadata": {},
   "source": [
    "# W579"
   ]
  },
  {
   "cell_type": "code",
   "execution_count": 37,
   "id": "70462e06",
   "metadata": {},
   "outputs": [
    {
     "data": {
      "image/png": "[encoded data removed]",
      "text/plain": [
       "<Figure size 576x216 with 1 Axes>"
      ]
     },
     "metadata": {
      "needs_background": "light"
     },
     "output_type": "display_data"
    }
   ],
   "source": [
    "# plt.xscale(\"log\")\n",
    "plt.figure(figsize=(8,3))\n",
    "\n",
    "n=1\n",
    "#plt.plot(xIso,MIso,'blue', \n",
    "#         label='$\\gamma$= '+str(n)+'; Theoretical - Ramirez etal. 2021')\n",
    "\n",
    "\n",
    "# W256\n",
    "model1='W579'\n",
    "nMod='Final_Fig1'\n",
    "Idx1=6; Idx2=7; Idx3=8; Idx4=9;  \n",
    "Idx5=10; Idx6=11;\n",
    "\n",
    "## -- Tiempo del ultimo --\n",
    "myUnit1='kyr'\n",
    "LastTime1=ds_Gall[Idx1].time_unit.in_units(myUnit1)\n",
    "LastTime1=round(LastTime1.item(0))*0.0\n",
    "## --\n",
    "LastTime2=ds_Gall[Idx2].time_unit.in_units(myUnit1)\n",
    "LastTime2=round(LastTime2.item(0))*0.05\n",
    "## --\n",
    "LastTime3=ds_Gall[Idx3].time_unit.in_units(myUnit1)\n",
    "LastTime3=round(LastTime3.item(0))*0.1\n",
    "## --\n",
    "LastTime4=ds_Gall[Idx4].time_unit.in_units(myUnit1)\n",
    "LastTime4=round(LastTime4.item(0))*0.15\n",
    "## --\n",
    "LastTime5=ds_Gall[Idx5].time_unit.in_units(myUnit1)\n",
    "LastTime5=round(LastTime5.item(0))*0.2\n",
    "## --\n",
    "\n",
    "\n",
    "\n",
    "## ----- Las imagenes --\n",
    "img2=plotBondiVelRatio(n,rbArr[Idx2]*FactX,VelbArr[Idx2]/Fact1,model1,str(LastTime2)+' '+myUnit1)\n",
    "img3=plotBondiVelRatio(n,rbArr[Idx3]*FactX,VelbArr[Idx3]/Fact1,model1,str(LastTime3)+' '+myUnit1)\n",
    "img4=plotBondiVelRatio(n,rbArr[Idx4]*FactX,VelbArr[Idx4]/Fact1,model1,str(LastTime3)+' '+myUnit1)\n",
    "img5=plotBondiVelRatio(n,rbArr[Idx5]*FactX,VelbArr[Idx5]/Fact1,model1,str(LastTime5)+' '+myUnit1)\n",
    "\n",
    "\n",
    "plt.savefig(str(model1)+'_'+str(nMod)+'_Vel_Diff_v1.png')"
   ]
  },
  {
   "cell_type": "code",
   "execution_count": 44,
   "id": "08853d08",
   "metadata": {},
   "outputs": [
    {
     "data": {
      "image/png": "[encoded data removed]",
      "text/plain": [
       "<Figure size 576x576 with 1 Axes>"
      ]
     },
     "metadata": {
      "needs_background": "light"
     },
     "output_type": "display_data"
    }
   ],
   "source": [
    "plt.xscale(\"log\")\n",
    "#plt.figure(figsize=(8,6))\n",
    "\n",
    "n='3/2'\n",
    "plt.plot(xG32,MG32,'black', \n",
    "         label='$\\gamma$= '+str(n)+'; Theoretical - Ramirez etal. 2021')\n",
    "\n",
    "\n",
    "# W256\n",
    "model1='W579'\n",
    "nMod='Final_Fig1'\n",
    "Idx1=6; Idx2=7; Idx3=8; Idx4=9;  \n",
    "Idx5=10; Idx6=11;\n",
    "\n",
    "## -- Tiempo del ultimo --\n",
    "myUnit1='kyr'\n",
    "LastTime1=ds_Gall[Idx1].time_unit.in_units(myUnit1)\n",
    "LastTime1=round(LastTime1.item(0))*0.0\n",
    "## --\n",
    "LastTime2=ds_Gall[Idx2].time_unit.in_units(myUnit1)\n",
    "LastTime2=round(LastTime2.item(0))*0.05\n",
    "## --\n",
    "LastTime3=ds_Gall[Idx3].time_unit.in_units(myUnit1)\n",
    "LastTime3=round(LastTime3.item(0))*0.1\n",
    "## --\n",
    "LastTime4=ds_Gall[Idx4].time_unit.in_units(myUnit1)\n",
    "LastTime4=round(LastTime4.item(0)*0.15)\n",
    "## --\n",
    "LastTime5=ds_Gall[Idx5].time_unit.in_units(myUnit1)\n",
    "LastTime5=round(LastTime5.item(0))*0.2\n",
    "## --\n",
    "\n",
    "\n",
    "\n",
    "## ----- Las imagenes --\n",
    "img2=plotBondiVelIndi(n,rbArr[Idx2]*FactX,VelbArr[Idx2]/Fact1,model1,str(LastTime2)+' '+myUnit1)\n",
    "img3=plotBondiVelIndi(n,rbArr[Idx3]*FactX,VelbArr[Idx3]/Fact1,model1,str(LastTime3)+' '+myUnit1)\n",
    "img4=plotBondiVelIndi(n,rbArr[Idx4]*FactX,VelbArr[Idx4]/Fact1,model1,str(LastTime4)+' '+myUnit1)\n",
    "img5=plotBondiVelIndi(n,rbArr[Idx5]*FactX,VelbArr[Idx5]/Fact1,model1,str(LastTime5)+' '+myUnit1)\n",
    "\n",
    "\n",
    "plt.savefig(str(model1)+'_'+str(nMod)+'_Vel_v1.png')"
   ]
  },
  {
   "cell_type": "markdown",
   "id": "32878eac",
   "metadata": {},
   "source": [
    "# W1000"
   ]
  },
  {
   "cell_type": "code",
   "execution_count": 39,
   "id": "c2ad6272",
   "metadata": {},
   "outputs": [
    {
     "data": {
      "image/png": "[encoded data removed]",
      "text/plain": [
       "<Figure size 576x216 with 1 Axes>"
      ]
     },
     "metadata": {
      "needs_background": "light"
     },
     "output_type": "display_data"
    }
   ],
   "source": [
    "# plt.xscale(\"log\")\n",
    "plt.figure(figsize=(8,3))\n",
    "\n",
    "n=1\n",
    "#plt.plot(xIso,MIso,'blue', \n",
    "#         label='$\\gamma$= '+str(n)+'; Theoretical - Ramirez etal. 2021')\n",
    "\n",
    "\n",
    "# W256\n",
    "model1='W1000'\n",
    "nMod='Final_Fig1'\n",
    "Idx1=12; Idx2=13; Idx3=14; Idx4=15;  \n",
    "Idx5=16; Idx6=17;\n",
    "\n",
    "## -- Tiempo del ultimo --\n",
    "myUnit1='kyr'\n",
    "## --\n",
    "LastTime2=ds_Gall[Idx2].time_unit.in_units(myUnit1)\n",
    "LastTime2=round(LastTime2.item(0))*0.05\n",
    "## --\n",
    "LastTime3=ds_Gall[Idx3].time_unit.in_units(myUnit1)\n",
    "LastTime3=round(LastTime3.item(0))*0.1\n",
    "## --\n",
    "LastTime4=ds_Gall[Idx4].time_unit.in_units(myUnit1)\n",
    "LastTime4=round(LastTime4.item(0))*0.15\n",
    "## --\n",
    "LastTime5=ds_Gall[Idx5].time_unit.in_units(myUnit1)\n",
    "LastTime5=round(LastTime5.item(0))*0.2\n",
    "## --\n",
    "\n",
    "\n",
    "\n",
    "## ----- Las imagenes --\n",
    "img2=plotBondiVelRatio(n,rbArr[Idx2]*FactX,VelbArr[Idx2]/Fact1,model1,str(LastTime2)+' '+myUnit1)\n",
    "img3=plotBondiVelRatio(n,rbArr[Idx3]*FactX,VelbArr[Idx3]/Fact1,model1,str(LastTime3)+' '+myUnit1)\n",
    "img4=plotBondiVelRatio(n,rbArr[Idx4]*FactX,VelbArr[Idx4]/Fact1,model1,'22.4'+' '+myUnit1)\n",
    "img5=plotBondiVelRatio(n,rbArr[Idx5]*FactX,VelbArr[Idx5]/Fact1,model1,str(LastTime5)+' '+myUnit1)\n",
    "\n",
    "\n",
    "plt.savefig(str(model1)+'_'+str(nMod)+'_Vel_Diff_v1.png')"
   ]
  },
  {
   "cell_type": "code",
   "execution_count": 45,
   "id": "01afabba",
   "metadata": {},
   "outputs": [
    {
     "data": {
      "image/png": "[encoded data removed]",
      "text/plain": [
       "<Figure size 576x576 with 1 Axes>"
      ]
     },
     "metadata": {
      "needs_background": "light"
     },
     "output_type": "display_data"
    }
   ],
   "source": [
    "plt.xscale(\"log\")\n",
    "#plt.figure(figsize=(8,6))\n",
    "\n",
    "n='3/2'\n",
    "plt.plot(xG32,MG32,'black', \n",
    "         label='$\\gamma$= '+str(n)+'; Theoretical - Ramirez etal. 2021')\n",
    "\n",
    "\n",
    "# W1000\n",
    "model1='W1000'\n",
    "nMod='Final_Fig1'\n",
    "Idx1=12; Idx2=13; Idx3=14; Idx4=15;  \n",
    "Idx5=16; Idx6=17;\n",
    "\n",
    "## -- Tiempo del ultimo --\n",
    "myUnit1='kyr'\n",
    "## --\n",
    "LastTime2=ds_Gall[Idx2].time_unit.in_units(myUnit1)\n",
    "LastTime2=round(LastTime2.item(0))*0.05\n",
    "## --\n",
    "LastTime3=ds_Gall[Idx3].time_unit.in_units(myUnit1)\n",
    "LastTime3=round(LastTime3.item(0))*0.1\n",
    "## --\n",
    "LastTime4=ds_Gall[Idx4].time_unit.in_units(myUnit1)\n",
    "LastTime4=round(LastTime4.item(0)*0.15)\n",
    "## --\n",
    "LastTime5=ds_Gall[Idx5].time_unit.in_units(myUnit1)\n",
    "LastTime5=round(LastTime5.item(0))*0.2\n",
    "## --\n",
    "\n",
    "\n",
    "\n",
    "## ----- Las imagenes --\n",
    "img2=plotBondiVelIndi(n,rbArr[Idx2]*FactX,VelbArr[Idx2]/Fact1,model1,str(LastTime2)+' '+myUnit1)\n",
    "img3=plotBondiVelIndi(n,rbArr[Idx3]*FactX,VelbArr[Idx3]/Fact1,model1,str(LastTime3)+' '+myUnit1)\n",
    "img4=plotBondiVelIndi(n,rbArr[Idx4]*FactX,VelbArr[Idx4]/Fact1,model1,str(LastTime4)+' '+myUnit1)\n",
    "img5=plotBondiVelIndi(n,rbArr[Idx5]*FactX,VelbArr[Idx5]/Fact1,model1,str(LastTime5)+' '+myUnit1)\n",
    "\n",
    "\n",
    "plt.savefig(str(model1)+'_'+str(nMod)+'_Vel_v1.png')"
   ]
  },
  {
   "cell_type": "markdown",
   "id": "94f689ee",
   "metadata": {},
   "source": [
    "# W 1953"
   ]
  },
  {
   "cell_type": "code",
   "execution_count": 41,
   "id": "ea8f9cc9",
   "metadata": {},
   "outputs": [
    {
     "data": {
      "image/png": "[encoded data removed]",
      "text/plain": [
       "<Figure size 576x216 with 1 Axes>"
      ]
     },
     "metadata": {
      "needs_background": "light"
     },
     "output_type": "display_data"
    }
   ],
   "source": [
    "# plt.xscale(\"log\")\n",
    "plt.figure(figsize=(8,3))\n",
    "\n",
    "n=1\n",
    "#plt.plot(xIso,MIso,'blue', \n",
    "#         label='$\\gamma$= '+str(n)+'; Theoretical - Ramirez etal. 2021')\n",
    "\n",
    "\n",
    "# W256\n",
    "model1='W1953'\n",
    "nMod='Final_Fig1'\n",
    "Idx1=18; Idx2=19; Idx3=20; Idx4=21;  \n",
    "Idx5=22; Idx6=23;\n",
    "\n",
    "## -- Tiempo del ultimo --\n",
    "myUnit1='kyr'\n",
    "## --\n",
    "LastTime2=ds_Gall[Idx2].time_unit.in_units(myUnit1)\n",
    "LastTime2=round(LastTime2.item(0))*0.05\n",
    "## --\n",
    "LastTime3=ds_Gall[Idx3].time_unit.in_units(myUnit1)\n",
    "LastTime3=round(LastTime3.item(0))*0.1\n",
    "## --\n",
    "LastTime4=ds_Gall[Idx4].time_unit.in_units(myUnit1)\n",
    "LastTime4=round(LastTime4.item(0))*0.15\n",
    "## --\n",
    "LastTime5=ds_Gall[Idx5].time_unit.in_units(myUnit1)\n",
    "LastTime5=round(LastTime5.item(0))*0.2\n",
    "## --\n",
    "\n",
    "\n",
    "\n",
    "## ----- Las imagenes --\n",
    "img2=plotBondiVelRatio(n,rbArr[Idx2]*FactX,VelbArr[Idx2]/Fact1,model1,str(LastTime2)+' '+myUnit1)\n",
    "img3=plotBondiVelRatio(n,rbArr[Idx3]*FactX,VelbArr[Idx3]/Fact1,model1,str(LastTime3)+' '+myUnit1)\n",
    "img4=plotBondiVelRatio(n,rbArr[Idx4]*FactX,VelbArr[Idx4]/Fact1,model1,'22.4'+' '+myUnit1)\n",
    "img5=plotBondiVelRatio(n,rbArr[Idx5]*FactX,VelbArr[Idx5]/Fact1,model1,str(LastTime5)+' '+myUnit1)\n",
    "\n",
    "\n",
    "plt.savefig(str(model1)+'_'+str(nMod)+'_Vel_Diff_v1.png')"
   ]
  },
  {
   "cell_type": "code",
   "execution_count": 46,
   "id": "53b914f3",
   "metadata": {},
   "outputs": [
    {
     "data": {
      "image/png": "[encoded data removed]",
      "text/plain": [
       "<Figure size 576x576 with 1 Axes>"
      ]
     },
     "metadata": {
      "needs_background": "light"
     },
     "output_type": "display_data"
    }
   ],
   "source": [
    "plt.xscale(\"log\")\n",
    "#plt.figure(figsize=(8,6))\n",
    "\n",
    "n='3/2'\n",
    "plt.plot(xG32,MG32,'black', \n",
    "         label='$\\gamma$= '+str(n)+'; Theoretical - Ramirez etal. 2021')\n",
    "\n",
    "\n",
    "# W256\n",
    "model1='W1953'\n",
    "nMod='Final_Fig1'\n",
    "Idx1=18; Idx2=19; Idx3=20; Idx4=21;  \n",
    "Idx5=22; Idx6=23;\n",
    "\n",
    "## -- Tiempo del ultimo --\n",
    "myUnit1='kyr'\n",
    "## --\n",
    "LastTime2=ds_Gall[Idx2].time_unit.in_units(myUnit1)\n",
    "LastTime2=round(LastTime2.item(0))*0.05\n",
    "## --\n",
    "LastTime3=ds_Gall[Idx3].time_unit.in_units(myUnit1)\n",
    "LastTime3=round(LastTime3.item(0))*0.1\n",
    "## --\n",
    "LastTime4=ds_Gall[Idx4].time_unit.in_units(myUnit1)\n",
    "LastTime4=round(LastTime4.item(0)*0.15)\n",
    "## --\n",
    "LastTime5=ds_Gall[Idx5].time_unit.in_units(myUnit1)\n",
    "LastTime5=round(LastTime5.item(0))*0.2\n",
    "## --\n",
    "\n",
    "\n",
    "\n",
    "## ----- Las imagenes --\n",
    "img2=plotBondiVelIndi(n,rbArr[Idx2]*FactX,VelbArr[Idx2]/Fact1,model1,str(LastTime2)+' '+myUnit1)\n",
    "img3=plotBondiVelIndi(n,rbArr[Idx3]*FactX,VelbArr[Idx3]/Fact1,model1,str(LastTime3)+' '+myUnit1)\n",
    "img4=plotBondiVelIndi(n,rbArr[Idx4]*FactX,VelbArr[Idx4]/Fact1,model1,str(LastTime4)+' '+myUnit1)\n",
    "img5=plotBondiVelIndi(n,rbArr[Idx5]*FactX,VelbArr[Idx5]/Fact1,model1,str(LastTime5)+' '+myUnit1)\n",
    "\n",
    "\n",
    "plt.savefig(str(model1)+'_'+str(nMod)+'_Vel_v1.png')"
   ]
  },
  {
   "cell_type": "code",
   "execution_count": null,
   "id": "efc856df",
   "metadata": {},
   "outputs": [],
   "source": []
  }
 ],
 "metadata": {
  "kernelspec": {
   "display_name": "vaetf1env",
   "language": "python",
   "name": "vaetf1env"
  },
  "language_info": {
   "codemirror_mode": {
    "name": "ipython",
    "version": 3
   },
   "file_extension": ".py",
   "mimetype": "text/x-python",
   "name": "python",
   "nbconvert_exporter": "python",
   "pygments_lexer": "ipython3",
   "version": "3.8.12"
  }
 },
 "nbformat": 4,
 "nbformat_minor": 5
}
