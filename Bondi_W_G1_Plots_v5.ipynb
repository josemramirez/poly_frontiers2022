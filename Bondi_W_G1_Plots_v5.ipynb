{
 "cells": [
  {
   "cell_type": "markdown",
   "id": "f8f7c3e1",
   "metadata": {},
   "source": [
    "# Frontiers, Bondi Eqs. with consistency"
   ]
  },
  {
   "cell_type": "code",
   "execution_count": 1,
   "id": "516b14ea",
   "metadata": {},
   "outputs": [
    {
     "data": {
      "text/plain": [
       "<Figure size 432x288 with 0 Axes>"
      ]
     },
     "metadata": {},
     "output_type": "display_data"
    }
   ],
   "source": [
    "import yt\n",
    "from yt.units import kpc\n",
    "import numpy as np\n",
    "import yt.visualization.eps_writer as eps\n",
    "import matplotlib.pyplot as plt\n",
    "from yt import derived_field\n",
    "from matplotlib import pylab\n",
    "from yt.mods import * # set up our namespace\n",
    "from mpl_toolkits.axes_grid1 import AxesGrid\n",
    "from os.path import exists\n",
    "\n",
    "fig = plt.figure()\n",
    "########################################\n",
    "\n",
    "#### -----\n",
    "def putStyle(sFont,syT,top1,R1):\n",
    "    import matplotlib as mpl\n",
    "    import matplotlib.style as style\n",
    "    style.available\n",
    "\n",
    "    # General plot parameters\n",
    "    mpl.rcParams['font.family'] = 'Avenir'\n",
    "    mpl.rcParams['font.size'] = sFont\n",
    "    mpl.rcParams['axes.linewidth'] = 4\n",
    "    mpl.rcParams['axes.spines.bottom'] = top1\n",
    "    mpl.rcParams['axes.spines.right'] = R1\n",
    "    mpl.rcParams['xtick.major.size'] = 10\n",
    "    mpl.rcParams['xtick.major.width'] = 2\n",
    "    mpl.rcParams['ytick.major.size'] = 10\n",
    "    mpl.rcParams['ytick.major.width'] = syT\n",
    "    mpl.rcParams['lines.linewidth']= 3\n",
    "    mpl.rcParams[\"figure.figsize\"] = (8,8)"
   ]
  },
  {
   "cell_type": "code",
   "execution_count": 2,
   "id": "6c113479",
   "metadata": {},
   "outputs": [],
   "source": [
    "## 10pc\n",
    "Rad0=3.08568e+19\n",
    "Vel00=3.63317e7\n",
    "Vel0=3.63317e7 #\n",
    "\n",
    "\n",
    "unit_base = {'UnitLength_in_cm'         :   Rad0,\n",
    "             'UnitMass_in_g'            :   1.98892e+40,\n",
    "             'UnitVelocity_in_cm_per_s' :   Vel0,\n",
    "             'GravityConstantInternal'  :   0,\n",
    "             }\n",
    "\n",
    "bbox_lim = 20.0 #codelength\n",
    "\n",
    "bbox = [[-bbox_lim,bbox_lim],\n",
    "        [-bbox_lim,bbox_lim],\n",
    "        [-bbox_lim,bbox_lim]]"
   ]
  },
  {
   "cell_type": "code",
   "execution_count": 3,
   "id": "fb651775",
   "metadata": {},
   "outputs": [
    {
     "name": "stderr",
     "output_type": "stream",
     "text": [
      "yt : [INFO     ] 2022-02-14 23:38:20,194 Omega Lambda is 0.0, so we are turning off Cosmology.\n",
      "yt : [INFO     ] 2022-02-14 23:38:20,268 Parameters: current_time              = 0.0\n",
      "yt : [INFO     ] 2022-02-14 23:38:20,268 Parameters: domain_dimensions         = [1 1 1]\n",
      "yt : [INFO     ] 2022-02-14 23:38:20,269 Parameters: domain_left_edge          = [-20. -20. -20.]\n",
      "yt : [INFO     ] 2022-02-14 23:38:20,270 Parameters: domain_right_edge         = [20. 20. 20.]\n",
      "yt : [INFO     ] 2022-02-14 23:38:20,270 Parameters: cosmological_simulation   = 0\n",
      "yt : [INFO     ] 2022-02-14 23:38:20,282 Omega Lambda is 0.0, so we are turning off Cosmology.\n",
      "yt : [INFO     ] 2022-02-14 23:38:20,350 Parameters: current_time              = 0.05\n",
      "yt : [INFO     ] 2022-02-14 23:38:20,350 Parameters: domain_dimensions         = [1 1 1]\n",
      "yt : [INFO     ] 2022-02-14 23:38:20,351 Parameters: domain_left_edge          = [-20. -20. -20.]\n",
      "yt : [INFO     ] 2022-02-14 23:38:20,352 Parameters: domain_right_edge         = [20. 20. 20.]\n",
      "yt : [INFO     ] 2022-02-14 23:38:20,353 Parameters: cosmological_simulation   = 0\n",
      "yt : [INFO     ] 2022-02-14 23:38:20,364 Omega Lambda is 0.0, so we are turning off Cosmology.\n",
      "yt : [INFO     ] 2022-02-14 23:38:20,429 Parameters: current_time              = 0.1\n",
      "yt : [INFO     ] 2022-02-14 23:38:20,430 Parameters: domain_dimensions         = [1 1 1]\n",
      "yt : [INFO     ] 2022-02-14 23:38:20,430 Parameters: domain_left_edge          = [-20. -20. -20.]\n",
      "yt : [INFO     ] 2022-02-14 23:38:20,431 Parameters: domain_right_edge         = [20. 20. 20.]\n",
      "yt : [INFO     ] 2022-02-14 23:38:20,432 Parameters: cosmological_simulation   = 0\n",
      "yt : [INFO     ] 2022-02-14 23:38:20,443 Omega Lambda is 0.0, so we are turning off Cosmology.\n",
      "yt : [INFO     ] 2022-02-14 23:38:20,495 Parameters: current_time              = 0.15000000000000002\n"
     ]
    },
    {
     "name": "stdout",
     "output_type": "stream",
     "text": [
      "snapshot_0000\n",
      "snapshot_0001\n",
      "snapshot_0002\n"
     ]
    },
    {
     "name": "stderr",
     "output_type": "stream",
     "text": [
      "yt : [INFO     ] 2022-02-14 23:38:20,496 Parameters: domain_dimensions         = [1 1 1]\n",
      "yt : [INFO     ] 2022-02-14 23:38:20,497 Parameters: domain_left_edge          = [-20. -20. -20.]\n",
      "yt : [INFO     ] 2022-02-14 23:38:20,497 Parameters: domain_right_edge         = [20. 20. 20.]\n",
      "yt : [INFO     ] 2022-02-14 23:38:20,498 Parameters: cosmological_simulation   = 0\n",
      "yt : [INFO     ] 2022-02-14 23:38:20,510 Omega Lambda is 0.0, so we are turning off Cosmology.\n",
      "yt : [INFO     ] 2022-02-14 23:38:20,562 Parameters: current_time              = 0.2\n",
      "yt : [INFO     ] 2022-02-14 23:38:20,563 Parameters: domain_dimensions         = [1 1 1]\n",
      "yt : [INFO     ] 2022-02-14 23:38:20,564 Parameters: domain_left_edge          = [-20. -20. -20.]\n",
      "yt : [INFO     ] 2022-02-14 23:38:20,565 Parameters: domain_right_edge         = [20. 20. 20.]\n",
      "yt : [INFO     ] 2022-02-14 23:38:20,566 Parameters: cosmological_simulation   = 0\n",
      "yt : [INFO     ] 2022-02-14 23:38:20,578 Omega Lambda is 0.0, so we are turning off Cosmology.\n",
      "yt : [INFO     ] 2022-02-14 23:38:20,630 Parameters: current_time              = 0.2\n",
      "yt : [INFO     ] 2022-02-14 23:38:20,631 Parameters: domain_dimensions         = [1 1 1]\n",
      "yt : [INFO     ] 2022-02-14 23:38:20,632 Parameters: domain_left_edge          = [-20. -20. -20.]\n",
      "yt : [INFO     ] 2022-02-14 23:38:20,633 Parameters: domain_right_edge         = [20. 20. 20.]\n",
      "yt : [INFO     ] 2022-02-14 23:38:20,633 Parameters: cosmological_simulation   = 0\n",
      "yt : [INFO     ] 2022-02-14 23:38:20,652 Omega Lambda is 0.0, so we are turning off Cosmology.\n",
      "yt : [INFO     ] 2022-02-14 23:38:20,711 Parameters: current_time              = 0.0\n"
     ]
    },
    {
     "name": "stdout",
     "output_type": "stream",
     "text": [
      "snapshot_0003\n",
      "snapshot_0004\n",
      "snapshot_0005\n"
     ]
    },
    {
     "name": "stderr",
     "output_type": "stream",
     "text": [
      "yt : [INFO     ] 2022-02-14 23:38:20,712 Parameters: domain_dimensions         = [1 1 1]\n",
      "yt : [INFO     ] 2022-02-14 23:38:20,713 Parameters: domain_left_edge          = [-20. -20. -20.]\n",
      "yt : [INFO     ] 2022-02-14 23:38:20,714 Parameters: domain_right_edge         = [20. 20. 20.]\n",
      "yt : [INFO     ] 2022-02-14 23:38:20,715 Parameters: cosmological_simulation   = 0\n",
      "yt : [INFO     ] 2022-02-14 23:38:20,728 Omega Lambda is 0.0, so we are turning off Cosmology.\n",
      "yt : [INFO     ] 2022-02-14 23:38:20,788 Parameters: current_time              = 0.05\n",
      "yt : [INFO     ] 2022-02-14 23:38:20,789 Parameters: domain_dimensions         = [1 1 1]\n",
      "yt : [INFO     ] 2022-02-14 23:38:20,790 Parameters: domain_left_edge          = [-20. -20. -20.]\n",
      "yt : [INFO     ] 2022-02-14 23:38:20,791 Parameters: domain_right_edge         = [20. 20. 20.]\n",
      "yt : [INFO     ] 2022-02-14 23:38:20,792 Parameters: cosmological_simulation   = 0\n",
      "yt : [INFO     ] 2022-02-14 23:38:20,805 Omega Lambda is 0.0, so we are turning off Cosmology.\n",
      "yt : [INFO     ] 2022-02-14 23:38:20,859 Parameters: current_time              = 0.1\n",
      "yt : [INFO     ] 2022-02-14 23:38:20,860 Parameters: domain_dimensions         = [1 1 1]\n",
      "yt : [INFO     ] 2022-02-14 23:38:20,860 Parameters: domain_left_edge          = [-20. -20. -20.]\n",
      "yt : [INFO     ] 2022-02-14 23:38:20,861 Parameters: domain_right_edge         = [20. 20. 20.]\n",
      "yt : [INFO     ] 2022-02-14 23:38:20,862 Parameters: cosmological_simulation   = 0\n",
      "yt : [INFO     ] 2022-02-14 23:38:20,876 Omega Lambda is 0.0, so we are turning off Cosmology.\n"
     ]
    },
    {
     "name": "stdout",
     "output_type": "stream",
     "text": [
      "snapshot_0000\n",
      "snapshot_0001\n",
      "snapshot_0002\n"
     ]
    },
    {
     "name": "stderr",
     "output_type": "stream",
     "text": [
      "yt : [INFO     ] 2022-02-14 23:38:20,938 Parameters: current_time              = 0.15000000000000002\n",
      "yt : [INFO     ] 2022-02-14 23:38:20,939 Parameters: domain_dimensions         = [1 1 1]\n",
      "yt : [INFO     ] 2022-02-14 23:38:20,939 Parameters: domain_left_edge          = [-20. -20. -20.]\n",
      "yt : [INFO     ] 2022-02-14 23:38:20,940 Parameters: domain_right_edge         = [20. 20. 20.]\n",
      "yt : [INFO     ] 2022-02-14 23:38:20,941 Parameters: cosmological_simulation   = 0\n",
      "yt : [INFO     ] 2022-02-14 23:38:20,954 Omega Lambda is 0.0, so we are turning off Cosmology.\n",
      "yt : [INFO     ] 2022-02-14 23:38:21,015 Parameters: current_time              = 0.2\n",
      "yt : [INFO     ] 2022-02-14 23:38:21,016 Parameters: domain_dimensions         = [1 1 1]\n",
      "yt : [INFO     ] 2022-02-14 23:38:21,017 Parameters: domain_left_edge          = [-20. -20. -20.]\n",
      "yt : [INFO     ] 2022-02-14 23:38:21,018 Parameters: domain_right_edge         = [20. 20. 20.]\n",
      "yt : [INFO     ] 2022-02-14 23:38:21,018 Parameters: cosmological_simulation   = 0\n",
      "yt : [INFO     ] 2022-02-14 23:38:21,033 Omega Lambda is 0.0, so we are turning off Cosmology.\n",
      "yt : [INFO     ] 2022-02-14 23:38:21,095 Parameters: current_time              = 0.2\n",
      "yt : [INFO     ] 2022-02-14 23:38:21,096 Parameters: domain_dimensions         = [1 1 1]\n",
      "yt : [INFO     ] 2022-02-14 23:38:21,097 Parameters: domain_left_edge          = [-20. -20. -20.]\n",
      "yt : [INFO     ] 2022-02-14 23:38:21,098 Parameters: domain_right_edge         = [20. 20. 20.]\n",
      "yt : [INFO     ] 2022-02-14 23:38:21,099 Parameters: cosmological_simulation   = 0\n",
      "yt : [INFO     ] 2022-02-14 23:38:21,120 Omega Lambda is 0.0, so we are turning off Cosmology.\n",
      "yt : [INFO     ] 2022-02-14 23:38:21,180 Parameters: current_time              = 0.0\n"
     ]
    },
    {
     "name": "stdout",
     "output_type": "stream",
     "text": [
      "snapshot_0003\n",
      "snapshot_0004\n",
      "snapshot_0005\n"
     ]
    },
    {
     "name": "stderr",
     "output_type": "stream",
     "text": [
      "yt : [INFO     ] 2022-02-14 23:38:21,181 Parameters: domain_dimensions         = [1 1 1]\n",
      "yt : [INFO     ] 2022-02-14 23:38:21,181 Parameters: domain_left_edge          = [-20. -20. -20.]\n",
      "yt : [INFO     ] 2022-02-14 23:38:21,182 Parameters: domain_right_edge         = [20. 20. 20.]\n",
      "yt : [INFO     ] 2022-02-14 23:38:21,183 Parameters: cosmological_simulation   = 0\n",
      "yt : [INFO     ] 2022-02-14 23:38:21,196 Omega Lambda is 0.0, so we are turning off Cosmology.\n",
      "yt : [INFO     ] 2022-02-14 23:38:21,256 Parameters: current_time              = 0.05\n",
      "yt : [INFO     ] 2022-02-14 23:38:21,257 Parameters: domain_dimensions         = [1 1 1]\n",
      "yt : [INFO     ] 2022-02-14 23:38:21,258 Parameters: domain_left_edge          = [-20. -20. -20.]\n",
      "yt : [INFO     ] 2022-02-14 23:38:21,259 Parameters: domain_right_edge         = [20. 20. 20.]\n",
      "yt : [INFO     ] 2022-02-14 23:38:21,259 Parameters: cosmological_simulation   = 0\n",
      "yt : [INFO     ] 2022-02-14 23:38:21,272 Omega Lambda is 0.0, so we are turning off Cosmology.\n",
      "yt : [INFO     ] 2022-02-14 23:38:21,332 Parameters: current_time              = 0.1\n",
      "yt : [INFO     ] 2022-02-14 23:38:21,333 Parameters: domain_dimensions         = [1 1 1]\n",
      "yt : [INFO     ] 2022-02-14 23:38:21,333 Parameters: domain_left_edge          = [-20. -20. -20.]\n",
      "yt : [INFO     ] 2022-02-14 23:38:21,334 Parameters: domain_right_edge         = [20. 20. 20.]\n",
      "yt : [INFO     ] 2022-02-14 23:38:21,335 Parameters: cosmological_simulation   = 0\n",
      "yt : [INFO     ] 2022-02-14 23:38:21,349 Omega Lambda is 0.0, so we are turning off Cosmology.\n"
     ]
    },
    {
     "name": "stdout",
     "output_type": "stream",
     "text": [
      "snapshot_0000\n",
      "snapshot_0001\n",
      "snapshot_0002\n"
     ]
    },
    {
     "name": "stderr",
     "output_type": "stream",
     "text": [
      "yt : [INFO     ] 2022-02-14 23:38:21,411 Parameters: current_time              = 0.15000000000000002\n",
      "yt : [INFO     ] 2022-02-14 23:38:21,412 Parameters: domain_dimensions         = [1 1 1]\n",
      "yt : [INFO     ] 2022-02-14 23:38:21,412 Parameters: domain_left_edge          = [-20. -20. -20.]\n",
      "yt : [INFO     ] 2022-02-14 23:38:21,413 Parameters: domain_right_edge         = [20. 20. 20.]\n",
      "yt : [INFO     ] 2022-02-14 23:38:21,414 Parameters: cosmological_simulation   = 0\n",
      "yt : [INFO     ] 2022-02-14 23:38:21,429 Omega Lambda is 0.0, so we are turning off Cosmology.\n",
      "yt : [INFO     ] 2022-02-14 23:38:21,489 Parameters: current_time              = 0.2\n",
      "yt : [INFO     ] 2022-02-14 23:38:21,490 Parameters: domain_dimensions         = [1 1 1]\n",
      "yt : [INFO     ] 2022-02-14 23:38:21,491 Parameters: domain_left_edge          = [-20. -20. -20.]\n",
      "yt : [INFO     ] 2022-02-14 23:38:21,492 Parameters: domain_right_edge         = [20. 20. 20.]\n",
      "yt : [INFO     ] 2022-02-14 23:38:21,493 Parameters: cosmological_simulation   = 0\n",
      "yt : [INFO     ] 2022-02-14 23:38:21,507 Omega Lambda is 0.0, so we are turning off Cosmology.\n",
      "yt : [INFO     ] 2022-02-14 23:38:21,567 Parameters: current_time              = 0.2\n",
      "yt : [INFO     ] 2022-02-14 23:38:21,568 Parameters: domain_dimensions         = [1 1 1]\n",
      "yt : [INFO     ] 2022-02-14 23:38:21,569 Parameters: domain_left_edge          = [-20. -20. -20.]\n",
      "yt : [INFO     ] 2022-02-14 23:38:21,570 Parameters: domain_right_edge         = [20. 20. 20.]\n",
      "yt : [INFO     ] 2022-02-14 23:38:21,570 Parameters: cosmological_simulation   = 0\n",
      "yt : [INFO     ] 2022-02-14 23:38:21,590 Omega Lambda is 0.0, so we are turning off Cosmology.\n"
     ]
    },
    {
     "name": "stdout",
     "output_type": "stream",
     "text": [
      "snapshot_0003\n",
      "snapshot_0004\n",
      "snapshot_0005\n"
     ]
    },
    {
     "name": "stderr",
     "output_type": "stream",
     "text": [
      "yt : [INFO     ] 2022-02-14 23:38:21,644 Parameters: current_time              = 0.0\n",
      "yt : [INFO     ] 2022-02-14 23:38:21,644 Parameters: domain_dimensions         = [1 1 1]\n",
      "yt : [INFO     ] 2022-02-14 23:38:21,645 Parameters: domain_left_edge          = [-20. -20. -20.]\n",
      "yt : [INFO     ] 2022-02-14 23:38:21,646 Parameters: domain_right_edge         = [20. 20. 20.]\n",
      "yt : [INFO     ] 2022-02-14 23:38:21,646 Parameters: cosmological_simulation   = 0\n",
      "yt : [INFO     ] 2022-02-14 23:38:21,659 Omega Lambda is 0.0, so we are turning off Cosmology.\n",
      "yt : [INFO     ] 2022-02-14 23:38:21,716 Parameters: current_time              = 0.05\n",
      "yt : [INFO     ] 2022-02-14 23:38:21,717 Parameters: domain_dimensions         = [1 1 1]\n",
      "yt : [INFO     ] 2022-02-14 23:38:21,717 Parameters: domain_left_edge          = [-20. -20. -20.]\n",
      "yt : [INFO     ] 2022-02-14 23:38:21,718 Parameters: domain_right_edge         = [20. 20. 20.]\n",
      "yt : [INFO     ] 2022-02-14 23:38:21,719 Parameters: cosmological_simulation   = 0\n",
      "yt : [INFO     ] 2022-02-14 23:38:21,731 Omega Lambda is 0.0, so we are turning off Cosmology.\n",
      "yt : [INFO     ] 2022-02-14 23:38:21,790 Parameters: current_time              = 0.1\n",
      "yt : [INFO     ] 2022-02-14 23:38:21,791 Parameters: domain_dimensions         = [1 1 1]\n",
      "yt : [INFO     ] 2022-02-14 23:38:21,792 Parameters: domain_left_edge          = [-20. -20. -20.]\n",
      "yt : [INFO     ] 2022-02-14 23:38:21,793 Parameters: domain_right_edge         = [20. 20. 20.]\n",
      "yt : [INFO     ] 2022-02-14 23:38:21,794 Parameters: cosmological_simulation   = 0\n",
      "yt : [INFO     ] 2022-02-14 23:38:21,808 Omega Lambda is 0.0, so we are turning off Cosmology.\n"
     ]
    },
    {
     "name": "stdout",
     "output_type": "stream",
     "text": [
      "snapshot_0000\n",
      "snapshot_0001\n",
      "snapshot_0002\n"
     ]
    },
    {
     "name": "stderr",
     "output_type": "stream",
     "text": [
      "yt : [INFO     ] 2022-02-14 23:38:21,869 Parameters: current_time              = 0.15000000000000002\n",
      "yt : [INFO     ] 2022-02-14 23:38:21,869 Parameters: domain_dimensions         = [1 1 1]\n",
      "yt : [INFO     ] 2022-02-14 23:38:21,870 Parameters: domain_left_edge          = [-20. -20. -20.]\n",
      "yt : [INFO     ] 2022-02-14 23:38:21,871 Parameters: domain_right_edge         = [20. 20. 20.]\n",
      "yt : [INFO     ] 2022-02-14 23:38:21,872 Parameters: cosmological_simulation   = 0\n",
      "yt : [INFO     ] 2022-02-14 23:38:21,886 Omega Lambda is 0.0, so we are turning off Cosmology.\n",
      "yt : [INFO     ] 2022-02-14 23:38:21,946 Parameters: current_time              = 0.2\n",
      "yt : [INFO     ] 2022-02-14 23:38:21,947 Parameters: domain_dimensions         = [1 1 1]\n",
      "yt : [INFO     ] 2022-02-14 23:38:21,948 Parameters: domain_left_edge          = [-20. -20. -20.]\n",
      "yt : [INFO     ] 2022-02-14 23:38:21,948 Parameters: domain_right_edge         = [20. 20. 20.]\n",
      "yt : [INFO     ] 2022-02-14 23:38:21,949 Parameters: cosmological_simulation   = 0\n",
      "yt : [INFO     ] 2022-02-14 23:38:21,965 Omega Lambda is 0.0, so we are turning off Cosmology.\n",
      "yt : [INFO     ] 2022-02-14 23:38:22,025 Parameters: current_time              = 0.2\n",
      "yt : [INFO     ] 2022-02-14 23:38:22,025 Parameters: domain_dimensions         = [1 1 1]\n",
      "yt : [INFO     ] 2022-02-14 23:38:22,026 Parameters: domain_left_edge          = [-20. -20. -20.]\n",
      "yt : [INFO     ] 2022-02-14 23:38:22,027 Parameters: domain_right_edge         = [20. 20. 20.]\n",
      "yt : [INFO     ] 2022-02-14 23:38:22,027 Parameters: cosmological_simulation   = 0\n"
     ]
    },
    {
     "name": "stdout",
     "output_type": "stream",
     "text": [
      "snapshot_0003\n",
      "snapshot_0004\n",
      "snapshot_0005\n"
     ]
    }
   ],
   "source": [
    "### --\n",
    "### Directorio de la simulacion!!!--- ###############################################\n",
    "sim_dir1=\"./all_aciis_0/\"\n",
    "sim_dir2=\"./all_aciis_1/\"\n",
    "sim_dir3=\"./all_aciis_2/\"\n",
    "sim_dir4=\"./all_aciis_3/\"\n",
    "\n",
    "\n",
    "sim_Gen=[sim_dir1, sim_dir2, sim_dir3, sim_dir4]\n",
    "#####################################################################################\n",
    "\n",
    "### Finalmente levanto la data!!--\n",
    "#######################################\n",
    "\n",
    "ds_Gall=[]\n",
    "\n",
    "## 2 loops--\n",
    "for k in sim_Gen:\n",
    "### G11 Particles!!--\n",
    "    for i in range(0,1001):\n",
    "        if i<10: fn = k+\"snapshot_000%i\" % i\n",
    "        if i >10 and i<100: fn = k+\"snapshot_00%i\" % i\n",
    "        if i>100 and i<1000: fn = k+\"snapshot_0%i\" % i\n",
    "            \n",
    "        if exists(fn):\n",
    "            dt = yt.load(fn,\n",
    "                unit_base=unit_base,  ## -- No voy a override the units. Take them from the file\n",
    "                bounding_box=bbox)\n",
    "            ###\n",
    "            ds_Gall.append(dt)\n",
    "            print(dt)\n",
    "    #######################################\n",
    "    #######################################"
   ]
  },
  {
   "cell_type": "code",
   "execution_count": 4,
   "id": "321650b2",
   "metadata": {},
   "outputs": [
    {
     "data": {
      "text/plain": [
       "24"
      ]
     },
     "execution_count": 4,
     "metadata": {},
     "output_type": "execute_result"
    }
   ],
   "source": [
    "len(ds_Gall)"
   ]
  },
  {
   "cell_type": "markdown",
   "id": "3442bcd6",
   "metadata": {},
   "source": [
    "# Extracting the data --"
   ]
  },
  {
   "cell_type": "code",
   "execution_count": 5,
   "id": "fccbe9a3",
   "metadata": {},
   "outputs": [
    {
     "data": {
      "text/plain": [
       "unyt_quantity(3.08568e+19, 'cm')"
      ]
     },
     "execution_count": 5,
     "metadata": {},
     "output_type": "execute_result"
    }
   ],
   "source": [
    "Idx=0\n",
    "ds_Gall[Idx].length_unit.to('cm')"
   ]
  },
  {
   "cell_type": "code",
   "execution_count": 6,
   "id": "37bdd2e5",
   "metadata": {},
   "outputs": [
    {
     "data": {
      "text/plain": [
       "['snapshot_0001',\n",
       " 'snapshot_0000',\n",
       " 'snapshot_0005',\n",
       " 'snapshot_0002',\n",
       " 'snapshot_0003',\n",
       " 'snapshot_0004']"
      ]
     },
     "execution_count": 6,
     "metadata": {},
     "output_type": "execute_result"
    }
   ],
   "source": [
    "from os import listdir\n",
    "listdir(sim_dir2)"
   ]
  },
  {
   "cell_type": "code",
   "execution_count": 7,
   "id": "a77a228c",
   "metadata": {},
   "outputs": [
    {
     "data": {
      "text/plain": [
       "[GadgetDataset: all_aciis_0/snapshot_0000,\n",
       " GadgetDataset: all_aciis_0/snapshot_0001,\n",
       " GadgetDataset: all_aciis_0/snapshot_0002,\n",
       " GadgetDataset: all_aciis_0/snapshot_0003,\n",
       " GadgetDataset: all_aciis_0/snapshot_0004,\n",
       " GadgetDataset: all_aciis_0/snapshot_0005,\n",
       " GadgetDataset: all_aciis_1/snapshot_0000,\n",
       " GadgetDataset: all_aciis_1/snapshot_0001,\n",
       " GadgetDataset: all_aciis_1/snapshot_0002,\n",
       " GadgetDataset: all_aciis_1/snapshot_0003,\n",
       " GadgetDataset: all_aciis_1/snapshot_0004,\n",
       " GadgetDataset: all_aciis_1/snapshot_0005,\n",
       " GadgetDataset: all_aciis_2/snapshot_0000,\n",
       " GadgetDataset: all_aciis_2/snapshot_0001,\n",
       " GadgetDataset: all_aciis_2/snapshot_0002,\n",
       " GadgetDataset: all_aciis_2/snapshot_0003,\n",
       " GadgetDataset: all_aciis_2/snapshot_0004,\n",
       " GadgetDataset: all_aciis_2/snapshot_0005,\n",
       " GadgetDataset: all_aciis_3/snapshot_0000,\n",
       " GadgetDataset: all_aciis_3/snapshot_0001,\n",
       " GadgetDataset: all_aciis_3/snapshot_0002,\n",
       " GadgetDataset: all_aciis_3/snapshot_0003,\n",
       " GadgetDataset: all_aciis_3/snapshot_0004,\n",
       " GadgetDataset: all_aciis_3/snapshot_0005]"
      ]
     },
     "execution_count": 7,
     "metadata": {},
     "output_type": "execute_result"
    }
   ],
   "source": [
    "ds_Gall"
   ]
  },
  {
   "cell_type": "code",
   "execution_count": 8,
   "id": "d6d52b4c",
   "metadata": {},
   "outputs": [
    {
     "name": "stderr",
     "output_type": "stream",
     "text": [
      "yt : [INFO     ] 2022-02-14 23:39:12,391 Allocating for 1.328e+05 particles\n"
     ]
    },
    {
     "name": "stdout",
     "output_type": "stream",
     "text": [
      "0\n",
      "1\n",
      "2\n",
      "3\n",
      "4\n"
     ]
    },
    {
     "name": "stderr",
     "output_type": "stream",
     "text": [
      "yt : [INFO     ] 2022-02-14 23:39:28,670 Allocating for 3.349e+05 particles\n"
     ]
    },
    {
     "name": "stdout",
     "output_type": "stream",
     "text": [
      "5\n"
     ]
    },
    {
     "name": "stderr",
     "output_type": "stream",
     "text": [
      "Initializing coarse index : 100%|█████████████████████████████| 2/2 [00:00<00:00, 28.55it/s]\n",
      "yt : [INFO     ] 2022-02-14 23:39:28,767 Updating index_order2 from 2 to 2\n",
      "Initializing refined index: 100%|█████████████████████████████| 2/2 [00:00<00:00,  5.10it/s]\n",
      "yt : [INFO     ] 2022-02-14 23:39:29,175 Allocating for 3.349e+05 particles\n",
      "Initializing coarse index : 100%|█████████████████████████████| 2/2 [00:00<00:00, 30.84it/s]\n",
      "yt : [INFO     ] 2022-02-14 23:39:29,245 Updating index_order2 from 2 to 2\n",
      "Initializing refined index: 100%|█████████████████████████████| 2/2 [00:00<00:00,  5.00it/s]\n"
     ]
    },
    {
     "name": "stdout",
     "output_type": "stream",
     "text": [
      "6\n"
     ]
    },
    {
     "name": "stderr",
     "output_type": "stream",
     "text": [
      "yt : [INFO     ] 2022-02-14 23:39:32,319 Allocating for 3.349e+05 particles\n",
      "Initializing coarse index : 100%|█████████████████████████████| 2/2 [00:00<00:00, 29.72it/s]\n",
      "yt : [INFO     ] 2022-02-14 23:39:32,391 Updating index_order2 from 2 to 2\n",
      "Initializing refined index: 100%|█████████████████████████████| 2/2 [00:00<00:00,  3.66it/s]\n",
      "yt : [INFO     ] 2022-02-14 23:39:32,969 Allocating for 3.349e+05 particles\n",
      "Initializing coarse index : 100%|█████████████████████████████| 2/2 [00:00<00:00, 33.38it/s]\n",
      "yt : [INFO     ] 2022-02-14 23:39:33,034 Updating index_order2 from 2 to 2\n",
      "Initializing refined index: 100%|█████████████████████████████| 2/2 [00:00<00:00,  3.67it/s]\n"
     ]
    },
    {
     "name": "stdout",
     "output_type": "stream",
     "text": [
      "7\n"
     ]
    },
    {
     "name": "stderr",
     "output_type": "stream",
     "text": [
      "yt : [INFO     ] 2022-02-14 23:39:36,211 Allocating for 3.349e+05 particles\n",
      "Initializing coarse index : 100%|█████████████████████████████| 2/2 [00:00<00:00, 29.58it/s]\n",
      "yt : [INFO     ] 2022-02-14 23:39:36,283 Updating index_order2 from 2 to 2\n",
      "Initializing refined index: 100%|█████████████████████████████| 2/2 [00:00<00:00,  3.38it/s]\n",
      "yt : [INFO     ] 2022-02-14 23:39:36,905 Allocating for 3.349e+05 particles\n",
      "Initializing coarse index : 100%|█████████████████████████████| 2/2 [00:00<00:00, 34.10it/s]\n",
      "yt : [INFO     ] 2022-02-14 23:39:36,967 Updating index_order2 from 2 to 2\n",
      "Initializing refined index: 100%|█████████████████████████████| 2/2 [00:00<00:00,  3.14it/s]\n"
     ]
    },
    {
     "name": "stdout",
     "output_type": "stream",
     "text": [
      "8\n"
     ]
    },
    {
     "name": "stderr",
     "output_type": "stream",
     "text": [
      "yt : [INFO     ] 2022-02-14 23:39:40,598 Allocating for 3.349e+05 particles\n",
      "Initializing coarse index : 100%|█████████████████████████████| 2/2 [00:00<00:00, 27.50it/s]\n",
      "yt : [INFO     ] 2022-02-14 23:39:40,676 Updating index_order2 from 2 to 2\n",
      "Initializing refined index: 100%|█████████████████████████████| 2/2 [00:00<00:00,  3.04it/s]\n",
      "yt : [INFO     ] 2022-02-14 23:39:41,370 Allocating for 3.349e+05 particles\n",
      "Initializing coarse index : 100%|█████████████████████████████| 2/2 [00:00<00:00, 32.53it/s]\n",
      "yt : [INFO     ] 2022-02-14 23:39:41,436 Updating index_order2 from 2 to 2\n",
      "Initializing refined index: 100%|█████████████████████████████| 2/2 [00:00<00:00,  2.48it/s]\n",
      "yt : [INFO     ] 2022-02-14 23:39:45,222 Allocating for 3.349e+05 particles\n"
     ]
    },
    {
     "name": "stdout",
     "output_type": "stream",
     "text": [
      "9\n"
     ]
    },
    {
     "name": "stderr",
     "output_type": "stream",
     "text": [
      "Initializing coarse index : 100%|█████████████████████████████| 2/2 [00:00<00:00, 30.66it/s]\n",
      "yt : [INFO     ] 2022-02-14 23:39:45,291 Updating index_order2 from 2 to 2\n",
      "Initializing refined index: 100%|█████████████████████████████| 2/2 [00:00<00:00,  3.05it/s]\n",
      "yt : [INFO     ] 2022-02-14 23:39:45,979 Allocating for 3.349e+05 particles\n",
      "Initializing coarse index : 100%|█████████████████████████████| 2/2 [00:00<00:00, 34.30it/s]\n",
      "yt : [INFO     ] 2022-02-14 23:39:46,042 Updating index_order2 from 2 to 2\n",
      "Initializing refined index: 100%|█████████████████████████████| 2/2 [00:00<00:00,  3.24it/s]\n",
      "yt : [INFO     ] 2022-02-14 23:39:49,178 Allocating for 3.349e+05 particles\n"
     ]
    },
    {
     "name": "stdout",
     "output_type": "stream",
     "text": [
      "10\n"
     ]
    },
    {
     "name": "stderr",
     "output_type": "stream",
     "text": [
      "Initializing coarse index : 100%|█████████████████████████████| 2/2 [00:00<00:00, 29.73it/s]\n",
      "yt : [INFO     ] 2022-02-14 23:39:49,250 Updating index_order2 from 2 to 2\n",
      "Initializing refined index: 100%|█████████████████████████████| 2/2 [00:00<00:00,  3.07it/s]\n",
      "yt : [INFO     ] 2022-02-14 23:39:49,933 Allocating for 3.349e+05 particles\n",
      "Initializing coarse index : 100%|█████████████████████████████| 2/2 [00:00<00:00, 33.34it/s]\n",
      "yt : [INFO     ] 2022-02-14 23:39:49,997 Updating index_order2 from 2 to 2\n",
      "Initializing refined index: 100%|█████████████████████████████| 2/2 [00:00<00:00,  2.44it/s]\n",
      "yt : [INFO     ] 2022-02-14 23:39:53,729 Allocating for 1.000e+06 particles\n"
     ]
    },
    {
     "name": "stdout",
     "output_type": "stream",
     "text": [
      "11\n"
     ]
    },
    {
     "name": "stderr",
     "output_type": "stream",
     "text": [
      "Initializing coarse index : 100%|█████████████████████████████| 4/4 [00:00<00:00, 26.70it/s]\n",
      "yt : [INFO     ] 2022-02-14 23:39:53,883 Updating index_order2 from 2 to 2\n",
      "Initializing refined index: 100%|█████████████████████████████| 4/4 [00:00<00:00,  5.68it/s]\n",
      "yt : [INFO     ] 2022-02-14 23:39:54,621 Allocating for 1.000e+06 particles\n",
      "Initializing coarse index : 100%|█████████████████████████████| 4/4 [00:00<00:00, 28.95it/s]\n",
      "yt : [INFO     ] 2022-02-14 23:39:54,763 Updating index_order2 from 2 to 2\n",
      "Initializing refined index: 100%|█████████████████████████████| 4/4 [00:00<00:00,  4.73it/s]\n"
     ]
    },
    {
     "name": "stdout",
     "output_type": "stream",
     "text": [
      "12\n"
     ]
    },
    {
     "name": "stderr",
     "output_type": "stream",
     "text": [
      "yt : [INFO     ] 2022-02-14 23:39:58,817 Allocating for 1.000e+06 particles\n",
      "Initializing coarse index : 100%|█████████████████████████████| 4/4 [00:00<00:00, 27.17it/s]\n",
      "yt : [INFO     ] 2022-02-14 23:39:58,969 Updating index_order2 from 2 to 2\n",
      "Initializing refined index: 100%|█████████████████████████████| 4/4 [00:01<00:00,  3.75it/s]\n",
      "yt : [INFO     ] 2022-02-14 23:40:00,073 Allocating for 1.000e+06 particles\n",
      "Initializing coarse index : 100%|█████████████████████████████| 4/4 [00:00<00:00, 29.12it/s]\n",
      "yt : [INFO     ] 2022-02-14 23:40:00,215 Updating index_order2 from 2 to 2\n",
      "Initializing refined index: 100%|█████████████████████████████| 4/4 [00:01<00:00,  3.77it/s]\n"
     ]
    },
    {
     "name": "stdout",
     "output_type": "stream",
     "text": [
      "13\n"
     ]
    },
    {
     "name": "stderr",
     "output_type": "stream",
     "text": [
      "yt : [INFO     ] 2022-02-14 23:40:04,788 Allocating for 1.000e+06 particles\n",
      "Initializing coarse index : 100%|█████████████████████████████| 4/4 [00:00<00:00, 28.70it/s]\n",
      "yt : [INFO     ] 2022-02-14 23:40:04,932 Updating index_order2 from 2 to 2\n",
      "Initializing refined index: 100%|█████████████████████████████| 4/4 [00:01<00:00,  3.40it/s]\n",
      "yt : [INFO     ] 2022-02-14 23:40:06,143 Allocating for 1.000e+06 particles\n",
      "Initializing coarse index : 100%|█████████████████████████████| 4/4 [00:00<00:00, 25.92it/s]\n",
      "yt : [INFO     ] 2022-02-14 23:40:06,303 Updating index_order2 from 2 to 2\n",
      "Initializing refined index: 100%|█████████████████████████████| 4/4 [00:01<00:00,  3.31it/s]\n"
     ]
    },
    {
     "name": "stdout",
     "output_type": "stream",
     "text": [
      "14\n"
     ]
    },
    {
     "name": "stderr",
     "output_type": "stream",
     "text": [
      "yt : [INFO     ] 2022-02-14 23:40:10,819 Allocating for 1.000e+06 particles\n",
      "Initializing coarse index : 100%|█████████████████████████████| 4/4 [00:00<00:00, 26.69it/s]\n",
      "yt : [INFO     ] 2022-02-14 23:40:10,972 Updating index_order2 from 2 to 2\n",
      "Initializing refined index: 100%|█████████████████████████████| 4/4 [00:01<00:00,  3.54it/s]\n",
      "yt : [INFO     ] 2022-02-14 23:40:12,134 Allocating for 1.000e+06 particles\n",
      "Initializing coarse index : 100%|█████████████████████████████| 4/4 [00:00<00:00, 27.62it/s]\n",
      "yt : [INFO     ] 2022-02-14 23:40:12,283 Updating index_order2 from 2 to 2\n",
      "Initializing refined index: 100%|█████████████████████████████| 4/4 [00:01<00:00,  3.58it/s]\n"
     ]
    },
    {
     "name": "stdout",
     "output_type": "stream",
     "text": [
      "15\n"
     ]
    },
    {
     "name": "stderr",
     "output_type": "stream",
     "text": [
      "yt : [INFO     ] 2022-02-14 23:40:16,376 Allocating for 1.000e+06 particles\n",
      "Initializing coarse index : 100%|█████████████████████████████| 4/4 [00:00<00:00, 28.34it/s]\n",
      "yt : [INFO     ] 2022-02-14 23:40:16,521 Updating index_order2 from 2 to 2\n",
      "Initializing refined index: 100%|█████████████████████████████| 4/4 [00:01<00:00,  3.68it/s]\n",
      "yt : [INFO     ] 2022-02-14 23:40:17,642 Allocating for 1.000e+06 particles\n",
      "Initializing coarse index : 100%|█████████████████████████████| 4/4 [00:00<00:00, 27.94it/s]\n",
      "yt : [INFO     ] 2022-02-14 23:40:17,790 Updating index_order2 from 2 to 2\n",
      "Initializing refined index: 100%|█████████████████████████████| 4/4 [00:01<00:00,  3.00it/s]\n"
     ]
    },
    {
     "name": "stdout",
     "output_type": "stream",
     "text": [
      "16\n"
     ]
    },
    {
     "name": "stderr",
     "output_type": "stream",
     "text": [
      "yt : [INFO     ] 2022-02-14 23:40:22,873 Allocating for 1.000e+06 particles\n",
      "Initializing coarse index : 100%|█████████████████████████████| 4/4 [00:00<00:00, 26.71it/s]\n",
      "yt : [INFO     ] 2022-02-14 23:40:23,027 Updating index_order2 from 2 to 2\n",
      "Initializing refined index: 100%|█████████████████████████████| 4/4 [00:01<00:00,  3.45it/s]\n",
      "yt : [INFO     ] 2022-02-14 23:40:24,224 Allocating for 1.000e+06 particles\n",
      "Initializing coarse index : 100%|█████████████████████████████| 4/4 [00:00<00:00, 30.34it/s]\n",
      "yt : [INFO     ] 2022-02-14 23:40:24,360 Updating index_order2 from 2 to 2\n",
      "Initializing refined index: 100%|█████████████████████████████| 4/4 [00:01<00:00,  3.16it/s]\n"
     ]
    },
    {
     "name": "stdout",
     "output_type": "stream",
     "text": [
      "17\n"
     ]
    },
    {
     "name": "stderr",
     "output_type": "stream",
     "text": [
      "yt : [INFO     ] 2022-02-14 23:40:28,655 Allocating for 3.815e+06 particles\n",
      "Initializing coarse index : 100%|███████████████████████████| 15/15 [00:00<00:00, 35.07it/s]\n",
      "yt : [INFO     ] 2022-02-14 23:40:29,087 Updating index_order2 from 2 to 2\n",
      "Initializing refined index: 100%|███████████████████████████| 15/15 [00:02<00:00,  5.27it/s]\n",
      "yt : [INFO     ] 2022-02-14 23:40:31,971 Allocating for 3.815e+06 particles\n",
      "Initializing coarse index : 100%|███████████████████████████| 15/15 [00:00<00:00, 32.86it/s]\n",
      "yt : [INFO     ] 2022-02-14 23:40:32,433 Updating index_order2 from 2 to 2\n",
      "Initializing refined index: 100%|███████████████████████████| 15/15 [00:02<00:00,  5.48it/s]\n"
     ]
    },
    {
     "name": "stdout",
     "output_type": "stream",
     "text": [
      "18\n"
     ]
    },
    {
     "name": "stderr",
     "output_type": "stream",
     "text": [
      "yt : [INFO     ] 2022-02-14 23:40:40,427 Allocating for 3.815e+06 particles\n",
      "Initializing coarse index : 100%|███████████████████████████| 15/15 [00:00<00:00, 40.21it/s]\n",
      "yt : [INFO     ] 2022-02-14 23:40:40,804 Updating index_order2 from 2 to 2\n",
      "Initializing refined index: 100%|███████████████████████████| 15/15 [00:02<00:00,  5.96it/s]\n",
      "yt : [INFO     ] 2022-02-14 23:40:43,354 Allocating for 3.815e+06 particles\n",
      "Initializing coarse index : 100%|███████████████████████████| 15/15 [00:00<00:00, 39.49it/s]\n",
      "yt : [INFO     ] 2022-02-14 23:40:43,738 Updating index_order2 from 2 to 2\n",
      "Initializing refined index: 100%|███████████████████████████| 15/15 [00:02<00:00,  5.27it/s]\n"
     ]
    },
    {
     "name": "stdout",
     "output_type": "stream",
     "text": [
      "19\n"
     ]
    },
    {
     "name": "stderr",
     "output_type": "stream",
     "text": [
      "yt : [INFO     ] 2022-02-14 23:40:51,680 Allocating for 3.815e+06 particles\n",
      "Initializing coarse index : 100%|███████████████████████████| 15/15 [00:00<00:00, 30.67it/s]\n",
      "yt : [INFO     ] 2022-02-14 23:40:52,174 Updating index_order2 from 2 to 2\n",
      "Initializing refined index: 100%|███████████████████████████| 15/15 [00:02<00:00,  5.18it/s]\n",
      "yt : [INFO     ] 2022-02-14 23:40:55,110 Allocating for 3.815e+06 particles\n",
      "Initializing coarse index : 100%|███████████████████████████| 15/15 [00:00<00:00, 34.32it/s]\n",
      "yt : [INFO     ] 2022-02-14 23:40:55,552 Updating index_order2 from 2 to 2\n",
      "Initializing refined index: 100%|███████████████████████████| 15/15 [00:03<00:00,  4.94it/s]\n"
     ]
    },
    {
     "name": "stdout",
     "output_type": "stream",
     "text": [
      "20\n"
     ]
    },
    {
     "name": "stderr",
     "output_type": "stream",
     "text": [
      "yt : [INFO     ] 2022-02-14 23:41:04,387 Allocating for 3.815e+06 particles\n",
      "Initializing coarse index : 100%|███████████████████████████| 15/15 [00:00<00:00, 36.14it/s]\n",
      "yt : [INFO     ] 2022-02-14 23:41:04,806 Updating index_order2 from 2 to 2\n",
      "Initializing refined index: 100%|███████████████████████████| 15/15 [00:02<00:00,  5.39it/s]\n",
      "yt : [INFO     ] 2022-02-14 23:41:07,624 Allocating for 3.815e+06 particles\n",
      "Initializing coarse index : 100%|███████████████████████████| 15/15 [00:00<00:00, 35.36it/s]\n",
      "yt : [INFO     ] 2022-02-14 23:41:08,054 Updating index_order2 from 2 to 2\n",
      "Initializing refined index: 100%|███████████████████████████| 15/15 [00:02<00:00,  5.71it/s]\n"
     ]
    },
    {
     "name": "stdout",
     "output_type": "stream",
     "text": [
      "21\n"
     ]
    },
    {
     "name": "stderr",
     "output_type": "stream",
     "text": [
      "yt : [INFO     ] 2022-02-14 23:41:15,502 Allocating for 3.815e+06 particles\n",
      "Initializing coarse index : 100%|███████████████████████████| 15/15 [00:00<00:00, 36.45it/s]\n",
      "yt : [INFO     ] 2022-02-14 23:41:15,917 Updating index_order2 from 2 to 2\n",
      "Initializing refined index: 100%|███████████████████████████| 15/15 [00:02<00:00,  5.32it/s]\n",
      "yt : [INFO     ] 2022-02-14 23:41:18,775 Allocating for 3.815e+06 particles\n",
      "Initializing coarse index : 100%|███████████████████████████| 15/15 [00:00<00:00, 31.75it/s]\n",
      "yt : [INFO     ] 2022-02-14 23:41:19,253 Updating index_order2 from 2 to 2\n",
      "Initializing refined index: 100%|███████████████████████████| 15/15 [00:02<00:00,  5.41it/s]\n"
     ]
    },
    {
     "name": "stdout",
     "output_type": "stream",
     "text": [
      "22\n"
     ]
    },
    {
     "name": "stderr",
     "output_type": "stream",
     "text": [
      "yt : [INFO     ] 2022-02-14 23:41:27,314 Allocating for 3.815e+06 particles\n",
      "Initializing coarse index : 100%|███████████████████████████| 15/15 [00:00<00:00, 36.16it/s]\n",
      "yt : [INFO     ] 2022-02-14 23:41:27,733 Updating index_order2 from 2 to 2\n",
      "Initializing refined index: 100%|███████████████████████████| 15/15 [00:02<00:00,  5.34it/s]\n",
      "yt : [INFO     ] 2022-02-14 23:41:30,579 Allocating for 3.815e+06 particles\n",
      "Initializing coarse index : 100%|███████████████████████████| 15/15 [00:00<00:00, 36.30it/s]\n",
      "yt : [INFO     ] 2022-02-14 23:41:30,997 Updating index_order2 from 2 to 2\n",
      "Initializing refined index: 100%|███████████████████████████| 15/15 [00:02<00:00,  5.48it/s]\n"
     ]
    },
    {
     "name": "stdout",
     "output_type": "stream",
     "text": [
      "23\n"
     ]
    }
   ],
   "source": [
    "rhos=[]\n",
    "vels=[]\n",
    "rs=[]\n",
    "## ---------------------------------------------------------\n",
    "for Idx,k in enumerate(ds_Gall):\n",
    "    rhos1 = ds_Gall[Idx].r[\"Gas\", \"Density\"]\n",
    "    rs1 = ds_Gall[Idx].r[\"all\", \"radius\"]/Rad0\n",
    "    print(Idx)\n",
    "    if Idx == 0:\n",
    "        vs1 = ds_Gall[Idx].r[\"all\", \"radial_velocity\"]/Vel00\n",
    "    else:\n",
    "        vs1 = ds_Gall[Idx].r[\"all\", \"radial_velocity\"]/Vel0\n",
    "        \n",
    "    rhos.append(rhos1)\n",
    "    vels.append(vs1)\n",
    "    rs.append(rs1)"
   ]
  },
  {
   "cell_type": "code",
   "execution_count": 9,
   "id": "853ecf73",
   "metadata": {},
   "outputs": [
    {
     "data": {
      "text/plain": [
       "unyt_array([9.36484337e-02, 1.07001282e-01, 9.06729773e-02, ...,\n",
       "            1.12103877e-44, 5.38248000e+07, 1.87739242e-39], 'code_mass/code_length**3')"
      ]
     },
     "execution_count": 9,
     "metadata": {},
     "output_type": "execute_result"
    }
   ],
   "source": [
    "rhos[10]"
   ]
  },
  {
   "cell_type": "markdown",
   "id": "52991714",
   "metadata": {},
   "source": [
    "# Bondi numerically in Python"
   ]
  },
  {
   "cell_type": "code",
   "execution_count": 11,
   "id": "99924fb9",
   "metadata": {
    "code_folding": []
   },
   "outputs": [],
   "source": [
    "from IPython.display import display, Math, Latex\n",
    "import numpy as np\n",
    "np.seterr(divide='ignore', invalid='ignore')\n",
    "\n",
    "%matplotlib inline\n",
    "import matplotlib\n",
    "import matplotlib.pyplot as plt"
   ]
  },
  {
   "cell_type": "code",
   "execution_count": 14,
   "id": "1902e85e",
   "metadata": {},
   "outputs": [],
   "source": [
    "def plotBondiRhoIndi(n,rb,rhob,lbs,i):\n",
    "    ## --- Estilo --\n",
    "    putStyle(14,2,True,True)\n",
    "    ## -------------\n",
    "    width=10\n",
    "    rB1s = np.argsort(rb)\n",
    "    rB1 = rb[rB1s]\n",
    "    rB2 = rhob[rB1s]\n",
    "    rBin1 = rB1[:(rB1.size // width) * width].reshape(-1, width).mean(axis=1)\n",
    "    rBin2 = rB2[:(rB2.size // width) * width].reshape(-1, width).mean(axis=1)\n",
    "    ## ---\n",
    "    plt.scatter(rBin1, rBin2, 2, \n",
    "            label=str(lbs)+' $\\gamma$= '+str(n)+' t~'+str(i))\n",
    "    ## ----------------------------------------------------\n",
    "    plt.legend(loc='best')\n",
    "    plt.xlabel(r'$r~(u.c)$')\n",
    "    ## Limits--\n",
    "    plt.xscale(\"log\")\n",
    "    plt.yscale(\"log\")\n",
    "    plt.xlim(0.005,5.1)\n",
    "    plt.ylabel(r'$\\rho~(u.c)$')\n",
    "    plt.ylim(0.1,5)"
   ]
  },
  {
   "cell_type": "markdown",
   "id": "8726ee25",
   "metadata": {},
   "source": [
    "# n -> infty ... Isothermal $\\gamma$ = 1"
   ]
  },
  {
   "cell_type": "code",
   "execution_count": 16,
   "id": "c68e2669",
   "metadata": {},
   "outputs": [
    {
     "data": {
      "text/plain": [
       "array([3.23191133, 3.23280771, 3.20978836, ..., 3.15081947, 3.22541859,\n",
       "       3.24270449])"
      ]
     },
     "execution_count": 16,
     "metadata": {},
     "output_type": "execute_result"
    }
   ],
   "source": [
    "rs[0].value"
   ]
  },
  {
   "cell_type": "markdown",
   "id": "8fe69d7f",
   "metadata": {},
   "source": [
    "## Creo arreglo de rhos y vels "
   ]
  },
  {
   "cell_type": "code",
   "execution_count": 17,
   "id": "51a99ee1",
   "metadata": {},
   "outputs": [
    {
     "name": "stdout",
     "output_type": "stream",
     "text": [
      "0 133000 132831\n",
      "1 133000 132831\n",
      "2 133000 132831\n",
      "3 133000 132831\n",
      "4 133000 132831\n",
      "5 133000 132831\n",
      "6 334000 334936\n",
      "7 334000 334936\n",
      "8 334000 334936\n",
      "9 334000 334936\n",
      "10 334000 334936\n",
      "11 334000 334936\n",
      "12 990900 999979\n",
      "13 990900 999979\n",
      "14 990900 999979\n",
      "15 990900 999979\n",
      "16 990900 999979\n",
      "17 990900 999979\n",
      "18 3500000 3814915\n",
      "19 3500000 3814915\n",
      "20 3500000 3814915\n",
      "21 3500000 3814915\n",
      "22 3500000 3814915\n",
      "23 3500000 3814915\n"
     ]
    }
   ],
   "source": [
    "rbArr=[]\n",
    "VelbArr=[]\n",
    "## ---- Rhos ----------------------------------------------------------------\n",
    "RhobArr=[]\n",
    "## -- version rapida:\n",
    "nro1=[133000,133000,133000,133000,133000,133000,\n",
    "      334000,334000,334000,334000,334000,334000,\n",
    "      990900,990900,990900,990900,990900,990900,\n",
    "      3500000,3500000,3500000,3500000,3500000,3500000]\n",
    "#--\n",
    "for i,(j,k,l) in enumerate(zip(rs,vels,rhos)):\n",
    "    print(i, nro1[i], len(j.value))\n",
    "#--\n",
    "    idx1 = np.random.choice(np.arange(len(j.value)), len(j.value)-1, replace=False)\n",
    "    rb, velb, rhob = j.value[idx1], k.value[idx1], l.value[idx1]\n",
    "    rbArr.append(rb)\n",
    "    VelbArr.append(velb)\n",
    "    RhobArr.append(rhob)"
   ]
  },
  {
   "cell_type": "code",
   "execution_count": 18,
   "id": "c5abbf81",
   "metadata": {},
   "outputs": [
    {
     "name": "stdout",
     "output_type": "stream",
     "text": [
      "Time unit:  26.912943464245508 kyr\n"
     ]
    }
   ],
   "source": [
    "print(\"Time unit: \", ds_Gall[0].time_unit.in_units(\"kyr\"))"
   ]
  },
  {
   "cell_type": "code",
   "execution_count": 19,
   "id": "3bfd47a0",
   "metadata": {},
   "outputs": [
    {
     "data": {
      "text/plain": [
       "27"
      ]
     },
     "execution_count": 19,
     "metadata": {},
     "output_type": "execute_result"
    }
   ],
   "source": [
    "Idx2=0\n",
    "myUnit1='kyr'\n",
    "LastTime=ds_Gall[Idx2].time_unit.in_units(myUnit1)\n",
    "LastTime=round(LastTime.item(0))\n",
    "LastTime"
   ]
  },
  {
   "cell_type": "code",
   "execution_count": 20,
   "id": "12b536c0",
   "metadata": {},
   "outputs": [
    {
     "data": {
      "text/plain": [
       "'TX=1.e6\\nBOLTZMANN  = 1.3806e-16\\nPROTONMASS = 1.6726e-24\\nHYDROGEN_MASSFRAC = 0.769\\nmass_sun = 1.989e+33  ## g\\nRHO0 = 1.0e-19        ## Density at infty\\nGnew = 6.672e-8       ##\\nmyPI = 3.14159\\nMbh  = 1.e+8*mass_sun ## Black hole mass\\n## --\\nFrac_int = 0.01\\nFrac_ext = 1.02\\nRad0 = (3.)*3.08568025e+19 ## cm (10pc)\\nmyGamma=1.01\\n\\n##- Si quiero que todo quede normalizado \\nmass_Nor = 1.e+6*mass_sun   ## RHO0 * (Rad0)**3\\n## \\nUvel = np.sqrt((myGamma * BOLTZMANN * TX)/(HYDROGEN_MASSFRAC*PROTONMASS))\\nUvel'"
      ]
     },
     "execution_count": 20,
     "metadata": {},
     "output_type": "execute_result"
    }
   ],
   "source": [
    "## -- Temperature y parametros importantes --\n",
    "'''TX=1.e6\n",
    "BOLTZMANN  = 1.3806e-16\n",
    "PROTONMASS = 1.6726e-24\n",
    "HYDROGEN_MASSFRAC = 0.769\n",
    "mass_sun = 1.989e+33  ## g\n",
    "RHO0 = 1.0e-19        ## Density at infty\n",
    "Gnew = 6.672e-8       ##\n",
    "myPI = 3.14159\n",
    "Mbh  = 1.e+8*mass_sun ## Black hole mass\n",
    "## --\n",
    "Frac_int = 0.01\n",
    "Frac_ext = 1.02\n",
    "Rad0 = (3.)*3.08568025e+19 ## cm (10pc)\n",
    "myGamma=1.01\n",
    "\n",
    "##- Si quiero que todo quede normalizado \n",
    "mass_Nor = 1.e+6*mass_sun   ## RHO0 * (Rad0)**3\n",
    "## \n",
    "Uvel = np.sqrt((myGamma * BOLTZMANN * TX)/(HYDROGEN_MASSFRAC*PROTONMASS))\n",
    "Uvel'''"
   ]
  },
  {
   "cell_type": "code",
   "execution_count": 21,
   "id": "3c3ecaab",
   "metadata": {},
   "outputs": [
    {
     "data": {
      "text/plain": [
       "[GadgetDataset: all_aciis_0/snapshot_0000,\n",
       " GadgetDataset: all_aciis_0/snapshot_0001,\n",
       " GadgetDataset: all_aciis_0/snapshot_0002,\n",
       " GadgetDataset: all_aciis_0/snapshot_0003,\n",
       " GadgetDataset: all_aciis_0/snapshot_0004,\n",
       " GadgetDataset: all_aciis_0/snapshot_0005,\n",
       " GadgetDataset: all_aciis_1/snapshot_0000,\n",
       " GadgetDataset: all_aciis_1/snapshot_0001,\n",
       " GadgetDataset: all_aciis_1/snapshot_0002,\n",
       " GadgetDataset: all_aciis_1/snapshot_0003,\n",
       " GadgetDataset: all_aciis_1/snapshot_0004,\n",
       " GadgetDataset: all_aciis_1/snapshot_0005,\n",
       " GadgetDataset: all_aciis_2/snapshot_0000,\n",
       " GadgetDataset: all_aciis_2/snapshot_0001,\n",
       " GadgetDataset: all_aciis_2/snapshot_0002,\n",
       " GadgetDataset: all_aciis_2/snapshot_0003,\n",
       " GadgetDataset: all_aciis_2/snapshot_0004,\n",
       " GadgetDataset: all_aciis_2/snapshot_0005,\n",
       " GadgetDataset: all_aciis_3/snapshot_0000,\n",
       " GadgetDataset: all_aciis_3/snapshot_0001,\n",
       " GadgetDataset: all_aciis_3/snapshot_0002,\n",
       " GadgetDataset: all_aciis_3/snapshot_0003,\n",
       " GadgetDataset: all_aciis_3/snapshot_0004,\n",
       " GadgetDataset: all_aciis_3/snapshot_0005]"
      ]
     },
     "execution_count": 21,
     "metadata": {},
     "output_type": "execute_result"
    }
   ],
   "source": [
    "ds_Gall"
   ]
  },
  {
   "cell_type": "code",
   "execution_count": 22,
   "id": "1055eb07",
   "metadata": {},
   "outputs": [
    {
     "name": "stdout",
     "output_type": "stream",
     "text": [
      "0 snapshot_0000\n",
      "1 snapshot_0001\n",
      "2 snapshot_0002\n",
      "3 snapshot_0003\n",
      "4 snapshot_0004\n",
      "5 snapshot_0005\n",
      "6 snapshot_0000\n",
      "7 snapshot_0001\n",
      "8 snapshot_0002\n",
      "9 snapshot_0003\n",
      "10 snapshot_0004\n",
      "11 snapshot_0005\n",
      "12 snapshot_0000\n",
      "13 snapshot_0001\n",
      "14 snapshot_0002\n",
      "15 snapshot_0003\n",
      "16 snapshot_0004\n",
      "17 snapshot_0005\n",
      "18 snapshot_0000\n",
      "19 snapshot_0001\n",
      "20 snapshot_0002\n",
      "21 snapshot_0003\n",
      "22 snapshot_0004\n",
      "23 snapshot_0005\n"
     ]
    }
   ],
   "source": [
    "for i,ds1 in enumerate(ds_Gall):\n",
    "    print(i, ds1)"
   ]
  },
  {
   "cell_type": "markdown",
   "id": "cd2df356",
   "metadata": {},
   "source": [
    "# Gamma = 1.1"
   ]
  },
  {
   "cell_type": "markdown",
   "id": "e651aab3",
   "metadata": {},
   "source": [
    "# W256"
   ]
  },
  {
   "cell_type": "code",
   "execution_count": null,
   "id": "fd022a85",
   "metadata": {},
   "outputs": [],
   "source": [
    "n=1\n",
    "# W256\n",
    "model1='W256;'\n",
    "nMod='1_1'\n",
    "Idx1=0; Idx2=1; Idx3=2; Idx4=3;  \n",
    "Idx5=4; Idx6=5; Idx7=6; Idx8=7; Idx9=8; Idx10=9;\n",
    "Idx11=10;\n",
    "\n",
    "## -- Tiempo del ultimo --\n",
    "myUnit1='kyr'\n",
    "LastTime1=ds_Gall[Idx1].time_unit.in_units(myUnit1)\n",
    "LastTime1=round(LastTime1.item(0))*0.0\n",
    "## --\n",
    "LastTime2=ds_Gall[Idx2].time_unit.in_units(myUnit1)\n",
    "LastTime2=round(LastTime2.item(0))*0.05\n",
    "## --\n",
    "LastTime3=ds_Gall[Idx3].time_unit.in_units(myUnit1)\n",
    "LastTime3=round(LastTime3.item(0))*0.1\n",
    "## --\n",
    "LastTime4=ds_Gall[Idx4].time_unit.in_units(myUnit1)\n",
    "LastTime4=round(LastTime4.item(0))*0.15\n",
    "## --\n",
    "LastTime5=ds_Gall[Idx5].time_unit.in_units(myUnit1)\n",
    "LastTime5=round(LastTime5.item(0))*0.2\n",
    "## --\n",
    "#LastTime6=ds_Gall[Idx6].time_unit.in_units(myUnit1)\n",
    "#LastTime6=round(LastTime6.item(0))*0.1\n",
    "\n",
    "## --\n",
    "#LastTime7=ds_Gall[Idx7].time_unit.in_units(myUnit1)\n",
    "#LastTime7=round(LastTime7.item(0))*0.05\n",
    "\n",
    "\n",
    "## --\n",
    "#LastTime8=ds_Gall[Idx8].time_unit.in_units(myUnit1)\n",
    "#LastTime8=round(LastTime8.item(0))*0.0\n",
    "## --\n",
    "#LastTime9=ds_Gall[Idx9].time_unit.in_units(myUnit1)\n",
    "#LastTime9=round(LastTime9.item(0))*0.05\n",
    "## --\n",
    "#LastTime10=ds_Gall[Idx10].time_unit.in_units(myUnit1)\n",
    "#LastTime10=round(LastTime10.item(0))*0.1\n",
    "\n",
    "\n",
    "## ----- Las imagenes --\n",
    "img1=plotBondiVelIndi(n,rbArr[Idx1],VelbArr[Idx1],model1,str(LastTime1)+' '+myUnit1)\n",
    "img2=plotBondiVelIndi(n,rbArr[Idx2],VelbArr[Idx2],model1,str(LastTime2)+' '+myUnit1)\n",
    "img3=plotBondiVelIndi(n,rbArr[Idx3],VelbArr[Idx3],model1,str(LastTime3)+' '+myUnit1)\n",
    "img4=plotBondiVelIndi(n,rbArr[Idx4],VelbArr[Idx4],model1,str(LastTime4)+' '+myUnit1)\n",
    "img5=plotBondiVelIndi(n,rbArr[Idx5],VelbArr[Idx5],model1,str(LastTime5)+' '+myUnit1)\n",
    "#img6=plotBondiVelIndi(n,rbArr[Idx6],VelbArr[Idx6],model1,str(LastTime6)+' '+myUnit1)\n",
    "\n",
    "#img7=plotBondiVelIndi(n,rbArr[Idx7],VelbArr[Idx7],model1,str(LastTime7)+' '+myUnit1)\n",
    "#img8=plotBondiVelIndi(n,rbArr[Idx8],VelbArr[Idx8],model1,str(LastTime8)+' '+myUnit1)\n",
    "#img9=plotBondiVelIndi(n,rbArr[Idx9],VelbArr[Idx9],model1,str(LastTime9)+' '+myUnit1)\n",
    "#img10=plotBondiVelIndi(n,rbArr[Idx10],VelbArr[Idx10],model1,str(LastTime10)+' '+myUnit1)\n",
    "\n",
    "## Poner aqui de comparacion con 1024\n",
    "#Idx5=40\n",
    "#img5=plotBondiVelIndi(n,rbArr[Idx5],VelbArr[Idx5],model1,str(LastTime4)+' '+myUnit1)\n",
    "#Idx5=49\n",
    "#img6=plotBondiVelIndi(n,rbArr[Idx5],VelbArr[Idx5],model1,str(LastTime4)+' '+myUnit1)\n",
    "\n",
    "#plt.savefig(str(model1)+'_'+str(nMod)+'_Vel_v1.png')"
   ]
  },
  {
   "cell_type": "markdown",
   "id": "700f03a3",
   "metadata": {},
   "source": [
    "# Densidades - 4 modelos "
   ]
  },
  {
   "cell_type": "code",
   "execution_count": null,
   "id": "f4667da0",
   "metadata": {},
   "outputs": [],
   "source": [
    "n=1\n",
    "\n",
    "# W365\n",
    "model1='W365;'\n",
    "nMod='1'\n",
    "Idx1=0; Idx2=1; Idx3=2; Idx4=3;  \n",
    "Idx5=4; Idx6=5;\n",
    "\n",
    "## -- Tiempo del ultimo --\n",
    "myUnit1='kyr'\n",
    "LastTime1=ds_Gall[Idx1].time_unit.in_units(myUnit1)\n",
    "LastTime1=round(LastTime1.item(0))*0.0\n",
    "## --\n",
    "LastTime2=ds_Gall[Idx2].time_unit.in_units(myUnit1)\n",
    "LastTime2=round(LastTime2.item(0))*0.05\n",
    "## --\n",
    "LastTime3=ds_Gall[Idx3].time_unit.in_units(myUnit1)\n",
    "LastTime3=round(LastTime3.item(0))*0.1\n",
    "## --\n",
    "LastTime4=ds_Gall[Idx4].time_unit.in_units(myUnit1)\n",
    "LastTime4=round(LastTime4.item(0))*0.15\n",
    "## --\n",
    "LastTime5=ds_Gall[Idx5].time_unit.in_units(myUnit1)\n",
    "LastTime5=round(LastTime5.item(0))*0.2\n",
    "## --\n",
    "## ----- Las imagenes --\n",
    "img2=plotBondiRhoIndi(n,rbArr[Idx2],RhobArr[Idx2],model1,str(LastTime2)+' '+myUnit1)\n",
    "img3=plotBondiRhoIndi(n,rbArr[Idx3],RhobArr[Idx3],model1,str(LastTime3)+' '+myUnit1)\n",
    "img4=plotBondiRhoIndi(n,rbArr[Idx4],RhobArr[Idx4],model1,str(LastTime4)+' '+myUnit1)\n",
    "img5=plotBondiRhoIndi(n,rbArr[Idx5],RhobArr[Idx5],model1,str(LastTime5)+' '+myUnit1)\n",
    "\n",
    "\n",
    "plt.savefig(str(model1)+'_'+str(nMod)+'_Rho_v1.png')"
   ]
  },
  {
   "cell_type": "code",
   "execution_count": null,
   "id": "771a793a",
   "metadata": {},
   "outputs": [],
   "source": [
    "n=1\n",
    "# W365\n",
    "model1='W579;'\n",
    "nMod='1'\n",
    "Idx1=6; Idx2=7; Idx3=8; Idx4=9;  \n",
    "Idx5=10; Idx6=11;\n",
    "\n",
    "## -- Tiempo del ultimo --\n",
    "myUnit1='kyr'\n",
    "LastTime1=ds_Gall[Idx1].time_unit.in_units(myUnit1)\n",
    "LastTime1=round(LastTime1.item(0))*0.0\n",
    "## --\n",
    "LastTime2=ds_Gall[Idx2].time_unit.in_units(myUnit1)\n",
    "LastTime2=round(LastTime2.item(0))*0.05\n",
    "## --\n",
    "LastTime3=ds_Gall[Idx3].time_unit.in_units(myUnit1)\n",
    "LastTime3=round(LastTime3.item(0))*0.1\n",
    "## --\n",
    "LastTime4=ds_Gall[Idx4].time_unit.in_units(myUnit1)\n",
    "LastTime4=round(LastTime4.item(0))*0.15\n",
    "## --\n",
    "LastTime5=ds_Gall[Idx5].time_unit.in_units(myUnit1)\n",
    "LastTime5=round(LastTime5.item(0))*0.2\n",
    "## --\n",
    "## ----- Las imagenes --\n",
    "#img1=plotBondiRhoIndi(n,rbArr[Idx1],RhobArr[Idx1],model1,str(LastTime1)+' '+myUnit1)\n",
    "img2=plotBondiRhoIndi(n,rbArr[Idx2],RhobArr[Idx2],model1,str(LastTime2)+' '+myUnit1)\n",
    "img3=plotBondiRhoIndi(n,rbArr[Idx3],RhobArr[Idx3],model1,str(LastTime3)+' '+myUnit1)\n",
    "img4=plotBondiRhoIndi(n,rbArr[Idx4],RhobArr[Idx4],model1,str(LastTime4)+' '+myUnit1)\n",
    "img5=plotBondiRhoIndi(n,rbArr[Idx5],RhobArr[Idx5],model1,str(LastTime5)+' '+myUnit1)\n",
    "\n",
    "\n",
    "plt.savefig(str(model1)+'_'+str(nMod)+'_Rho_v1.png')"
   ]
  },
  {
   "cell_type": "code",
   "execution_count": null,
   "id": "4a688c86",
   "metadata": {},
   "outputs": [],
   "source": [
    "n=1\n",
    "# W1000\n",
    "model1='W1000;'\n",
    "nMod='1'\n",
    "Idx1=12; Idx2=13; Idx3=14; Idx4=15;  \n",
    "Idx5=16; Idx6=17;\n",
    "\n",
    "## -- Tiempo del ultimo --\n",
    "myUnit1='kyr'\n",
    "LastTime1=ds_Gall[Idx1].time_unit.in_units(myUnit1)\n",
    "LastTime1=round(LastTime1.item(0))*0.0\n",
    "## --\n",
    "LastTime2=ds_Gall[Idx2].time_unit.in_units(myUnit1)\n",
    "LastTime2=round(LastTime2.item(0))*0.05\n",
    "## --\n",
    "LastTime3=ds_Gall[Idx3].time_unit.in_units(myUnit1)\n",
    "LastTime3=round(LastTime3.item(0))*0.1\n",
    "## --\n",
    "LastTime4=ds_Gall[Idx4].time_unit.in_units(myUnit1)\n",
    "LastTime4=round(LastTime4.item(0))*0.15\n",
    "## --\n",
    "LastTime5=ds_Gall[Idx5].time_unit.in_units(myUnit1)\n",
    "LastTime5=round(LastTime5.item(0))*0.2\n",
    "## --\n",
    "## ----- Las imagenes --\n",
    "#img1=plotBondiRhoIndi(n,rbArr[Idx1],RhobArr[Idx1],model1,str(LastTime1)+' '+myUnit1)\n",
    "img2=plotBondiRhoIndi(n,rbArr[Idx2],RhobArr[Idx2],model1,str(LastTime2)+' '+myUnit1)\n",
    "img3=plotBondiRhoIndi(n,rbArr[Idx3],RhobArr[Idx3],model1,str(LastTime3)+' '+myUnit1)\n",
    "img4=plotBondiRhoIndi(n,rbArr[Idx4],RhobArr[Idx4],model1,str(LastTime4)+' '+myUnit1)\n",
    "img5=plotBondiRhoIndi(n,rbArr[Idx5],RhobArr[Idx5],model1,str(LastTime5)+' '+myUnit1)\n",
    "\n",
    "\n",
    "plt.savefig(str(model1)+'_'+str(nMod)+'_Rho_v1.png')"
   ]
  },
  {
   "cell_type": "code",
   "execution_count": null,
   "id": "3bbdecef",
   "metadata": {},
   "outputs": [],
   "source": [
    "n=1\n",
    "# W1953\n",
    "model1='W1953;'\n",
    "nMod='1'\n",
    "Idx1=18; Idx2=19; Idx3=20; Idx4=21;  \n",
    "Idx5=22; Idx6=23;\n",
    "\n",
    "## -- Tiempo del ultimo --\n",
    "myUnit1='kyr'\n",
    "LastTime1=ds_Gall[Idx1].time_unit.in_units(myUnit1)\n",
    "LastTime1=round(LastTime1.item(0))*0.0\n",
    "## --\n",
    "LastTime2=ds_Gall[Idx2].time_unit.in_units(myUnit1)\n",
    "LastTime2=round(LastTime2.item(0))*0.05\n",
    "## --\n",
    "LastTime3=ds_Gall[Idx3].time_unit.in_units(myUnit1)\n",
    "LastTime3=round(LastTime3.item(0))*0.1\n",
    "## --\n",
    "LastTime4=ds_Gall[Idx4].time_unit.in_units(myUnit1)\n",
    "LastTime4=round(LastTime4.item(0))*0.15\n",
    "## --\n",
    "LastTime5=ds_Gall[Idx5].time_unit.in_units(myUnit1)\n",
    "LastTime5=round(LastTime5.item(0))*0.2\n",
    "## --\n",
    "## ----- Las imagenes --\n",
    "#img1=plotBondiRhoIndi(n,rbArr[Idx1],RhobArr[Idx1],model1,str(LastTime1)+' '+myUnit1)\n",
    "img2=plotBondiRhoIndi(n,rbArr[Idx2],RhobArr[Idx2],model1,str(LastTime2)+' '+myUnit1)\n",
    "img3=plotBondiRhoIndi(n,rbArr[Idx3],RhobArr[Idx3],model1,str(LastTime3)+' '+myUnit1)\n",
    "img4=plotBondiRhoIndi(n,rbArr[Idx4],RhobArr[Idx4],model1,str(LastTime4)+' '+myUnit1)\n",
    "img5=plotBondiRhoIndi(n,rbArr[Idx5],RhobArr[Idx5],model1,str(LastTime5)+' '+myUnit1)\n",
    "\n",
    "\n",
    "plt.savefig(str(model1)+'_'+str(nMod)+'_Rho_v1.png')"
   ]
  },
  {
   "cell_type": "markdown",
   "id": "c16887e1",
   "metadata": {},
   "source": [
    "---"
   ]
  },
  {
   "cell_type": "markdown",
   "id": "02d50084",
   "metadata": {},
   "source": [
    "# Cortes transversales ---"
   ]
  },
  {
   "cell_type": "code",
   "execution_count": 39,
   "id": "7da6436b",
   "metadata": {},
   "outputs": [
    {
     "name": "stdout",
     "output_type": "stream",
     "text": [
      "Object `annotate_timestamp` not found.\n"
     ]
    }
   ],
   "source": [
    "?annotate_timestamp"
   ]
  },
  {
   "cell_type": "code",
   "execution_count": 40,
   "id": "9713c0bc",
   "metadata": {},
   "outputs": [
    {
     "name": "stdout",
     "output_type": "stream",
     "text": [
      "Time unit:  26.912943464245508 kyr\n"
     ]
    }
   ],
   "source": [
    "print(\"Time unit: \", ds_Gall[1].time_unit.in_units(\"kyr\"))"
   ]
  },
  {
   "cell_type": "code",
   "execution_count": 41,
   "id": "878645ed",
   "metadata": {},
   "outputs": [
    {
     "name": "stderr",
     "output_type": "stream",
     "text": [
      "yt : [INFO     ] 2022-02-15 00:23:53,355 xlim = -1.250000 1.250000\n",
      "yt : [INFO     ] 2022-02-15 00:23:53,355 ylim = -1.250000 1.250000\n",
      "yt : [INFO     ] 2022-02-15 00:23:53,357 xlim = -1.250000 1.250000\n",
      "yt : [INFO     ] 2022-02-15 00:23:53,357 ylim = -1.250000 1.250000\n",
      "yt : [INFO     ] 2022-02-15 00:23:53,359 Making a fixed resolution buffer of (('gas', 'density')) 800 by 800\n"
     ]
    },
    {
     "name": "stdout",
     "output_type": "stream",
     "text": [
      "center =  [-1.67011285 -2.05801225  1.84805703] code_length\n",
      "Este es el box:  25.000019598918 pc\n",
      "[-29.20115138 -33.0801484    5.980575  ] pc\n",
      "[-4.20113178 -8.08012881 30.9805946 ] pc\n"
     ]
    },
    {
     "name": "stderr",
     "output_type": "stream",
     "text": [
      "/Users/josem/Desktop/Peiskos2020/CursoVAE101_v1/VAEtf1env/lib/python3.8/site-packages/yt/data_objects/data_containers.py:1421: VisibleDeprecationWarning: The requested field name 'x' is ambiguous and corresponds to any one of the following field types:\n",
      " {'gas', 'all', 'Gas'}\n",
      "Please specify the requested field as an explicit tuple (ftype, fname).\n",
      "Defaulting to '(\"gas\", \"x\")'.\n",
      "Deprecated since v4.0.0. This feature will be removed in v4.1.0\n",
      "  finfo = self.ds._get_field_info(field)\n",
      "yt : [INFO     ] 2022-02-15 00:24:20,275 Making a fixed resolution buffer of (('gas', 'x')) 800 by 800\n",
      "/Users/josem/Desktop/Peiskos2020/CursoVAE101_v1/VAEtf1env/lib/python3.8/site-packages/yt/data_objects/data_containers.py:1421: VisibleDeprecationWarning: The requested field name 'y' is ambiguous and corresponds to any one of the following field types:\n",
      " {'gas', 'all', 'Gas'}\n",
      "Please specify the requested field as an explicit tuple (ftype, fname).\n",
      "Defaulting to '(\"gas\", \"y\")'.\n",
      "Deprecated since v4.0.0. This feature will be removed in v4.1.0\n",
      "  finfo = self.ds._get_field_info(field)\n",
      "yt : [INFO     ] 2022-02-15 00:24:46,763 Making a fixed resolution buffer of (('gas', 'y')) 800 by 800\n",
      "/Users/josem/Desktop/Peiskos2020/CursoVAE101_v1/VAEtf1env/lib/python3.8/site-packages/yt/data_objects/data_containers.py:1421: VisibleDeprecationWarning: The requested field name 'density' is ambiguous and corresponds to any one of the following field types:\n",
      " {'gas', 'all'}\n",
      "Please specify the requested field as an explicit tuple (ftype, fname).\n",
      "Defaulting to '(\"gas\", \"density\")'.\n",
      "Deprecated since v4.0.0. This feature will be removed in v4.1.0\n",
      "  finfo = self.ds._get_field_info(field)\n"
     ]
    },
    {
     "data": {
      "text/html": [
       "<img style=\"max-width:100%;max-height:100%;\" src=\"data:image/png;base64,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\"><br>"
      ],
      "text/plain": [
       "<yt.visualization.plot_window.AxisAlignedSlicePlot at 0x15a78ee20>"
      ]
     },
     "execution_count": 41,
     "metadata": {},
     "output_type": "execute_result"
    }
   ],
   "source": [
    "Idx = 22\n",
    "myUnit1='kyr'\n",
    "LastTime1=ds_Gall[Idx].time_unit.in_units(myUnit1)\n",
    "LastTime1=round(LastTime1.item(0))*0.2\n",
    "model1='W1953'\n",
    "\n",
    "\n",
    "ad = ds_Gall[Idx].all_data()\n",
    "### Aqui defino --\n",
    "density = ad[(\"Gas\",\"Density\")]\n",
    "internal= ad[(\"Gas\",\"InternalEnergy\")]\n",
    "\n",
    "#####\n",
    "wdens = np.where(density == np.max(density))\n",
    "coordinates = ad[(\"Gas\",\"Coordinates\")]\n",
    "center = coordinates[wdens][0]\n",
    "print('center = ',center)\n",
    "\n",
    "### Nueva caja\n",
    "new_box_size = ds_Gall[Idx].quan(2.5,'code_length')\n",
    "left_edge = center - new_box_size/2\n",
    "right_edge = center + new_box_size/2\n",
    "\n",
    "print('Este es el box: ', new_box_size.in_units('pc'))\n",
    "print(left_edge.in_units('pc'))\n",
    "print(right_edge.in_units('pc'))\n",
    "\n",
    "#####\n",
    "px = yt.SlicePlot(ds_Gall[Idx], 'z', ('gas', 'density'), \n",
    "#center=[0.,new_box_size/2,new_box_size/2], width=new_box_size,\n",
    "#origin='lower-left-window')\n",
    "center=[0,0,0], width=new_box_size,\n",
    "origin='center-window') #'lower-left-window'\n",
    "px.set_unit('x','code_length')\n",
    "px.set_unit('y','code_length')\n",
    "px.set_unit((\"gas\", \"density\"),'code_density')\n",
    "px.set_cmap(field=\"density\", cmap='jet') ## amfhot,jet\n",
    "\n",
    "\n",
    "\n",
    "px.annotate_text((-.5,.5), \"(b) \"+model1+'; t= '+str(LastTime1)+' '+myUnit1, \n",
    "                 coord_system=\"plot\",\n",
    "                 text_args={\"color\": \"white\", \"size\":26,\n",
    "                           'family': 'sans-serif', \n",
    "                           'style': 'italic'})"
   ]
  },
  {
   "cell_type": "code",
   "execution_count": 42,
   "id": "ba914486",
   "metadata": {},
   "outputs": [
    {
     "name": "stderr",
     "output_type": "stream",
     "text": [
      "yt : [INFO     ] 2022-02-15 00:25:41,981 Saving plot snapshot_0004_Slice_z_density.png\n"
     ]
    },
    {
     "data": {
      "text/plain": [
       "['snapshot_0004_Slice_z_density.png']"
      ]
     },
     "execution_count": 42,
     "metadata": {},
     "output_type": "execute_result"
    }
   ],
   "source": [
    "px.save()"
   ]
  },
  {
   "cell_type": "markdown",
   "id": "b9b35202",
   "metadata": {},
   "source": [
    "# Solving and Plotting semi-Analytical solutions"
   ]
  },
  {
   "cell_type": "code",
   "execution_count": 23,
   "id": "4c80c87e",
   "metadata": {},
   "outputs": [
    {
     "data": {
      "text/plain": [
       "36341084.17671472"
      ]
     },
     "execution_count": 23,
     "metadata": {},
     "output_type": "execute_result"
    }
   ],
   "source": [
    "\n",
    "TX=1.e7\n",
    "pc = 3.18e+18\n",
    "BOLTZMANN  = 1.3806e-16\n",
    "PROTONMASS = 1.6726e-24\n",
    "HYDROGEN_MASSFRAC = 0.625\n",
    "mass_sun = 1.989e+33  ## g\n",
    "RHO0 = 1.0e-19        ## Density at infty\n",
    "Gnew = 6.672e-8       ##\n",
    "myPI = 3.14159\n",
    "Mbh  = 1.e+8*mass_sun ## Black hole mass\n",
    "## --\n",
    "#Rad0 = 3.08568025e+19 ## cm (10pc)\n",
    "myGamma=1.0\n",
    "##- Si quiero que todo quede normalizado \n",
    "mass_Nor = 1.e+6*mass_sun   ## RHO0 * (Rad0)**3\n",
    "## \n",
    "Uvel = np.sqrt((myGamma * BOLTZMANN * TX)/(HYDROGEN_MASSFRAC*PROTONMASS))\n",
    "Uvel"
   ]
  },
  {
   "cell_type": "code",
   "execution_count": 24,
   "id": "da67fc5a",
   "metadata": {},
   "outputs": [
    {
     "data": {
      "text/plain": [
       "0.3256448211948118"
      ]
     },
     "execution_count": 24,
     "metadata": {},
     "output_type": "execute_result"
    }
   ],
   "source": [
    "Rb=Gnew*Mbh/(Uvel*Uvel)  #3.*(Mbh/(1.e+8*mass_sun))/(TX/1.e+7)\n",
    "FactX=Rb/(Rad0)\n",
    "FactX"
   ]
  },
  {
   "cell_type": "markdown",
   "id": "78b77830",
   "metadata": {},
   "source": [
    "# Isothermal Model"
   ]
  },
  {
   "cell_type": "code",
   "execution_count": null,
   "id": "014a4ea3",
   "metadata": {},
   "outputs": [],
   "source": [
    "with open('./Profiles_G1_v1.txt') as f:\n",
    "    lines = f.readlines()"
   ]
  },
  {
   "cell_type": "code",
   "execution_count": 26,
   "id": "6be0e1e6",
   "metadata": {},
   "outputs": [],
   "source": [
    "with open('./Profiles_G1_v5.txt') as f:\n",
    "    linesRho = f.readlines()"
   ]
  },
  {
   "cell_type": "code",
   "execution_count": 27,
   "id": "2200901d",
   "metadata": {},
   "outputs": [
    {
     "data": {
      "text/plain": [
       "820.2538706454"
      ]
     },
     "execution_count": 27,
     "metadata": {},
     "output_type": "execute_result"
    }
   ],
   "source": [
    "np.float(linesRho[5].split('\\t')[2])"
   ]
  },
  {
   "cell_type": "code",
   "execution_count": 28,
   "id": "d2750569",
   "metadata": {},
   "outputs": [],
   "source": [
    "Fact1=3.25 #\n",
    "Fact2=0.001 #\n",
    "\n",
    "xIso=[]\n",
    "MIso=[]\n",
    "RhoIso=[]\n",
    "for line in linesRho[5:]:\n",
    "    xIso.append(FactX*np.float(line.split('\\t')[0]))\n",
    "    MIso.append(-Fact1*np.float(np.float(line.split('\\t')[1])))\n",
    "    RhoIso.append(Fact2 * np.float(np.float(line.split('\\t')[2])))\n",
    "#MIso"
   ]
  },
  {
   "cell_type": "code",
   "execution_count": 29,
   "id": "45ef9fb9",
   "metadata": {},
   "outputs": [
    {
     "data": {
      "text/plain": [
       "[<matplotlib.lines.Line2D at 0x14aa1b550>]"
      ]
     },
     "execution_count": 29,
     "metadata": {},
     "output_type": "execute_result"
    },
    {
     "data": {
      "image/png": "[encoded data removed]",
      "text/plain": [
       "<Figure size 432x288 with 1 Axes>"
      ]
     },
     "metadata": {
      "needs_background": "light"
     },
     "output_type": "display_data"
    }
   ],
   "source": [
    "plt.xscale('log')\n",
    "plt.yscale('log')\n",
    "plt.plot(xIso, RhoIso)"
   ]
  },
  {
   "cell_type": "code",
   "execution_count": 30,
   "id": "5f895861",
   "metadata": {},
   "outputs": [],
   "source": [
    "from scipy import interpolate\n",
    "\n",
    "def plotBondiVelRatio(n,rb,velb,lbs,i):\n",
    "    ## --- Estilo --\n",
    "    #plt.figure(figsize=(8,2))\n",
    "    putStyle(14,2,True,True)\n",
    "    ## -------------\n",
    "    # Interpolation\n",
    "    temp = interpolate.interp1d(xIso, MIso)\n",
    "    ## ---\n",
    "    ynew = temp(rb[np.where(rb < np.max(xIso))])\n",
    "    xnew = rb[np.where(rb < np.max(xIso))]\n",
    "    \n",
    "    \n",
    "    plt.scatter(xnew, (velb[np.where(rb < np.max(xIso))] - ynew), 2)\n",
    "    #           2, label=str(lbs)+' $\\gamma$= '+str(n)+' t~'+str(i))\n",
    "    plt.axhline(y = 0., color = 'black', linestyle = '--')\n",
    "    ## ----------------------------------------------------\n",
    "    #plt.legend(loc='best')\n",
    "    plt.xlabel(r'$r~(u.c)$')\n",
    "    ## Limits--\n",
    "    plt.xscale(\"log\")\n",
    "    plt.xlim(0.005, 5.1)\n",
    "    plt.ylabel(r'Diff')\n",
    "    plt.ylim(-5, 5)"
   ]
  },
  {
   "cell_type": "markdown",
   "id": "79c489c1",
   "metadata": {},
   "source": [
    "# W365"
   ]
  },
  {
   "cell_type": "code",
   "execution_count": 31,
   "id": "0d74936d",
   "metadata": {},
   "outputs": [
    {
     "data": {
      "image/png": "[encoded data removed]",
      "text/plain": [
       "<Figure size 576x216 with 1 Axes>"
      ]
     },
     "metadata": {
      "needs_background": "light"
     },
     "output_type": "display_data"
    }
   ],
   "source": [
    "# plt.xscale(\"log\")\n",
    "plt.figure(figsize=(8,3))\n",
    "\n",
    "n=1\n",
    "#plt.plot(xIso,MIso,'blue', \n",
    "#         label='$\\gamma$= '+str(n)+'; Theoretical - Ramirez etal. 2021')\n",
    "\n",
    "\n",
    "# W256\n",
    "model1='W365'\n",
    "nMod='Final_Fig1'\n",
    "Idx1=0; Idx2=1; Idx3=2; Idx4=3;  \n",
    "Idx5=4; Idx6=5; Idx7=6; Idx8=7; Idx9=8; Idx10=9;\n",
    "Idx11=10;\n",
    "\n",
    "## -- Tiempo del ultimo --\n",
    "myUnit1='kyr'\n",
    "LastTime1=ds_Gall[Idx1].time_unit.in_units(myUnit1)\n",
    "LastTime1=round(LastTime1.item(0))*0.0\n",
    "## --\n",
    "LastTime2=ds_Gall[Idx2].time_unit.in_units(myUnit1)\n",
    "LastTime2=round(LastTime2.item(0))*0.05\n",
    "## --\n",
    "LastTime3=ds_Gall[Idx3].time_unit.in_units(myUnit1)\n",
    "LastTime3=round(LastTime3.item(0))*0.1\n",
    "## --\n",
    "LastTime4=ds_Gall[Idx4].time_unit.in_units(myUnit1)\n",
    "LastTime4=round(LastTime4.item(0))*0.15\n",
    "## --\n",
    "LastTime5=ds_Gall[Idx5].time_unit.in_units(myUnit1)\n",
    "LastTime5=round(LastTime5.item(0))*0.2\n",
    "## --\n",
    "\n",
    "\n",
    "\n",
    "## ----- Las imagenes --\n",
    "img2=plotBondiVelRatio(n,rbArr[Idx2],VelbArr[Idx2],model1,str(LastTime2)+' '+myUnit1)\n",
    "img3=plotBondiVelRatio(n,rbArr[Idx3],VelbArr[Idx3],model1,str(LastTime3)+' '+myUnit1)\n",
    "img4=plotBondiVelRatio(n,rbArr[Idx4],VelbArr[Idx4],model1,'22.4'+' '+myUnit1)\n",
    "img5=plotBondiVelRatio(n,rbArr[Idx5],VelbArr[Idx5],model1,str(LastTime5)+' '+myUnit1)\n",
    "\n",
    "\n",
    "plt.savefig(str(model1)+'_'+str(nMod)+'_Vel_Diff_v1.png')"
   ]
  },
  {
   "cell_type": "code",
   "execution_count": 43,
   "id": "f1b78f72",
   "metadata": {},
   "outputs": [
    {
     "data": {
      "image/png": "[encoded data removed]",
      "text/plain": [
       "<Figure size 576x576 with 1 Axes>"
      ]
     },
     "metadata": {
      "needs_background": "light"
     },
     "output_type": "display_data"
    }
   ],
   "source": [
    "plt.xscale(\"log\")\n",
    "#plt.figure(figsize=(8,6))\n",
    "\n",
    "n=1\n",
    "plt.plot(xIso,MIso,'black', \n",
    "         label='$\\gamma$= '+str(n)+'; Theoretical - Ramirez etal. 2021')\n",
    "\n",
    "\n",
    "# W256\n",
    "model1='W365'\n",
    "nMod='Final_Fig1'\n",
    "Idx1=0; Idx2=1; Idx3=2; Idx4=3;  \n",
    "Idx5=4; Idx6=5; Idx7=6; Idx8=7; Idx9=8; Idx10=9;\n",
    "Idx11=10;\n",
    "\n",
    "## -- Tiempo del ultimo --\n",
    "myUnit1='kyr'\n",
    "LastTime1=ds_Gall[Idx1].time_unit.in_units(myUnit1)\n",
    "LastTime1=round(LastTime1.item(0))*0.0\n",
    "## --\n",
    "LastTime2=ds_Gall[Idx2].time_unit.in_units(myUnit1)\n",
    "LastTime2=round(LastTime2.item(0))*0.05\n",
    "## --\n",
    "LastTime3=ds_Gall[Idx3].time_unit.in_units(myUnit1)\n",
    "LastTime3=round(LastTime3.item(0))*0.1\n",
    "## --\n",
    "LastTime4=ds_Gall[Idx4].time_unit.in_units(myUnit1)\n",
    "LastTime4=round(LastTime4.item(0)*0.15)\n",
    "## --\n",
    "LastTime5=ds_Gall[Idx5].time_unit.in_units(myUnit1)\n",
    "LastTime5=round(LastTime5.item(0))*0.2\n",
    "## --\n",
    "\n",
    "\n",
    "\n",
    "## ----- Las imagenes --\n",
    "img2=plotBondiVelIndi(n,rbArr[Idx2],VelbArr[Idx2],model1,str(LastTime2)+' '+myUnit1)\n",
    "img3=plotBondiVelIndi(n,rbArr[Idx3],VelbArr[Idx3],model1,str(LastTime3)+' '+myUnit1)\n",
    "img4=plotBondiVelIndi(n,rbArr[Idx4],VelbArr[Idx4],model1,str(LastTime4)+' '+myUnit1)\n",
    "img5=plotBondiVelIndi(n,rbArr[Idx5],VelbArr[Idx5],model1,str(LastTime5)+' '+myUnit1)\n",
    "\n",
    "\n",
    "plt.savefig(str(model1)+'_'+str(nMod)+'_Vel_v1.png')"
   ]
  },
  {
   "cell_type": "markdown",
   "id": "a5cc9568",
   "metadata": {},
   "source": [
    "# W579"
   ]
  },
  {
   "cell_type": "code",
   "execution_count": 33,
   "id": "70462e06",
   "metadata": {},
   "outputs": [
    {
     "data": {
      "image/png": "[encoded data removed]",
      "text/plain": [
       "<Figure size 576x216 with 1 Axes>"
      ]
     },
     "metadata": {
      "needs_background": "light"
     },
     "output_type": "display_data"
    }
   ],
   "source": [
    "# plt.xscale(\"log\")\n",
    "plt.figure(figsize=(8,3))\n",
    "\n",
    "n=1\n",
    "#plt.plot(xIso,MIso,'blue', \n",
    "#         label='$\\gamma$= '+str(n)+'; Theoretical - Ramirez etal. 2021')\n",
    "\n",
    "\n",
    "# W256\n",
    "model1='W579'\n",
    "nMod='Final_Fig1'\n",
    "Idx1=6; Idx2=7; Idx3=8; Idx4=9;  \n",
    "Idx5=10; Idx6=11;\n",
    "\n",
    "## -- Tiempo del ultimo --\n",
    "myUnit1='kyr'\n",
    "LastTime1=ds_Gall[Idx1].time_unit.in_units(myUnit1)\n",
    "LastTime1=round(LastTime1.item(0))*0.0\n",
    "## --\n",
    "LastTime2=ds_Gall[Idx2].time_unit.in_units(myUnit1)\n",
    "LastTime2=round(LastTime2.item(0))*0.05\n",
    "## --\n",
    "LastTime3=ds_Gall[Idx3].time_unit.in_units(myUnit1)\n",
    "LastTime3=round(LastTime3.item(0))*0.1\n",
    "## --\n",
    "LastTime4=ds_Gall[Idx4].time_unit.in_units(myUnit1)\n",
    "LastTime4=round(LastTime4.item(0))*0.15\n",
    "## --\n",
    "LastTime5=ds_Gall[Idx5].time_unit.in_units(myUnit1)\n",
    "LastTime5=round(LastTime5.item(0))*0.2\n",
    "## --\n",
    "\n",
    "\n",
    "\n",
    "## ----- Las imagenes --\n",
    "img2=plotBondiVelRatio(n,rbArr[Idx2],VelbArr[Idx2],model1,str(LastTime2)+' '+myUnit1)\n",
    "img3=plotBondiVelRatio(n,rbArr[Idx3],VelbArr[Idx3],model1,str(LastTime3)+' '+myUnit1)\n",
    "img4=plotBondiVelRatio(n,rbArr[Idx4],VelbArr[Idx4],model1,str(LastTime3)+' '+myUnit1)\n",
    "img5=plotBondiVelRatio(n,rbArr[Idx5],VelbArr[Idx5],model1,str(LastTime5)+' '+myUnit1)\n",
    "\n",
    "\n",
    "plt.savefig(str(model1)+'_'+str(nMod)+'_Vel_Diff_v1.png')"
   ]
  },
  {
   "cell_type": "code",
   "execution_count": 44,
   "id": "08853d08",
   "metadata": {},
   "outputs": [
    {
     "data": {
      "image/png": "[encoded data removed]",
      "text/plain": [
       "<Figure size 576x576 with 1 Axes>"
      ]
     },
     "metadata": {
      "needs_background": "light"
     },
     "output_type": "display_data"
    }
   ],
   "source": [
    "plt.xscale(\"log\")\n",
    "#plt.figure(figsize=(8,6))\n",
    "\n",
    "n=1\n",
    "plt.plot(xIso,MIso,'black', \n",
    "         label='$\\gamma$= '+str(n)+'; Theoretical - Ramirez etal. 2021')\n",
    "\n",
    "\n",
    "# W256\n",
    "model1='W579'\n",
    "nMod='Final_Fig1'\n",
    "Idx1=6; Idx2=7; Idx3=8; Idx4=9;  \n",
    "Idx5=10; Idx6=11;\n",
    "\n",
    "## -- Tiempo del ultimo --\n",
    "myUnit1='kyr'\n",
    "LastTime1=ds_Gall[Idx1].time_unit.in_units(myUnit1)\n",
    "LastTime1=round(LastTime1.item(0))*0.0\n",
    "## --\n",
    "LastTime2=ds_Gall[Idx2].time_unit.in_units(myUnit1)\n",
    "LastTime2=round(LastTime2.item(0))*0.05\n",
    "## --\n",
    "LastTime3=ds_Gall[Idx3].time_unit.in_units(myUnit1)\n",
    "LastTime3=round(LastTime3.item(0))*0.1\n",
    "## --\n",
    "LastTime4=ds_Gall[Idx4].time_unit.in_units(myUnit1)\n",
    "LastTime4=round(LastTime4.item(0)*0.15)\n",
    "## --\n",
    "LastTime5=ds_Gall[Idx5].time_unit.in_units(myUnit1)\n",
    "LastTime5=round(LastTime5.item(0))*0.2\n",
    "## --\n",
    "\n",
    "\n",
    "\n",
    "## ----- Las imagenes --\n",
    "img2=plotBondiVelIndi(n,rbArr[Idx2],VelbArr[Idx2],model1,str(LastTime2)+' '+myUnit1)\n",
    "img3=plotBondiVelIndi(n,rbArr[Idx3],VelbArr[Idx3],model1,str(LastTime3)+' '+myUnit1)\n",
    "img4=plotBondiVelIndi(n,rbArr[Idx4],VelbArr[Idx4],model1,str(LastTime4)+' '+myUnit1)\n",
    "img5=plotBondiVelIndi(n,rbArr[Idx5],VelbArr[Idx5],model1,str(LastTime5)+' '+myUnit1)\n",
    "\n",
    "\n",
    "plt.savefig(str(model1)+'_'+str(nMod)+'_Vel_v1.png')"
   ]
  },
  {
   "cell_type": "markdown",
   "id": "32878eac",
   "metadata": {},
   "source": [
    "# W1000"
   ]
  },
  {
   "cell_type": "code",
   "execution_count": 35,
   "id": "c2ad6272",
   "metadata": {},
   "outputs": [
    {
     "data": {
      "image/png": "[encoded data removed]",
      "text/plain": [
       "<Figure size 576x216 with 1 Axes>"
      ]
     },
     "metadata": {
      "needs_background": "light"
     },
     "output_type": "display_data"
    }
   ],
   "source": [
    "# plt.xscale(\"log\")\n",
    "plt.figure(figsize=(8,3))\n",
    "\n",
    "n=1\n",
    "#plt.plot(xIso,MIso,'blue', \n",
    "#         label='$\\gamma$= '+str(n)+'; Theoretical - Ramirez etal. 2021')\n",
    "\n",
    "\n",
    "# W256\n",
    "model1='W1000'\n",
    "nMod='Final_Fig1'\n",
    "Idx1=12; Idx2=13; Idx3=14; Idx4=15;  \n",
    "Idx5=16; Idx6=17;\n",
    "\n",
    "## -- Tiempo del ultimo --\n",
    "myUnit1='kyr'\n",
    "LastTime1=ds_Gall[Idx1].time_unit.in_units(myUnit1)\n",
    "LastTime1=round(LastTime1.item(0))*0.0\n",
    "## --\n",
    "LastTime2=ds_Gall[Idx2].time_unit.in_units(myUnit1)\n",
    "LastTime2=round(LastTime2.item(0))*0.05\n",
    "## --\n",
    "LastTime3=ds_Gall[Idx3].time_unit.in_units(myUnit1)\n",
    "LastTime3=round(LastTime3.item(0))*0.1\n",
    "## --\n",
    "LastTime4=ds_Gall[Idx4].time_unit.in_units(myUnit1)\n",
    "LastTime4=round(LastTime4.item(0))*0.15\n",
    "## --\n",
    "LastTime5=ds_Gall[Idx5].time_unit.in_units(myUnit1)\n",
    "LastTime5=round(LastTime5.item(0))*0.2\n",
    "## --\n",
    "\n",
    "\n",
    "\n",
    "## ----- Las imagenes --\n",
    "img2=plotBondiVelRatio(n,rbArr[Idx2],VelbArr[Idx2],model1,str(LastTime2)+' '+myUnit1)\n",
    "img3=plotBondiVelRatio(n,rbArr[Idx3],VelbArr[Idx3],model1,str(LastTime3)+' '+myUnit1)\n",
    "img4=plotBondiVelRatio(n,rbArr[Idx4],VelbArr[Idx4],model1,'22.4'+' '+myUnit1)\n",
    "img5=plotBondiVelRatio(n,rbArr[Idx5],VelbArr[Idx5],model1,str(LastTime5)+' '+myUnit1)\n",
    "\n",
    "\n",
    "plt.savefig(str(model1)+'_'+str(nMod)+'_Vel_Diff_v1.png')"
   ]
  },
  {
   "cell_type": "code",
   "execution_count": 45,
   "id": "01afabba",
   "metadata": {},
   "outputs": [
    {
     "data": {
      "image/png": "[encoded data removed]",
      "text/plain": [
       "<Figure size 576x576 with 1 Axes>"
      ]
     },
     "metadata": {
      "needs_background": "light"
     },
     "output_type": "display_data"
    }
   ],
   "source": [
    "plt.xscale(\"log\")\n",
    "#plt.figure(figsize=(8,6))\n",
    "\n",
    "n=1\n",
    "plt.plot(xIso,MIso,'black', \n",
    "         label='$\\gamma$= '+str(n)+'; Theoretical - Ramirez etal. 2021')\n",
    "\n",
    "\n",
    "# W1000\n",
    "model1='W1000'\n",
    "nMod='Final_Fig1'\n",
    "Idx1=12; Idx2=13; Idx3=14; Idx4=15;  \n",
    "Idx5=16; Idx6=17;\n",
    "\n",
    "## -- Tiempo del ultimo --\n",
    "myUnit1='kyr'\n",
    "LastTime1=ds_Gall[Idx1].time_unit.in_units(myUnit1)\n",
    "LastTime1=round(LastTime1.item(0))*0.0\n",
    "## --\n",
    "LastTime2=ds_Gall[Idx2].time_unit.in_units(myUnit1)\n",
    "LastTime2=round(LastTime2.item(0))*0.05\n",
    "## --\n",
    "LastTime3=ds_Gall[Idx3].time_unit.in_units(myUnit1)\n",
    "LastTime3=round(LastTime3.item(0))*0.1\n",
    "## --\n",
    "LastTime4=ds_Gall[Idx4].time_unit.in_units(myUnit1)\n",
    "LastTime4=round(LastTime4.item(0)*0.15)\n",
    "## --\n",
    "LastTime5=ds_Gall[Idx5].time_unit.in_units(myUnit1)\n",
    "LastTime5=round(LastTime5.item(0))*0.2\n",
    "## --\n",
    "\n",
    "\n",
    "\n",
    "## ----- Las imagenes --\n",
    "img2=plotBondiVelIndi(n,rbArr[Idx2],VelbArr[Idx2],model1,str(LastTime2)+' '+myUnit1)\n",
    "img3=plotBondiVelIndi(n,rbArr[Idx3],VelbArr[Idx3],model1,str(LastTime3)+' '+myUnit1)\n",
    "img4=plotBondiVelIndi(n,rbArr[Idx4],VelbArr[Idx4],model1,str(LastTime4)+' '+myUnit1)\n",
    "img5=plotBondiVelIndi(n,rbArr[Idx5],VelbArr[Idx5],model1,str(LastTime5)+' '+myUnit1)\n",
    "\n",
    "\n",
    "plt.savefig(str(model1)+'_'+str(nMod)+'_Vel_v1.png')"
   ]
  },
  {
   "cell_type": "markdown",
   "id": "94f689ee",
   "metadata": {},
   "source": [
    "# W 1953"
   ]
  },
  {
   "cell_type": "code",
   "execution_count": 37,
   "id": "ea8f9cc9",
   "metadata": {},
   "outputs": [
    {
     "data": {
      "image/png": "[encoded data removed]",
      "text/plain": [
       "<Figure size 576x216 with 1 Axes>"
      ]
     },
     "metadata": {
      "needs_background": "light"
     },
     "output_type": "display_data"
    }
   ],
   "source": [
    "# plt.xscale(\"log\")\n",
    "plt.figure(figsize=(8,3))\n",
    "\n",
    "n=1\n",
    "#plt.plot(xIso,MIso,'blue', \n",
    "#         label='$\\gamma$= '+str(n)+'; Theoretical - Ramirez etal. 2021')\n",
    "\n",
    "\n",
    "# W256\n",
    "model1='W1953'\n",
    "nMod='Final_Fig1'\n",
    "Idx1=18; Idx2=19; Idx3=20; Idx4=21;  \n",
    "Idx5=22; Idx6=23;\n",
    "\n",
    "## -- Tiempo del ultimo --\n",
    "myUnit1='kyr'\n",
    "LastTime1=ds_Gall[Idx1].time_unit.in_units(myUnit1)\n",
    "LastTime1=round(LastTime1.item(0))*0.0\n",
    "## --\n",
    "LastTime2=ds_Gall[Idx2].time_unit.in_units(myUnit1)\n",
    "LastTime2=round(LastTime2.item(0))*0.05\n",
    "## --\n",
    "LastTime3=ds_Gall[Idx3].time_unit.in_units(myUnit1)\n",
    "LastTime3=round(LastTime3.item(0))*0.1\n",
    "## --\n",
    "LastTime4=ds_Gall[Idx4].time_unit.in_units(myUnit1)\n",
    "LastTime4=round(LastTime4.item(0))*0.15\n",
    "## --\n",
    "LastTime5=ds_Gall[Idx5].time_unit.in_units(myUnit1)\n",
    "LastTime5=round(LastTime5.item(0))*0.2\n",
    "## --\n",
    "\n",
    "\n",
    "\n",
    "## ----- Las imagenes --\n",
    "img2=plotBondiVelRatio(n,rbArr[Idx2],VelbArr[Idx2],model1,str(LastTime2)+' '+myUnit1)\n",
    "img3=plotBondiVelRatio(n,rbArr[Idx3],VelbArr[Idx3],model1,str(LastTime3)+' '+myUnit1)\n",
    "img4=plotBondiVelRatio(n,rbArr[Idx4],VelbArr[Idx4],model1,'22.4'+' '+myUnit1)\n",
    "img5=plotBondiVelRatio(n,rbArr[Idx5],VelbArr[Idx5],model1,str(LastTime5)+' '+myUnit1)\n",
    "\n",
    "\n",
    "plt.savefig(str(model1)+'_'+str(nMod)+'_Vel_Diff_v1.png')"
   ]
  },
  {
   "cell_type": "code",
   "execution_count": 46,
   "id": "53b914f3",
   "metadata": {},
   "outputs": [
    {
     "data": {
      "image/png": "[encoded data removed]",
      "text/plain": [
       "<Figure size 576x576 with 1 Axes>"
      ]
     },
     "metadata": {
      "needs_background": "light"
     },
     "output_type": "display_data"
    }
   ],
   "source": [
    "plt.xscale(\"log\")\n",
    "#plt.figure(figsize=(8,6))\n",
    "\n",
    "n=1\n",
    "plt.plot(xIso,MIso,'black', \n",
    "         label='$\\gamma$= '+str(n)+'; Theoretical - Ramirez etal. 2021')\n",
    "\n",
    "\n",
    "# W256\n",
    "model1='W1953'\n",
    "nMod='Final_Fig1'\n",
    "Idx1=18; Idx2=19; Idx3=20; Idx4=21;  \n",
    "Idx5=22; Idx6=23;\n",
    "\n",
    "## -- Tiempo del ultimo --\n",
    "myUnit1='kyr'\n",
    "## --\n",
    "LastTime2=ds_Gall[Idx2].time_unit.in_units(myUnit1)\n",
    "LastTime2=round(LastTime2.item(0))*0.05\n",
    "## --\n",
    "LastTime3=ds_Gall[Idx3].time_unit.in_units(myUnit1)\n",
    "LastTime3=round(LastTime3.item(0))*0.1\n",
    "## --\n",
    "LastTime4=ds_Gall[Idx4].time_unit.in_units(myUnit1)\n",
    "LastTime4=round(LastTime4.item(0)*0.15)\n",
    "## --\n",
    "LastTime5=ds_Gall[Idx5].time_unit.in_units(myUnit1)\n",
    "LastTime5=round(LastTime5.item(0))*0.2\n",
    "## --\n",
    "\n",
    "\n",
    "\n",
    "## ----- Las imagenes --\n",
    "img2=plotBondiVelIndi(n,rbArr[Idx2],VelbArr[Idx2],model1,str(LastTime2)+' '+myUnit1)\n",
    "img3=plotBondiVelIndi(n,rbArr[Idx3],VelbArr[Idx3],model1,str(LastTime3)+' '+myUnit1)\n",
    "img4=plotBondiVelIndi(n,rbArr[Idx4],VelbArr[Idx4],model1,str(LastTime4)+' '+myUnit1)\n",
    "img5=plotBondiVelIndi(n,rbArr[Idx5],VelbArr[Idx5],model1,str(LastTime5)+' '+myUnit1)\n",
    "\n",
    "\n",
    "plt.savefig(str(model1)+'_'+str(nMod)+'_Vel_v1.png')"
   ]
  },
  {
   "cell_type": "code",
   "execution_count": null,
   "id": "efc856df",
   "metadata": {},
   "outputs": [],
   "source": []
  }
 ],
 "metadata": {
  "kernelspec": {
   "display_name": "vaetf1env",
   "language": "python",
   "name": "vaetf1env"
  },
  "language_info": {
   "codemirror_mode": {
    "name": "ipython",
    "version": 3
   },
   "file_extension": ".py",
   "mimetype": "text/x-python",
   "name": "python",
   "nbconvert_exporter": "python",
   "pygments_lexer": "ipython3",
   "version": "3.8.12"
  }
 },
 "nbformat": 4,
 "nbformat_minor": 5
}
