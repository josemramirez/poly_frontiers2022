{
 "cells": [
  {
   "cell_type": "markdown",
   "id": "f8f7c3e1",
   "metadata": {},
   "source": [
    "# Frontiers, Bondi Eqs. with consistency"
   ]
  },
  {
   "cell_type": "code",
   "execution_count": 1,
   "id": "516b14ea",
   "metadata": {},
   "outputs": [
    {
     "data": {
      "text/plain": [
       "<Figure size 432x288 with 0 Axes>"
      ]
     },
     "metadata": {},
     "output_type": "display_data"
    }
   ],
   "source": [
    "import yt\n",
    "from yt.units import kpc\n",
    "import numpy as np\n",
    "import yt.visualization.eps_writer as eps\n",
    "import matplotlib.pyplot as plt\n",
    "from yt import derived_field\n",
    "from matplotlib import pylab\n",
    "from yt.mods import * # set up our namespace\n",
    "from mpl_toolkits.axes_grid1 import AxesGrid\n",
    "from os.path import exists\n",
    "\n",
    "fig = plt.figure()\n",
    "########################################\n",
    "\n",
    "#### -----\n",
    "def putStyle(sFont,syT,top1,R1):\n",
    "    import matplotlib as mpl\n",
    "    import matplotlib.style as style\n",
    "    style.available\n",
    "\n",
    "    # General plot parameters\n",
    "    mpl.rcParams['font.family'] = 'Avenir'\n",
    "    mpl.rcParams['font.size'] = sFont\n",
    "    mpl.rcParams['axes.linewidth'] = 4\n",
    "    mpl.rcParams['axes.spines.bottom'] = top1\n",
    "    mpl.rcParams['axes.spines.right'] = R1\n",
    "    mpl.rcParams['xtick.major.size'] = 10\n",
    "    mpl.rcParams['xtick.major.width'] = 2\n",
    "    mpl.rcParams['ytick.major.size'] = 10\n",
    "    mpl.rcParams['ytick.major.width'] = syT\n",
    "    mpl.rcParams['lines.linewidth']= 3\n",
    "    mpl.rcParams[\"figure.figsize\"] = (8,8)"
   ]
  },
  {
   "cell_type": "code",
   "execution_count": 2,
   "id": "6c113479",
   "metadata": {},
   "outputs": [],
   "source": [
    "## 10pc\n",
    "Rad0=3.08568e+19\n",
    "Vel00=4.01151e+07\n",
    "Vel0=4.01151e+07 # v1.0=4.44971e7 #\n",
    "\n",
    "\n",
    "unit_base = {'UnitLength_in_cm'         :   Rad0,\n",
    "             'UnitMass_in_g'            :   1.98892e+40,\n",
    "             'UnitVelocity_in_cm_per_s' :   Vel0,\n",
    "             'GravityConstantInternal'  :   0,\n",
    "             }\n",
    "\n",
    "bbox_lim = 20.0 #codelength\n",
    "\n",
    "bbox = [[-bbox_lim,bbox_lim],\n",
    "        [-bbox_lim,bbox_lim],\n",
    "        [-bbox_lim,bbox_lim]]"
   ]
  },
  {
   "cell_type": "code",
   "execution_count": 3,
   "id": "fb651775",
   "metadata": {},
   "outputs": [
    {
     "name": "stderr",
     "output_type": "stream",
     "text": [
      "yt : [INFO     ] 2022-02-24 13:33:03,609 Omega Lambda is 0.0, so we are turning off Cosmology.\n",
      "yt : [INFO     ] 2022-02-24 13:33:03,724 Parameters: current_time              = 0.05\n",
      "yt : [INFO     ] 2022-02-24 13:33:03,725 Parameters: domain_dimensions         = [1 1 1]\n",
      "yt : [INFO     ] 2022-02-24 13:33:03,725 Parameters: domain_left_edge          = [-20. -20. -20.]\n",
      "yt : [INFO     ] 2022-02-24 13:33:03,726 Parameters: domain_right_edge         = [20. 20. 20.]\n",
      "yt : [INFO     ] 2022-02-24 13:33:03,728 Parameters: cosmological_simulation   = 0\n",
      "yt : [INFO     ] 2022-02-24 13:33:03,742 Omega Lambda is 0.0, so we are turning off Cosmology.\n",
      "yt : [INFO     ] 2022-02-24 13:33:03,821 Parameters: current_time              = 0.09999999981373549\n",
      "yt : [INFO     ] 2022-02-24 13:33:03,821 Parameters: domain_dimensions         = [1 1 1]\n",
      "yt : [INFO     ] 2022-02-24 13:33:03,822 Parameters: domain_left_edge          = [-20. -20. -20.]\n",
      "yt : [INFO     ] 2022-02-24 13:33:03,823 Parameters: domain_right_edge         = [20. 20. 20.]\n",
      "yt : [INFO     ] 2022-02-24 13:33:03,823 Parameters: cosmological_simulation   = 0\n",
      "yt : [INFO     ] 2022-02-24 13:33:03,834 Omega Lambda is 0.0, so we are turning off Cosmology.\n",
      "yt : [INFO     ] 2022-02-24 13:33:03,915 Parameters: current_time              = 0.1499999998137355\n",
      "yt : [INFO     ] 2022-02-24 13:33:03,915 Parameters: domain_dimensions         = [1 1 1]\n",
      "yt : [INFO     ] 2022-02-24 13:33:03,916 Parameters: domain_left_edge          = [-20. -20. -20.]\n",
      "yt : [INFO     ] 2022-02-24 13:33:03,917 Parameters: domain_right_edge         = [20. 20. 20.]\n",
      "yt : [INFO     ] 2022-02-24 13:33:03,918 Parameters: cosmological_simulation   = 0\n"
     ]
    },
    {
     "name": "stdout",
     "output_type": "stream",
     "text": [
      "snapshot_0005\n",
      "snapshot_0010\n",
      "snapshot_0015\n"
     ]
    },
    {
     "name": "stderr",
     "output_type": "stream",
     "text": [
      "yt : [INFO     ] 2022-02-24 13:33:03,932 Omega Lambda is 0.0, so we are turning off Cosmology.\n",
      "yt : [INFO     ] 2022-02-24 13:33:03,998 Parameters: current_time              = 0.1899999998509884\n",
      "yt : [INFO     ] 2022-02-24 13:33:03,999 Parameters: domain_dimensions         = [1 1 1]\n",
      "yt : [INFO     ] 2022-02-24 13:33:04,000 Parameters: domain_left_edge          = [-20. -20. -20.]\n",
      "yt : [INFO     ] 2022-02-24 13:33:04,001 Parameters: domain_right_edge         = [20. 20. 20.]\n",
      "yt : [INFO     ] 2022-02-24 13:33:04,001 Parameters: cosmological_simulation   = 0\n",
      "yt : [INFO     ] 2022-02-24 13:33:04,023 Omega Lambda is 0.0, so we are turning off Cosmology.\n",
      "yt : [INFO     ] 2022-02-24 13:33:04,085 Parameters: current_time              = 0.05\n",
      "yt : [INFO     ] 2022-02-24 13:33:04,085 Parameters: domain_dimensions         = [1 1 1]\n",
      "yt : [INFO     ] 2022-02-24 13:33:04,086 Parameters: domain_left_edge          = [-20. -20. -20.]\n",
      "yt : [INFO     ] 2022-02-24 13:33:04,087 Parameters: domain_right_edge         = [20. 20. 20.]\n",
      "yt : [INFO     ] 2022-02-24 13:33:04,088 Parameters: cosmological_simulation   = 0\n",
      "yt : [INFO     ] 2022-02-24 13:33:04,098 Omega Lambda is 0.0, so we are turning off Cosmology.\n",
      "yt : [INFO     ] 2022-02-24 13:33:04,158 Parameters: current_time              = 0.09999999981373549\n",
      "yt : [INFO     ] 2022-02-24 13:33:04,159 Parameters: domain_dimensions         = [1 1 1]\n",
      "yt : [INFO     ] 2022-02-24 13:33:04,159 Parameters: domain_left_edge          = [-20. -20. -20.]\n",
      "yt : [INFO     ] 2022-02-24 13:33:04,160 Parameters: domain_right_edge         = [20. 20. 20.]\n",
      "yt : [INFO     ] 2022-02-24 13:33:04,161 Parameters: cosmological_simulation   = 0\n",
      "yt : [INFO     ] 2022-02-24 13:33:04,173 Omega Lambda is 0.0, so we are turning off Cosmology.\n"
     ]
    },
    {
     "name": "stdout",
     "output_type": "stream",
     "text": [
      "snapshot_0019\n",
      "snapshot_0005\n",
      "snapshot_0010\n"
     ]
    },
    {
     "name": "stderr",
     "output_type": "stream",
     "text": [
      "yt : [INFO     ] 2022-02-24 13:33:04,234 Parameters: current_time              = 0.1499999998137355\n",
      "yt : [INFO     ] 2022-02-24 13:33:04,235 Parameters: domain_dimensions         = [1 1 1]\n",
      "yt : [INFO     ] 2022-02-24 13:33:04,235 Parameters: domain_left_edge          = [-20. -20. -20.]\n",
      "yt : [INFO     ] 2022-02-24 13:33:04,236 Parameters: domain_right_edge         = [20. 20. 20.]\n",
      "yt : [INFO     ] 2022-02-24 13:33:04,237 Parameters: cosmological_simulation   = 0\n",
      "yt : [INFO     ] 2022-02-24 13:33:04,249 Omega Lambda is 0.0, so we are turning off Cosmology.\n",
      "yt : [INFO     ] 2022-02-24 13:33:04,311 Parameters: current_time              = 0.1899999998509884\n",
      "yt : [INFO     ] 2022-02-24 13:33:04,312 Parameters: domain_dimensions         = [1 1 1]\n",
      "yt : [INFO     ] 2022-02-24 13:33:04,312 Parameters: domain_left_edge          = [-20. -20. -20.]\n",
      "yt : [INFO     ] 2022-02-24 13:33:04,313 Parameters: domain_right_edge         = [20. 20. 20.]\n",
      "yt : [INFO     ] 2022-02-24 13:33:04,314 Parameters: cosmological_simulation   = 0\n",
      "yt : [INFO     ] 2022-02-24 13:33:04,334 Omega Lambda is 0.0, so we are turning off Cosmology.\n",
      "yt : [INFO     ] 2022-02-24 13:33:04,399 Parameters: current_time              = 0.05\n",
      "yt : [INFO     ] 2022-02-24 13:33:04,399 Parameters: domain_dimensions         = [1 1 1]\n",
      "yt : [INFO     ] 2022-02-24 13:33:04,400 Parameters: domain_left_edge          = [-20. -20. -20.]\n",
      "yt : [INFO     ] 2022-02-24 13:33:04,401 Parameters: domain_right_edge         = [20. 20. 20.]\n",
      "yt : [INFO     ] 2022-02-24 13:33:04,402 Parameters: cosmological_simulation   = 0\n",
      "yt : [INFO     ] 2022-02-24 13:33:04,412 Omega Lambda is 0.0, so we are turning off Cosmology.\n"
     ]
    },
    {
     "name": "stdout",
     "output_type": "stream",
     "text": [
      "snapshot_0015\n",
      "snapshot_0019\n",
      "snapshot_0005\n"
     ]
    },
    {
     "name": "stderr",
     "output_type": "stream",
     "text": [
      "yt : [INFO     ] 2022-02-24 13:33:04,474 Parameters: current_time              = 0.09999999981373549\n",
      "yt : [INFO     ] 2022-02-24 13:33:04,475 Parameters: domain_dimensions         = [1 1 1]\n",
      "yt : [INFO     ] 2022-02-24 13:33:04,475 Parameters: domain_left_edge          = [-20. -20. -20.]\n",
      "yt : [INFO     ] 2022-02-24 13:33:04,476 Parameters: domain_right_edge         = [20. 20. 20.]\n",
      "yt : [INFO     ] 2022-02-24 13:33:04,477 Parameters: cosmological_simulation   = 0\n",
      "yt : [INFO     ] 2022-02-24 13:33:04,487 Omega Lambda is 0.0, so we are turning off Cosmology.\n",
      "yt : [INFO     ] 2022-02-24 13:33:04,551 Parameters: current_time              = 0.1499999998137355\n",
      "yt : [INFO     ] 2022-02-24 13:33:04,551 Parameters: domain_dimensions         = [1 1 1]\n",
      "yt : [INFO     ] 2022-02-24 13:33:04,552 Parameters: domain_left_edge          = [-20. -20. -20.]\n",
      "yt : [INFO     ] 2022-02-24 13:33:04,553 Parameters: domain_right_edge         = [20. 20. 20.]\n",
      "yt : [INFO     ] 2022-02-24 13:33:04,554 Parameters: cosmological_simulation   = 0\n",
      "yt : [INFO     ] 2022-02-24 13:33:04,563 Omega Lambda is 0.0, so we are turning off Cosmology.\n",
      "yt : [INFO     ] 2022-02-24 13:33:04,624 Parameters: current_time              = 0.1899999998509884\n",
      "yt : [INFO     ] 2022-02-24 13:33:04,625 Parameters: domain_dimensions         = [1 1 1]\n",
      "yt : [INFO     ] 2022-02-24 13:33:04,625 Parameters: domain_left_edge          = [-20. -20. -20.]\n",
      "yt : [INFO     ] 2022-02-24 13:33:04,626 Parameters: domain_right_edge         = [20. 20. 20.]\n",
      "yt : [INFO     ] 2022-02-24 13:33:04,627 Parameters: cosmological_simulation   = 0\n",
      "yt : [INFO     ] 2022-02-24 13:33:04,647 Omega Lambda is 0.0, so we are turning off Cosmology.\n"
     ]
    },
    {
     "name": "stdout",
     "output_type": "stream",
     "text": [
      "snapshot_0010\n",
      "snapshot_0015\n",
      "snapshot_0019\n"
     ]
    },
    {
     "name": "stderr",
     "output_type": "stream",
     "text": [
      "yt : [INFO     ] 2022-02-24 13:33:04,709 Parameters: current_time              = 0.05\n",
      "yt : [INFO     ] 2022-02-24 13:33:04,710 Parameters: domain_dimensions         = [1 1 1]\n",
      "yt : [INFO     ] 2022-02-24 13:33:04,710 Parameters: domain_left_edge          = [-20. -20. -20.]\n",
      "yt : [INFO     ] 2022-02-24 13:33:04,711 Parameters: domain_right_edge         = [20. 20. 20.]\n",
      "yt : [INFO     ] 2022-02-24 13:33:04,712 Parameters: cosmological_simulation   = 0\n",
      "yt : [INFO     ] 2022-02-24 13:33:04,722 Omega Lambda is 0.0, so we are turning off Cosmology.\n",
      "yt : [INFO     ] 2022-02-24 13:33:04,781 Parameters: current_time              = 0.09999999981373549\n",
      "yt : [INFO     ] 2022-02-24 13:33:04,782 Parameters: domain_dimensions         = [1 1 1]\n",
      "yt : [INFO     ] 2022-02-24 13:33:04,783 Parameters: domain_left_edge          = [-20. -20. -20.]\n",
      "yt : [INFO     ] 2022-02-24 13:33:04,784 Parameters: domain_right_edge         = [20. 20. 20.]\n",
      "yt : [INFO     ] 2022-02-24 13:33:04,784 Parameters: cosmological_simulation   = 0\n",
      "yt : [INFO     ] 2022-02-24 13:33:04,796 Omega Lambda is 0.0, so we are turning off Cosmology.\n",
      "yt : [INFO     ] 2022-02-24 13:33:04,856 Parameters: current_time              = 0.1499999998137355\n",
      "yt : [INFO     ] 2022-02-24 13:33:04,857 Parameters: domain_dimensions         = [1 1 1]\n",
      "yt : [INFO     ] 2022-02-24 13:33:04,858 Parameters: domain_left_edge          = [-20. -20. -20.]\n",
      "yt : [INFO     ] 2022-02-24 13:33:04,858 Parameters: domain_right_edge         = [20. 20. 20.]\n",
      "yt : [INFO     ] 2022-02-24 13:33:04,859 Parameters: cosmological_simulation   = 0\n",
      "yt : [INFO     ] 2022-02-24 13:33:04,869 Omega Lambda is 0.0, so we are turning off Cosmology.\n"
     ]
    },
    {
     "name": "stdout",
     "output_type": "stream",
     "text": [
      "snapshot_0005\n",
      "snapshot_0010\n",
      "snapshot_0015\n"
     ]
    },
    {
     "name": "stderr",
     "output_type": "stream",
     "text": [
      "yt : [INFO     ] 2022-02-24 13:33:04,929 Parameters: current_time              = 0.1899999998509884\n",
      "yt : [INFO     ] 2022-02-24 13:33:04,930 Parameters: domain_dimensions         = [1 1 1]\n",
      "yt : [INFO     ] 2022-02-24 13:33:04,930 Parameters: domain_left_edge          = [-20. -20. -20.]\n",
      "yt : [INFO     ] 2022-02-24 13:33:04,931 Parameters: domain_right_edge         = [20. 20. 20.]\n",
      "yt : [INFO     ] 2022-02-24 13:33:04,932 Parameters: cosmological_simulation   = 0\n"
     ]
    },
    {
     "name": "stdout",
     "output_type": "stream",
     "text": [
      "snapshot_0019\n"
     ]
    }
   ],
   "source": [
    "### --\n",
    "### Directorio de la simulacion!!!--- ###############################################\n",
    "sim_dir1=\"./all_aciis_0/\"\n",
    "sim_dir2=\"./all_aciis_1/\"\n",
    "sim_dir3=\"./all_aciis_2/\"\n",
    "sim_dir4=\"./all_aciis_3/\"\n",
    "\n",
    "\n",
    "sim_Gen=[sim_dir1, sim_dir2, sim_dir3, sim_dir4]\n",
    "#####################################################################################\n",
    "\n",
    "### Finalmente levanto la data!!--\n",
    "#######################################\n",
    "\n",
    "ds_Gall=[]\n",
    "\n",
    "## 2 loops--\n",
    "for k in sim_Gen:\n",
    "### G11 Particles!!--\n",
    "    for i in range(0,1001):\n",
    "        if i<10: fn = k+\"snapshot_000%i\" % i\n",
    "        if i >=10 and i<100: fn = k+\"snapshot_00%i\" % i\n",
    "        if i>100 and i<1000: fn = k+\"snapshot_0%i\" % i\n",
    "            \n",
    "        if exists(fn):\n",
    "            dt = yt.load(fn,\n",
    "                unit_base=unit_base,  ## -- No voy a override the units. Take them from the file\n",
    "                bounding_box=bbox)\n",
    "            ###\n",
    "            ds_Gall.append(dt)\n",
    "            print(dt)\n",
    "    #######################################\n",
    "    #######################################"
   ]
  },
  {
   "cell_type": "code",
   "execution_count": 4,
   "id": "321650b2",
   "metadata": {},
   "outputs": [
    {
     "data": {
      "text/plain": [
       "16"
      ]
     },
     "execution_count": 4,
     "metadata": {},
     "output_type": "execute_result"
    }
   ],
   "source": [
    "len(ds_Gall)"
   ]
  },
  {
   "cell_type": "markdown",
   "id": "3442bcd6",
   "metadata": {},
   "source": [
    "# Extracting the data --"
   ]
  },
  {
   "cell_type": "code",
   "execution_count": 5,
   "id": "fccbe9a3",
   "metadata": {},
   "outputs": [
    {
     "data": {
      "text/plain": [
       "unyt_quantity(3.08568e+19, 'cm')"
      ]
     },
     "execution_count": 5,
     "metadata": {},
     "output_type": "execute_result"
    }
   ],
   "source": [
    "Idx=0\n",
    "ds_Gall[Idx].length_unit.to('cm')"
   ]
  },
  {
   "cell_type": "code",
   "execution_count": 6,
   "id": "37bdd2e5",
   "metadata": {},
   "outputs": [
    {
     "data": {
      "text/plain": [
       "['snapshot_0015',\n",
       " 'snapshot_0005',\n",
       " 'parameters-usedvalues',\n",
       " 'snapshot_0010',\n",
       " 'snapshot_0019']"
      ]
     },
     "execution_count": 6,
     "metadata": {},
     "output_type": "execute_result"
    }
   ],
   "source": [
    "from os import listdir\n",
    "listdir(sim_dir2)"
   ]
  },
  {
   "cell_type": "code",
   "execution_count": 7,
   "id": "a77a228c",
   "metadata": {},
   "outputs": [
    {
     "data": {
      "text/plain": [
       "[GadgetDataset: all_aciis_0/snapshot_0005,\n",
       " GadgetDataset: all_aciis_0/snapshot_0010,\n",
       " GadgetDataset: all_aciis_0/snapshot_0015,\n",
       " GadgetDataset: all_aciis_0/snapshot_0019,\n",
       " GadgetDataset: all_aciis_1/snapshot_0005,\n",
       " GadgetDataset: all_aciis_1/snapshot_0010,\n",
       " GadgetDataset: all_aciis_1/snapshot_0015,\n",
       " GadgetDataset: all_aciis_1/snapshot_0019,\n",
       " GadgetDataset: all_aciis_2/snapshot_0005,\n",
       " GadgetDataset: all_aciis_2/snapshot_0010,\n",
       " GadgetDataset: all_aciis_2/snapshot_0015,\n",
       " GadgetDataset: all_aciis_2/snapshot_0019,\n",
       " GadgetDataset: all_aciis_3/snapshot_0005,\n",
       " GadgetDataset: all_aciis_3/snapshot_0010,\n",
       " GadgetDataset: all_aciis_3/snapshot_0015,\n",
       " GadgetDataset: all_aciis_3/snapshot_0019]"
      ]
     },
     "execution_count": 7,
     "metadata": {},
     "output_type": "execute_result"
    }
   ],
   "source": [
    "ds_Gall"
   ]
  },
  {
   "cell_type": "code",
   "execution_count": 8,
   "id": "d6d52b4c",
   "metadata": {},
   "outputs": [
    {
     "name": "stderr",
     "output_type": "stream",
     "text": [
      "yt : [INFO     ] 2022-02-24 13:33:11,974 Allocating for 1.328e+05 particles\n"
     ]
    },
    {
     "name": "stdout",
     "output_type": "stream",
     "text": [
      "0\n",
      "1\n",
      "2\n"
     ]
    },
    {
     "name": "stderr",
     "output_type": "stream",
     "text": [
      "yt : [INFO     ] 2022-02-24 13:33:23,165 Allocating for 3.349e+05 particles\n"
     ]
    },
    {
     "name": "stdout",
     "output_type": "stream",
     "text": [
      "3\n"
     ]
    },
    {
     "name": "stderr",
     "output_type": "stream",
     "text": [
      "Initializing coarse index : 100%|███████████████| 2/2 [00:00<00:00, 28.31it/s]\n",
      "yt : [INFO     ] 2022-02-24 13:33:23,260 Updating index_order2 from 2 to 2\n",
      "Initializing refined index: 100%|███████████████| 2/2 [00:00<00:00,  3.92it/s]\n",
      "yt : [INFO     ] 2022-02-24 13:33:23,791 Allocating for 3.349e+05 particles\n",
      "Initializing coarse index : 100%|███████████████| 2/2 [00:00<00:00, 31.50it/s]\n",
      "yt : [INFO     ] 2022-02-24 13:33:23,861 Updating index_order2 from 2 to 2\n",
      "Initializing refined index: 100%|███████████████| 2/2 [00:00<00:00,  4.03it/s]\n",
      "yt : [INFO     ] 2022-02-24 13:33:27,367 Allocating for 3.349e+05 particles\n"
     ]
    },
    {
     "name": "stdout",
     "output_type": "stream",
     "text": [
      "4\n"
     ]
    },
    {
     "name": "stderr",
     "output_type": "stream",
     "text": [
      "Initializing coarse index : 100%|███████████████| 2/2 [00:00<00:00, 30.47it/s]\n",
      "yt : [INFO     ] 2022-02-24 13:33:27,436 Updating index_order2 from 2 to 2\n",
      "Initializing refined index: 100%|███████████████| 2/2 [00:00<00:00,  3.66it/s]\n",
      "yt : [INFO     ] 2022-02-24 13:33:28,014 Allocating for 3.349e+05 particles\n",
      "Initializing coarse index : 100%|███████████████| 2/2 [00:00<00:00, 30.22it/s]\n",
      "yt : [INFO     ] 2022-02-24 13:33:28,085 Updating index_order2 from 2 to 2\n",
      "Initializing refined index: 100%|███████████████| 2/2 [00:00<00:00,  3.57it/s]\n",
      "yt : [INFO     ] 2022-02-24 13:33:31,519 Allocating for 3.349e+05 particles\n"
     ]
    },
    {
     "name": "stdout",
     "output_type": "stream",
     "text": [
      "5\n"
     ]
    },
    {
     "name": "stderr",
     "output_type": "stream",
     "text": [
      "Initializing coarse index : 100%|███████████████| 2/2 [00:00<00:00, 30.86it/s]\n",
      "yt : [INFO     ] 2022-02-24 13:33:31,588 Updating index_order2 from 2 to 2\n",
      "Initializing refined index: 100%|███████████████| 2/2 [00:00<00:00,  3.43it/s]\n",
      "yt : [INFO     ] 2022-02-24 13:33:32,205 Allocating for 3.349e+05 particles\n",
      "Initializing coarse index : 100%|███████████████| 2/2 [00:00<00:00, 32.63it/s]\n",
      "yt : [INFO     ] 2022-02-24 13:33:32,271 Updating index_order2 from 2 to 2\n",
      "Initializing refined index: 100%|███████████████| 2/2 [00:00<00:00,  3.53it/s]\n",
      "yt : [INFO     ] 2022-02-24 13:33:35,639 Allocating for 3.349e+05 particles\n"
     ]
    },
    {
     "name": "stdout",
     "output_type": "stream",
     "text": [
      "6\n"
     ]
    },
    {
     "name": "stderr",
     "output_type": "stream",
     "text": [
      "Initializing coarse index : 100%|███████████████| 2/2 [00:00<00:00, 31.72it/s]\n",
      "yt : [INFO     ] 2022-02-24 13:33:35,707 Updating index_order2 from 2 to 2\n",
      "Initializing refined index: 100%|███████████████| 2/2 [00:00<00:00,  3.40it/s]\n",
      "yt : [INFO     ] 2022-02-24 13:33:36,331 Allocating for 3.349e+05 particles\n",
      "Initializing coarse index : 100%|███████████████| 2/2 [00:00<00:00, 31.29it/s]\n",
      "yt : [INFO     ] 2022-02-24 13:33:36,400 Updating index_order2 from 2 to 2\n",
      "Initializing refined index: 100%|███████████████| 2/2 [00:00<00:00,  3.41it/s]\n",
      "yt : [INFO     ] 2022-02-24 13:33:39,794 Allocating for 1.000e+06 particles\n"
     ]
    },
    {
     "name": "stdout",
     "output_type": "stream",
     "text": [
      "7\n"
     ]
    },
    {
     "name": "stderr",
     "output_type": "stream",
     "text": [
      "Initializing coarse index : 100%|███████████████| 4/4 [00:00<00:00, 28.67it/s]\n",
      "yt : [INFO     ] 2022-02-24 13:33:39,938 Updating index_order2 from 2 to 2\n",
      "Initializing refined index: 100%|███████████████| 4/4 [00:00<00:00,  4.28it/s]\n",
      "yt : [INFO     ] 2022-02-24 13:33:40,903 Allocating for 1.000e+06 particles\n",
      "Initializing coarse index : 100%|███████████████| 4/4 [00:00<00:00, 31.10it/s]\n",
      "yt : [INFO     ] 2022-02-24 13:33:41,036 Updating index_order2 from 2 to 2\n",
      "Initializing refined index: 100%|███████████████| 4/4 [00:00<00:00,  4.31it/s]\n"
     ]
    },
    {
     "name": "stdout",
     "output_type": "stream",
     "text": [
      "8\n"
     ]
    },
    {
     "name": "stderr",
     "output_type": "stream",
     "text": [
      "yt : [INFO     ] 2022-02-24 13:33:45,443 Allocating for 1.000e+06 particles\n",
      "Initializing coarse index : 100%|███████████████| 4/4 [00:00<00:00, 29.40it/s]\n",
      "yt : [INFO     ] 2022-02-24 13:33:45,583 Updating index_order2 from 2 to 2\n",
      "Initializing refined index: 100%|███████████████| 4/4 [00:01<00:00,  3.83it/s]\n",
      "yt : [INFO     ] 2022-02-24 13:33:46,666 Allocating for 1.000e+06 particles\n",
      "Initializing coarse index : 100%|███████████████| 4/4 [00:00<00:00, 31.78it/s]\n",
      "yt : [INFO     ] 2022-02-24 13:33:46,797 Updating index_order2 from 2 to 2\n",
      "Initializing refined index: 100%|███████████████| 4/4 [00:01<00:00,  3.84it/s]\n"
     ]
    },
    {
     "name": "stdout",
     "output_type": "stream",
     "text": [
      "9\n"
     ]
    },
    {
     "name": "stderr",
     "output_type": "stream",
     "text": [
      "yt : [INFO     ] 2022-02-24 13:33:51,028 Allocating for 1.000e+06 particles\n",
      "Initializing coarse index : 100%|███████████████| 4/4 [00:00<00:00, 28.47it/s]\n",
      "yt : [INFO     ] 2022-02-24 13:33:51,173 Updating index_order2 from 2 to 2\n",
      "Initializing refined index: 100%|███████████████| 4/4 [00:01<00:00,  3.68it/s]\n",
      "yt : [INFO     ] 2022-02-24 13:33:52,295 Allocating for 1.000e+06 particles\n",
      "Initializing coarse index : 100%|███████████████| 4/4 [00:00<00:00, 31.33it/s]\n",
      "yt : [INFO     ] 2022-02-24 13:33:52,427 Updating index_order2 from 2 to 2\n",
      "Initializing refined index: 100%|███████████████| 4/4 [00:01<00:00,  3.72it/s]\n"
     ]
    },
    {
     "name": "stdout",
     "output_type": "stream",
     "text": [
      "10\n"
     ]
    },
    {
     "name": "stderr",
     "output_type": "stream",
     "text": [
      "yt : [INFO     ] 2022-02-24 13:33:56,767 Allocating for 1.000e+06 particles\n",
      "Initializing coarse index : 100%|███████████████| 4/4 [00:00<00:00, 30.24it/s]\n",
      "yt : [INFO     ] 2022-02-24 13:33:56,903 Updating index_order2 from 2 to 2\n",
      "Initializing refined index: 100%|███████████████| 4/4 [00:01<00:00,  3.58it/s]\n",
      "yt : [INFO     ] 2022-02-24 13:33:58,049 Allocating for 1.000e+06 particles\n",
      "Initializing coarse index : 100%|███████████████| 4/4 [00:00<00:00, 29.90it/s]\n",
      "yt : [INFO     ] 2022-02-24 13:33:58,187 Updating index_order2 from 2 to 2\n",
      "Initializing refined index: 100%|███████████████| 4/4 [00:01<00:00,  3.75it/s]\n"
     ]
    },
    {
     "name": "stdout",
     "output_type": "stream",
     "text": [
      "11\n"
     ]
    },
    {
     "name": "stderr",
     "output_type": "stream",
     "text": [
      "yt : [INFO     ] 2022-02-24 13:34:02,626 Allocating for 3.815e+06 particles\n",
      "Initializing coarse index : 100%|█████████████| 15/15 [00:00<00:00, 39.03it/s]\n",
      "yt : [INFO     ] 2022-02-24 13:34:03,015 Updating index_order2 from 2 to 2\n",
      "Initializing refined index: 100%|█████████████| 15/15 [00:02<00:00,  5.87it/s]\n",
      "yt : [INFO     ] 2022-02-24 13:34:05,603 Allocating for 3.815e+06 particles\n",
      "Initializing coarse index : 100%|█████████████| 15/15 [00:00<00:00, 40.10it/s]\n",
      "yt : [INFO     ] 2022-02-24 13:34:05,982 Updating index_order2 from 2 to 2\n",
      "Initializing refined index: 100%|█████████████| 15/15 [00:02<00:00,  5.86it/s]\n"
     ]
    },
    {
     "name": "stdout",
     "output_type": "stream",
     "text": [
      "12\n"
     ]
    },
    {
     "name": "stderr",
     "output_type": "stream",
     "text": [
      "yt : [INFO     ] 2022-02-24 13:34:14,120 Allocating for 3.815e+06 particles\n",
      "Initializing coarse index : 100%|█████████████| 15/15 [00:00<00:00, 38.68it/s]\n",
      "yt : [INFO     ] 2022-02-24 13:34:14,512 Updating index_order2 from 2 to 2\n",
      "Initializing refined index: 100%|█████████████| 15/15 [00:02<00:00,  5.87it/s]\n",
      "yt : [INFO     ] 2022-02-24 13:34:17,104 Allocating for 3.815e+06 particles\n",
      "Initializing coarse index : 100%|█████████████| 15/15 [00:00<00:00, 41.38it/s]\n",
      "yt : [INFO     ] 2022-02-24 13:34:17,472 Updating index_order2 from 2 to 2\n",
      "Initializing refined index: 100%|█████████████| 15/15 [00:02<00:00,  5.98it/s]\n"
     ]
    },
    {
     "name": "stdout",
     "output_type": "stream",
     "text": [
      "13\n"
     ]
    },
    {
     "name": "stderr",
     "output_type": "stream",
     "text": [
      "yt : [INFO     ] 2022-02-24 13:34:25,047 Allocating for 3.815e+06 particles\n",
      "Initializing coarse index : 100%|█████████████| 15/15 [00:00<00:00, 41.89it/s]\n",
      "yt : [INFO     ] 2022-02-24 13:34:25,409 Updating index_order2 from 2 to 2\n",
      "Initializing refined index: 100%|█████████████| 15/15 [00:02<00:00,  5.87it/s]\n",
      "yt : [INFO     ] 2022-02-24 13:34:27,994 Allocating for 3.815e+06 particles\n",
      "Initializing coarse index : 100%|█████████████| 15/15 [00:00<00:00, 41.28it/s]\n",
      "yt : [INFO     ] 2022-02-24 13:34:28,363 Updating index_order2 from 2 to 2\n",
      "Initializing refined index: 100%|█████████████| 15/15 [00:02<00:00,  5.90it/s]\n"
     ]
    },
    {
     "name": "stdout",
     "output_type": "stream",
     "text": [
      "14\n"
     ]
    },
    {
     "name": "stderr",
     "output_type": "stream",
     "text": [
      "yt : [INFO     ] 2022-02-24 13:34:35,803 Allocating for 3.815e+06 particles\n",
      "Initializing coarse index : 100%|█████████████| 15/15 [00:00<00:00, 43.09it/s]\n",
      "yt : [INFO     ] 2022-02-24 13:34:36,155 Updating index_order2 from 2 to 2\n",
      "Initializing refined index: 100%|█████████████| 15/15 [00:02<00:00,  5.86it/s]\n",
      "yt : [INFO     ] 2022-02-24 13:34:38,744 Allocating for 3.815e+06 particles\n",
      "Initializing coarse index : 100%|█████████████| 15/15 [00:00<00:00, 41.44it/s]\n",
      "yt : [INFO     ] 2022-02-24 13:34:39,112 Updating index_order2 from 2 to 2\n",
      "Initializing refined index: 100%|█████████████| 15/15 [00:02<00:00,  5.99it/s]\n"
     ]
    },
    {
     "name": "stdout",
     "output_type": "stream",
     "text": [
      "15\n"
     ]
    }
   ],
   "source": [
    "rhos=[]\n",
    "vels=[]\n",
    "rs=[]\n",
    "## ---------------------------------------------------------\n",
    "for Idx,k in enumerate(ds_Gall):\n",
    "    rhos1 = ds_Gall[Idx].r[\"Gas\", \"Density\"]\n",
    "    rs1 = ds_Gall[Idx].r[\"all\", \"radius\"]/Rad0\n",
    "    print(Idx)\n",
    "    if Idx == 0:\n",
    "        vs1 = ds_Gall[Idx].r[\"all\", \"radial_velocity\"]/Vel00\n",
    "    else:\n",
    "        vs1 = ds_Gall[Idx].r[\"all\", \"radial_velocity\"]/Vel0\n",
    "        \n",
    "    rhos.append(rhos1)\n",
    "    vels.append(vs1)\n",
    "    rs.append(rs1)"
   ]
  },
  {
   "cell_type": "code",
   "execution_count": 9,
   "id": "853ecf73",
   "metadata": {},
   "outputs": [
    {
     "data": {
      "text/plain": [
       "unyt_array([8.44882652e-02, 8.55970085e-02, 9.57767144e-02, ...,\n",
       "            1.12103877e-44, 5.38248000e+07, 5.60509296e-39], 'code_mass/code_length**3')"
      ]
     },
     "execution_count": 9,
     "metadata": {},
     "output_type": "execute_result"
    }
   ],
   "source": [
    "rhos[10]"
   ]
  },
  {
   "cell_type": "markdown",
   "id": "52991714",
   "metadata": {},
   "source": [
    "# Bondi numerically in Python"
   ]
  },
  {
   "cell_type": "code",
   "execution_count": 10,
   "id": "99924fb9",
   "metadata": {
    "code_folding": []
   },
   "outputs": [],
   "source": [
    "from IPython.display import display, Math, Latex\n",
    "import numpy as np\n",
    "np.seterr(divide='ignore', invalid='ignore')\n",
    "\n",
    "%matplotlib inline\n",
    "import matplotlib\n",
    "import matplotlib.pyplot as plt"
   ]
  },
  {
   "cell_type": "code",
   "execution_count": 11,
   "id": "1902e85e",
   "metadata": {
    "code_folding": [
     0,
     16
    ]
   },
   "outputs": [],
   "source": [
    "def plotBondiVelIndi(n,rb,velb,lbs,i):\n",
    "    ## --- Estilo --\n",
    "    putStyle(14,2,True,True)\n",
    "    ## -------------\n",
    "    ## ---\n",
    "    plt.scatter(rb, velb, 2, label=str(lbs)+' $\\gamma$= '+str(n)+' t~'+str(i))\n",
    "    ## ----------------------------------------------------\n",
    "    plt.legend(loc='best')\n",
    "    plt.xlabel(r'$r~(u.c)$')\n",
    "    ## Limits--\n",
    "    plt.xscale(\"log\")\n",
    "    plt.xlim(0.0005,5.1)\n",
    "    plt.ylabel(r'$v_r~(u.c)$')\n",
    "    \n",
    "    plt.ylim(-40,5)\n",
    "\n",
    "def plotBondiRhoIndi(n,rb,rhob,lbs,i):\n",
    "    ## --- Estilo --\n",
    "    putStyle(14,2,True,True)\n",
    "    ## -------------\n",
    "    width=10\n",
    "    rB1s = np.argsort(rb)\n",
    "    rB1 = rb[rB1s]\n",
    "    rB2 = rhob[rB1s]\n",
    "    rBin1 = rB1[:(rB1.size // width) * width].reshape(-1, width).mean(axis=1)\n",
    "    rBin2 = rB2[:(rB2.size // width) * width].reshape(-1, width).mean(axis=1)\n",
    "    ## ---\n",
    "    plt.scatter(rBin1, rBin2, 2, \n",
    "            label=str(lbs)+' $\\gamma$= '+str(n)+' t~'+str(i))\n",
    "    ## ----------------------------------------------------\n",
    "    plt.legend(loc='best')\n",
    "    plt.xlabel(r'$r~(u.c)$')\n",
    "    ## Limits--\n",
    "    plt.xscale(\"log\")\n",
    "    plt.yscale(\"log\")\n",
    "    plt.xlim(0.005,5.1)\n",
    "    plt.ylabel(r'$\\rho~(u.c)$')\n",
    "    plt.ylim(0.1,5)"
   ]
  },
  {
   "cell_type": "markdown",
   "id": "8726ee25",
   "metadata": {},
   "source": [
    "# n -> infty ... Isothermal $\\gamma$ = 1"
   ]
  },
  {
   "cell_type": "code",
   "execution_count": 12,
   "id": "c68e2669",
   "metadata": {},
   "outputs": [
    {
     "data": {
      "text/plain": [
       "array([3.2306117 , 3.23150535, 3.20856248, ..., 3.14978687, 3.22414094,\n",
       "       3.24136839])"
      ]
     },
     "execution_count": 12,
     "metadata": {},
     "output_type": "execute_result"
    }
   ],
   "source": [
    "rs[0].value"
   ]
  },
  {
   "cell_type": "markdown",
   "id": "8fe69d7f",
   "metadata": {},
   "source": [
    "## Creo arreglo de rhos y vels "
   ]
  },
  {
   "cell_type": "code",
   "execution_count": 13,
   "id": "51a99ee1",
   "metadata": {},
   "outputs": [
    {
     "name": "stdout",
     "output_type": "stream",
     "text": [
      "0 133000 132831\n",
      "1 133000 132831\n",
      "2 133000 132831\n",
      "3 133000 132831\n",
      "4 133000 334936\n",
      "5 133000 334936\n",
      "6 334000 334936\n",
      "7 334000 334936\n",
      "8 334000 999980\n",
      "9 334000 999980\n",
      "10 334000 999980\n",
      "11 334000 999980\n",
      "12 990900 3814919\n",
      "13 990900 3814919\n",
      "14 990900 3814919\n",
      "15 990900 3814919\n"
     ]
    }
   ],
   "source": [
    "rbArr=[]\n",
    "VelbArr=[]\n",
    "## ---- Rhos ----------------------------------------------------------------\n",
    "RhobArr=[]\n",
    "## -- version rapida:\n",
    "nro1=[133000,133000,133000,133000,133000,133000,\n",
    "      334000,334000,334000,334000,334000,334000,\n",
    "      990900,990900,990900,990900,990900,990900,\n",
    "      3500000,3500000,3500000,3500000,3500000,3500000]\n",
    "#--\n",
    "for i,(j,k,l) in enumerate(zip(rs,vels,rhos)):\n",
    "    print(i, nro1[i], len(j.value))\n",
    "#--\n",
    "    idx1 = np.random.choice(np.arange(len(j.value)), len(j.value)-1, replace=False)\n",
    "    rb, velb, rhob = j.value[idx1], k.value[idx1], l.value[idx1]\n",
    "    rbArr.append(rb)\n",
    "    VelbArr.append(velb)\n",
    "    RhobArr.append(rhob)"
   ]
  },
  {
   "cell_type": "code",
   "execution_count": 14,
   "id": "c5abbf81",
   "metadata": {},
   "outputs": [
    {
     "name": "stdout",
     "output_type": "stream",
     "text": [
      "Time unit:  24.374686540976548 kyr\n"
     ]
    }
   ],
   "source": [
    "print(\"Time unit: \", ds_Gall[0].time_unit.in_units(\"kyr\"))"
   ]
  },
  {
   "cell_type": "code",
   "execution_count": 15,
   "id": "3c3ecaab",
   "metadata": {},
   "outputs": [
    {
     "data": {
      "text/plain": [
       "[GadgetDataset: all_aciis_0/snapshot_0005,\n",
       " GadgetDataset: all_aciis_0/snapshot_0010,\n",
       " GadgetDataset: all_aciis_0/snapshot_0015,\n",
       " GadgetDataset: all_aciis_0/snapshot_0019,\n",
       " GadgetDataset: all_aciis_1/snapshot_0005,\n",
       " GadgetDataset: all_aciis_1/snapshot_0010,\n",
       " GadgetDataset: all_aciis_1/snapshot_0015,\n",
       " GadgetDataset: all_aciis_1/snapshot_0019,\n",
       " GadgetDataset: all_aciis_2/snapshot_0005,\n",
       " GadgetDataset: all_aciis_2/snapshot_0010,\n",
       " GadgetDataset: all_aciis_2/snapshot_0015,\n",
       " GadgetDataset: all_aciis_2/snapshot_0019,\n",
       " GadgetDataset: all_aciis_3/snapshot_0005,\n",
       " GadgetDataset: all_aciis_3/snapshot_0010,\n",
       " GadgetDataset: all_aciis_3/snapshot_0015,\n",
       " GadgetDataset: all_aciis_3/snapshot_0019]"
      ]
     },
     "execution_count": 15,
     "metadata": {},
     "output_type": "execute_result"
    }
   ],
   "source": [
    "ds_Gall"
   ]
  },
  {
   "cell_type": "code",
   "execution_count": 16,
   "id": "1055eb07",
   "metadata": {},
   "outputs": [
    {
     "name": "stdout",
     "output_type": "stream",
     "text": [
      "0 snapshot_0005\n",
      "1 snapshot_0010\n",
      "2 snapshot_0015\n",
      "3 snapshot_0019\n",
      "4 snapshot_0005\n",
      "5 snapshot_0010\n",
      "6 snapshot_0015\n",
      "7 snapshot_0019\n",
      "8 snapshot_0005\n",
      "9 snapshot_0010\n",
      "10 snapshot_0015\n",
      "11 snapshot_0019\n",
      "12 snapshot_0005\n",
      "13 snapshot_0010\n",
      "14 snapshot_0015\n",
      "15 snapshot_0019\n"
     ]
    }
   ],
   "source": [
    "for i,ds1 in enumerate(ds_Gall):\n",
    "    print(i, ds1)"
   ]
  },
  {
   "cell_type": "markdown",
   "id": "cd2df356",
   "metadata": {},
   "source": [
    "# Gamma = 3/2"
   ]
  },
  {
   "cell_type": "markdown",
   "id": "700f03a3",
   "metadata": {},
   "source": [
    "# Densidades - 4 modelos "
   ]
  },
  {
   "cell_type": "markdown",
   "id": "c16887e1",
   "metadata": {},
   "source": [
    "---"
   ]
  },
  {
   "cell_type": "markdown",
   "id": "02d50084",
   "metadata": {},
   "source": [
    "# Cortes transversales ---"
   ]
  },
  {
   "cell_type": "code",
   "execution_count": 17,
   "id": "7da6436b",
   "metadata": {},
   "outputs": [
    {
     "name": "stdout",
     "output_type": "stream",
     "text": [
      "Object `annotate_timestamp` not found.\n"
     ]
    }
   ],
   "source": [
    "?annotate_timestamp"
   ]
  },
  {
   "cell_type": "code",
   "execution_count": 18,
   "id": "9713c0bc",
   "metadata": {},
   "outputs": [
    {
     "name": "stdout",
     "output_type": "stream",
     "text": [
      "Time unit:  24.374686540976548 kyr\n"
     ]
    }
   ],
   "source": [
    "print(\"Time unit: \", ds_Gall[1].time_unit.in_units(\"kyr\"))"
   ]
  },
  {
   "cell_type": "code",
   "execution_count": 19,
   "id": "878645ed",
   "metadata": {},
   "outputs": [
    {
     "name": "stderr",
     "output_type": "stream",
     "text": [
      "yt : [INFO     ] 2022-02-24 13:36:54,450 xlim = -1.250000 1.250000\n",
      "yt : [INFO     ] 2022-02-24 13:36:54,451 ylim = -1.250000 1.250000\n",
      "yt : [INFO     ] 2022-02-24 13:36:54,452 xlim = -1.250000 1.250000\n",
      "yt : [INFO     ] 2022-02-24 13:36:54,453 ylim = -1.250000 1.250000\n",
      "yt : [INFO     ] 2022-02-24 13:36:54,454 Making a fixed resolution buffer of (('gas', 'density')) 800 by 800\n"
     ]
    },
    {
     "name": "stdout",
     "output_type": "stream",
     "text": [
      "center =  [-1.63637733 -2.05438375  1.86785865] code_length\n",
      "Este es el box:  25.000019598918 pc\n",
      "[-28.86379597 -33.04386345   6.17859133] pc\n",
      "[-3.86377637 -8.04384385 31.17861093] pc\n"
     ]
    },
    {
     "name": "stderr",
     "output_type": "stream",
     "text": [
      "/Users/josem/Desktop/Peiskos2020/CursoVAE101_v1/VAEtf1env/lib/python3.8/site-packages/yt/data_objects/data_containers.py:1421: VisibleDeprecationWarning: The requested field name 'x' is ambiguous and corresponds to any one of the following field types:\n",
      " {'Gas', 'gas', 'all'}\n",
      "Please specify the requested field as an explicit tuple (ftype, fname).\n",
      "Defaulting to '(\"gas\", \"x\")'.\n",
      "Deprecated since v4.0.0. This feature will be removed in v4.1.0\n",
      "  finfo = self.ds._get_field_info(field)\n",
      "yt : [INFO     ] 2022-02-24 13:37:21,682 Making a fixed resolution buffer of (('gas', 'x')) 800 by 800\n",
      "/Users/josem/Desktop/Peiskos2020/CursoVAE101_v1/VAEtf1env/lib/python3.8/site-packages/yt/data_objects/data_containers.py:1421: VisibleDeprecationWarning: The requested field name 'y' is ambiguous and corresponds to any one of the following field types:\n",
      " {'Gas', 'gas', 'all'}\n",
      "Please specify the requested field as an explicit tuple (ftype, fname).\n",
      "Defaulting to '(\"gas\", \"y\")'.\n",
      "Deprecated since v4.0.0. This feature will be removed in v4.1.0\n",
      "  finfo = self.ds._get_field_info(field)\n",
      "yt : [INFO     ] 2022-02-24 13:37:48,749 Making a fixed resolution buffer of (('gas', 'y')) 800 by 800\n",
      "/Users/josem/Desktop/Peiskos2020/CursoVAE101_v1/VAEtf1env/lib/python3.8/site-packages/yt/data_objects/data_containers.py:1421: VisibleDeprecationWarning: The requested field name 'density' is ambiguous and corresponds to any one of the following field types:\n",
      " {'gas', 'all'}\n",
      "Please specify the requested field as an explicit tuple (ftype, fname).\n",
      "Defaulting to '(\"gas\", \"density\")'.\n",
      "Deprecated since v4.0.0. This feature will be removed in v4.1.0\n",
      "  finfo = self.ds._get_field_info(field)\n"
     ]
    },
    {
     "data": {
      "text/html": [
       "<img style=\"max-width:100%;max-height:100%;\" src=\"data:image/png;base64,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\"><br>"
      ],
      "text/plain": [
       "<yt.visualization.plot_window.AxisAlignedSlicePlot at 0x14b48f5b0>"
      ]
     },
     "execution_count": 19,
     "metadata": {},
     "output_type": "execute_result"
    }
   ],
   "source": [
    "Idx = 15\n",
    "myUnit1='kyr'\n",
    "LastTime1=ds_Gall[Idx].time_unit.in_units(myUnit1)\n",
    "LastTime1=round(LastTime1.item(0)*0.19)\n",
    "model1='W1953'\n",
    "\n",
    "\n",
    "ad = ds_Gall[Idx].all_data()\n",
    "### Aqui defino --\n",
    "density = ad[(\"Gas\",\"Density\")]\n",
    "internal= ad[(\"Gas\",\"InternalEnergy\")]\n",
    "\n",
    "#####\n",
    "wdens = np.where(density == np.max(density))\n",
    "coordinates = ad[(\"Gas\",\"Coordinates\")]\n",
    "center = coordinates[wdens][0]\n",
    "print('center = ',center)\n",
    "\n",
    "### Nueva caja\n",
    "new_box_size = ds_Gall[Idx].quan(2.5,'code_length')\n",
    "left_edge = center - new_box_size/2\n",
    "right_edge = center + new_box_size/2\n",
    "\n",
    "print('Este es el box: ', new_box_size.in_units('pc'))\n",
    "print(left_edge.in_units('pc'))\n",
    "print(right_edge.in_units('pc'))\n",
    "\n",
    "#####\n",
    "px = yt.SlicePlot(ds_Gall[Idx], 'z', ('gas', 'density'), \n",
    "#center=[0.,new_box_size/2,new_box_size/2], width=new_box_size,\n",
    "#origin='lower-left-window')\n",
    "center=[0,0,0], width=new_box_size,\n",
    "origin='center-window') #'lower-left-window'\n",
    "px.set_unit('x','code_length')\n",
    "px.set_unit('y','code_length')\n",
    "px.set_unit((\"gas\", \"density\"),'code_density')\n",
    "px.set_cmap(field=\"density\", cmap='jet') ## amfhot,jet\n",
    "\n",
    "\n",
    "\n",
    "px.annotate_text((-.5,.5), \"(c) \"+model1+'; t= '+str(LastTime1)+' '+myUnit1, \n",
    "                 coord_system=\"plot\",\n",
    "                 text_args={\"color\": \"white\", \"size\":26,\n",
    "                           'family': 'sans-serif', \n",
    "                           'style': 'italic'})"
   ]
  },
  {
   "cell_type": "code",
   "execution_count": 20,
   "id": "ba914486",
   "metadata": {},
   "outputs": [
    {
     "name": "stderr",
     "output_type": "stream",
     "text": [
      "yt : [INFO     ] 2022-02-24 13:38:28,412 Saving plot snapshot_0019_Slice_z_density.png\n"
     ]
    },
    {
     "data": {
      "text/plain": [
       "['snapshot_0019_Slice_z_density.png']"
      ]
     },
     "execution_count": 20,
     "metadata": {},
     "output_type": "execute_result"
    }
   ],
   "source": [
    "px.save()"
   ]
  },
  {
   "cell_type": "markdown",
   "id": "b9b35202",
   "metadata": {},
   "source": [
    "# Solving and Plotting semi-Analytical solutions"
   ]
  },
  {
   "cell_type": "code",
   "execution_count": 21,
   "id": "4c80c87e",
   "metadata": {},
   "outputs": [
    {
     "data": {
      "text/plain": [
       "40125489.908945225"
      ]
     },
     "execution_count": 21,
     "metadata": {},
     "output_type": "execute_result"
    }
   ],
   "source": [
    "TX=1.e7\n",
    "pc = 3.08568e+18\n",
    "BOLTZMANN  = 1.3806e-16\n",
    "PROTONMASS = 1.6726e-24\n",
    "HYDROGEN_MASSFRAC = 0.769\n",
    "mass_sun = 1.989e+33  ## g\n",
    "RHO0 = 1.0e-19        ## Density at infty\n",
    "Gnew = 6.672e-8       ##\n",
    "myPI = 3.14159\n",
    "Mbh  = 1.e+8*mass_sun ## Black hole mass\n",
    "## --\n",
    "#Rad0 = 3.08568025e+19 ## cm (10pc)\n",
    "myGamma=1.5\n",
    "## \n",
    "Uvel = np.sqrt((myGamma * BOLTZMANN * TX)/(HYDROGEN_MASSFRAC*PROTONMASS))\n",
    "Uvel"
   ]
  },
  {
   "cell_type": "code",
   "execution_count": 22,
   "id": "da67fc5a",
   "metadata": {},
   "outputs": [
    {
     "data": {
      "text/plain": [
       "0.26711559199873103"
      ]
     },
     "execution_count": 22,
     "metadata": {},
     "output_type": "execute_result"
    }
   ],
   "source": [
    "Rb=Gnew*Mbh/(Uvel*Uvel)  #3.*(Mbh/(1.e+8*mass_sun))/(TX/1.e+7)\n",
    "FactX=Rb/(Rad0)\n",
    "FactX"
   ]
  },
  {
   "cell_type": "markdown",
   "id": "78b77830",
   "metadata": {},
   "source": [
    "# Isothermal Model"
   ]
  },
  {
   "cell_type": "code",
   "execution_count": 23,
   "id": "014a4ea3",
   "metadata": {},
   "outputs": [],
   "source": [
    "with open('../G1/Profiles_G1_v1.txt') as f:\n",
    "    lines1 = f.readlines()"
   ]
  },
  {
   "cell_type": "code",
   "execution_count": 24,
   "id": "6be0e1e6",
   "metadata": {},
   "outputs": [],
   "source": [
    "with open('./Profiles_G3_2_v4.txt') as f:\n",
    "    lines32 = f.readlines()"
   ]
  },
  {
   "cell_type": "code",
   "execution_count": 25,
   "id": "2200901d",
   "metadata": {},
   "outputs": [
    {
     "data": {
      "text/plain": [
       "377463.5610327"
      ]
     },
     "execution_count": 25,
     "metadata": {},
     "output_type": "execute_result"
    }
   ],
   "source": [
    "np.float(lines32[5].split('\\t')[2])"
   ]
  },
  {
   "cell_type": "code",
   "execution_count": 26,
   "id": "d2750569",
   "metadata": {},
   "outputs": [],
   "source": [
    "Fact1=3.5 #\n",
    "Fact2=0.001 #\n",
    "\n",
    "xG32=[]\n",
    "MG32=[]\n",
    "RhoG32=[]\n",
    "for line in lines32[5:]:\n",
    "    xG32.append(FactX*np.float(line.split('\\t')[0]))\n",
    "    MG32.append(-Fact1*np.float(np.float(line.split('\\t')[1])))\n",
    "    RhoG32.append(Fact2 * np.float(np.float(line.split('\\t')[2])))\n",
    "#MIso"
   ]
  },
  {
   "cell_type": "code",
   "execution_count": 27,
   "id": "45ef9fb9",
   "metadata": {},
   "outputs": [
    {
     "data": {
      "text/plain": [
       "[<matplotlib.lines.Line2D at 0x1494fdca0>]"
      ]
     },
     "execution_count": 27,
     "metadata": {},
     "output_type": "execute_result"
    },
    {
     "data": {
      "image/png": "[encoded data removed]",
      "text/plain": [
       "<Figure size 432x288 with 1 Axes>"
      ]
     },
     "metadata": {
      "needs_background": "light"
     },
     "output_type": "display_data"
    }
   ],
   "source": [
    "plt.xscale('log')\n",
    "plt.yscale('log')\n",
    "plt.plot(xG32, RhoG32)"
   ]
  },
  {
   "cell_type": "code",
   "execution_count": 28,
   "id": "5f895861",
   "metadata": {},
   "outputs": [],
   "source": [
    "from scipy import interpolate\n",
    "\n",
    "def plotBondiVelRatio(n,rb,velb,lbs,i):\n",
    "    ## --- Estilo --\n",
    "    #plt.figure(figsize=(8,2))\n",
    "    putStyle(14,2,True,True)\n",
    "    ## -------------\n",
    "    # Interpolation\n",
    "    temp = interpolate.interp1d(xG32, MG32)\n",
    "    ## ---\n",
    "    ynew = temp(rb[np.where((np.min(xG32) < rb) & (rb < np.max(xG32)))])\n",
    "    xnew = rb[np.where((np.min(xG32) < rb) & (rb < np.max(xG32)))]\n",
    "    \n",
    "    \n",
    "    plt.scatter(xnew, (velb[np.where((np.min(xG32) < rb) \\\n",
    "                         & (rb < np.max(xG32)))] - ynew), 2)\n",
    "\n",
    "    plt.axhline(y = 0., color = 'black', linestyle = '--')\n",
    "    ## ----------------------------------------------------\n",
    "    #plt.legend(loc='best')\n",
    "    plt.xlabel(r'$r~(u.c)$')\n",
    "    ## Limits--\n",
    "    plt.xscale(\"log\")\n",
    "    plt.xlim(0.0005, 5.1)\n",
    "    plt.ylabel(r'Diff')\n",
    "    plt.ylim(-5, 5)"
   ]
  },
  {
   "cell_type": "markdown",
   "id": "79c489c1",
   "metadata": {},
   "source": [
    "# W365"
   ]
  },
  {
   "cell_type": "code",
   "execution_count": 29,
   "id": "0d74936d",
   "metadata": {},
   "outputs": [
    {
     "data": {
      "image/png": "[encoded data removed]",
      "text/plain": [
       "<Figure size 576x216 with 1 Axes>"
      ]
     },
     "metadata": {
      "needs_background": "light"
     },
     "output_type": "display_data"
    }
   ],
   "source": [
    "# plt.xscale(\"log\")\n",
    "plt.figure(figsize=(8,3))\n",
    "\n",
    "n=1\n",
    "#plt.plot(xIso,MIso,'blue', \n",
    "#         label='$\\gamma$= '+str(n)+'; Theoretical - Ramirez etal. 2021')\n",
    "\n",
    "\n",
    "# W256\n",
    "model1='W365'\n",
    "nMod='Final_Fig1'\n",
    "Idx2=0; Idx3=1; Idx4=2; Idx5=3;\n",
    "\n",
    "## -- Tiempo del ultimo --\n",
    "myUnit1='kyr'\n",
    "## --\n",
    "LastTime2=ds_Gall[Idx2].time_unit.in_units(myUnit1)\n",
    "LastTime2=round(LastTime2.item(0)*0.05)\n",
    "## --\n",
    "LastTime3=ds_Gall[Idx3].time_unit.in_units(myUnit1)\n",
    "LastTime3=round(LastTime3.item(0)*0.1)\n",
    "## --\n",
    "LastTime4=ds_Gall[Idx4].time_unit.in_units(myUnit1)\n",
    "LastTime4=round(LastTime4.item(0)*0.15)\n",
    "## --\n",
    "LastTime5=ds_Gall[Idx5].time_unit.in_units(myUnit1)\n",
    "LastTime5=round(LastTime5.item(0)*0.19)\n",
    "## --\n",
    "\n",
    "\n",
    "\n",
    "## ----- Las imagenes --\n",
    "img2=plotBondiVelRatio(n,rbArr[Idx2]*FactX,VelbArr[Idx2]/Fact1,model1,str(LastTime2)+' '+myUnit1)\n",
    "img3=plotBondiVelRatio(n,rbArr[Idx3]*FactX,VelbArr[Idx3]/Fact1,model1,str(LastTime3)+' '+myUnit1)\n",
    "img4=plotBondiVelRatio(n,rbArr[Idx4]*FactX,VelbArr[Idx4]/Fact1,model1,'22.4'+' '+myUnit1)\n",
    "img5=plotBondiVelRatio(n,rbArr[Idx5]*FactX,VelbArr[Idx5]/Fact1,model1,str(LastTime5)+' '+myUnit1)\n",
    "\n",
    "\n",
    "plt.savefig(str(model1)+'_'+str(nMod)+'_Vel_Diff_v1.png')"
   ]
  },
  {
   "cell_type": "code",
   "execution_count": 30,
   "id": "f1b78f72",
   "metadata": {},
   "outputs": [
    {
     "data": {
      "image/png": "[encoded data removed]",
      "text/plain": [
       "<Figure size 576x576 with 1 Axes>"
      ]
     },
     "metadata": {
      "needs_background": "light"
     },
     "output_type": "display_data"
    }
   ],
   "source": [
    "plt.xscale(\"log\")\n",
    "#plt.figure(figsize=(8,6))\n",
    "\n",
    "n='3/2'\n",
    "plt.plot(xG32,MG32,'black', \n",
    "         label='$\\gamma$= '+str(n)+'; Theoretical - Ramirez etal. 2021')\n",
    "\n",
    "\n",
    "# W365\n",
    "model1='W365'\n",
    "nMod='Final_Fig1'\n",
    "Idx2=0; Idx3=1; Idx4=2; Idx5=3;\n",
    "\n",
    "## -- Tiempo del ultimo --\n",
    "myUnit1='kyr'\n",
    "## --\n",
    "LastTime2=ds_Gall[Idx2].time_unit.in_units(myUnit1)\n",
    "LastTime2=round(LastTime2.item(0)*0.05)\n",
    "## --\n",
    "LastTime3=ds_Gall[Idx3].time_unit.in_units(myUnit1)\n",
    "LastTime3=round(LastTime3.item(0)*0.1)\n",
    "## --\n",
    "LastTime4=ds_Gall[Idx4].time_unit.in_units(myUnit1)\n",
    "LastTime4=round(LastTime4.item(0)*0.15)\n",
    "## --\n",
    "LastTime5=ds_Gall[Idx5].time_unit.in_units(myUnit1)\n",
    "LastTime5=round(LastTime5.item(0)*0.19)\n",
    "## --\n",
    "\n",
    "\n",
    "\n",
    "## ----- Las imagenes --\n",
    "img2=plotBondiVelIndi(n,rbArr[Idx2]*FactX,VelbArr[Idx2]/Fact1,model1,str(LastTime2)+' '+myUnit1)\n",
    "img3=plotBondiVelIndi(n,rbArr[Idx3]*FactX,VelbArr[Idx3]/Fact1,model1,str(LastTime3)+' '+myUnit1)\n",
    "img4=plotBondiVelIndi(n,rbArr[Idx4]*FactX,VelbArr[Idx4]/Fact1,model1,str(LastTime4)+' '+myUnit1)\n",
    "img5=plotBondiVelIndi(n,rbArr[Idx5]*FactX,VelbArr[Idx5]/Fact1,model1,str(LastTime5)+' '+myUnit1)\n",
    "\n",
    "\n",
    "plt.savefig(str(model1)+'_'+str(nMod)+'_Vel_v1.png')"
   ]
  },
  {
   "cell_type": "markdown",
   "id": "a5cc9568",
   "metadata": {},
   "source": [
    "# W579"
   ]
  },
  {
   "cell_type": "code",
   "execution_count": 31,
   "id": "70462e06",
   "metadata": {},
   "outputs": [
    {
     "data": {
      "image/png": "[encoded data removed]",
      "text/plain": [
       "<Figure size 576x216 with 1 Axes>"
      ]
     },
     "metadata": {
      "needs_background": "light"
     },
     "output_type": "display_data"
    }
   ],
   "source": [
    "# plt.xscale(\"log\")\n",
    "plt.figure(figsize=(8,3))\n",
    "\n",
    "n=1\n",
    "#plt.plot(xIso,MIso,'blue', \n",
    "#         label='$\\gamma$= '+str(n)+'; Theoretical - Ramirez etal. 2021')\n",
    "\n",
    "\n",
    "# W256\n",
    "model1='W579'\n",
    "nMod='Final_Fig1'\n",
    "Idx2=4; Idx3=5; Idx4=6; Idx5=7;\n",
    "\n",
    "## -- Tiempo del ultimo --\n",
    "myUnit1='kyr'\n",
    "## --\n",
    "LastTime2=ds_Gall[Idx2].time_unit.in_units(myUnit1)\n",
    "LastTime2=round(LastTime2.item(0)*0.05)\n",
    "## --\n",
    "LastTime3=ds_Gall[Idx3].time_unit.in_units(myUnit1)\n",
    "LastTime3=round(LastTime3.item(0)*0.1)\n",
    "## --\n",
    "LastTime4=ds_Gall[Idx4].time_unit.in_units(myUnit1)\n",
    "LastTime4=round(LastTime4.item(0)*0.15)\n",
    "## --\n",
    "LastTime5=ds_Gall[Idx5].time_unit.in_units(myUnit1)\n",
    "LastTime5=round(LastTime5.item(0)*0.19)\n",
    "## --\n",
    "\n",
    "\n",
    "\n",
    "## ----- Las imagenes --\n",
    "img2=plotBondiVelRatio(n,rbArr[Idx2]*FactX,VelbArr[Idx2]/Fact1,model1,str(LastTime2)+' '+myUnit1)\n",
    "img3=plotBondiVelRatio(n,rbArr[Idx3]*FactX,VelbArr[Idx3]/Fact1,model1,str(LastTime3)+' '+myUnit1)\n",
    "img4=plotBondiVelRatio(n,rbArr[Idx4]*FactX,VelbArr[Idx4]/Fact1,model1,str(LastTime3)+' '+myUnit1)\n",
    "img5=plotBondiVelRatio(n,rbArr[Idx5]*FactX,VelbArr[Idx5]/Fact1,model1,str(LastTime5)+' '+myUnit1)\n",
    "\n",
    "\n",
    "plt.savefig(str(model1)+'_'+str(nMod)+'_Vel_Diff_v1.png')"
   ]
  },
  {
   "cell_type": "code",
   "execution_count": 32,
   "id": "08853d08",
   "metadata": {},
   "outputs": [
    {
     "data": {
      "image/png": "[encoded data removed]",
      "text/plain": [
       "<Figure size 576x576 with 1 Axes>"
      ]
     },
     "metadata": {
      "needs_background": "light"
     },
     "output_type": "display_data"
    }
   ],
   "source": [
    "plt.xscale(\"log\")\n",
    "#plt.figure(figsize=(8,6))\n",
    "\n",
    "n='3/2'\n",
    "plt.plot(xG32,MG32,'black', \n",
    "         label='$\\gamma$= '+str(n)+'; Theoretical - Ramirez etal. 2021')\n",
    "\n",
    "\n",
    "# W256\n",
    "model1='W579'\n",
    "nMod='Final_Fig1'\n",
    "Idx2=4; Idx3=5; Idx4=6; Idx5=7;\n",
    "\n",
    "## -- Tiempo del ultimo --\n",
    "myUnit1='kyr'\n",
    "## --\n",
    "LastTime2=ds_Gall[Idx2].time_unit.in_units(myUnit1)\n",
    "LastTime2=round(LastTime2.item(0)*0.05)\n",
    "## --\n",
    "LastTime3=ds_Gall[Idx3].time_unit.in_units(myUnit1)\n",
    "LastTime3=round(LastTime3.item(0)*0.1)\n",
    "## --\n",
    "LastTime4=ds_Gall[Idx4].time_unit.in_units(myUnit1)\n",
    "LastTime4=round(LastTime4.item(0)*0.15)\n",
    "## --\n",
    "LastTime5=ds_Gall[Idx5].time_unit.in_units(myUnit1)\n",
    "LastTime5=round(LastTime5.item(0)*0.19)\n",
    "## --\n",
    "\n",
    "\n",
    "\n",
    "## ----- Las imagenes --\n",
    "img2=plotBondiVelIndi(n,rbArr[Idx2]*FactX,VelbArr[Idx2]/Fact1,model1,str(LastTime2)+' '+myUnit1)\n",
    "img3=plotBondiVelIndi(n,rbArr[Idx3]*FactX,VelbArr[Idx3]/Fact1,model1,str(LastTime3)+' '+myUnit1)\n",
    "img4=plotBondiVelIndi(n,rbArr[Idx4]*FactX,VelbArr[Idx4]/Fact1,model1,str(LastTime4)+' '+myUnit1)\n",
    "img5=plotBondiVelIndi(n,rbArr[Idx5]*FactX,VelbArr[Idx5]/Fact1,model1,str(LastTime5)+' '+myUnit1)\n",
    "\n",
    "\n",
    "plt.savefig(str(model1)+'_'+str(nMod)+'_Vel_v1.png')"
   ]
  },
  {
   "cell_type": "markdown",
   "id": "32878eac",
   "metadata": {},
   "source": [
    "# W1000"
   ]
  },
  {
   "cell_type": "code",
   "execution_count": 33,
   "id": "c2ad6272",
   "metadata": {},
   "outputs": [
    {
     "data": {
      "image/png": "[encoded data removed]",
      "text/plain": [
       "<Figure size 576x216 with 1 Axes>"
      ]
     },
     "metadata": {
      "needs_background": "light"
     },
     "output_type": "display_data"
    }
   ],
   "source": [
    "# plt.xscale(\"log\")\n",
    "plt.figure(figsize=(8,3))\n",
    "\n",
    "n=1\n",
    "#plt.plot(xIso,MIso,'blue', \n",
    "#         label='$\\gamma$= '+str(n)+'; Theoretical - Ramirez etal. 2021')\n",
    "\n",
    "\n",
    "# W256\n",
    "model1='W1000'\n",
    "nMod='Final_Fig1'\n",
    "Idx2=8; Idx3=9; Idx4=10; Idx5=11;\n",
    "\n",
    "## -- Tiempo del ultimo --\n",
    "myUnit1='kyr'\n",
    "## --\n",
    "LastTime2=ds_Gall[Idx2].time_unit.in_units(myUnit1)\n",
    "LastTime2=round(LastTime2.item(0)*0.05)\n",
    "## --\n",
    "LastTime3=ds_Gall[Idx3].time_unit.in_units(myUnit1)\n",
    "LastTime3=round(LastTime3.item(0)*0.1)\n",
    "## --\n",
    "LastTime4=ds_Gall[Idx4].time_unit.in_units(myUnit1)\n",
    "LastTime4=round(LastTime4.item(0)*0.15)\n",
    "## --\n",
    "LastTime5=ds_Gall[Idx5].time_unit.in_units(myUnit1)\n",
    "LastTime5=round(LastTime5.item(0)*0.19)\n",
    "## --\n",
    "\n",
    "\n",
    "\n",
    "## ----- Las imagenes --\n",
    "img2=plotBondiVelRatio(n,rbArr[Idx2]*FactX,VelbArr[Idx2]/Fact1,model1,str(LastTime2)+' '+myUnit1)\n",
    "img3=plotBondiVelRatio(n,rbArr[Idx3]*FactX,VelbArr[Idx3]/Fact1,model1,str(LastTime3)+' '+myUnit1)\n",
    "img4=plotBondiVelRatio(n,rbArr[Idx4]*FactX,VelbArr[Idx4]/Fact1,model1,'22.4'+' '+myUnit1)\n",
    "img5=plotBondiVelRatio(n,rbArr[Idx5]*FactX,VelbArr[Idx5]/Fact1,model1,str(LastTime5)+' '+myUnit1)\n",
    "\n",
    "\n",
    "plt.savefig(str(model1)+'_'+str(nMod)+'_Vel_Diff_v1.png')"
   ]
  },
  {
   "cell_type": "code",
   "execution_count": 34,
   "id": "01afabba",
   "metadata": {},
   "outputs": [
    {
     "data": {
      "image/png": "[encoded data removed]",
      "text/plain": [
       "<Figure size 576x576 with 1 Axes>"
      ]
     },
     "metadata": {
      "needs_background": "light"
     },
     "output_type": "display_data"
    }
   ],
   "source": [
    "plt.xscale(\"log\")\n",
    "#plt.figure(figsize=(8,6))\n",
    "\n",
    "n='3/2'\n",
    "plt.plot(xG32,MG32,'black', \n",
    "         label='$\\gamma$= '+str(n)+'; Theoretical - Ramirez etal. 2021')\n",
    "\n",
    "\n",
    "# W1000\n",
    "model1='W1000'\n",
    "nMod='Final_Fig1'\n",
    "Idx2=8; Idx3=9; Idx4=10; Idx5=11;\n",
    "\n",
    "## -- Tiempo del ultimo --\n",
    "myUnit1='kyr'\n",
    "## --\n",
    "LastTime2=ds_Gall[Idx2].time_unit.in_units(myUnit1)\n",
    "LastTime2=round(LastTime2.item(0)*0.05)\n",
    "## --\n",
    "LastTime3=ds_Gall[Idx3].time_unit.in_units(myUnit1)\n",
    "LastTime3=round(LastTime3.item(0)*0.1)\n",
    "## --\n",
    "LastTime4=ds_Gall[Idx4].time_unit.in_units(myUnit1)\n",
    "LastTime4=round(LastTime4.item(0)*0.15)\n",
    "## --\n",
    "LastTime5=ds_Gall[Idx5].time_unit.in_units(myUnit1)\n",
    "LastTime5=round(LastTime5.item(0)*0.19)\n",
    "## --\n",
    "\n",
    "\n",
    "\n",
    "## ----- Las imagenes --\n",
    "img2=plotBondiVelIndi(n,rbArr[Idx2]*FactX,VelbArr[Idx2]/Fact1,model1,str(LastTime2)+' '+myUnit1)\n",
    "img3=plotBondiVelIndi(n,rbArr[Idx3]*FactX,VelbArr[Idx3]/Fact1,model1,str(LastTime3)+' '+myUnit1)\n",
    "img4=plotBondiVelIndi(n,rbArr[Idx4]*FactX,VelbArr[Idx4]/Fact1,model1,str(LastTime4)+' '+myUnit1)\n",
    "img5=plotBondiVelIndi(n,rbArr[Idx5]*FactX,VelbArr[Idx5]/Fact1,model1,str(LastTime5)+' '+myUnit1)\n",
    "\n",
    "\n",
    "plt.savefig(str(model1)+'_'+str(nMod)+'_Vel_v1.png')"
   ]
  },
  {
   "cell_type": "markdown",
   "id": "94f689ee",
   "metadata": {},
   "source": [
    "# W 1953"
   ]
  },
  {
   "cell_type": "code",
   "execution_count": 35,
   "id": "ea8f9cc9",
   "metadata": {},
   "outputs": [
    {
     "data": {
      "image/png": "[encoded data removed]",
      "text/plain": [
       "<Figure size 576x216 with 1 Axes>"
      ]
     },
     "metadata": {
      "needs_background": "light"
     },
     "output_type": "display_data"
    }
   ],
   "source": [
    "# plt.xscale(\"log\")\n",
    "plt.figure(figsize=(8,3))\n",
    "\n",
    "n=1\n",
    "#plt.plot(xIso,MIso,'blue', \n",
    "#         label='$\\gamma$= '+str(n)+'; Theoretical - Ramirez etal. 2021')\n",
    "\n",
    "\n",
    "# W256\n",
    "model1='W1953'\n",
    "nMod='Final_Fig1'\n",
    "Idx2=12; Idx3=13; Idx4=14; Idx5=15;\n",
    "\n",
    "## -- Tiempo del ultimo --\n",
    "myUnit1='kyr'\n",
    "## --\n",
    "LastTime2=ds_Gall[Idx2].time_unit.in_units(myUnit1)\n",
    "LastTime2=round(LastTime2.item(0)*0.05)\n",
    "## --\n",
    "LastTime3=ds_Gall[Idx3].time_unit.in_units(myUnit1)\n",
    "LastTime3=round(LastTime3.item(0)*0.1)\n",
    "## --\n",
    "LastTime4=ds_Gall[Idx4].time_unit.in_units(myUnit1)\n",
    "LastTime4=round(LastTime4.item(0)*0.15)\n",
    "## --\n",
    "LastTime5=ds_Gall[Idx5].time_unit.in_units(myUnit1)\n",
    "LastTime5=round(LastTime5.item(0)*0.19)\n",
    "## --\n",
    "\n",
    "\n",
    "\n",
    "## ----- Las imagenes --\n",
    "img2=plotBondiVelRatio(n,rbArr[Idx2]*FactX,VelbArr[Idx2]/Fact1,model1,str(LastTime2)+' '+myUnit1)\n",
    "img3=plotBondiVelRatio(n,rbArr[Idx3]*FactX,VelbArr[Idx3]/Fact1,model1,str(LastTime3)+' '+myUnit1)\n",
    "img4=plotBondiVelRatio(n,rbArr[Idx4]*FactX,VelbArr[Idx4]/Fact1,model1,'22.4'+' '+myUnit1)\n",
    "img5=plotBondiVelRatio(n,rbArr[Idx5]*FactX,VelbArr[Idx5]/Fact1,model1,str(LastTime5)+' '+myUnit1)\n",
    "\n",
    "\n",
    "plt.savefig(str(model1)+'_'+str(nMod)+'_Vel_Diff_v1.png')"
   ]
  },
  {
   "cell_type": "code",
   "execution_count": 36,
   "id": "53b914f3",
   "metadata": {},
   "outputs": [
    {
     "data": {
      "image/png": "[encoded data removed]",
      "text/plain": [
       "<Figure size 576x576 with 1 Axes>"
      ]
     },
     "metadata": {
      "needs_background": "light"
     },
     "output_type": "display_data"
    }
   ],
   "source": [
    "plt.xscale(\"log\")\n",
    "#plt.figure(figsize=(8,6))\n",
    "\n",
    "n='3/2'\n",
    "plt.plot(xG32,MG32,'black', \n",
    "         label='$\\gamma$= '+str(n)+'; Theoretical - Ramirez etal. 2021')\n",
    "\n",
    "\n",
    "# W256\n",
    "model1='W1953'\n",
    "nMod='Final_Fig1'\n",
    "Idx2=12; Idx3=13; Idx4=14; Idx5=15;\n",
    "\n",
    "## -- Tiempo del ultimo --\n",
    "myUnit1='kyr'\n",
    "## --\n",
    "LastTime2=ds_Gall[Idx2].time_unit.in_units(myUnit1)\n",
    "LastTime2=round(LastTime2.item(0)*0.05)\n",
    "## --\n",
    "LastTime3=ds_Gall[Idx3].time_unit.in_units(myUnit1)\n",
    "LastTime3=round(LastTime3.item(0)*0.1)\n",
    "## --\n",
    "LastTime4=ds_Gall[Idx4].time_unit.in_units(myUnit1)\n",
    "LastTime4=round(LastTime4.item(0)*0.15)\n",
    "## --\n",
    "LastTime5=ds_Gall[Idx5].time_unit.in_units(myUnit1)\n",
    "LastTime5=round(LastTime5.item(0)*0.19)\n",
    "## --\n",
    "\n",
    "\n",
    "\n",
    "## ----- Las imagenes --\n",
    "img2=plotBondiVelIndi(n,rbArr[Idx2]*FactX,VelbArr[Idx2]/Fact1,model1,str(LastTime2)+' '+myUnit1)\n",
    "img3=plotBondiVelIndi(n,rbArr[Idx3]*FactX,VelbArr[Idx3]/Fact1,model1,str(LastTime3)+' '+myUnit1)\n",
    "img4=plotBondiVelIndi(n,rbArr[Idx4]*FactX,VelbArr[Idx4]/Fact1,model1,str(LastTime4)+' '+myUnit1)\n",
    "img5=plotBondiVelIndi(n,rbArr[Idx5]*FactX,VelbArr[Idx5]/Fact1,model1,str(LastTime5)+' '+myUnit1)\n",
    "\n",
    "\n",
    "plt.savefig(str(model1)+'_'+str(nMod)+'_Vel_v1.png')"
   ]
  },
  {
   "cell_type": "code",
   "execution_count": null,
   "id": "efc856df",
   "metadata": {},
   "outputs": [],
   "source": []
  }
 ],
 "metadata": {
  "kernelspec": {
   "display_name": "vaetf1env",
   "language": "python",
   "name": "vaetf1env"
  },
  "language_info": {
   "codemirror_mode": {
    "name": "ipython",
    "version": 3
   },
   "file_extension": ".py",
   "mimetype": "text/x-python",
   "name": "python",
   "nbconvert_exporter": "python",
   "pygments_lexer": "ipython3",
   "version": "3.8.12"
  }
 },
 "nbformat": 4,
 "nbformat_minor": 5
}
