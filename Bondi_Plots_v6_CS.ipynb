{
 "cells": [
  {
   "cell_type": "markdown",
   "id": "f8f7c3e1",
   "metadata": {},
   "source": [
    "# Frontiers, Bondi Eqs. with consistency"
   ]
  },
  {
   "cell_type": "code",
   "execution_count": 1,
   "id": "516b14ea",
   "metadata": {},
   "outputs": [
    {
     "data": {
      "text/plain": [
       "<Figure size 432x288 with 0 Axes>"
      ]
     },
     "metadata": {},
     "output_type": "display_data"
    }
   ],
   "source": [
    "import yt\n",
    "from yt.units import kpc\n",
    "import numpy as np\n",
    "import yt.visualization.eps_writer as eps\n",
    "import matplotlib.pyplot as plt\n",
    "from yt import derived_field\n",
    "from matplotlib import pylab\n",
    "from yt.mods import * # set up our namespace\n",
    "from mpl_toolkits.axes_grid1 import AxesGrid\n",
    "from os.path import exists\n",
    "\n",
    "fig = plt.figure()\n",
    "########################################\n",
    "\n",
    "#### -----\n",
    "def putStyle(sFont,syT,top1,R1):\n",
    "    import matplotlib as mpl\n",
    "    import matplotlib.style as style\n",
    "    style.available\n",
    "\n",
    "    # General plot parameters\n",
    "    mpl.rcParams['font.family'] = 'Avenir'\n",
    "    mpl.rcParams['font.size'] = sFont\n",
    "    mpl.rcParams['axes.linewidth'] = 4\n",
    "    mpl.rcParams['axes.spines.bottom'] = top1\n",
    "    mpl.rcParams['axes.spines.right'] = R1\n",
    "    mpl.rcParams['xtick.major.size'] = 10\n",
    "    mpl.rcParams['xtick.major.width'] = 2\n",
    "    mpl.rcParams['ytick.major.size'] = 10\n",
    "    mpl.rcParams['ytick.major.width'] = syT\n",
    "    mpl.rcParams['lines.linewidth']= 3\n",
    "    mpl.rcParams[\"figure.figsize\"] = (8,8)"
   ]
  },
  {
   "cell_type": "code",
   "execution_count": 2,
   "id": "6c113479",
   "metadata": {},
   "outputs": [],
   "source": [
    "## 10pc\n",
    "Rad0=3.08568e+19\n",
    "Vel00=6.55844e+06\n",
    "Vel0=6.55844e+06 #\n",
    "\n",
    "\n",
    "unit_base = {'UnitLength_in_cm'         :   Rad0,\n",
    "             'UnitMass_in_g'            :   1.98892e+40,\n",
    "             'UnitVelocity_in_cm_per_s' :   Vel0,\n",
    "             'GravityConstantInternal'  :   0,\n",
    "             }\n",
    "\n",
    "bbox_lim = 20.0 #codelength\n",
    "\n",
    "bbox = [[-bbox_lim,bbox_lim],\n",
    "        [-bbox_lim,bbox_lim],\n",
    "        [-bbox_lim,bbox_lim]]"
   ]
  },
  {
   "cell_type": "code",
   "execution_count": 3,
   "id": "fb651775",
   "metadata": {},
   "outputs": [
    {
     "name": "stderr",
     "output_type": "stream",
     "text": [
      "yt : [INFO     ] 2022-02-24 12:13:52,074 Omega Lambda is 0.0, so we are turning off Cosmology.\n",
      "yt : [INFO     ] 2022-02-24 12:13:52,186 Parameters: current_time              = 0.05\n",
      "yt : [INFO     ] 2022-02-24 12:13:52,187 Parameters: domain_dimensions         = [1 1 1]\n",
      "yt : [INFO     ] 2022-02-24 12:13:52,188 Parameters: domain_left_edge          = [-20. -20. -20.]\n",
      "yt : [INFO     ] 2022-02-24 12:13:52,189 Parameters: domain_right_edge         = [20. 20. 20.]\n",
      "yt : [INFO     ] 2022-02-24 12:13:52,190 Parameters: cosmological_simulation   = 0\n",
      "yt : [INFO     ] 2022-02-24 12:13:52,207 Omega Lambda is 0.0, so we are turning off Cosmology.\n",
      "yt : [INFO     ] 2022-02-24 12:13:52,302 Parameters: current_time              = 0.09999999981373549\n",
      "yt : [INFO     ] 2022-02-24 12:13:52,303 Parameters: domain_dimensions         = [1 1 1]\n",
      "yt : [INFO     ] 2022-02-24 12:13:52,303 Parameters: domain_left_edge          = [-20. -20. -20.]\n",
      "yt : [INFO     ] 2022-02-24 12:13:52,304 Parameters: domain_right_edge         = [20. 20. 20.]\n",
      "yt : [INFO     ] 2022-02-24 12:13:52,305 Parameters: cosmological_simulation   = 0\n",
      "yt : [INFO     ] 2022-02-24 12:13:52,322 Omega Lambda is 0.0, so we are turning off Cosmology.\n"
     ]
    },
    {
     "name": "stdout",
     "output_type": "stream",
     "text": [
      "snapshot_0005\n",
      "snapshot_0010\n"
     ]
    },
    {
     "name": "stderr",
     "output_type": "stream",
     "text": [
      "yt : [INFO     ] 2022-02-24 12:13:52,404 Parameters: current_time              = 0.1499999998137355\n",
      "yt : [INFO     ] 2022-02-24 12:13:52,405 Parameters: domain_dimensions         = [1 1 1]\n",
      "yt : [INFO     ] 2022-02-24 12:13:52,406 Parameters: domain_left_edge          = [-20. -20. -20.]\n",
      "yt : [INFO     ] 2022-02-24 12:13:52,406 Parameters: domain_right_edge         = [20. 20. 20.]\n",
      "yt : [INFO     ] 2022-02-24 12:13:52,408 Parameters: cosmological_simulation   = 0\n",
      "yt : [INFO     ] 2022-02-24 12:13:52,422 Omega Lambda is 0.0, so we are turning off Cosmology.\n",
      "yt : [INFO     ] 2022-02-24 12:13:52,484 Parameters: current_time              = 0.1899999998509884\n",
      "yt : [INFO     ] 2022-02-24 12:13:52,485 Parameters: domain_dimensions         = [1 1 1]\n",
      "yt : [INFO     ] 2022-02-24 12:13:52,486 Parameters: domain_left_edge          = [-20. -20. -20.]\n",
      "yt : [INFO     ] 2022-02-24 12:13:52,486 Parameters: domain_right_edge         = [20. 20. 20.]\n",
      "yt : [INFO     ] 2022-02-24 12:13:52,487 Parameters: cosmological_simulation   = 0\n",
      "yt : [INFO     ] 2022-02-24 12:13:52,516 Omega Lambda is 0.0, so we are turning off Cosmology.\n",
      "yt : [INFO     ] 2022-02-24 12:13:52,588 Parameters: current_time              = 0.05\n",
      "yt : [INFO     ] 2022-02-24 12:13:52,589 Parameters: domain_dimensions         = [1 1 1]\n",
      "yt : [INFO     ] 2022-02-24 12:13:52,590 Parameters: domain_left_edge          = [-20. -20. -20.]\n",
      "yt : [INFO     ] 2022-02-24 12:13:52,591 Parameters: domain_right_edge         = [20. 20. 20.]\n",
      "yt : [INFO     ] 2022-02-24 12:13:52,592 Parameters: cosmological_simulation   = 0\n",
      "yt : [INFO     ] 2022-02-24 12:13:52,608 Omega Lambda is 0.0, so we are turning off Cosmology.\n"
     ]
    },
    {
     "name": "stdout",
     "output_type": "stream",
     "text": [
      "snapshot_0015\n",
      "snapshot_0019\n",
      "snapshot_0005\n"
     ]
    },
    {
     "name": "stderr",
     "output_type": "stream",
     "text": [
      "yt : [INFO     ] 2022-02-24 12:13:52,676 Parameters: current_time              = 0.09999999981373549\n",
      "yt : [INFO     ] 2022-02-24 12:13:52,677 Parameters: domain_dimensions         = [1 1 1]\n",
      "yt : [INFO     ] 2022-02-24 12:13:52,678 Parameters: domain_left_edge          = [-20. -20. -20.]\n",
      "yt : [INFO     ] 2022-02-24 12:13:52,679 Parameters: domain_right_edge         = [20. 20. 20.]\n",
      "yt : [INFO     ] 2022-02-24 12:13:52,680 Parameters: cosmological_simulation   = 0\n",
      "yt : [INFO     ] 2022-02-24 12:13:52,694 Omega Lambda is 0.0, so we are turning off Cosmology.\n",
      "yt : [INFO     ] 2022-02-24 12:13:52,765 Parameters: current_time              = 0.1499999998137355\n",
      "yt : [INFO     ] 2022-02-24 12:13:52,766 Parameters: domain_dimensions         = [1 1 1]\n",
      "yt : [INFO     ] 2022-02-24 12:13:52,767 Parameters: domain_left_edge          = [-20. -20. -20.]\n",
      "yt : [INFO     ] 2022-02-24 12:13:52,768 Parameters: domain_right_edge         = [20. 20. 20.]\n",
      "yt : [INFO     ] 2022-02-24 12:13:52,768 Parameters: cosmological_simulation   = 0\n",
      "yt : [INFO     ] 2022-02-24 12:13:52,782 Omega Lambda is 0.0, so we are turning off Cosmology.\n",
      "yt : [INFO     ] 2022-02-24 12:13:52,853 Parameters: current_time              = 0.1899999998509884\n",
      "yt : [INFO     ] 2022-02-24 12:13:52,853 Parameters: domain_dimensions         = [1 1 1]\n",
      "yt : [INFO     ] 2022-02-24 12:13:52,854 Parameters: domain_left_edge          = [-20. -20. -20.]\n",
      "yt : [INFO     ] 2022-02-24 12:13:52,855 Parameters: domain_right_edge         = [20. 20. 20.]\n",
      "yt : [INFO     ] 2022-02-24 12:13:52,856 Parameters: cosmological_simulation   = 0\n"
     ]
    },
    {
     "name": "stdout",
     "output_type": "stream",
     "text": [
      "snapshot_0010\n",
      "snapshot_0015\n",
      "snapshot_0019\n"
     ]
    },
    {
     "name": "stderr",
     "output_type": "stream",
     "text": [
      "yt : [INFO     ] 2022-02-24 12:13:52,888 Omega Lambda is 0.0, so we are turning off Cosmology.\n",
      "yt : [INFO     ] 2022-02-24 12:13:52,954 Parameters: current_time              = 0.05\n",
      "yt : [INFO     ] 2022-02-24 12:13:52,955 Parameters: domain_dimensions         = [1 1 1]\n",
      "yt : [INFO     ] 2022-02-24 12:13:52,955 Parameters: domain_left_edge          = [-20. -20. -20.]\n",
      "yt : [INFO     ] 2022-02-24 12:13:52,956 Parameters: domain_right_edge         = [20. 20. 20.]\n",
      "yt : [INFO     ] 2022-02-24 12:13:52,957 Parameters: cosmological_simulation   = 0\n",
      "yt : [INFO     ] 2022-02-24 12:13:52,972 Omega Lambda is 0.0, so we are turning off Cosmology.\n",
      "yt : [INFO     ] 2022-02-24 12:13:53,044 Parameters: current_time              = 0.09999999981373549\n",
      "yt : [INFO     ] 2022-02-24 12:13:53,045 Parameters: domain_dimensions         = [1 1 1]\n",
      "yt : [INFO     ] 2022-02-24 12:13:53,046 Parameters: domain_left_edge          = [-20. -20. -20.]\n",
      "yt : [INFO     ] 2022-02-24 12:13:53,047 Parameters: domain_right_edge         = [20. 20. 20.]\n",
      "yt : [INFO     ] 2022-02-24 12:13:53,047 Parameters: cosmological_simulation   = 0\n",
      "yt : [INFO     ] 2022-02-24 12:13:53,063 Omega Lambda is 0.0, so we are turning off Cosmology.\n",
      "yt : [INFO     ] 2022-02-24 12:13:53,129 Parameters: current_time              = 0.1499999998137355\n",
      "yt : [INFO     ] 2022-02-24 12:13:53,130 Parameters: domain_dimensions         = [1 1 1]\n",
      "yt : [INFO     ] 2022-02-24 12:13:53,131 Parameters: domain_left_edge          = [-20. -20. -20.]\n",
      "yt : [INFO     ] 2022-02-24 12:13:53,132 Parameters: domain_right_edge         = [20. 20. 20.]\n",
      "yt : [INFO     ] 2022-02-24 12:13:53,134 Parameters: cosmological_simulation   = 0\n",
      "yt : [INFO     ] 2022-02-24 12:13:53,150 Omega Lambda is 0.0, so we are turning off Cosmology.\n"
     ]
    },
    {
     "name": "stdout",
     "output_type": "stream",
     "text": [
      "snapshot_0005\n",
      "snapshot_0010\n",
      "snapshot_0015\n"
     ]
    },
    {
     "name": "stderr",
     "output_type": "stream",
     "text": [
      "yt : [INFO     ] 2022-02-24 12:13:53,221 Parameters: current_time              = 0.1899999998509884\n",
      "yt : [INFO     ] 2022-02-24 12:13:53,221 Parameters: domain_dimensions         = [1 1 1]\n",
      "yt : [INFO     ] 2022-02-24 12:13:53,222 Parameters: domain_left_edge          = [-20. -20. -20.]\n",
      "yt : [INFO     ] 2022-02-24 12:13:53,224 Parameters: domain_right_edge         = [20. 20. 20.]\n",
      "yt : [INFO     ] 2022-02-24 12:13:53,225 Parameters: cosmological_simulation   = 0\n",
      "yt : [INFO     ] 2022-02-24 12:13:53,252 Omega Lambda is 0.0, so we are turning off Cosmology.\n",
      "yt : [INFO     ] 2022-02-24 12:13:53,320 Parameters: current_time              = 0.05\n",
      "yt : [INFO     ] 2022-02-24 12:13:53,320 Parameters: domain_dimensions         = [1 1 1]\n",
      "yt : [INFO     ] 2022-02-24 12:13:53,321 Parameters: domain_left_edge          = [-20. -20. -20.]\n",
      "yt : [INFO     ] 2022-02-24 12:13:53,322 Parameters: domain_right_edge         = [20. 20. 20.]\n",
      "yt : [INFO     ] 2022-02-24 12:13:53,323 Parameters: cosmological_simulation   = 0\n",
      "yt : [INFO     ] 2022-02-24 12:13:53,336 Omega Lambda is 0.0, so we are turning off Cosmology.\n",
      "yt : [INFO     ] 2022-02-24 12:13:53,407 Parameters: current_time              = 0.09999999981373549\n",
      "yt : [INFO     ] 2022-02-24 12:13:53,408 Parameters: domain_dimensions         = [1 1 1]\n",
      "yt : [INFO     ] 2022-02-24 12:13:53,408 Parameters: domain_left_edge          = [-20. -20. -20.]\n",
      "yt : [INFO     ] 2022-02-24 12:13:53,409 Parameters: domain_right_edge         = [20. 20. 20.]\n",
      "yt : [INFO     ] 2022-02-24 12:13:53,410 Parameters: cosmological_simulation   = 0\n",
      "yt : [INFO     ] 2022-02-24 12:13:53,422 Omega Lambda is 0.0, so we are turning off Cosmology.\n"
     ]
    },
    {
     "name": "stdout",
     "output_type": "stream",
     "text": [
      "snapshot_0019\n",
      "snapshot_0005\n",
      "snapshot_0010\n"
     ]
    },
    {
     "name": "stderr",
     "output_type": "stream",
     "text": [
      "yt : [INFO     ] 2022-02-24 12:13:53,484 Parameters: current_time              = 0.1499999998137355\n",
      "yt : [INFO     ] 2022-02-24 12:13:53,485 Parameters: domain_dimensions         = [1 1 1]\n",
      "yt : [INFO     ] 2022-02-24 12:13:53,486 Parameters: domain_left_edge          = [-20. -20. -20.]\n",
      "yt : [INFO     ] 2022-02-24 12:13:53,487 Parameters: domain_right_edge         = [20. 20. 20.]\n",
      "yt : [INFO     ] 2022-02-24 12:13:53,488 Parameters: cosmological_simulation   = 0\n",
      "yt : [INFO     ] 2022-02-24 12:13:53,500 Omega Lambda is 0.0, so we are turning off Cosmology.\n",
      "yt : [INFO     ] 2022-02-24 12:13:53,564 Parameters: current_time              = 0.1899999998509884\n",
      "yt : [INFO     ] 2022-02-24 12:13:53,564 Parameters: domain_dimensions         = [1 1 1]\n",
      "yt : [INFO     ] 2022-02-24 12:13:53,565 Parameters: domain_left_edge          = [-20. -20. -20.]\n",
      "yt : [INFO     ] 2022-02-24 12:13:53,566 Parameters: domain_right_edge         = [20. 20. 20.]\n",
      "yt : [INFO     ] 2022-02-24 12:13:53,567 Parameters: cosmological_simulation   = 0\n"
     ]
    },
    {
     "name": "stdout",
     "output_type": "stream",
     "text": [
      "snapshot_0015\n",
      "snapshot_0019\n"
     ]
    }
   ],
   "source": [
    "### --\n",
    "### Directorio de la simulacion!!!--- ###############################################\n",
    "sim_dir1=\"./all_aciis_0/\"\n",
    "sim_dir2=\"./all_aciis_1/\"\n",
    "sim_dir3=\"./all_aciis_2/\"\n",
    "sim_dir4=\"./all_aciis_3/\"\n",
    "sim_dir5=\"./all_aciis_4/\"\n",
    "sim_dir6=\"./test/\"\n",
    "\n",
    "sim_Gen=[sim_dir1, sim_dir2, sim_dir3, sim_dir4]\n",
    "#sim_Gen=[sim_dir6]\n",
    "#####################################################################################\n",
    "\n",
    "### Finalmente levanto la data!!--\n",
    "#######################################\n",
    "\n",
    "ds_Gall=[]\n",
    "\n",
    "## 2 loops--\n",
    "for k in sim_Gen:\n",
    "### G11 Particles!!--\n",
    "    for i in range(0,1001):\n",
    "        if i<10: fn = k+\"snapshot_000%i\" % i\n",
    "        if i >=10 and i<100: fn = k+\"snapshot_00%i\" % i\n",
    "        if i>100 and i<1000: fn = k+\"snapshot_0%i\" % i\n",
    "            \n",
    "        if exists(fn):\n",
    "            dt = yt.load(fn,\n",
    "                unit_base=unit_base,  ## -- No voy a override the units. Take them from the file\n",
    "                bounding_box=bbox)\n",
    "            ###\n",
    "            ds_Gall.append(dt)\n",
    "            print(dt)\n",
    "    #######################################\n",
    "    #######################################"
   ]
  },
  {
   "cell_type": "code",
   "execution_count": 4,
   "id": "321650b2",
   "metadata": {},
   "outputs": [
    {
     "data": {
      "text/plain": [
       "16"
      ]
     },
     "execution_count": 4,
     "metadata": {},
     "output_type": "execute_result"
    }
   ],
   "source": [
    "len(ds_Gall)"
   ]
  },
  {
   "cell_type": "markdown",
   "id": "3442bcd6",
   "metadata": {},
   "source": [
    "# Extracting the data --"
   ]
  },
  {
   "cell_type": "code",
   "execution_count": 5,
   "id": "fccbe9a3",
   "metadata": {},
   "outputs": [
    {
     "data": {
      "text/plain": [
       "unyt_quantity(3.08568e+19, 'cm')"
      ]
     },
     "execution_count": 5,
     "metadata": {},
     "output_type": "execute_result"
    }
   ],
   "source": [
    "Idx=0\n",
    "ds_Gall[Idx].length_unit.to('cm')"
   ]
  },
  {
   "cell_type": "code",
   "execution_count": 6,
   "id": "37bdd2e5",
   "metadata": {},
   "outputs": [
    {
     "data": {
      "text/plain": [
       "['pass.tex', 'SCP_snaps.x', 'SCP_snaps2.x']"
      ]
     },
     "execution_count": 6,
     "metadata": {},
     "output_type": "execute_result"
    }
   ],
   "source": [
    "from os import listdir\n",
    "listdir(sim_dir6)"
   ]
  },
  {
   "cell_type": "code",
   "execution_count": 7,
   "id": "a77a228c",
   "metadata": {},
   "outputs": [
    {
     "data": {
      "text/plain": [
       "[GadgetDataset: all_aciis_0/snapshot_0005,\n",
       " GadgetDataset: all_aciis_0/snapshot_0010,\n",
       " GadgetDataset: all_aciis_0/snapshot_0015,\n",
       " GadgetDataset: all_aciis_0/snapshot_0019,\n",
       " GadgetDataset: all_aciis_1/snapshot_0005,\n",
       " GadgetDataset: all_aciis_1/snapshot_0010,\n",
       " GadgetDataset: all_aciis_1/snapshot_0015,\n",
       " GadgetDataset: all_aciis_1/snapshot_0019,\n",
       " GadgetDataset: all_aciis_2/snapshot_0005,\n",
       " GadgetDataset: all_aciis_2/snapshot_0010,\n",
       " GadgetDataset: all_aciis_2/snapshot_0015,\n",
       " GadgetDataset: all_aciis_2/snapshot_0019,\n",
       " GadgetDataset: all_aciis_3/snapshot_0005,\n",
       " GadgetDataset: all_aciis_3/snapshot_0010,\n",
       " GadgetDataset: all_aciis_3/snapshot_0015,\n",
       " GadgetDataset: all_aciis_3/snapshot_0019]"
      ]
     },
     "execution_count": 7,
     "metadata": {},
     "output_type": "execute_result"
    }
   ],
   "source": [
    "ds_Gall"
   ]
  },
  {
   "cell_type": "code",
   "execution_count": 8,
   "id": "d6d52b4c",
   "metadata": {},
   "outputs": [
    {
     "name": "stderr",
     "output_type": "stream",
     "text": [
      "yt : [INFO     ] 2022-02-24 12:14:10,282 Allocating for 2.332e+04 particles\n"
     ]
    },
    {
     "name": "stdout",
     "output_type": "stream",
     "text": [
      "0\n",
      "1\n",
      "2\n"
     ]
    },
    {
     "name": "stderr",
     "output_type": "stream",
     "text": [
      "yt : [INFO     ] 2022-02-24 12:14:21,782 Allocating for 3.703e+04 particles\n"
     ]
    },
    {
     "name": "stdout",
     "output_type": "stream",
     "text": [
      "3\n",
      "4\n",
      "5\n",
      "6\n"
     ]
    },
    {
     "name": "stderr",
     "output_type": "stream",
     "text": [
      "yt : [INFO     ] 2022-02-24 12:14:33,315 Allocating for 6.401e+04 particles\n"
     ]
    },
    {
     "name": "stdout",
     "output_type": "stream",
     "text": [
      "7\n",
      "8\n",
      "9\n",
      "10\n"
     ]
    },
    {
     "name": "stderr",
     "output_type": "stream",
     "text": [
      "yt : [INFO     ] 2022-02-24 12:14:44,929 Allocating for 1.250e+05 particles\n"
     ]
    },
    {
     "name": "stdout",
     "output_type": "stream",
     "text": [
      "11\n",
      "12\n",
      "13\n",
      "14\n",
      "15\n"
     ]
    }
   ],
   "source": [
    "rhos=[]\n",
    "vels=[]\n",
    "rs=[]\n",
    "## ---------------------------------------------------------\n",
    "for Idx,k in enumerate(ds_Gall):\n",
    "    rhos1 = ds_Gall[Idx].r[\"Gas\", \"Density\"]\n",
    "    rs1 = ds_Gall[Idx].r[\"all\", \"radius\"]/Rad0\n",
    "    print(Idx)\n",
    "    if Idx == 0:\n",
    "        vs1 = ds_Gall[Idx].r[\"all\", \"radial_velocity\"]/Vel00\n",
    "    else:\n",
    "        vs1 = ds_Gall[Idx].r[\"all\", \"radial_velocity\"]/Vel0\n",
    "        \n",
    "    rhos.append(rhos1)\n",
    "    vels.append(vs1)\n",
    "    rs.append(rs1)"
   ]
  },
  {
   "cell_type": "code",
   "execution_count": 9,
   "id": "853ecf73",
   "metadata": {},
   "outputs": [
    {
     "data": {
      "text/plain": [
       "[unyt_array([3.97257564, 3.80452006, 3.93375335, ..., 3.76779013,\n",
       "             3.60279789, 3.83359091], 'cm'),\n",
       " unyt_array([3.96968327, 3.80136783, 3.93080368, ..., 3.76457643,\n",
       "             3.59928487, 3.83048596], 'cm'),\n",
       " unyt_array([3.96520426, 3.79648553, 3.92623625, ..., 3.75959849,\n",
       "             3.59384169, 3.82567712], 'cm'),\n",
       " unyt_array([3.96047336, 3.79132736, 3.92141146, ..., 3.75433946,\n",
       "             3.58809032, 3.82059716], 'cm'),\n",
       " unyt_array([3.94075204, 3.86778514, 3.94803195, ..., 3.77745513,\n",
       "             3.81230728, 3.83664912], 'cm'),\n",
       " unyt_array([3.93781299, 3.86473464, 3.94510364, ..., 3.77425803,\n",
       "             3.80916777, 3.8335493 ], 'cm'),\n",
       " unyt_array([3.93326152, 3.86001036, 3.94056883, ..., 3.76930537,\n",
       "             3.80430518, 3.82874803], 'cm'),\n",
       " unyt_array([3.92845416, 3.85501969, 3.93577914, ..., 3.76407339,\n",
       "             3.79916841, 3.82367611], 'cm'),\n",
       " unyt_array([3.93281129, 3.97107703, 3.84078111, ..., 3.83732779,\n",
       "             3.97819778, 3.96859637], 'cm'),\n",
       " unyt_array([3.92986035, 3.96818244, 3.83768779, ..., 3.83422878,\n",
       "             3.9753134 , 3.96569813], 'cm'),\n",
       " unyt_array([3.92529051, 3.96370001, 3.83289704, ..., 3.82942935,\n",
       "             3.97084705, 3.96121021], 'cm'),\n",
       " unyt_array([3.92046354, 3.95896564, 3.82783595, ..., 3.82435933,\n",
       "             3.96612958, 3.95646992], 'cm'),\n",
       " unyt_array([3.98616249, 3.99626566, 4.00785784, ..., 3.99639521,\n",
       "             3.97474732, 3.970435  ], 'cm'),\n",
       " unyt_array([3.98328966, 3.99340707, 4.00501605, ..., 3.99353706,\n",
       "             3.97185803, 3.96753933], 'cm'),\n",
       " unyt_array([3.97884108, 3.98898093, 4.00061526, ..., 3.98911118,\n",
       "             3.96738384, 3.96305558], 'cm'),\n",
       " unyt_array([3.97414241, 3.98430593, 3.99596733, ..., 3.98443656,\n",
       "             3.9626582 , 3.95831958], 'cm')]"
      ]
     },
     "execution_count": 9,
     "metadata": {},
     "output_type": "execute_result"
    }
   ],
   "source": [
    "rs"
   ]
  },
  {
   "cell_type": "markdown",
   "id": "52991714",
   "metadata": {},
   "source": [
    "# Bondi numerically in Python"
   ]
  },
  {
   "cell_type": "code",
   "execution_count": 10,
   "id": "99924fb9",
   "metadata": {
    "code_folding": []
   },
   "outputs": [],
   "source": [
    "from IPython.display import display, Math, Latex\n",
    "import numpy as np\n",
    "np.seterr(divide='ignore', invalid='ignore')\n",
    "\n",
    "%matplotlib inline\n",
    "import matplotlib\n",
    "import matplotlib.pyplot as plt"
   ]
  },
  {
   "cell_type": "code",
   "execution_count": 11,
   "id": "8ffd0a2a",
   "metadata": {
    "code_folding": []
   },
   "outputs": [],
   "source": [
    "def plotBondiVelIndi(n,rb,velb,lbs,i):\n",
    "    ## --- Estilo --\n",
    "    putStyle(14,2,True,True)\n",
    "    ## -------------\n",
    "    ## ---\n",
    "    plt.scatter(rb, velb, 2, \n",
    "                label=str(lbs)+' $\\gamma$= '+str(n)+' t~'+str(i))\n",
    "    ## ----------------------------------------------------\n",
    "    plt.legend(loc='best')\n",
    "    plt.xlabel(r'$r~(u.c)$')\n",
    "    ## Limits--\n",
    "    plt.xscale(\"log\")\n",
    "    plt.xlim(0.0005,5.1)\n",
    "    plt.ylabel(r'$v_r~(u.c)$')\n",
    "    plt.ylim(-40,5)"
   ]
  },
  {
   "cell_type": "markdown",
   "id": "8726ee25",
   "metadata": {},
   "source": [
    "# n -> infty ... Isothermal $\\gamma$ = 1"
   ]
  },
  {
   "cell_type": "markdown",
   "id": "8fe69d7f",
   "metadata": {},
   "source": [
    "## Creo arreglo de rhos y vels "
   ]
  },
  {
   "cell_type": "code",
   "execution_count": 12,
   "id": "51a99ee1",
   "metadata": {},
   "outputs": [
    {
     "name": "stdout",
     "output_type": "stream",
     "text": [
      "0 133000 23322\n",
      "1 133000 23322\n",
      "2 133000 23322\n",
      "3 133000 23322\n",
      "4 133000 37031\n",
      "5 133000 37031\n",
      "6 334000 37031\n",
      "7 334000 37031\n",
      "8 334000 64012\n",
      "9 334000 64012\n",
      "10 334000 64012\n",
      "11 334000 64012\n",
      "12 990900 124987\n",
      "13 990900 124987\n",
      "14 990900 124987\n",
      "15 990900 124987\n"
     ]
    }
   ],
   "source": [
    "rbArr=[]\n",
    "VelbArr=[]\n",
    "## ---- Rhos ----------------------------------------------------------------\n",
    "RhobArr=[]\n",
    "## -- version rapida:\n",
    "nro1=[133000,133000,133000,133000,133000,133000,\n",
    "      334000,334000,334000,334000,334000,334000,\n",
    "      990900,990900,990900,990900,990900,990900,\n",
    "      3500000,3500000,3500000,3500000,3500000,3500000,\n",
    "      3500000,3500000,3500000,3500000,3500000,3500000]\n",
    "#--\n",
    "for i,(j,k,l) in enumerate(zip(rs,vels,rhos)):\n",
    "    print(i, nro1[i], len(j.value))\n",
    "#--\n",
    "    idx1 = np.random.choice(np.arange(len(j.value)), len(j.value)-1, replace=False)\n",
    "    rb, velb, rhob = j.value[idx1], k.value[idx1], l.value[idx1]\n",
    "    rbArr.append(rb)\n",
    "    VelbArr.append(velb)\n",
    "    RhobArr.append(rhob)"
   ]
  },
  {
   "cell_type": "code",
   "execution_count": 13,
   "id": "c5abbf81",
   "metadata": {},
   "outputs": [
    {
     "name": "stdout",
     "output_type": "stream",
     "text": [
      "Time unit:  149.0892633095566 kyr\n"
     ]
    }
   ],
   "source": [
    "print(\"Time unit: \", ds_Gall[0].time_unit.in_units(\"kyr\"))"
   ]
  },
  {
   "cell_type": "code",
   "execution_count": 14,
   "id": "3c3ecaab",
   "metadata": {},
   "outputs": [
    {
     "data": {
      "text/plain": [
       "[GadgetDataset: all_aciis_0/snapshot_0005,\n",
       " GadgetDataset: all_aciis_0/snapshot_0010,\n",
       " GadgetDataset: all_aciis_0/snapshot_0015,\n",
       " GadgetDataset: all_aciis_0/snapshot_0019,\n",
       " GadgetDataset: all_aciis_1/snapshot_0005,\n",
       " GadgetDataset: all_aciis_1/snapshot_0010,\n",
       " GadgetDataset: all_aciis_1/snapshot_0015,\n",
       " GadgetDataset: all_aciis_1/snapshot_0019,\n",
       " GadgetDataset: all_aciis_2/snapshot_0005,\n",
       " GadgetDataset: all_aciis_2/snapshot_0010,\n",
       " GadgetDataset: all_aciis_2/snapshot_0015,\n",
       " GadgetDataset: all_aciis_2/snapshot_0019,\n",
       " GadgetDataset: all_aciis_3/snapshot_0005,\n",
       " GadgetDataset: all_aciis_3/snapshot_0010,\n",
       " GadgetDataset: all_aciis_3/snapshot_0015,\n",
       " GadgetDataset: all_aciis_3/snapshot_0019]"
      ]
     },
     "execution_count": 14,
     "metadata": {},
     "output_type": "execute_result"
    }
   ],
   "source": [
    "ds_Gall"
   ]
  },
  {
   "cell_type": "code",
   "execution_count": 15,
   "id": "1055eb07",
   "metadata": {},
   "outputs": [
    {
     "name": "stdout",
     "output_type": "stream",
     "text": [
      "0 snapshot_0005\n",
      "1 snapshot_0010\n",
      "2 snapshot_0015\n",
      "3 snapshot_0019\n",
      "4 snapshot_0005\n",
      "5 snapshot_0010\n",
      "6 snapshot_0015\n",
      "7 snapshot_0019\n",
      "8 snapshot_0005\n",
      "9 snapshot_0010\n",
      "10 snapshot_0015\n",
      "11 snapshot_0019\n",
      "12 snapshot_0005\n",
      "13 snapshot_0010\n",
      "14 snapshot_0015\n",
      "15 snapshot_0019\n"
     ]
    }
   ],
   "source": [
    "for i,ds1 in enumerate(ds_Gall):\n",
    "    print(i, ds1)"
   ]
  },
  {
   "cell_type": "markdown",
   "id": "cd2df356",
   "metadata": {},
   "source": [
    "# Gamma = 1"
   ]
  },
  {
   "cell_type": "markdown",
   "id": "e651aab3",
   "metadata": {},
   "source": [
    "# CS64"
   ]
  },
  {
   "cell_type": "code",
   "execution_count": null,
   "id": "fd022a85",
   "metadata": {},
   "outputs": [],
   "source": [
    "n=1\n",
    "# CS64\n",
    "model1='CS64;'\n",
    "nMod='1_1'\n",
    "Idx1=24; Idx2=25; Idx3=26; Idx4=27;  \n",
    "Idx5=28; Idx6=29;\n",
    "\n",
    "## -- Tiempo del ultimo --\n",
    "myUnit1='kyr'\n",
    "LastTime1=ds_Gall[Idx1].time_unit.in_units(myUnit1)\n",
    "LastTime1=round(LastTime1.item(0))*0.0\n",
    "## --\n",
    "LastTime2=ds_Gall[Idx2].time_unit.in_units(myUnit1)\n",
    "LastTime2=round(LastTime2.item(0))*0.05\n",
    "## --\n",
    "LastTime3=ds_Gall[Idx3].time_unit.in_units(myUnit1)\n",
    "LastTime3=round(LastTime3.item(0))*0.1\n",
    "## --\n",
    "LastTime4=ds_Gall[Idx4].time_unit.in_units(myUnit1)\n",
    "LastTime4=round(LastTime4.item(0))*0.15\n",
    "## --\n",
    "LastTime5=ds_Gall[Idx5].time_unit.in_units(myUnit1)\n",
    "LastTime5=round(LastTime5.item(0))*0.2\n",
    "## --\n",
    "\n",
    "## ----- Las imagenes --\n",
    "img1=plotBondiVelIndi(n,rbArr[Idx1],VelbArr[Idx1],model1,str(LastTime1)+' '+myUnit1)\n",
    "img2=plotBondiVelIndi(n,rbArr[Idx2],VelbArr[Idx2],model1,str(LastTime2)+' '+myUnit1)\n",
    "img3=plotBondiVelIndi(n,rbArr[Idx3],VelbArr[Idx3],model1,str(LastTime3)+' '+myUnit1)\n",
    "img4=plotBondiVelIndi(n,rbArr[Idx4],VelbArr[Idx4],model1,str(LastTime4)+' '+myUnit1)\n",
    "img5=plotBondiVelIndi(n,rbArr[Idx5],VelbArr[Idx5],model1,str(LastTime5)+' '+myUnit1)"
   ]
  },
  {
   "cell_type": "markdown",
   "id": "02d50084",
   "metadata": {},
   "source": [
    "# Cortes transversales ---"
   ]
  },
  {
   "cell_type": "code",
   "execution_count": 16,
   "id": "7da6436b",
   "metadata": {},
   "outputs": [
    {
     "name": "stdout",
     "output_type": "stream",
     "text": [
      "Object `annotate_timestamp` not found.\n"
     ]
    }
   ],
   "source": [
    "?annotate_timestamp"
   ]
  },
  {
   "cell_type": "code",
   "execution_count": 17,
   "id": "9713c0bc",
   "metadata": {},
   "outputs": [
    {
     "name": "stdout",
     "output_type": "stream",
     "text": [
      "Time unit:  149.0892633095566 kyr\n"
     ]
    }
   ],
   "source": [
    "print(\"Time unit: \", ds_Gall[1].time_unit.in_units(\"kyr\"))"
   ]
  },
  {
   "cell_type": "code",
   "execution_count": 19,
   "id": "27e28143",
   "metadata": {},
   "outputs": [
    {
     "data": {
      "text/plain": [
       "GadgetDataset: all_aciis_0/snapshot_0019"
      ]
     },
     "execution_count": 19,
     "metadata": {},
     "output_type": "execute_result"
    }
   ],
   "source": [
    "ds_Gall[3]"
   ]
  },
  {
   "cell_type": "code",
   "execution_count": 20,
   "id": "878645ed",
   "metadata": {},
   "outputs": [
    {
     "name": "stderr",
     "output_type": "stream",
     "text": [
      "yt : [INFO     ] 2022-02-24 12:16:57,744 xlim = -1.250000 1.250000\n",
      "yt : [INFO     ] 2022-02-24 12:16:57,744 ylim = -1.250000 1.250000\n",
      "yt : [INFO     ] 2022-02-24 12:16:57,746 xlim = -1.250000 1.250000\n",
      "yt : [INFO     ] 2022-02-24 12:16:57,747 ylim = -1.250000 1.250000\n",
      "yt : [INFO     ] 2022-02-24 12:16:57,750 Making a fixed resolution buffer of (('gas', 'density')) 800 by 800\n"
     ]
    },
    {
     "name": "stdout",
     "output_type": "stream",
     "text": [
      "center =  [-2.07984328 -2.0606308   2.07423353] code_length\n",
      "Este es el box:  25.000019598918 pc\n",
      "[-33.29845893 -33.10633394   8.24234178] pc\n",
      "[-8.29843933 -8.10631434 33.24236138] pc\n"
     ]
    },
    {
     "name": "stderr",
     "output_type": "stream",
     "text": [
      "/Users/josem/Desktop/Peiskos2020/CursoVAE101_v1/VAEtf1env/lib/python3.8/site-packages/yt/data_objects/data_containers.py:1421: VisibleDeprecationWarning: The requested field name 'x' is ambiguous and corresponds to any one of the following field types:\n",
      " {'Gas', 'gas', 'all'}\n",
      "Please specify the requested field as an explicit tuple (ftype, fname).\n",
      "Defaulting to '(\"gas\", \"x\")'.\n",
      "Deprecated since v4.0.0. This feature will be removed in v4.1.0\n",
      "  finfo = self.ds._get_field_info(field)\n",
      "yt : [INFO     ] 2022-02-24 12:16:59,609 Making a fixed resolution buffer of (('gas', 'x')) 800 by 800\n",
      "/Users/josem/Desktop/Peiskos2020/CursoVAE101_v1/VAEtf1env/lib/python3.8/site-packages/yt/data_objects/data_containers.py:1421: VisibleDeprecationWarning: The requested field name 'y' is ambiguous and corresponds to any one of the following field types:\n",
      " {'Gas', 'gas', 'all'}\n",
      "Please specify the requested field as an explicit tuple (ftype, fname).\n",
      "Defaulting to '(\"gas\", \"y\")'.\n",
      "Deprecated since v4.0.0. This feature will be removed in v4.1.0\n",
      "  finfo = self.ds._get_field_info(field)\n",
      "yt : [INFO     ] 2022-02-24 12:17:00,698 Making a fixed resolution buffer of (('gas', 'y')) 800 by 800\n",
      "/Users/josem/Desktop/Peiskos2020/CursoVAE101_v1/VAEtf1env/lib/python3.8/site-packages/yt/data_objects/data_containers.py:1421: VisibleDeprecationWarning: The requested field name 'density' is ambiguous and corresponds to any one of the following field types:\n",
      " {'gas', 'all'}\n",
      "Please specify the requested field as an explicit tuple (ftype, fname).\n",
      "Defaulting to '(\"gas\", \"density\")'.\n",
      "Deprecated since v4.0.0. This feature will be removed in v4.1.0\n",
      "  finfo = self.ds._get_field_info(field)\n"
     ]
    },
    {
     "data": {
      "text/html": [
       "<img style=\"max-width:100%;max-height:100%;\" src=\"data:image/png;base64,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\"><br>"
      ],
      "text/plain": [
       "<yt.visualization.plot_window.AxisAlignedSlicePlot at 0x11229ba60>"
      ]
     },
     "execution_count": 20,
     "metadata": {},
     "output_type": "execute_result"
    }
   ],
   "source": [
    "Idx = 3\n",
    "myUnit1='kyr'\n",
    "LastTime1=ds_Gall[Idx].time_unit.in_units(myUnit1)\n",
    "LastTime1=round(LastTime1.item(0))*0.2\n",
    "model1='CS64-1'\n",
    "\n",
    "\n",
    "ad = ds_Gall[Idx].all_data()\n",
    "### Aqui defino --\n",
    "density = ad[(\"Gas\",\"Density\")]\n",
    "internal= ad[(\"Gas\",\"InternalEnergy\")]\n",
    "\n",
    "#####\n",
    "wdens = np.where(density == np.max(density))\n",
    "coordinates = ad[(\"Gas\",\"Coordinates\")]\n",
    "center = coordinates[wdens][0]\n",
    "print('center = ',center)\n",
    "\n",
    "### Nueva caja\n",
    "new_box_size = ds_Gall[Idx].quan(2.5,'code_length')\n",
    "left_edge = center - new_box_size/2\n",
    "right_edge = center + new_box_size/2\n",
    "\n",
    "print('Este es el box: ', new_box_size.in_units('pc'))\n",
    "print(left_edge.in_units('pc'))\n",
    "print(right_edge.in_units('pc'))\n",
    "\n",
    "#####\n",
    "px = yt.SlicePlot(ds_Gall[Idx], 'z', ('gas', 'density'), \n",
    "#center=[0.,new_box_size/2,new_box_size/2], width=new_box_size,\n",
    "#origin='lower-left-window')\n",
    "center=[0,0,0], width=new_box_size,\n",
    "origin='center-window') #'lower-left-window'\n",
    "px.set_unit('x','code_length')\n",
    "px.set_unit('y','code_length')\n",
    "px.set_unit((\"gas\", \"density\"),'code_density')\n",
    "px.set_cmap(field=\"density\", cmap='jet') ## amfhot,jet\n",
    "\n",
    "\n",
    "\n",
    "px.annotate_text((-.5,.5), \"(a) \"+model1+'; t= '+str(LastTime1)+' '+myUnit1, \n",
    "                 coord_system=\"plot\",\n",
    "                 text_args={\"color\": \"white\", \"size\":26,\n",
    "                           'family': 'sans-serif', \n",
    "                           'style': 'italic'})"
   ]
  },
  {
   "cell_type": "code",
   "execution_count": 21,
   "id": "ba914486",
   "metadata": {},
   "outputs": [
    {
     "name": "stderr",
     "output_type": "stream",
     "text": [
      "yt : [INFO     ] 2022-02-24 12:17:06,066 Saving plot snapshot_0019_Slice_z_density.png\n"
     ]
    },
    {
     "data": {
      "text/plain": [
       "['snapshot_0019_Slice_z_density.png']"
      ]
     },
     "execution_count": 21,
     "metadata": {},
     "output_type": "execute_result"
    }
   ],
   "source": [
    "px.save()"
   ]
  },
  {
   "cell_type": "markdown",
   "id": "b9b35202",
   "metadata": {},
   "source": [
    "# Solving and Plotting semi-Analytical solutions"
   ]
  },
  {
   "cell_type": "code",
   "execution_count": 22,
   "id": "4c80c87e",
   "metadata": {},
   "outputs": [
    {
     "data": {
      "text/plain": [
       "32762325.318703752"
      ]
     },
     "execution_count": 22,
     "metadata": {},
     "output_type": "execute_result"
    }
   ],
   "source": [
    "TX=1.e7\n",
    "pc = 3.08568e+18\n",
    "BOLTZMANN  = 1.3806e-16\n",
    "PROTONMASS = 1.6726e-24\n",
    "HYDROGEN_MASSFRAC = 0.769\n",
    "mass_sun = 1.989e+33  ## g\n",
    "RHO0 = 1.0e-19        ## Density at infty\n",
    "Gnew = 6.672e-8       ##\n",
    "myPI = 3.14159\n",
    "Mbh  = 1.e+8*mass_sun ## Black hole mass\n",
    "## --\n",
    "#Rad0 = 3.08568025e+19 ## cm (10pc)\n",
    "myGamma=1.\n",
    "\n",
    "## \n",
    "Uvel = np.sqrt((myGamma * BOLTZMANN * TX)/(HYDROGEN_MASSFRAC*PROTONMASS))\n",
    "Uvel"
   ]
  },
  {
   "cell_type": "code",
   "execution_count": 23,
   "id": "da67fc5a",
   "metadata": {},
   "outputs": [
    {
     "data": {
      "text/plain": [
       "0.40067338799809643"
      ]
     },
     "execution_count": 23,
     "metadata": {},
     "output_type": "execute_result"
    }
   ],
   "source": [
    "Rb=Gnew* Mbh/(Uvel*Uvel) #3.*(Mbh/(1.e+8*mass_sun))/(TX/1.e+7)\n",
    "FactX=Rb/(Rad0)\n",
    "FactX"
   ]
  },
  {
   "cell_type": "code",
   "execution_count": 24,
   "id": "0ace6e0f",
   "metadata": {},
   "outputs": [
    {
     "data": {
      "text/plain": [
       "0.00010733699602885769"
      ]
     },
     "execution_count": 24,
     "metadata": {},
     "output_type": "execute_result"
    }
   ],
   "source": [
    "p_infty = BOLTZMANN*RHO0*TX/(HYDROGEN_MASSFRAC*PROTONMASS)\n",
    "p_infty"
   ]
  },
  {
   "cell_type": "markdown",
   "id": "78b77830",
   "metadata": {},
   "source": [
    "# Isothermal Model"
   ]
  },
  {
   "cell_type": "code",
   "execution_count": 25,
   "id": "014a4ea3",
   "metadata": {},
   "outputs": [],
   "source": [
    "with open('../Profiles_G1_v5.txt') as f:\n",
    "    lines1 = f.readlines()"
   ]
  },
  {
   "cell_type": "code",
   "execution_count": 26,
   "id": "2200901d",
   "metadata": {},
   "outputs": [
    {
     "data": {
      "text/plain": [
       "['0.00500\\t19.6094707874\\t2285.4717085060\\n',\n",
       " '0.00600\\t17.8439139149\\t1744.1712011540\\n',\n",
       " '0.00700\\t16.4694416177\\t1388.3749731020\\n',\n",
       " '0.00800\\t15.3597798998\\t1139.7688017180\\n',\n",
       " '0.00900\\t14.4392725456\\t957.9688748291\\n',\n",
       " '0.01000\\t13.6594572447\\t820.2538706454\\n',\n",
       " '0.01100\\t12.9876606813\\t712.9604313727\\n',\n",
       " '0.01200\\t12.4009437556\\t627.4288751636\\n',\n",
       " '0.01300\\t11.8826629917\\t557.9319689774\\n',\n",
       " '0.01400\\t11.4204090922\\t500.5460044881\\n']"
      ]
     },
     "execution_count": 26,
     "metadata": {},
     "output_type": "execute_result"
    }
   ],
   "source": [
    "lines1[:10]"
   ]
  },
  {
   "cell_type": "code",
   "execution_count": 27,
   "id": "d2750569",
   "metadata": {},
   "outputs": [],
   "source": [
    "Fact1 = 1.27 #\n",
    "Fact1k= 0.5 #\n",
    "Fact1Total = Fact1+Fact1k\n",
    "Fact2=0.001\n",
    "\n",
    "xIso=[]\n",
    "MIso=[]\n",
    "RhoIso=[]\n",
    "##\n",
    "xIsoT=[]\n",
    "MIsoT=[]\n",
    "RhoIsoT=[]\n",
    "\n",
    "for line in lines1[5:]:\n",
    "    xIso.append(FactX*np.float(line.split('\\t')[0]))\n",
    "    MIso.append(-Fact1*np.float(np.float(line.split('\\t')[1])))\n",
    "    RhoIso.append(Fact2 * np.float(np.float(line.split('\\t')[2])))\n",
    "    ### Total\n",
    "    xIsoT.append(FactX*np.float(line.split('\\t')[0]))\n",
    "    MIsoT.append(-Fact1*np.float(np.float(line.split('\\t')[1])))\n",
    "    RhoIsoT.append(Fact2 * np.float(np.float(line.split('\\t')[2])))\n",
    "#MIso"
   ]
  },
  {
   "cell_type": "code",
   "execution_count": 28,
   "id": "c4a3cdbb",
   "metadata": {},
   "outputs": [
    {
     "data": {
      "text/plain": [
       "1.77"
      ]
     },
     "execution_count": 28,
     "metadata": {},
     "output_type": "execute_result"
    }
   ],
   "source": [
    "Fact1Total"
   ]
  },
  {
   "cell_type": "code",
   "execution_count": 29,
   "id": "5f895861",
   "metadata": {
    "code_folding": [
     2,
     26
    ]
   },
   "outputs": [],
   "source": [
    "from scipy import interpolate\n",
    "\n",
    "def plotBondiVelRatio(n,rb,velb,lbs,i):\n",
    "    ## --- Estilo --\n",
    "    #plt.figure(figsize=(8,2))\n",
    "    putStyle(14,2,True,True)\n",
    "    ## -------------\n",
    "    # Interpolation\n",
    "    temp = interpolate.interp1d(xIso, MIso)\n",
    "    ## ---\n",
    "    ynew = temp(rb[np.where((np.min(xIso) < rb) & (rb < np.max(xIso)))])\n",
    "    xnew = rb[np.where((np.min(xIso) < rb) & (rb < np.max(xIso)))]\n",
    "    \n",
    "    \n",
    "    plt.scatter(xnew, (velb[np.where((np.min(xIso) < rb) & (rb < np.max(xIso)))] - ynew), 2)\n",
    "    #           2, label=str(lbs)+' $\\gamma$= '+str(n)+' t~'+str(i))\n",
    "    plt.axhline(y = 0., color = 'black', linestyle = '--')\n",
    "    ## ----------------------------------------------------\n",
    "    #plt.legend(loc='best')\n",
    "    plt.xlabel(r'$r~(u.c)$')\n",
    "    ## Limits--\n",
    "    plt.xscale(\"log\")\n",
    "    plt.xlim(0.005, 5.1)\n",
    "    plt.ylabel(r'Diff')\n",
    "    plt.ylim(-5, 5)\n",
    "    \n",
    "def plotBondiVelRatioT(n,rb,velb,lbs,i):\n",
    "    ## --- Estilo --\n",
    "    #plt.figure(figsize=(8,2))\n",
    "    putStyle(14,2,True,True)\n",
    "    ## -------------\n",
    "    # Interpolation\n",
    "    temp = interpolate.interp1d(xIsoT, MIsoT)\n",
    "    ## ---\n",
    "    ynew = temp(rb[np.where((np.min(xIsoT) < rb) & (rb < np.max(xIsoT)))])\n",
    "    xnew = rb[np.where((np.min(xIsoT) < rb) & (rb < np.max(xIsoT)))]\n",
    "    \n",
    "    \n",
    "    plt.scatter(xnew, (velb[np.where((np.min(xIsoT) < rb) & (rb < np.max(xIsoT)))] - ynew), 2)\n",
    "\n",
    "    plt.axhline(y = 0., color = 'black', linestyle = '--')\n",
    "    ## ----------------------------------------------------\n",
    "    #plt.legend(loc='best')\n",
    "    plt.xlabel(r'$r~(u.c)$')\n",
    "    ## Limits--\n",
    "    plt.xscale(\"log\")\n",
    "    plt.xlim(0.005, 5.1)\n",
    "    plt.ylabel(r'Diff')\n",
    "    plt.ylim(-5, 5)"
   ]
  },
  {
   "cell_type": "markdown",
   "id": "644757c1",
   "metadata": {},
   "source": [
    "# CS64 -1"
   ]
  },
  {
   "cell_type": "code",
   "execution_count": 30,
   "id": "0d74936d",
   "metadata": {},
   "outputs": [
    {
     "data": {
      "image/png": "[encoded data removed]",
      "text/plain": [
       "<Figure size 576x216 with 1 Axes>"
      ]
     },
     "metadata": {
      "needs_background": "light"
     },
     "output_type": "display_data"
    }
   ],
   "source": [
    "# plt.xscale(\"log\")\n",
    "plt.figure(figsize=(8,3))\n",
    "\n",
    "n=1\n",
    "# CS64-1\n",
    "model1='CS64-1'\n",
    "nMod='Final_Fig1'\n",
    "Idx2=0; Idx3=1; Idx4=2;  Idx5=3;\n",
    "\n",
    "## -- Tiempo del ultimo --\n",
    "myUnit1='kyr'\n",
    "## --\n",
    "LastTime2=ds_Gall[Idx2].time_unit.in_units(myUnit1)\n",
    "LastTime2=round(LastTime2.item(0)*0.05)\n",
    "## --\n",
    "LastTime3=ds_Gall[Idx3].time_unit.in_units(myUnit1)\n",
    "LastTime3=round(LastTime3.item(0)*0.1)\n",
    "## --\n",
    "LastTime4=ds_Gall[Idx4].time_unit.in_units(myUnit1)\n",
    "LastTime4=round(LastTime4.item(0)*0.15)\n",
    "## --\n",
    "LastTime5=ds_Gall[Idx5].time_unit.in_units(myUnit1)\n",
    "LastTime5=round(LastTime5.item(0)*0.19)\n",
    "## --\n",
    "\n",
    "\n",
    "\n",
    "## ----- Las imagenes --\n",
    "img2=plotBondiVelRatioT(n,rbArr[Idx2]*FactX,VelbArr[Idx2]/Fact1Total,model1,str(LastTime2)+' '+myUnit1)\n",
    "img3=plotBondiVelRatioT(n,rbArr[Idx3]*FactX,VelbArr[Idx3]/Fact1Total,model1,str(LastTime3)+' '+myUnit1)\n",
    "img4=plotBondiVelRatioT(n,rbArr[Idx4]*FactX,VelbArr[Idx4]/Fact1Total,model1,'1.35'+' '+myUnit1)\n",
    "img5=plotBondiVelRatioT(n,rbArr[Idx5]*FactX,VelbArr[Idx5]/Fact1Total,model1,str(LastTime5)+' '+myUnit1)\n",
    "\n",
    "\n",
    "plt.savefig(str(model1)+'_'+str(nMod)+'_Vel_Diff_v1.png')"
   ]
  },
  {
   "cell_type": "code",
   "execution_count": 31,
   "id": "a034124e",
   "metadata": {},
   "outputs": [
    {
     "data": {
      "image/png": "[encoded data removed]",
      "text/plain": [
       "<Figure size 576x576 with 1 Axes>"
      ]
     },
     "metadata": {
      "needs_background": "light"
     },
     "output_type": "display_data"
    }
   ],
   "source": [
    "plt.xscale(\"log\")\n",
    "#plt.figure(figsize=(8,6))\n",
    "\n",
    "n=1\n",
    "plt.plot(xIso,MIso,'black', \n",
    "         label='$\\gamma$= '+str(n)+'; Theoretical - Ramirez etal. 2021')\n",
    "\n",
    "\n",
    "# CS64-1\n",
    "model1='CS64-1'\n",
    "nMod='Final_Fig1'\n",
    "Idx2=0; Idx3=1; Idx4=2;  Idx5=3;\n",
    "\n",
    "## -- Tiempo del ultimo --\n",
    "myUnit1='kyr'\n",
    "## --\n",
    "LastTime2=ds_Gall[Idx2].time_unit.in_units(myUnit1)\n",
    "LastTime2=round(LastTime2.item(0)*0.05)\n",
    "## --\n",
    "LastTime3=ds_Gall[Idx3].time_unit.in_units(myUnit1)\n",
    "LastTime3=round(LastTime3.item(0)*0.1)\n",
    "## --\n",
    "LastTime4=ds_Gall[Idx4].time_unit.in_units(myUnit1)\n",
    "LastTime4=round(LastTime4.item(0)*0.15)\n",
    "## --\n",
    "LastTime5=ds_Gall[Idx5].time_unit.in_units(myUnit1)\n",
    "LastTime5=round(LastTime5.item(0)*0.19)\n",
    "## --\n",
    "\n",
    "\n",
    "\n",
    "## ----- Las imagenes --\n",
    "img2=plotBondiVelIndi(n,rbArr[Idx2]*FactX,VelbArr[Idx2]/Fact1Total,model1,str(LastTime2)+' '+myUnit1)\n",
    "img3=plotBondiVelIndi(n,rbArr[Idx3]*FactX,VelbArr[Idx3]/Fact1Total,model1,str(LastTime3)+' '+myUnit1)\n",
    "img4=plotBondiVelIndi(n,rbArr[Idx4]*FactX,VelbArr[Idx4]/Fact1Total,model1,str(LastTime4)+' '+myUnit1)\n",
    "img5=plotBondiVelIndi(n,rbArr[Idx5]*FactX,VelbArr[Idx5]/Fact1Total,model1,str(LastTime5)+' '+myUnit1)\n",
    "\n",
    "\n",
    "plt.savefig(str(model1)+'_'+str(nMod)+'_Vel_v1.png')"
   ]
  },
  {
   "cell_type": "code",
   "execution_count": null,
   "id": "1271b3c1",
   "metadata": {},
   "outputs": [],
   "source": [
    "plt.xscale(\"log\")\n",
    "#plt.figure(figsize=(8,6))\n",
    "\n",
    "n=1\n",
    "plt.plot(xIso, MIso,'black', \n",
    "         label='$\\gamma$= '+str(n)+'; Theoretical - Ramirez etal. 2021')\n",
    "\n",
    "\n",
    "# CS64-1\n",
    "model1='CS64-1'\n",
    "nMod='Final_Fig1_Total'\n",
    "Idx1=0; Idx2=1; Idx3=2; Idx4=3;  \n",
    "Idx5=4; Idx6=5; Idx7=6;\n",
    "\n",
    "## -- Tiempo del ultimo --\n",
    "myUnit1='kyr'\n",
    "## --\n",
    "LastTime2=ds_Gall[Idx2].time_unit.in_units(myUnit1)\n",
    "LastTime2=round(LastTime2.item(0))*0.05\n",
    "## --\n",
    "LastTime3=ds_Gall[Idx3].time_unit.in_units(myUnit1)\n",
    "LastTime3=round(LastTime3.item(0))*0.1\n",
    "## --\n",
    "LastTime4=ds_Gall[Idx4].time_unit.in_units(myUnit1)\n",
    "LastTime4=round(LastTime4.item(0)*0.15)\n",
    "## --\n",
    "LastTime5=ds_Gall[Idx5].time_unit.in_units(myUnit1)\n",
    "LastTime5=round(LastTime5.item(0))*0.2\n",
    "## --\n",
    "\n",
    "\n",
    "\n",
    "## ----- Las imagenes --\n",
    "img2=plotBondiVelIndi(n,rbArr[Idx2]*FactX,VelbArr[Idx2]/Fact1Total,model1,str(LastTime2)+' '+myUnit1)\n",
    "img3=plotBondiVelIndi(n,rbArr[Idx3]*FactX,VelbArr[Idx3]/Fact1Total,model1,str(LastTime3)+' '+myUnit1)\n",
    "img4=plotBondiVelIndi(n,rbArr[Idx4]*FactX,VelbArr[Idx4]/Fact1Total,model1,str(LastTime4)+' '+myUnit1)\n",
    "img5=plotBondiVelIndi(n,rbArr[Idx5]*FactX,VelbArr[Idx5]/Fact1Total,model1,str(LastTime5)+' '+myUnit1)\n",
    "\n",
    "\n",
    "plt.savefig(str(model1)+'_'+str(nMod)+'_Vel_v1.png')"
   ]
  },
  {
   "cell_type": "markdown",
   "id": "2ffd4ae9",
   "metadata": {},
   "source": [
    "# CS64-2"
   ]
  },
  {
   "cell_type": "code",
   "execution_count": 32,
   "id": "dc48c807",
   "metadata": {},
   "outputs": [
    {
     "data": {
      "image/png": "[encoded data removed]",
      "text/plain": [
       "<Figure size 576x216 with 1 Axes>"
      ]
     },
     "metadata": {
      "needs_background": "light"
     },
     "output_type": "display_data"
    }
   ],
   "source": [
    "# plt.xscale(\"log\")\n",
    "plt.figure(figsize=(8,3))\n",
    "\n",
    "n=1\n",
    "#plt.plot(xIso,MIso,'blue', \n",
    "#         label='$\\gamma$= '+str(n)+'; Theoretical - Ramirez etal. 2021')\n",
    "\n",
    "\n",
    "# W256\n",
    "model1='CS64-2'\n",
    "nMod='Final_Fig1'\n",
    "Idx2=4; Idx3=5; Idx4=6;  Idx5=7;\n",
    "\n",
    "## -- Tiempo del ultimo --\n",
    "myUnit1='kyr'\n",
    "## --\n",
    "LastTime2=ds_Gall[Idx2].time_unit.in_units(myUnit1)\n",
    "LastTime2=round(LastTime2.item(0)*0.05)\n",
    "## --\n",
    "LastTime3=ds_Gall[Idx3].time_unit.in_units(myUnit1)\n",
    "LastTime3=round(LastTime3.item(0)*0.1)\n",
    "## --\n",
    "LastTime4=ds_Gall[Idx4].time_unit.in_units(myUnit1)\n",
    "LastTime4=round(LastTime4.item(0)*0.15)\n",
    "## --\n",
    "LastTime5=ds_Gall[Idx5].time_unit.in_units(myUnit1)\n",
    "LastTime5=round(LastTime5.item(0)*0.19)\n",
    "## --\n",
    "\n",
    "\n",
    "\n",
    "## ----- Las imagenes --\n",
    "img2=plotBondiVelRatioT(n,rbArr[Idx2]*FactX,VelbArr[Idx2]/Fact1Total,model1,str(LastTime2)+' '+myUnit1)\n",
    "img3=plotBondiVelRatioT(n,rbArr[Idx3]*FactX,VelbArr[Idx3]/Fact1Total,model1,str(LastTime3)+' '+myUnit1)\n",
    "img4=plotBondiVelRatioT(n,rbArr[Idx4]*FactX,VelbArr[Idx4]/Fact1Total,model1,'22.4'+' '+myUnit1)\n",
    "img5=plotBondiVelRatioT(n,rbArr[Idx5]*FactX,VelbArr[Idx5]/Fact1Total,model1,str(LastTime5)+' '+myUnit1)\n",
    "\n",
    "\n",
    "plt.savefig(str(model1)+'_'+str(nMod)+'_Vel_Diff_v1.png')"
   ]
  },
  {
   "cell_type": "code",
   "execution_count": 33,
   "id": "fd0802ca",
   "metadata": {},
   "outputs": [
    {
     "data": {
      "image/png": "[encoded data removed]",
      "text/plain": [
       "<Figure size 576x576 with 1 Axes>"
      ]
     },
     "metadata": {
      "needs_background": "light"
     },
     "output_type": "display_data"
    }
   ],
   "source": [
    "plt.xscale(\"log\")\n",
    "#plt.figure(figsize=(8,6))\n",
    "\n",
    "n=1\n",
    "plt.plot(xIso,MIso,'black', \n",
    "         label='$\\gamma$= '+str(n)+'; Theoretical - Ramirez etal. 2021')\n",
    "\n",
    "\n",
    "# W256\n",
    "model1='CS64-2'\n",
    "nMod='Final_Fig1'\n",
    "Idx2=4; Idx3=5; Idx4=6;  Idx5=7;\n",
    "\n",
    "## -- Tiempo del ultimo --\n",
    "myUnit1='kyr'\n",
    "## --\n",
    "LastTime2=ds_Gall[Idx2].time_unit.in_units(myUnit1)\n",
    "LastTime2=round(LastTime2.item(0)*0.05)\n",
    "## --\n",
    "LastTime3=ds_Gall[Idx3].time_unit.in_units(myUnit1)\n",
    "LastTime3=round(LastTime3.item(0)*0.1)\n",
    "## --\n",
    "LastTime4=ds_Gall[Idx4].time_unit.in_units(myUnit1)\n",
    "LastTime4=round(LastTime4.item(0)*0.15)\n",
    "## --\n",
    "LastTime5=ds_Gall[Idx5].time_unit.in_units(myUnit1)\n",
    "LastTime5=round(LastTime5.item(0)*0.19)\n",
    "## --\n",
    "\n",
    "\n",
    "\n",
    "## ----- Las imagenes --\n",
    "img2=plotBondiVelIndi(n,rbArr[Idx2]*FactX,VelbArr[Idx2]/Fact1Total,model1,str(LastTime2)+' '+myUnit1)\n",
    "img3=plotBondiVelIndi(n,rbArr[Idx3]*FactX,VelbArr[Idx3]/Fact1Total,model1,str(LastTime3)+' '+myUnit1)\n",
    "img4=plotBondiVelIndi(n,rbArr[Idx4]*FactX,VelbArr[Idx4]/Fact1Total,model1,str(LastTime4)+' '+myUnit1)\n",
    "img5=plotBondiVelIndi(n,rbArr[Idx5]*FactX,VelbArr[Idx5]/Fact1Total,model1,str(LastTime5)+' '+myUnit1)\n",
    "\n",
    "\n",
    "plt.savefig(str(model1)+'_'+str(nMod)+'_Vel_v1.png')"
   ]
  },
  {
   "cell_type": "markdown",
   "id": "7d5a9f5c",
   "metadata": {},
   "source": [
    "# CS64-3"
   ]
  },
  {
   "cell_type": "code",
   "execution_count": 34,
   "id": "4cad37e0",
   "metadata": {},
   "outputs": [
    {
     "data": {
      "image/png": "[encoded data removed]",
      "text/plain": [
       "<Figure size 576x216 with 1 Axes>"
      ]
     },
     "metadata": {
      "needs_background": "light"
     },
     "output_type": "display_data"
    }
   ],
   "source": [
    "# plt.xscale(\"log\")\n",
    "plt.figure(figsize=(8,3))\n",
    "\n",
    "n=1\n",
    "#plt.plot(xIso,MIso,'blue', \n",
    "#         label='$\\gamma$= '+str(n)+'; Theoretical - Ramirez etal. 2021')\n",
    "\n",
    "\n",
    "# W256\n",
    "model1='CS64-3'\n",
    "nMod='Final_Fig1'\n",
    "Idx2=8; Idx3=9; Idx4=10;  Idx5=11;\n",
    "\n",
    "## -- Tiempo del ultimo --\n",
    "myUnit1='kyr'\n",
    "## --\n",
    "LastTime2=ds_Gall[Idx2].time_unit.in_units(myUnit1)\n",
    "LastTime2=round(LastTime2.item(0)*0.05)\n",
    "## --\n",
    "LastTime3=ds_Gall[Idx3].time_unit.in_units(myUnit1)\n",
    "LastTime3=round(LastTime3.item(0)*0.1)\n",
    "## --\n",
    "LastTime4=ds_Gall[Idx4].time_unit.in_units(myUnit1)\n",
    "LastTime4=round(LastTime4.item(0)*0.15)\n",
    "## --\n",
    "LastTime5=ds_Gall[Idx5].time_unit.in_units(myUnit1)\n",
    "LastTime5=round(LastTime5.item(0)*0.19)\n",
    "## --\n",
    "\n",
    "\n",
    "\n",
    "## ----- Las imagenes --\n",
    "img2=plotBondiVelRatio(n,rbArr[Idx2]*FactX,VelbArr[Idx2]/Fact1Total,model1,str(LastTime2)+' '+myUnit1)\n",
    "img3=plotBondiVelRatio(n,rbArr[Idx3]*FactX,VelbArr[Idx3]/Fact1Total,model1,str(LastTime3)+' '+myUnit1)\n",
    "img4=plotBondiVelRatio(n,rbArr[Idx4]*FactX,VelbArr[Idx4]/Fact1Total,model1,'22.4'+' '+myUnit1)\n",
    "img5=plotBondiVelRatio(n,rbArr[Idx5]*FactX,VelbArr[Idx5]/Fact1Total,model1,str(LastTime5)+' '+myUnit1)\n",
    "\n",
    "\n",
    "plt.savefig(str(model1)+'_'+str(nMod)+'_Vel_Diff_v1.png')"
   ]
  },
  {
   "cell_type": "code",
   "execution_count": 35,
   "id": "83b81b2e",
   "metadata": {},
   "outputs": [
    {
     "data": {
      "image/png": "[encoded data removed]",
      "text/plain": [
       "<Figure size 576x576 with 1 Axes>"
      ]
     },
     "metadata": {
      "needs_background": "light"
     },
     "output_type": "display_data"
    }
   ],
   "source": [
    "plt.xscale(\"log\")\n",
    "#plt.figure(figsize=(8,6))\n",
    "\n",
    "n=1\n",
    "plt.plot(xIso,MIso,'black', \n",
    "         label='$\\gamma$= '+str(n)+'; Theoretical - Ramirez etal. 2021')\n",
    "\n",
    "\n",
    "# W256\n",
    "model1='CS64-3'\n",
    "nMod='Final_Fig1'\n",
    "Idx2=8; Idx3=9; Idx4=10;  Idx5=11;\n",
    "\n",
    "## -- Tiempo del ultimo --\n",
    "myUnit1='kyr'\n",
    "## --\n",
    "LastTime2=ds_Gall[Idx2].time_unit.in_units(myUnit1)\n",
    "LastTime2=round(LastTime2.item(0)*0.05)\n",
    "## --\n",
    "LastTime3=ds_Gall[Idx3].time_unit.in_units(myUnit1)\n",
    "LastTime3=round(LastTime3.item(0)*0.1)\n",
    "## --\n",
    "LastTime4=ds_Gall[Idx4].time_unit.in_units(myUnit1)\n",
    "LastTime4=round(LastTime4.item(0)*0.15)\n",
    "## --\n",
    "LastTime5=ds_Gall[Idx5].time_unit.in_units(myUnit1)\n",
    "LastTime5=round(LastTime5.item(0)*0.19)\n",
    "## --\n",
    "\n",
    "\n",
    "\n",
    "## ----- Las imagenes --\n",
    "img2=plotBondiVelIndi(n,rbArr[Idx2]*FactX,VelbArr[Idx2]/Fact1Total,model1,str(LastTime2)+' '+myUnit1)\n",
    "img3=plotBondiVelIndi(n,rbArr[Idx3]*FactX,VelbArr[Idx3]/Fact1Total,model1,str(LastTime3)+' '+myUnit1)\n",
    "img4=plotBondiVelIndi(n,rbArr[Idx4]*FactX,VelbArr[Idx4]/Fact1Total,model1,str(LastTime4)+' '+myUnit1)\n",
    "img5=plotBondiVelIndi(n,rbArr[Idx5]*FactX,VelbArr[Idx5]/Fact1Total,model1,str(LastTime5)+' '+myUnit1)\n",
    "\n",
    "\n",
    "plt.savefig(str(model1)+'_'+str(nMod)+'_Vel_v1.png')"
   ]
  },
  {
   "cell_type": "markdown",
   "id": "4b200008",
   "metadata": {},
   "source": [
    "# CS64-4"
   ]
  },
  {
   "cell_type": "code",
   "execution_count": 36,
   "id": "4b8f7b71",
   "metadata": {},
   "outputs": [
    {
     "data": {
      "image/png": "[encoded data removed]",
      "text/plain": [
       "<Figure size 576x216 with 1 Axes>"
      ]
     },
     "metadata": {
      "needs_background": "light"
     },
     "output_type": "display_data"
    }
   ],
   "source": [
    "# plt.xscale(\"log\")\n",
    "plt.figure(figsize=(8,3))\n",
    "\n",
    "n=1\n",
    "#plt.plot(xIso,MIso,'blue', \n",
    "#         label='$\\gamma$= '+str(n)+'; Theoretical - Ramirez etal. 2021')\n",
    "\n",
    "\n",
    "# W256\n",
    "model1='CS64-4'\n",
    "nMod='Final_Fig1'\n",
    "Idx2=12; Idx3=13; Idx4=14;  Idx5=15;\n",
    "\n",
    "## -- Tiempo del ultimo --\n",
    "myUnit1='kyr'\n",
    "## --\n",
    "LastTime2=ds_Gall[Idx2].time_unit.in_units(myUnit1)\n",
    "LastTime2=round(LastTime2.item(0)*0.05)\n",
    "## --\n",
    "LastTime3=ds_Gall[Idx3].time_unit.in_units(myUnit1)\n",
    "LastTime3=round(LastTime3.item(0)*0.1)\n",
    "## --\n",
    "LastTime4=ds_Gall[Idx4].time_unit.in_units(myUnit1)\n",
    "LastTime4=round(LastTime4.item(0)*0.15)\n",
    "## --\n",
    "LastTime5=ds_Gall[Idx5].time_unit.in_units(myUnit1)\n",
    "LastTime5=round(LastTime5.item(0)*0.19)\n",
    "## --\n",
    "\n",
    "\n",
    "\n",
    "## ----- Las imagenes --\n",
    "img2=plotBondiVelRatio(n,rbArr[Idx2]*FactX,VelbArr[Idx2]/Fact1Total,model1,str(LastTime2)+' '+myUnit1)\n",
    "img3=plotBondiVelRatio(n,rbArr[Idx3]*FactX,VelbArr[Idx3]/Fact1Total,model1,str(LastTime3)+' '+myUnit1)\n",
    "img4=plotBondiVelRatio(n,rbArr[Idx4]*FactX,VelbArr[Idx4]/Fact1Total,model1,'22.4'+' '+myUnit1)\n",
    "img5=plotBondiVelRatio(n,rbArr[Idx5]*FactX,VelbArr[Idx5]/Fact1Total,model1,str(LastTime5)+' '+myUnit1)\n",
    "\n",
    "\n",
    "plt.savefig(str(model1)+'_'+str(nMod)+'_Vel_Diff_v1.png')"
   ]
  },
  {
   "cell_type": "code",
   "execution_count": 37,
   "id": "ebd856c4",
   "metadata": {},
   "outputs": [
    {
     "data": {
      "image/png": "[encoded data removed]",
      "text/plain": [
       "<Figure size 576x576 with 1 Axes>"
      ]
     },
     "metadata": {
      "needs_background": "light"
     },
     "output_type": "display_data"
    }
   ],
   "source": [
    "plt.xscale(\"log\")\n",
    "#plt.figure(figsize=(8,6))\n",
    "\n",
    "n=1\n",
    "plt.plot(xIso,MIso,'black', \n",
    "         label='$\\gamma$= '+str(n)+'; Theoretical - Ramirez etal. 2021')\n",
    "\n",
    "\n",
    "# W256\n",
    "model1='CS64-4'\n",
    "nMod='Final_Fig1'\n",
    "Idx2=12; Idx3=13; Idx4=14;  Idx5=15;\n",
    "\n",
    "## -- Tiempo del ultimo --\n",
    "myUnit1='kyr'\n",
    "## --\n",
    "LastTime2=ds_Gall[Idx2].time_unit.in_units(myUnit1)\n",
    "LastTime2=round(LastTime2.item(0)*0.05)\n",
    "## --\n",
    "LastTime3=ds_Gall[Idx3].time_unit.in_units(myUnit1)\n",
    "LastTime3=round(LastTime3.item(0)*0.1)\n",
    "## --\n",
    "LastTime4=ds_Gall[Idx4].time_unit.in_units(myUnit1)\n",
    "LastTime4=round(LastTime4.item(0)*0.15)\n",
    "## --\n",
    "LastTime5=ds_Gall[Idx5].time_unit.in_units(myUnit1)\n",
    "LastTime5=round(LastTime5.item(0)*0.19)\n",
    "## --\n",
    "\n",
    "\n",
    "\n",
    "## ----- Las imagenes --\n",
    "img2=plotBondiVelIndi(n,rbArr[Idx2]*FactX,VelbArr[Idx2]/Fact1Total,model1,str(LastTime2)+' '+myUnit1)\n",
    "img3=plotBondiVelIndi(n,rbArr[Idx3]*FactX,VelbArr[Idx3]/Fact1Total,model1,str(LastTime3)+' '+myUnit1)\n",
    "img4=plotBondiVelIndi(n,rbArr[Idx4]*FactX,VelbArr[Idx4]/Fact1Total,model1,str(LastTime4)+' '+myUnit1)\n",
    "img5=plotBondiVelIndi(n,rbArr[Idx5]*FactX,VelbArr[Idx5]/Fact1Total,model1,str(LastTime5)+' '+myUnit1)\n",
    "\n",
    "\n",
    "plt.savefig(str(model1)+'_'+str(nMod)+'_Vel_v1.png')"
   ]
  },
  {
   "cell_type": "markdown",
   "id": "3fccef6b",
   "metadata": {},
   "source": [
    "# CS64-5 Con 4m particles"
   ]
  },
  {
   "cell_type": "code",
   "execution_count": null,
   "id": "a9626a22",
   "metadata": {},
   "outputs": [],
   "source": [
    "# plt.xscale(\"log\")\n",
    "plt.figure(figsize=(8,3))\n",
    "\n",
    "n=1\n",
    "#plt.plot(xIso,MIso,'blue', \n",
    "#         label='$\\gamma$= '+str(n)+'; Theoretical - Ramirez etal. 2021')\n",
    "\n",
    "\n",
    "# CS64-5\n",
    "model1='CS64-5'\n",
    "nMod='Final_Fig1'\n",
    "Idx1=24; Idx2=25; Idx3=26; Idx4=27;  \n",
    "Idx5=28; Idx6=29;\n",
    "\n",
    "## -- Tiempo del ultimo --\n",
    "myUnit1='kyr'\n",
    "LastTime1=ds_Gall[Idx1].time_unit.in_units(myUnit1)\n",
    "LastTime1=round(LastTime1.item(0))*0.0\n",
    "## --\n",
    "LastTime2=ds_Gall[Idx2].time_unit.in_units(myUnit1)\n",
    "LastTime2=round(LastTime2.item(0))*0.05\n",
    "## --\n",
    "LastTime3=ds_Gall[Idx3].time_unit.in_units(myUnit1)\n",
    "LastTime3=round(LastTime3.item(0))*0.1\n",
    "## --\n",
    "LastTime4=ds_Gall[Idx4].time_unit.in_units(myUnit1)\n",
    "LastTime4=round(LastTime4.item(0)*0.15)\n",
    "## --\n",
    "LastTime5=ds_Gall[Idx5].time_unit.in_units(myUnit1)\n",
    "LastTime5=round(LastTime5.item(0))*0.2\n",
    "## --\n",
    "\n",
    "\n",
    "\n",
    "## ----- Las imagenes --\n",
    "img2=plotBondiVelRatio(n,rbArr[Idx2]*FactX,VelbArr[Idx2]/Fact1,model1,str(LastTime2)+' '+myUnit1)\n",
    "img3=plotBondiVelRatio(n,rbArr[Idx3]*FactX,VelbArr[Idx3]/Fact1,model1,str(LastTime3)+' '+myUnit1)\n",
    "img4=plotBondiVelRatio(n,rbArr[Idx4]*FactX,VelbArr[Idx4]/Fact1,model1,'22.4'+' '+myUnit1)\n",
    "img5=plotBondiVelRatio(n,rbArr[Idx5]*FactX,VelbArr[Idx5]/Fact1,model1,str(LastTime5)+' '+myUnit1)\n",
    "\n",
    "\n",
    "plt.savefig(str(model1)+'_'+str(nMod)+'_Vel_Diff_v1.png')"
   ]
  },
  {
   "cell_type": "code",
   "execution_count": null,
   "id": "e83365a2",
   "metadata": {},
   "outputs": [],
   "source": [
    "plt.xscale(\"log\")\n",
    "#plt.figure(figsize=(8,6))\n",
    "\n",
    "n=1\n",
    "plt.plot(xIso,MIso,'black', \n",
    "         label='$\\gamma$= '+str(n)+'; Theoretical - Ramirez etal. 2021')\n",
    "\n",
    "\n",
    "# W256\n",
    "model1='CS64-5'\n",
    "nMod='Final_Fig1'\n",
    "Idx1=24; Idx2=25; Idx3=26; Idx4=27;  \n",
    "Idx5=28; Idx6=29;\n",
    "\n",
    "## -- Tiempo del ultimo --\n",
    "myUnit1='kyr'\n",
    "LastTime1=ds_Gall[Idx1].time_unit.in_units(myUnit1)\n",
    "LastTime1=round(LastTime1.item(0))*0.0\n",
    "## --\n",
    "LastTime2=ds_Gall[Idx2].time_unit.in_units(myUnit1)\n",
    "LastTime2=round(LastTime2.item(0))*0.05\n",
    "## --\n",
    "LastTime3=ds_Gall[Idx3].time_unit.in_units(myUnit1)\n",
    "LastTime3=round(LastTime3.item(0))*0.1\n",
    "## --\n",
    "LastTime4=ds_Gall[Idx4].time_unit.in_units(myUnit1)\n",
    "LastTime4=round(LastTime4.item(0)*0.15)\n",
    "## --\n",
    "LastTime5=ds_Gall[Idx5].time_unit.in_units(myUnit1)\n",
    "LastTime5=round(LastTime5.item(0))*0.2\n",
    "## --\n",
    "\n",
    "\n",
    "\n",
    "## ----- Las imagenes --\n",
    "img2=plotBondiVelIndi(n,rbArr[Idx2],VelbArr[Idx2],model1,str(LastTime2)+' '+myUnit1)\n",
    "#img3=plotBondiVelIndi(n,rbArr[Idx3]*FactX,VelbArr[Idx3]/Fact1,model1,str(LastTime3)+' '+myUnit1)\n",
    "#img4=plotBondiVelIndi(n,rbArr[Idx4]*FactX,VelbArr[Idx4]/Fact1,model1,str(LastTime4)+' '+myUnit1)\n",
    "#img5=plotBondiVelIndi(n,rbArr[Idx5]*FactX,VelbArr[Idx5]/Fact1,model1,str(LastTime5)+' '+myUnit1)\n",
    "\n",
    "\n",
    "plt.savefig(str(model1)+'_'+str(nMod)+'_Vel_v1.png')"
   ]
  },
  {
   "cell_type": "markdown",
   "id": "d46e79d1",
   "metadata": {},
   "source": [
    "# TEST "
   ]
  },
  {
   "cell_type": "code",
   "execution_count": null,
   "id": "d3c1b189",
   "metadata": {},
   "outputs": [],
   "source": [
    "plt.xscale(\"log\")\n",
    "#plt.figure(figsize=(8,6))\n",
    "\n",
    "n=1\n",
    "plt.plot(xIso,MIso,'black', \n",
    "         label='$\\gamma$= '+str(n)+'; Theoretical - Ramirez etal. 2021')\n",
    "\n",
    "\n",
    "# W256\n",
    "model1='CS64-5'\n",
    "nMod='Final_Fig1'\n",
    "Idx2=0;\n",
    "\n",
    "## -- Tiempo del ultimo --\n",
    "myUnit1='kyr'\n",
    "## --\n",
    "LastTime2=ds_Gall[Idx2].time_unit.in_units(myUnit1)\n",
    "LastTime2=round(LastTime2.item(0))*0.05\n",
    "## --\n",
    "\n",
    "\n",
    "## ----- Las imagenes --\n",
    "img2=plotBondiVelRatio(n,rbArr[Idx2],VelbArr[Idx2],model1,str(LastTime2)+' '+myUnit1)\n",
    "\n",
    "plt.savefig(str(model1)+'_'+str(nMod)+'_Vel_v1.png')"
   ]
  },
  {
   "cell_type": "code",
   "execution_count": null,
   "id": "7683ad2a",
   "metadata": {},
   "outputs": [],
   "source": [
    "plt.xscale(\"log\")\n",
    "#plt.figure(figsize=(8,6))\n",
    "\n",
    "n=1\n",
    "plt.plot(xIso,MIso,'black', \n",
    "         label='$\\gamma$= '+str(n)+'; Theoretical - Ramirez etal. 2021')\n",
    "\n",
    "\n",
    "# CS64-1\n",
    "model1='CS64-1'\n",
    "nMod='Final_Fig1'\n",
    "Idx1=0; Idx2=0; Idx3=1; Idx4=2;\n",
    "\n",
    "## -- Tiempo del ultimo --\n",
    "myUnit1='kyr'\n",
    "## --\n",
    "LastTime1=ds_Gall[Idx1].time_unit.in_units(myUnit1)\n",
    "LastTime1=round(LastTime1.item(0))*0.05\n",
    "## --\n",
    "LastTime2=ds_Gall[Idx2].time_unit.in_units(myUnit1)\n",
    "LastTime2=round(LastTime2.item(0))*0.05\n",
    "\n",
    "\n",
    "\n",
    "## ----- Las imagenes --\n",
    "img1=plotBondiVelIndi(n,rbArr[Idx1],VelbArr[Idx1],model1,str(LastTime2)+' '+myUnit1)\n",
    "img2=plotBondiVelIndi(n,rbArr[Idx2],VelbArr[Idx2],model1,str(LastTime2)+' '+myUnit1)\n",
    "\n",
    "\n",
    "#plt.savefig(str(model1)+'_'+str(nMod)+'_Vel_v1.png')"
   ]
  },
  {
   "cell_type": "code",
   "execution_count": null,
   "id": "e9b4762f",
   "metadata": {},
   "outputs": [],
   "source": [
    "## Los otros dos \n",
    "plt.xscale(\"log\")\n",
    "#plt.figure(figsize=(8,6))\n",
    "\n",
    "n=1\n",
    "plt.plot(xIso,MIso,'black', \n",
    "         label='$\\gamma$= '+str(n)+'; Theoretical - Ramirez etal. 2021')\n",
    "\n",
    "\n",
    "# CS64-1\n",
    "model1='CS64-1'\n",
    "nMod='Final_Fig1'\n",
    "Idx1=2; Idx2=3;\n",
    "## -- Tiempo del ultimo --\n",
    "myUnit1='kyr'\n",
    "## --\n",
    "LastTime1=ds_Gall[Idx1].time_unit.in_units(myUnit1)\n",
    "LastTime1=round(LastTime1.item(0))*0.05\n",
    "## --\n",
    "LastTime2=ds_Gall[Idx2].time_unit.in_units(myUnit1)\n",
    "LastTime2=round(LastTime2.item(0))*0.05\n",
    "\n",
    "\n",
    "## ----- Las imagenes --\n",
    "img1=plotBondiVelIndi(n,rbArr[Idx1],VelbArr[Idx1],model1,str(LastTime2)+' '+myUnit1)\n",
    "img2=plotBondiVelIndi(n,rbArr[Idx2],VelbArr[Idx2],model1,str(LastTime2)+' '+myUnit1)"
   ]
  },
  {
   "cell_type": "code",
   "execution_count": null,
   "id": "12191662",
   "metadata": {},
   "outputs": [],
   "source": []
  }
 ],
 "metadata": {
  "kernelspec": {
   "display_name": "vaetf1env",
   "language": "python",
   "name": "vaetf1env"
  },
  "language_info": {
   "codemirror_mode": {
    "name": "ipython",
    "version": 3
   },
   "file_extension": ".py",
   "mimetype": "text/x-python",
   "name": "python",
   "nbconvert_exporter": "python",
   "pygments_lexer": "ipython3",
   "version": "3.8.12"
  }
 },
 "nbformat": 4,
 "nbformat_minor": 5
}
