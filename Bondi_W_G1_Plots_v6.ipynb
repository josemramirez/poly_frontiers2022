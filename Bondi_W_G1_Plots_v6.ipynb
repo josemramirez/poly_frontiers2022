{
 "cells": [
  {
   "cell_type": "markdown",
   "id": "f8f7c3e1",
   "metadata": {},
   "source": [
    "# Frontiers, Bondi Eqs. with consistency"
   ]
  },
  {
   "cell_type": "code",
   "execution_count": 1,
   "id": "516b14ea",
   "metadata": {},
   "outputs": [
    {
     "data": {
      "text/plain": [
       "<Figure size 432x288 with 0 Axes>"
      ]
     },
     "metadata": {},
     "output_type": "display_data"
    }
   ],
   "source": [
    "import yt\n",
    "from yt.units import kpc\n",
    "import numpy as np\n",
    "import yt.visualization.eps_writer as eps\n",
    "import matplotlib.pyplot as plt\n",
    "from yt import derived_field\n",
    "from matplotlib import pylab\n",
    "from yt.mods import * # set up our namespace\n",
    "from mpl_toolkits.axes_grid1 import AxesGrid\n",
    "from os.path import exists\n",
    "\n",
    "fig = plt.figure()\n",
    "########################################\n",
    "\n",
    "#### -----\n",
    "def putStyle(sFont,syT,top1,R1):\n",
    "    import matplotlib as mpl\n",
    "    import matplotlib.style as style\n",
    "    style.available\n",
    "\n",
    "    # General plot parameters\n",
    "    mpl.rcParams['font.family'] = 'Avenir'\n",
    "    mpl.rcParams['font.size'] = sFont\n",
    "    mpl.rcParams['axes.linewidth'] = 4\n",
    "    mpl.rcParams['axes.spines.bottom'] = top1\n",
    "    mpl.rcParams['axes.spines.right'] = R1\n",
    "    mpl.rcParams['xtick.major.size'] = 10\n",
    "    mpl.rcParams['xtick.major.width'] = 2\n",
    "    mpl.rcParams['ytick.major.size'] = 10\n",
    "    mpl.rcParams['ytick.major.width'] = syT\n",
    "    mpl.rcParams['lines.linewidth']= 3\n",
    "    mpl.rcParams[\"figure.figsize\"] = (8,8)"
   ]
  },
  {
   "cell_type": "code",
   "execution_count": 2,
   "id": "6c113479",
   "metadata": {},
   "outputs": [],
   "source": [
    "## 10pc\n",
    "Rad0=3.08568e+19\n",
    "Vel00=3.63317e7\n",
    "Vel0=3.63317e7 #\n",
    "\n",
    "\n",
    "unit_base = {'UnitLength_in_cm'         :   Rad0,\n",
    "             'UnitMass_in_g'            :   1.98892e+40,\n",
    "             'UnitVelocity_in_cm_per_s' :   Vel0,\n",
    "             'GravityConstantInternal'  :   0,\n",
    "             }\n",
    "\n",
    "bbox_lim = 20.0 #codelength\n",
    "\n",
    "bbox = [[-bbox_lim,bbox_lim],\n",
    "        [-bbox_lim,bbox_lim],\n",
    "        [-bbox_lim,bbox_lim]]"
   ]
  },
  {
   "cell_type": "code",
   "execution_count": 3,
   "id": "fb651775",
   "metadata": {},
   "outputs": [
    {
     "name": "stderr",
     "output_type": "stream",
     "text": [
      "yt : [INFO     ] 2022-02-16 09:17:11,771 Omega Lambda is 0.0, so we are turning off Cosmology.\n",
      "yt : [INFO     ] 2022-02-16 09:17:11,849 Parameters: current_time              = 0.0\n",
      "yt : [INFO     ] 2022-02-16 09:17:11,850 Parameters: domain_dimensions         = [1 1 1]\n",
      "yt : [INFO     ] 2022-02-16 09:17:11,851 Parameters: domain_left_edge          = [-20. -20. -20.]\n",
      "yt : [INFO     ] 2022-02-16 09:17:11,851 Parameters: domain_right_edge         = [20. 20. 20.]\n",
      "yt : [INFO     ] 2022-02-16 09:17:11,852 Parameters: cosmological_simulation   = 0\n",
      "yt : [INFO     ] 2022-02-16 09:17:11,864 Omega Lambda is 0.0, so we are turning off Cosmology.\n",
      "yt : [INFO     ] 2022-02-16 09:17:11,938 Parameters: current_time              = 0.05\n",
      "yt : [INFO     ] 2022-02-16 09:17:11,939 Parameters: domain_dimensions         = [1 1 1]\n",
      "yt : [INFO     ] 2022-02-16 09:17:11,940 Parameters: domain_left_edge          = [-20. -20. -20.]\n",
      "yt : [INFO     ] 2022-02-16 09:17:11,941 Parameters: domain_right_edge         = [20. 20. 20.]\n",
      "yt : [INFO     ] 2022-02-16 09:17:11,942 Parameters: cosmological_simulation   = 0\n",
      "yt : [INFO     ] 2022-02-16 09:17:11,954 Omega Lambda is 0.0, so we are turning off Cosmology.\n",
      "yt : [INFO     ] 2022-02-16 09:17:12,035 Parameters: current_time              = 0.1\n",
      "yt : [INFO     ] 2022-02-16 09:17:12,036 Parameters: domain_dimensions         = [1 1 1]\n",
      "yt : [INFO     ] 2022-02-16 09:17:12,036 Parameters: domain_left_edge          = [-20. -20. -20.]\n",
      "yt : [INFO     ] 2022-02-16 09:17:12,037 Parameters: domain_right_edge         = [20. 20. 20.]\n",
      "yt : [INFO     ] 2022-02-16 09:17:12,038 Parameters: cosmological_simulation   = 0\n",
      "yt : [INFO     ] 2022-02-16 09:17:12,050 Omega Lambda is 0.0, so we are turning off Cosmology.\n"
     ]
    },
    {
     "name": "stdout",
     "output_type": "stream",
     "text": [
      "snapshot_0000\n",
      "snapshot_0001\n",
      "snapshot_0002\n"
     ]
    },
    {
     "name": "stderr",
     "output_type": "stream",
     "text": [
      "yt : [INFO     ] 2022-02-16 09:17:12,119 Parameters: current_time              = 0.15000000000000002\n",
      "yt : [INFO     ] 2022-02-16 09:17:12,120 Parameters: domain_dimensions         = [1 1 1]\n",
      "yt : [INFO     ] 2022-02-16 09:17:12,120 Parameters: domain_left_edge          = [-20. -20. -20.]\n",
      "yt : [INFO     ] 2022-02-16 09:17:12,121 Parameters: domain_right_edge         = [20. 20. 20.]\n",
      "yt : [INFO     ] 2022-02-16 09:17:12,122 Parameters: cosmological_simulation   = 0\n",
      "yt : [INFO     ] 2022-02-16 09:17:12,135 Omega Lambda is 0.0, so we are turning off Cosmology.\n",
      "yt : [INFO     ] 2022-02-16 09:17:12,196 Parameters: current_time              = 0.2\n",
      "yt : [INFO     ] 2022-02-16 09:17:12,197 Parameters: domain_dimensions         = [1 1 1]\n",
      "yt : [INFO     ] 2022-02-16 09:17:12,198 Parameters: domain_left_edge          = [-20. -20. -20.]\n",
      "yt : [INFO     ] 2022-02-16 09:17:12,199 Parameters: domain_right_edge         = [20. 20. 20.]\n",
      "yt : [INFO     ] 2022-02-16 09:17:12,199 Parameters: cosmological_simulation   = 0\n",
      "yt : [INFO     ] 2022-02-16 09:17:12,210 Omega Lambda is 0.0, so we are turning off Cosmology.\n",
      "yt : [INFO     ] 2022-02-16 09:17:12,272 Parameters: current_time              = 0.2\n",
      "yt : [INFO     ] 2022-02-16 09:17:12,273 Parameters: domain_dimensions         = [1 1 1]\n",
      "yt : [INFO     ] 2022-02-16 09:17:12,274 Parameters: domain_left_edge          = [-20. -20. -20.]\n",
      "yt : [INFO     ] 2022-02-16 09:17:12,275 Parameters: domain_right_edge         = [20. 20. 20.]\n",
      "yt : [INFO     ] 2022-02-16 09:17:12,275 Parameters: cosmological_simulation   = 0\n",
      "yt : [INFO     ] 2022-02-16 09:17:12,299 Omega Lambda is 0.0, so we are turning off Cosmology.\n"
     ]
    },
    {
     "name": "stdout",
     "output_type": "stream",
     "text": [
      "snapshot_0003\n",
      "snapshot_0004\n",
      "snapshot_0005\n"
     ]
    },
    {
     "name": "stderr",
     "output_type": "stream",
     "text": [
      "yt : [INFO     ] 2022-02-16 09:17:12,367 Parameters: current_time              = 0.0\n",
      "yt : [INFO     ] 2022-02-16 09:17:12,368 Parameters: domain_dimensions         = [1 1 1]\n",
      "yt : [INFO     ] 2022-02-16 09:17:12,369 Parameters: domain_left_edge          = [-20. -20. -20.]\n",
      "yt : [INFO     ] 2022-02-16 09:17:12,370 Parameters: domain_right_edge         = [20. 20. 20.]\n",
      "yt : [INFO     ] 2022-02-16 09:17:12,370 Parameters: cosmological_simulation   = 0\n",
      "yt : [INFO     ] 2022-02-16 09:17:12,384 Omega Lambda is 0.0, so we are turning off Cosmology.\n",
      "yt : [INFO     ] 2022-02-16 09:17:12,444 Parameters: current_time              = 0.05\n",
      "yt : [INFO     ] 2022-02-16 09:17:12,445 Parameters: domain_dimensions         = [1 1 1]\n",
      "yt : [INFO     ] 2022-02-16 09:17:12,445 Parameters: domain_left_edge          = [-20. -20. -20.]\n",
      "yt : [INFO     ] 2022-02-16 09:17:12,446 Parameters: domain_right_edge         = [20. 20. 20.]\n",
      "yt : [INFO     ] 2022-02-16 09:17:12,447 Parameters: cosmological_simulation   = 0\n",
      "yt : [INFO     ] 2022-02-16 09:17:12,460 Omega Lambda is 0.0, so we are turning off Cosmology.\n",
      "yt : [INFO     ] 2022-02-16 09:17:12,519 Parameters: current_time              = 0.1\n",
      "yt : [INFO     ] 2022-02-16 09:17:12,520 Parameters: domain_dimensions         = [1 1 1]\n",
      "yt : [INFO     ] 2022-02-16 09:17:12,520 Parameters: domain_left_edge          = [-20. -20. -20.]\n",
      "yt : [INFO     ] 2022-02-16 09:17:12,521 Parameters: domain_right_edge         = [20. 20. 20.]\n",
      "yt : [INFO     ] 2022-02-16 09:17:12,522 Parameters: cosmological_simulation   = 0\n",
      "yt : [INFO     ] 2022-02-16 09:17:12,533 Omega Lambda is 0.0, so we are turning off Cosmology.\n"
     ]
    },
    {
     "name": "stdout",
     "output_type": "stream",
     "text": [
      "snapshot_0000\n",
      "snapshot_0001\n",
      "snapshot_0002\n"
     ]
    },
    {
     "name": "stderr",
     "output_type": "stream",
     "text": [
      "yt : [INFO     ] 2022-02-16 09:17:12,597 Parameters: current_time              = 0.15000000000000002\n",
      "yt : [INFO     ] 2022-02-16 09:17:12,598 Parameters: domain_dimensions         = [1 1 1]\n",
      "yt : [INFO     ] 2022-02-16 09:17:12,599 Parameters: domain_left_edge          = [-20. -20. -20.]\n",
      "yt : [INFO     ] 2022-02-16 09:17:12,600 Parameters: domain_right_edge         = [20. 20. 20.]\n",
      "yt : [INFO     ] 2022-02-16 09:17:12,601 Parameters: cosmological_simulation   = 0\n",
      "yt : [INFO     ] 2022-02-16 09:17:12,615 Omega Lambda is 0.0, so we are turning off Cosmology.\n",
      "yt : [INFO     ] 2022-02-16 09:17:12,683 Parameters: current_time              = 0.2\n",
      "yt : [INFO     ] 2022-02-16 09:17:12,684 Parameters: domain_dimensions         = [1 1 1]\n",
      "yt : [INFO     ] 2022-02-16 09:17:12,685 Parameters: domain_left_edge          = [-20. -20. -20.]\n",
      "yt : [INFO     ] 2022-02-16 09:17:12,686 Parameters: domain_right_edge         = [20. 20. 20.]\n",
      "yt : [INFO     ] 2022-02-16 09:17:12,687 Parameters: cosmological_simulation   = 0\n",
      "yt : [INFO     ] 2022-02-16 09:17:12,699 Omega Lambda is 0.0, so we are turning off Cosmology.\n",
      "yt : [INFO     ] 2022-02-16 09:17:12,768 Parameters: current_time              = 0.2\n",
      "yt : [INFO     ] 2022-02-16 09:17:12,769 Parameters: domain_dimensions         = [1 1 1]\n",
      "yt : [INFO     ] 2022-02-16 09:17:12,770 Parameters: domain_left_edge          = [-20. -20. -20.]\n",
      "yt : [INFO     ] 2022-02-16 09:17:12,771 Parameters: domain_right_edge         = [20. 20. 20.]\n",
      "yt : [INFO     ] 2022-02-16 09:17:12,772 Parameters: cosmological_simulation   = 0\n",
      "yt : [INFO     ] 2022-02-16 09:17:12,796 Omega Lambda is 0.0, so we are turning off Cosmology.\n"
     ]
    },
    {
     "name": "stdout",
     "output_type": "stream",
     "text": [
      "snapshot_0003\n",
      "snapshot_0004\n",
      "snapshot_0005\n"
     ]
    },
    {
     "name": "stderr",
     "output_type": "stream",
     "text": [
      "yt : [INFO     ] 2022-02-16 09:17:12,862 Parameters: current_time              = 0.0\n",
      "yt : [INFO     ] 2022-02-16 09:17:12,863 Parameters: domain_dimensions         = [1 1 1]\n",
      "yt : [INFO     ] 2022-02-16 09:17:12,864 Parameters: domain_left_edge          = [-20. -20. -20.]\n",
      "yt : [INFO     ] 2022-02-16 09:17:12,865 Parameters: domain_right_edge         = [20. 20. 20.]\n",
      "yt : [INFO     ] 2022-02-16 09:17:12,866 Parameters: cosmological_simulation   = 0\n",
      "yt : [INFO     ] 2022-02-16 09:17:12,879 Omega Lambda is 0.0, so we are turning off Cosmology.\n",
      "yt : [INFO     ] 2022-02-16 09:17:12,945 Parameters: current_time              = 0.05\n",
      "yt : [INFO     ] 2022-02-16 09:17:12,946 Parameters: domain_dimensions         = [1 1 1]\n",
      "yt : [INFO     ] 2022-02-16 09:17:12,946 Parameters: domain_left_edge          = [-20. -20. -20.]\n",
      "yt : [INFO     ] 2022-02-16 09:17:12,948 Parameters: domain_right_edge         = [20. 20. 20.]\n",
      "yt : [INFO     ] 2022-02-16 09:17:12,948 Parameters: cosmological_simulation   = 0\n",
      "yt : [INFO     ] 2022-02-16 09:17:12,960 Omega Lambda is 0.0, so we are turning off Cosmology.\n",
      "yt : [INFO     ] 2022-02-16 09:17:13,020 Parameters: current_time              = 0.1\n",
      "yt : [INFO     ] 2022-02-16 09:17:13,021 Parameters: domain_dimensions         = [1 1 1]\n",
      "yt : [INFO     ] 2022-02-16 09:17:13,021 Parameters: domain_left_edge          = [-20. -20. -20.]\n",
      "yt : [INFO     ] 2022-02-16 09:17:13,022 Parameters: domain_right_edge         = [20. 20. 20.]\n",
      "yt : [INFO     ] 2022-02-16 09:17:13,023 Parameters: cosmological_simulation   = 0\n",
      "yt : [INFO     ] 2022-02-16 09:17:13,038 Omega Lambda is 0.0, so we are turning off Cosmology.\n"
     ]
    },
    {
     "name": "stdout",
     "output_type": "stream",
     "text": [
      "snapshot_0000\n",
      "snapshot_0001\n",
      "snapshot_0002\n"
     ]
    },
    {
     "name": "stderr",
     "output_type": "stream",
     "text": [
      "yt : [INFO     ] 2022-02-16 09:17:13,107 Parameters: current_time              = 0.15000000000000002\n",
      "yt : [INFO     ] 2022-02-16 09:17:13,108 Parameters: domain_dimensions         = [1 1 1]\n",
      "yt : [INFO     ] 2022-02-16 09:17:13,108 Parameters: domain_left_edge          = [-20. -20. -20.]\n",
      "yt : [INFO     ] 2022-02-16 09:17:13,110 Parameters: domain_right_edge         = [20. 20. 20.]\n",
      "yt : [INFO     ] 2022-02-16 09:17:13,111 Parameters: cosmological_simulation   = 0\n",
      "yt : [INFO     ] 2022-02-16 09:17:13,123 Omega Lambda is 0.0, so we are turning off Cosmology.\n",
      "yt : [INFO     ] 2022-02-16 09:17:13,182 Parameters: current_time              = 0.2\n",
      "yt : [INFO     ] 2022-02-16 09:17:13,183 Parameters: domain_dimensions         = [1 1 1]\n",
      "yt : [INFO     ] 2022-02-16 09:17:13,184 Parameters: domain_left_edge          = [-20. -20. -20.]\n",
      "yt : [INFO     ] 2022-02-16 09:17:13,184 Parameters: domain_right_edge         = [20. 20. 20.]\n",
      "yt : [INFO     ] 2022-02-16 09:17:13,185 Parameters: cosmological_simulation   = 0\n",
      "yt : [INFO     ] 2022-02-16 09:17:13,198 Omega Lambda is 0.0, so we are turning off Cosmology.\n",
      "yt : [INFO     ] 2022-02-16 09:17:13,255 Parameters: current_time              = 0.2\n",
      "yt : [INFO     ] 2022-02-16 09:17:13,256 Parameters: domain_dimensions         = [1 1 1]\n",
      "yt : [INFO     ] 2022-02-16 09:17:13,256 Parameters: domain_left_edge          = [-20. -20. -20.]\n",
      "yt : [INFO     ] 2022-02-16 09:17:13,257 Parameters: domain_right_edge         = [20. 20. 20.]\n",
      "yt : [INFO     ] 2022-02-16 09:17:13,258 Parameters: cosmological_simulation   = 0\n",
      "yt : [INFO     ] 2022-02-16 09:17:13,282 Omega Lambda is 0.0, so we are turning off Cosmology.\n",
      "yt : [INFO     ] 2022-02-16 09:17:13,336 Parameters: current_time              = 0.0\n"
     ]
    },
    {
     "name": "stdout",
     "output_type": "stream",
     "text": [
      "snapshot_0003\n",
      "snapshot_0004\n",
      "snapshot_0005\n"
     ]
    },
    {
     "name": "stderr",
     "output_type": "stream",
     "text": [
      "yt : [INFO     ] 2022-02-16 09:17:13,337 Parameters: domain_dimensions         = [1 1 1]\n",
      "yt : [INFO     ] 2022-02-16 09:17:13,338 Parameters: domain_left_edge          = [-20. -20. -20.]\n",
      "yt : [INFO     ] 2022-02-16 09:17:13,339 Parameters: domain_right_edge         = [20. 20. 20.]\n",
      "yt : [INFO     ] 2022-02-16 09:17:13,339 Parameters: cosmological_simulation   = 0\n",
      "yt : [INFO     ] 2022-02-16 09:17:13,353 Omega Lambda is 0.0, so we are turning off Cosmology.\n",
      "yt : [INFO     ] 2022-02-16 09:17:13,416 Parameters: current_time              = 0.05\n",
      "yt : [INFO     ] 2022-02-16 09:17:13,417 Parameters: domain_dimensions         = [1 1 1]\n",
      "yt : [INFO     ] 2022-02-16 09:17:13,417 Parameters: domain_left_edge          = [-20. -20. -20.]\n",
      "yt : [INFO     ] 2022-02-16 09:17:13,418 Parameters: domain_right_edge         = [20. 20. 20.]\n",
      "yt : [INFO     ] 2022-02-16 09:17:13,419 Parameters: cosmological_simulation   = 0\n",
      "yt : [INFO     ] 2022-02-16 09:17:13,431 Omega Lambda is 0.0, so we are turning off Cosmology.\n",
      "yt : [INFO     ] 2022-02-16 09:17:13,494 Parameters: current_time              = 0.1\n",
      "yt : [INFO     ] 2022-02-16 09:17:13,494 Parameters: domain_dimensions         = [1 1 1]\n",
      "yt : [INFO     ] 2022-02-16 09:17:13,495 Parameters: domain_left_edge          = [-20. -20. -20.]\n",
      "yt : [INFO     ] 2022-02-16 09:17:13,496 Parameters: domain_right_edge         = [20. 20. 20.]\n",
      "yt : [INFO     ] 2022-02-16 09:17:13,497 Parameters: cosmological_simulation   = 0\n",
      "yt : [INFO     ] 2022-02-16 09:17:13,510 Omega Lambda is 0.0, so we are turning off Cosmology.\n"
     ]
    },
    {
     "name": "stdout",
     "output_type": "stream",
     "text": [
      "snapshot_0000\n",
      "snapshot_0001\n",
      "snapshot_0002\n"
     ]
    },
    {
     "name": "stderr",
     "output_type": "stream",
     "text": [
      "yt : [INFO     ] 2022-02-16 09:17:13,568 Parameters: current_time              = 0.15000000000000002\n",
      "yt : [INFO     ] 2022-02-16 09:17:13,569 Parameters: domain_dimensions         = [1 1 1]\n",
      "yt : [INFO     ] 2022-02-16 09:17:13,570 Parameters: domain_left_edge          = [-20. -20. -20.]\n",
      "yt : [INFO     ] 2022-02-16 09:17:13,571 Parameters: domain_right_edge         = [20. 20. 20.]\n",
      "yt : [INFO     ] 2022-02-16 09:17:13,571 Parameters: cosmological_simulation   = 0\n",
      "yt : [INFO     ] 2022-02-16 09:17:13,584 Omega Lambda is 0.0, so we are turning off Cosmology.\n",
      "yt : [INFO     ] 2022-02-16 09:17:13,640 Parameters: current_time              = 0.2\n",
      "yt : [INFO     ] 2022-02-16 09:17:13,641 Parameters: domain_dimensions         = [1 1 1]\n",
      "yt : [INFO     ] 2022-02-16 09:17:13,642 Parameters: domain_left_edge          = [-20. -20. -20.]\n",
      "yt : [INFO     ] 2022-02-16 09:17:13,642 Parameters: domain_right_edge         = [20. 20. 20.]\n",
      "yt : [INFO     ] 2022-02-16 09:17:13,643 Parameters: cosmological_simulation   = 0\n",
      "yt : [INFO     ] 2022-02-16 09:17:13,654 Omega Lambda is 0.0, so we are turning off Cosmology.\n",
      "yt : [INFO     ] 2022-02-16 09:17:13,708 Parameters: current_time              = 0.2\n",
      "yt : [INFO     ] 2022-02-16 09:17:13,708 Parameters: domain_dimensions         = [1 1 1]\n",
      "yt : [INFO     ] 2022-02-16 09:17:13,709 Parameters: domain_left_edge          = [-20. -20. -20.]\n",
      "yt : [INFO     ] 2022-02-16 09:17:13,709 Parameters: domain_right_edge         = [20. 20. 20.]\n",
      "yt : [INFO     ] 2022-02-16 09:17:13,710 Parameters: cosmological_simulation   = 0\n"
     ]
    },
    {
     "name": "stdout",
     "output_type": "stream",
     "text": [
      "snapshot_0003\n",
      "snapshot_0004\n",
      "snapshot_0005\n"
     ]
    }
   ],
   "source": [
    "### --\n",
    "### Directorio de la simulacion!!!--- ###############################################\n",
    "sim_dir1=\"./all_aciis_0/\"\n",
    "sim_dir2=\"./all_aciis_1/\"\n",
    "sim_dir3=\"./all_aciis_2/\"\n",
    "sim_dir4=\"./all_aciis_3/\"\n",
    "\n",
    "\n",
    "sim_Gen=[sim_dir1, sim_dir2, sim_dir3, sim_dir4]\n",
    "#####################################################################################\n",
    "\n",
    "### Finalmente levanto la data!!--\n",
    "#######################################\n",
    "\n",
    "ds_Gall=[]\n",
    "\n",
    "## 2 loops--\n",
    "for k in sim_Gen:\n",
    "### G11 Particles!!--\n",
    "    for i in range(0,1001):\n",
    "        if i<10: fn = k+\"snapshot_000%i\" % i\n",
    "        if i >10 and i<100: fn = k+\"snapshot_00%i\" % i\n",
    "        if i>100 and i<1000: fn = k+\"snapshot_0%i\" % i\n",
    "            \n",
    "        if exists(fn):\n",
    "            dt = yt.load(fn,\n",
    "                unit_base=unit_base,  ## -- No voy a override the units. Take them from the file\n",
    "                bounding_box=bbox)\n",
    "            ###\n",
    "            ds_Gall.append(dt)\n",
    "            print(dt)\n",
    "    #######################################\n",
    "    #######################################"
   ]
  },
  {
   "cell_type": "code",
   "execution_count": 4,
   "id": "321650b2",
   "metadata": {},
   "outputs": [
    {
     "data": {
      "text/plain": [
       "24"
      ]
     },
     "execution_count": 4,
     "metadata": {},
     "output_type": "execute_result"
    }
   ],
   "source": [
    "len(ds_Gall)"
   ]
  },
  {
   "cell_type": "markdown",
   "id": "3442bcd6",
   "metadata": {},
   "source": [
    "# Extracting the data --"
   ]
  },
  {
   "cell_type": "code",
   "execution_count": 5,
   "id": "fccbe9a3",
   "metadata": {},
   "outputs": [
    {
     "data": {
      "text/plain": [
       "unyt_quantity(3.08568e+19, 'cm')"
      ]
     },
     "execution_count": 5,
     "metadata": {},
     "output_type": "execute_result"
    }
   ],
   "source": [
    "Idx=0\n",
    "ds_Gall[Idx].length_unit.to('cm')"
   ]
  },
  {
   "cell_type": "code",
   "execution_count": 6,
   "id": "37bdd2e5",
   "metadata": {},
   "outputs": [
    {
     "data": {
      "text/plain": [
       "['snapshot_0001',\n",
       " 'snapshot_0000',\n",
       " 'snapshot_0005',\n",
       " 'snapshot_0002',\n",
       " 'snapshot_0003',\n",
       " 'snapshot_0004']"
      ]
     },
     "execution_count": 6,
     "metadata": {},
     "output_type": "execute_result"
    }
   ],
   "source": [
    "from os import listdir\n",
    "listdir(sim_dir2)"
   ]
  },
  {
   "cell_type": "code",
   "execution_count": 7,
   "id": "a77a228c",
   "metadata": {},
   "outputs": [
    {
     "data": {
      "text/plain": [
       "[GadgetDataset: all_aciis_0/snapshot_0000,\n",
       " GadgetDataset: all_aciis_0/snapshot_0001,\n",
       " GadgetDataset: all_aciis_0/snapshot_0002,\n",
       " GadgetDataset: all_aciis_0/snapshot_0003,\n",
       " GadgetDataset: all_aciis_0/snapshot_0004,\n",
       " GadgetDataset: all_aciis_0/snapshot_0005,\n",
       " GadgetDataset: all_aciis_1/snapshot_0000,\n",
       " GadgetDataset: all_aciis_1/snapshot_0001,\n",
       " GadgetDataset: all_aciis_1/snapshot_0002,\n",
       " GadgetDataset: all_aciis_1/snapshot_0003,\n",
       " GadgetDataset: all_aciis_1/snapshot_0004,\n",
       " GadgetDataset: all_aciis_1/snapshot_0005,\n",
       " GadgetDataset: all_aciis_2/snapshot_0000,\n",
       " GadgetDataset: all_aciis_2/snapshot_0001,\n",
       " GadgetDataset: all_aciis_2/snapshot_0002,\n",
       " GadgetDataset: all_aciis_2/snapshot_0003,\n",
       " GadgetDataset: all_aciis_2/snapshot_0004,\n",
       " GadgetDataset: all_aciis_2/snapshot_0005,\n",
       " GadgetDataset: all_aciis_3/snapshot_0000,\n",
       " GadgetDataset: all_aciis_3/snapshot_0001,\n",
       " GadgetDataset: all_aciis_3/snapshot_0002,\n",
       " GadgetDataset: all_aciis_3/snapshot_0003,\n",
       " GadgetDataset: all_aciis_3/snapshot_0004,\n",
       " GadgetDataset: all_aciis_3/snapshot_0005]"
      ]
     },
     "execution_count": 7,
     "metadata": {},
     "output_type": "execute_result"
    }
   ],
   "source": [
    "ds_Gall"
   ]
  },
  {
   "cell_type": "code",
   "execution_count": 8,
   "id": "d6d52b4c",
   "metadata": {},
   "outputs": [
    {
     "name": "stderr",
     "output_type": "stream",
     "text": [
      "yt : [INFO     ] 2022-02-16 09:17:21,431 Allocating for 1.328e+05 particles\n"
     ]
    },
    {
     "name": "stdout",
     "output_type": "stream",
     "text": [
      "0\n",
      "1\n",
      "2\n",
      "3\n",
      "4\n"
     ]
    },
    {
     "name": "stderr",
     "output_type": "stream",
     "text": [
      "yt : [INFO     ] 2022-02-16 09:17:36,853 Allocating for 3.349e+05 particles\n"
     ]
    },
    {
     "name": "stdout",
     "output_type": "stream",
     "text": [
      "5\n"
     ]
    },
    {
     "name": "stderr",
     "output_type": "stream",
     "text": [
      "Initializing coarse index : 100%|██████████| 2/2 [00:00<00:00, 27.63it/s]\n",
      "yt : [INFO     ] 2022-02-16 09:17:36,948 Updating index_order2 from 2 to 2\n",
      "Initializing refined index: 100%|██████████| 2/2 [00:00<00:00,  5.74it/s]\n",
      "yt : [INFO     ] 2022-02-16 09:17:37,310 Allocating for 3.349e+05 particles\n",
      "Initializing coarse index : 100%|██████████| 2/2 [00:00<00:00, 34.32it/s]\n",
      "yt : [INFO     ] 2022-02-16 09:17:37,373 Updating index_order2 from 2 to 2\n",
      "Initializing refined index: 100%|██████████| 2/2 [00:00<00:00,  6.15it/s]\n",
      "yt : [INFO     ] 2022-02-16 09:17:40,331 Allocating for 3.349e+05 particles\n"
     ]
    },
    {
     "name": "stdout",
     "output_type": "stream",
     "text": [
      "6\n"
     ]
    },
    {
     "name": "stderr",
     "output_type": "stream",
     "text": [
      "Initializing coarse index : 100%|██████████| 2/2 [00:00<00:00, 32.54it/s]\n",
      "yt : [INFO     ] 2022-02-16 09:17:40,397 Updating index_order2 from 2 to 2\n",
      "Initializing refined index: 100%|██████████| 2/2 [00:00<00:00,  4.09it/s]\n",
      "yt : [INFO     ] 2022-02-16 09:17:40,911 Allocating for 3.349e+05 particles\n",
      "Initializing coarse index : 100%|██████████| 2/2 [00:00<00:00, 34.52it/s]\n",
      "yt : [INFO     ] 2022-02-16 09:17:40,973 Updating index_order2 from 2 to 2\n",
      "Initializing refined index: 100%|██████████| 2/2 [00:00<00:00,  4.14it/s]\n",
      "yt : [INFO     ] 2022-02-16 09:17:44,017 Allocating for 3.349e+05 particles\n"
     ]
    },
    {
     "name": "stdout",
     "output_type": "stream",
     "text": [
      "7\n"
     ]
    },
    {
     "name": "stderr",
     "output_type": "stream",
     "text": [
      "Initializing coarse index : 100%|██████████| 2/2 [00:00<00:00, 32.30it/s]\n",
      "yt : [INFO     ] 2022-02-16 09:17:44,082 Updating index_order2 from 2 to 2\n",
      "Initializing refined index: 100%|██████████| 2/2 [00:00<00:00,  3.76it/s]\n",
      "yt : [INFO     ] 2022-02-16 09:17:44,642 Allocating for 3.349e+05 particles\n",
      "Initializing coarse index : 100%|██████████| 2/2 [00:00<00:00, 35.86it/s]\n",
      "yt : [INFO     ] 2022-02-16 09:17:44,702 Updating index_order2 from 2 to 2\n",
      "Initializing refined index: 100%|██████████| 2/2 [00:00<00:00,  3.67it/s]\n",
      "yt : [INFO     ] 2022-02-16 09:17:47,956 Allocating for 3.349e+05 particles\n"
     ]
    },
    {
     "name": "stdout",
     "output_type": "stream",
     "text": [
      "8\n"
     ]
    },
    {
     "name": "stderr",
     "output_type": "stream",
     "text": [
      "Initializing coarse index : 100%|██████████| 2/2 [00:00<00:00, 32.85it/s]\n",
      "yt : [INFO     ] 2022-02-16 09:17:48,020 Updating index_order2 from 2 to 2\n",
      "Initializing refined index: 100%|██████████| 2/2 [00:00<00:00,  3.47it/s]\n",
      "yt : [INFO     ] 2022-02-16 09:17:48,624 Allocating for 3.349e+05 particles\n",
      "Initializing coarse index : 100%|██████████| 2/2 [00:00<00:00, 35.00it/s]\n",
      "yt : [INFO     ] 2022-02-16 09:17:48,685 Updating index_order2 from 2 to 2\n",
      "Initializing refined index: 100%|██████████| 2/2 [00:00<00:00,  3.67it/s]\n",
      "yt : [INFO     ] 2022-02-16 09:17:51,683 Allocating for 3.349e+05 particles\n"
     ]
    },
    {
     "name": "stdout",
     "output_type": "stream",
     "text": [
      "9\n"
     ]
    },
    {
     "name": "stderr",
     "output_type": "stream",
     "text": [
      "Initializing coarse index : 100%|██████████| 2/2 [00:00<00:00, 33.16it/s]\n",
      "yt : [INFO     ] 2022-02-16 09:17:51,747 Updating index_order2 from 2 to 2\n",
      "Initializing refined index: 100%|██████████| 2/2 [00:00<00:00,  3.68it/s]\n",
      "yt : [INFO     ] 2022-02-16 09:17:52,322 Allocating for 3.349e+05 particles\n",
      "Initializing coarse index : 100%|██████████| 2/2 [00:00<00:00, 35.42it/s]\n",
      "yt : [INFO     ] 2022-02-16 09:17:52,382 Updating index_order2 from 2 to 2\n",
      "Initializing refined index: 100%|██████████| 2/2 [00:00<00:00,  3.64it/s]\n",
      "yt : [INFO     ] 2022-02-16 09:17:55,374 Allocating for 3.349e+05 particles\n"
     ]
    },
    {
     "name": "stdout",
     "output_type": "stream",
     "text": [
      "10\n"
     ]
    },
    {
     "name": "stderr",
     "output_type": "stream",
     "text": [
      "Initializing coarse index : 100%|██████████| 2/2 [00:00<00:00, 32.95it/s]\n",
      "yt : [INFO     ] 2022-02-16 09:17:55,439 Updating index_order2 from 2 to 2\n",
      "Initializing refined index: 100%|██████████| 2/2 [00:00<00:00,  3.59it/s]\n",
      "yt : [INFO     ] 2022-02-16 09:17:56,023 Allocating for 3.349e+05 particles\n",
      "Initializing coarse index : 100%|██████████| 2/2 [00:00<00:00, 35.26it/s]\n",
      "yt : [INFO     ] 2022-02-16 09:17:56,084 Updating index_order2 from 2 to 2\n",
      "Initializing refined index: 100%|██████████| 2/2 [00:00<00:00,  3.67it/s]\n",
      "yt : [INFO     ] 2022-02-16 09:17:59,207 Allocating for 1.000e+06 particles\n"
     ]
    },
    {
     "name": "stdout",
     "output_type": "stream",
     "text": [
      "11\n"
     ]
    },
    {
     "name": "stderr",
     "output_type": "stream",
     "text": [
      "Initializing coarse index : 100%|██████████| 4/4 [00:00<00:00, 32.96it/s]\n",
      "yt : [INFO     ] 2022-02-16 09:17:59,332 Updating index_order2 from 2 to 2\n",
      "Initializing refined index: 100%|██████████| 4/4 [00:00<00:00,  6.21it/s]\n",
      "yt : [INFO     ] 2022-02-16 09:18:00,003 Allocating for 1.000e+06 particles\n",
      "Initializing coarse index : 100%|██████████| 4/4 [00:00<00:00, 34.60it/s]\n",
      "yt : [INFO     ] 2022-02-16 09:18:00,123 Updating index_order2 from 2 to 2\n",
      "Initializing refined index: 100%|██████████| 4/4 [00:00<00:00,  6.16it/s]\n"
     ]
    },
    {
     "name": "stdout",
     "output_type": "stream",
     "text": [
      "12\n"
     ]
    },
    {
     "name": "stderr",
     "output_type": "stream",
     "text": [
      "yt : [INFO     ] 2022-02-16 09:18:03,958 Allocating for 1.000e+06 particles\n",
      "Initializing coarse index : 100%|██████████| 4/4 [00:00<00:00, 33.22it/s]\n",
      "yt : [INFO     ] 2022-02-16 09:18:04,083 Updating index_order2 from 2 to 2\n",
      "Initializing refined index: 100%|██████████| 4/4 [00:00<00:00,  4.41it/s]\n",
      "yt : [INFO     ] 2022-02-16 09:18:05,013 Allocating for 1.000e+06 particles\n",
      "Initializing coarse index : 100%|██████████| 4/4 [00:00<00:00, 35.34it/s]\n",
      "yt : [INFO     ] 2022-02-16 09:18:05,130 Updating index_order2 from 2 to 2\n",
      "Initializing refined index: 100%|██████████| 4/4 [00:00<00:00,  4.16it/s]\n"
     ]
    },
    {
     "name": "stdout",
     "output_type": "stream",
     "text": [
      "13\n"
     ]
    },
    {
     "name": "stderr",
     "output_type": "stream",
     "text": [
      "yt : [INFO     ] 2022-02-16 09:18:09,017 Allocating for 1.000e+06 particles\n",
      "Initializing coarse index : 100%|██████████| 4/4 [00:00<00:00, 31.81it/s]\n",
      "yt : [INFO     ] 2022-02-16 09:18:09,147 Updating index_order2 from 2 to 2\n",
      "Initializing refined index: 100%|██████████| 4/4 [00:00<00:00,  4.13it/s]\n",
      "yt : [INFO     ] 2022-02-16 09:18:10,138 Allocating for 1.000e+06 particles\n",
      "Initializing coarse index : 100%|██████████| 4/4 [00:00<00:00, 34.17it/s]\n",
      "yt : [INFO     ] 2022-02-16 09:18:10,259 Updating index_order2 from 2 to 2\n",
      "Initializing refined index: 100%|██████████| 4/4 [00:00<00:00,  4.14it/s]\n"
     ]
    },
    {
     "name": "stdout",
     "output_type": "stream",
     "text": [
      "14\n"
     ]
    },
    {
     "name": "stderr",
     "output_type": "stream",
     "text": [
      "yt : [INFO     ] 2022-02-16 09:18:14,073 Allocating for 1.000e+06 particles\n",
      "Initializing coarse index : 100%|██████████| 4/4 [00:00<00:00, 32.51it/s]\n",
      "yt : [INFO     ] 2022-02-16 09:18:14,200 Updating index_order2 from 2 to 2\n",
      "Initializing refined index: 100%|██████████| 4/4 [00:00<00:00,  4.07it/s]\n",
      "yt : [INFO     ] 2022-02-16 09:18:15,207 Allocating for 1.000e+06 particles\n",
      "Initializing coarse index : 100%|██████████| 4/4 [00:00<00:00, 33.28it/s]\n",
      "yt : [INFO     ] 2022-02-16 09:18:15,331 Updating index_order2 from 2 to 2\n",
      "Initializing refined index: 100%|██████████| 4/4 [00:00<00:00,  4.09it/s]\n"
     ]
    },
    {
     "name": "stdout",
     "output_type": "stream",
     "text": [
      "15\n"
     ]
    },
    {
     "name": "stderr",
     "output_type": "stream",
     "text": [
      "yt : [INFO     ] 2022-02-16 09:18:19,155 Allocating for 1.000e+06 particles\n",
      "Initializing coarse index : 100%|██████████| 4/4 [00:00<00:00, 33.35it/s]\n",
      "yt : [INFO     ] 2022-02-16 09:18:19,279 Updating index_order2 from 2 to 2\n",
      "Initializing refined index: 100%|██████████| 4/4 [00:00<00:00,  4.01it/s]\n",
      "yt : [INFO     ] 2022-02-16 09:18:20,300 Allocating for 1.000e+06 particles\n",
      "Initializing coarse index : 100%|██████████| 4/4 [00:00<00:00, 36.40it/s]\n",
      "yt : [INFO     ] 2022-02-16 09:18:20,414 Updating index_order2 from 2 to 2\n",
      "Initializing refined index: 100%|██████████| 4/4 [00:01<00:00,  3.86it/s]\n"
     ]
    },
    {
     "name": "stdout",
     "output_type": "stream",
     "text": [
      "16\n"
     ]
    },
    {
     "name": "stderr",
     "output_type": "stream",
     "text": [
      "yt : [INFO     ] 2022-02-16 09:18:24,573 Allocating for 1.000e+06 particles\n",
      "Initializing coarse index : 100%|██████████| 4/4 [00:00<00:00, 33.54it/s]\n",
      "yt : [INFO     ] 2022-02-16 09:18:24,696 Updating index_order2 from 2 to 2\n",
      "Initializing refined index: 100%|██████████| 4/4 [00:01<00:00,  3.96it/s]\n",
      "yt : [INFO     ] 2022-02-16 09:18:25,728 Allocating for 1.000e+06 particles\n",
      "Initializing coarse index : 100%|██████████| 4/4 [00:00<00:00, 36.84it/s]\n",
      "yt : [INFO     ] 2022-02-16 09:18:25,840 Updating index_order2 from 2 to 2\n",
      "Initializing refined index: 100%|██████████| 4/4 [00:01<00:00,  3.96it/s]\n"
     ]
    },
    {
     "name": "stdout",
     "output_type": "stream",
     "text": [
      "17\n"
     ]
    },
    {
     "name": "stderr",
     "output_type": "stream",
     "text": [
      "yt : [INFO     ] 2022-02-16 09:18:29,805 Allocating for 3.815e+06 particles\n",
      "Initializing coarse index : 100%|████████| 15/15 [00:00<00:00, 43.76it/s]\n",
      "yt : [INFO     ] 2022-02-16 09:18:30,152 Updating index_order2 from 2 to 2\n",
      "Initializing refined index: 100%|████████| 15/15 [00:02<00:00,  6.89it/s]\n",
      "yt : [INFO     ] 2022-02-16 09:18:32,356 Allocating for 3.815e+06 particles\n",
      "Initializing coarse index : 100%|████████| 15/15 [00:00<00:00, 45.59it/s]\n",
      "yt : [INFO     ] 2022-02-16 09:18:32,689 Updating index_order2 from 2 to 2\n",
      "Initializing refined index: 100%|████████| 15/15 [00:02<00:00,  6.93it/s]\n"
     ]
    },
    {
     "name": "stdout",
     "output_type": "stream",
     "text": [
      "18\n"
     ]
    },
    {
     "name": "stderr",
     "output_type": "stream",
     "text": [
      "yt : [INFO     ] 2022-02-16 09:18:39,649 Allocating for 3.815e+06 particles\n",
      "Initializing coarse index : 100%|████████| 15/15 [00:00<00:00, 42.75it/s]\n",
      "yt : [INFO     ] 2022-02-16 09:18:40,004 Updating index_order2 from 2 to 2\n",
      "Initializing refined index: 100%|████████| 15/15 [00:02<00:00,  6.41it/s]\n",
      "yt : [INFO     ] 2022-02-16 09:18:42,371 Allocating for 3.815e+06 particles\n",
      "Initializing coarse index : 100%|████████| 15/15 [00:00<00:00, 45.53it/s]\n",
      "yt : [INFO     ] 2022-02-16 09:18:42,705 Updating index_order2 from 2 to 2\n",
      "Initializing refined index: 100%|████████| 15/15 [00:02<00:00,  6.44it/s]\n"
     ]
    },
    {
     "name": "stdout",
     "output_type": "stream",
     "text": [
      "19\n"
     ]
    },
    {
     "name": "stderr",
     "output_type": "stream",
     "text": [
      "yt : [INFO     ] 2022-02-16 09:18:49,569 Allocating for 3.815e+06 particles\n",
      "Initializing coarse index : 100%|████████| 15/15 [00:00<00:00, 38.24it/s]\n",
      "yt : [INFO     ] 2022-02-16 09:18:49,966 Updating index_order2 from 2 to 2\n",
      "Initializing refined index: 100%|████████| 15/15 [00:02<00:00,  6.24it/s]\n",
      "yt : [INFO     ] 2022-02-16 09:18:52,400 Allocating for 3.815e+06 particles\n",
      "Initializing coarse index : 100%|████████| 15/15 [00:00<00:00, 43.64it/s]\n",
      "yt : [INFO     ] 2022-02-16 09:18:52,748 Updating index_order2 from 2 to 2\n",
      "Initializing refined index: 100%|████████| 15/15 [00:02<00:00,  6.42it/s]\n"
     ]
    },
    {
     "name": "stdout",
     "output_type": "stream",
     "text": [
      "20\n"
     ]
    },
    {
     "name": "stderr",
     "output_type": "stream",
     "text": [
      "yt : [INFO     ] 2022-02-16 09:18:59,723 Allocating for 3.815e+06 particles\n",
      "Initializing coarse index : 100%|████████| 15/15 [00:00<00:00, 44.50it/s]\n",
      "yt : [INFO     ] 2022-02-16 09:19:00,064 Updating index_order2 from 2 to 2\n",
      "Initializing refined index: 100%|████████| 15/15 [00:02<00:00,  6.27it/s]\n",
      "yt : [INFO     ] 2022-02-16 09:19:02,482 Allocating for 3.815e+06 particles\n",
      "Initializing coarse index : 100%|████████| 15/15 [00:00<00:00, 46.57it/s]\n",
      "yt : [INFO     ] 2022-02-16 09:19:02,808 Updating index_order2 from 2 to 2\n",
      "Initializing refined index: 100%|████████| 15/15 [00:02<00:00,  6.30it/s]\n"
     ]
    },
    {
     "name": "stdout",
     "output_type": "stream",
     "text": [
      "21\n"
     ]
    },
    {
     "name": "stderr",
     "output_type": "stream",
     "text": [
      "yt : [INFO     ] 2022-02-16 09:19:09,710 Allocating for 3.815e+06 particles\n",
      "Initializing coarse index : 100%|████████| 15/15 [00:00<00:00, 44.58it/s]\n",
      "yt : [INFO     ] 2022-02-16 09:19:10,051 Updating index_order2 from 2 to 2\n",
      "Initializing refined index: 100%|████████| 15/15 [00:02<00:00,  6.23it/s]\n",
      "yt : [INFO     ] 2022-02-16 09:19:12,487 Allocating for 3.815e+06 particles\n",
      "Initializing coarse index : 100%|████████| 15/15 [00:00<00:00, 44.41it/s]\n",
      "yt : [INFO     ] 2022-02-16 09:19:12,829 Updating index_order2 from 2 to 2\n",
      "Initializing refined index: 100%|████████| 15/15 [00:02<00:00,  6.34it/s]\n"
     ]
    },
    {
     "name": "stdout",
     "output_type": "stream",
     "text": [
      "22\n"
     ]
    },
    {
     "name": "stderr",
     "output_type": "stream",
     "text": [
      "yt : [INFO     ] 2022-02-16 09:19:19,700 Allocating for 3.815e+06 particles\n",
      "Initializing coarse index : 100%|████████| 15/15 [00:00<00:00, 44.81it/s]\n",
      "yt : [INFO     ] 2022-02-16 09:19:20,040 Updating index_order2 from 2 to 2\n",
      "Initializing refined index: 100%|████████| 15/15 [00:02<00:00,  6.27it/s]\n",
      "yt : [INFO     ] 2022-02-16 09:19:22,458 Allocating for 3.815e+06 particles\n",
      "Initializing coarse index : 100%|████████| 15/15 [00:00<00:00, 45.47it/s]\n",
      "yt : [INFO     ] 2022-02-16 09:19:22,792 Updating index_order2 from 2 to 2\n",
      "Initializing refined index: 100%|████████| 15/15 [00:02<00:00,  6.39it/s]\n"
     ]
    },
    {
     "name": "stdout",
     "output_type": "stream",
     "text": [
      "23\n"
     ]
    }
   ],
   "source": [
    "rhos=[]\n",
    "vels=[]\n",
    "rs=[]\n",
    "## ---------------------------------------------------------\n",
    "for Idx,k in enumerate(ds_Gall):\n",
    "    rhos1 = ds_Gall[Idx].r[\"Gas\", \"Density\"]\n",
    "    rs1 = ds_Gall[Idx].r[\"all\", \"radius\"]/Rad0\n",
    "    print(Idx)\n",
    "    if Idx == 0:\n",
    "        vs1 = ds_Gall[Idx].r[\"all\", \"radial_velocity\"]/Vel00\n",
    "    else:\n",
    "        vs1 = ds_Gall[Idx].r[\"all\", \"radial_velocity\"]/Vel0\n",
    "        \n",
    "    rhos.append(rhos1)\n",
    "    vels.append(vs1)\n",
    "    rs.append(rs1)"
   ]
  },
  {
   "cell_type": "code",
   "execution_count": 9,
   "id": "853ecf73",
   "metadata": {},
   "outputs": [
    {
     "data": {
      "text/plain": [
       "unyt_array([9.36484337e-02, 1.07001282e-01, 9.06729773e-02, ...,\n",
       "            1.12103877e-44, 5.38248000e+07, 1.87739242e-39], 'code_mass/code_length**3')"
      ]
     },
     "execution_count": 9,
     "metadata": {},
     "output_type": "execute_result"
    }
   ],
   "source": [
    "rhos[10]"
   ]
  },
  {
   "cell_type": "markdown",
   "id": "52991714",
   "metadata": {},
   "source": [
    "# Bondi numerically in Python"
   ]
  },
  {
   "cell_type": "code",
   "execution_count": 10,
   "id": "99924fb9",
   "metadata": {
    "code_folding": []
   },
   "outputs": [],
   "source": [
    "from IPython.display import display, Math, Latex\n",
    "import numpy as np\n",
    "np.seterr(divide='ignore', invalid='ignore')\n",
    "\n",
    "%matplotlib inline\n",
    "import matplotlib\n",
    "import matplotlib.pyplot as plt"
   ]
  },
  {
   "cell_type": "code",
   "execution_count": 11,
   "id": "1902e85e",
   "metadata": {
    "code_folding": [
     16
    ]
   },
   "outputs": [],
   "source": [
    "def plotBondiVelIndi(n,rb,velb,lbs,i):\n",
    "    ## --- Estilo --\n",
    "    putStyle(14,2,True,True)\n",
    "    ## -------------\n",
    "    ## ---\n",
    "    plt.scatter(rb, velb, 2, \n",
    "                label=str(lbs)+' $\\gamma$= '+str(n)+' t~'+str(i))\n",
    "    ## ----------------------------------------------------\n",
    "    plt.legend(loc='best')\n",
    "    plt.xlabel(r'$r~(u.c)$')\n",
    "    ## Limits--\n",
    "    plt.xscale(\"log\")\n",
    "    plt.xlim(0.0005,5.1)\n",
    "    plt.ylabel(r'$v_r~(u.c)$')\n",
    "    \n",
    "    plt.ylim(-40,5)\n",
    "\n",
    "def plotBondiRhoIndi(n,rb,rhob,lbs,i):\n",
    "    ## --- Estilo --\n",
    "    putStyle(14,2,True,True)\n",
    "    ## -------------\n",
    "    width=10\n",
    "    rB1s = np.argsort(rb)\n",
    "    rB1 = rb[rB1s]\n",
    "    rB2 = rhob[rB1s]\n",
    "    rBin1 = rB1[:(rB1.size // width) * width].reshape(-1, width).mean(axis=1)\n",
    "    rBin2 = rB2[:(rB2.size // width) * width].reshape(-1, width).mean(axis=1)\n",
    "    ## ---\n",
    "    plt.scatter(rBin1, rBin2, 2, \n",
    "            label=str(lbs)+' $\\gamma$= '+str(n)+' t~'+str(i))\n",
    "    ## ----------------------------------------------------\n",
    "    plt.legend(loc='best')\n",
    "    plt.xlabel(r'$r~(u.c)$')\n",
    "    ## Limits--\n",
    "    plt.xscale(\"log\")\n",
    "    plt.yscale(\"log\")\n",
    "    plt.xlim(0.005,5.1)\n",
    "    plt.ylabel(r'$\\rho~(u.c)$')\n",
    "    plt.ylim(0.1,5)"
   ]
  },
  {
   "cell_type": "markdown",
   "id": "8726ee25",
   "metadata": {},
   "source": [
    "# n -> infty ... Isothermal $\\gamma$ = 1"
   ]
  },
  {
   "cell_type": "code",
   "execution_count": 12,
   "id": "c68e2669",
   "metadata": {},
   "outputs": [
    {
     "data": {
      "text/plain": [
       "array([3.23191133, 3.23280771, 3.20978836, ..., 3.15081947, 3.22541859,\n",
       "       3.24270449])"
      ]
     },
     "execution_count": 12,
     "metadata": {},
     "output_type": "execute_result"
    }
   ],
   "source": [
    "rs[0].value"
   ]
  },
  {
   "cell_type": "markdown",
   "id": "8fe69d7f",
   "metadata": {},
   "source": [
    "## Creo arreglo de rhos y vels "
   ]
  },
  {
   "cell_type": "code",
   "execution_count": 13,
   "id": "51a99ee1",
   "metadata": {},
   "outputs": [
    {
     "name": "stdout",
     "output_type": "stream",
     "text": [
      "0 133000 132831\n",
      "1 133000 132831\n",
      "2 133000 132831\n",
      "3 133000 132831\n",
      "4 133000 132831\n",
      "5 133000 132831\n",
      "6 334000 334936\n",
      "7 334000 334936\n",
      "8 334000 334936\n",
      "9 334000 334936\n",
      "10 334000 334936\n",
      "11 334000 334936\n",
      "12 990900 999979\n",
      "13 990900 999979\n",
      "14 990900 999979\n",
      "15 990900 999979\n",
      "16 990900 999979\n",
      "17 990900 999979\n",
      "18 3500000 3814915\n",
      "19 3500000 3814915\n",
      "20 3500000 3814915\n",
      "21 3500000 3814915\n",
      "22 3500000 3814915\n",
      "23 3500000 3814915\n"
     ]
    }
   ],
   "source": [
    "rbArr=[]\n",
    "VelbArr=[]\n",
    "## ---- Rhos ----------------------------------------------------------------\n",
    "RhobArr=[]\n",
    "## -- version rapida:\n",
    "nro1=[133000,133000,133000,133000,133000,133000,\n",
    "      334000,334000,334000,334000,334000,334000,\n",
    "      990900,990900,990900,990900,990900,990900,\n",
    "      3500000,3500000,3500000,3500000,3500000,3500000]\n",
    "#--\n",
    "for i,(j,k,l) in enumerate(zip(rs,vels,rhos)):\n",
    "    print(i, nro1[i], len(j.value))\n",
    "#--\n",
    "    idx1 = np.random.choice(np.arange(len(j.value)), len(j.value)-1, replace=False)\n",
    "    rb, velb, rhob = j.value[idx1], k.value[idx1], l.value[idx1]\n",
    "    rbArr.append(rb)\n",
    "    VelbArr.append(velb)\n",
    "    RhobArr.append(rhob)"
   ]
  },
  {
   "cell_type": "code",
   "execution_count": 14,
   "id": "c5abbf81",
   "metadata": {},
   "outputs": [
    {
     "name": "stdout",
     "output_type": "stream",
     "text": [
      "Time unit:  26.912943464245508 kyr\n"
     ]
    }
   ],
   "source": [
    "print(\"Time unit: \", ds_Gall[0].time_unit.in_units(\"kyr\"))"
   ]
  },
  {
   "cell_type": "code",
   "execution_count": 15,
   "id": "3c3ecaab",
   "metadata": {},
   "outputs": [
    {
     "data": {
      "text/plain": [
       "[GadgetDataset: all_aciis_0/snapshot_0000,\n",
       " GadgetDataset: all_aciis_0/snapshot_0001,\n",
       " GadgetDataset: all_aciis_0/snapshot_0002,\n",
       " GadgetDataset: all_aciis_0/snapshot_0003,\n",
       " GadgetDataset: all_aciis_0/snapshot_0004,\n",
       " GadgetDataset: all_aciis_0/snapshot_0005,\n",
       " GadgetDataset: all_aciis_1/snapshot_0000,\n",
       " GadgetDataset: all_aciis_1/snapshot_0001,\n",
       " GadgetDataset: all_aciis_1/snapshot_0002,\n",
       " GadgetDataset: all_aciis_1/snapshot_0003,\n",
       " GadgetDataset: all_aciis_1/snapshot_0004,\n",
       " GadgetDataset: all_aciis_1/snapshot_0005,\n",
       " GadgetDataset: all_aciis_2/snapshot_0000,\n",
       " GadgetDataset: all_aciis_2/snapshot_0001,\n",
       " GadgetDataset: all_aciis_2/snapshot_0002,\n",
       " GadgetDataset: all_aciis_2/snapshot_0003,\n",
       " GadgetDataset: all_aciis_2/snapshot_0004,\n",
       " GadgetDataset: all_aciis_2/snapshot_0005,\n",
       " GadgetDataset: all_aciis_3/snapshot_0000,\n",
       " GadgetDataset: all_aciis_3/snapshot_0001,\n",
       " GadgetDataset: all_aciis_3/snapshot_0002,\n",
       " GadgetDataset: all_aciis_3/snapshot_0003,\n",
       " GadgetDataset: all_aciis_3/snapshot_0004,\n",
       " GadgetDataset: all_aciis_3/snapshot_0005]"
      ]
     },
     "execution_count": 15,
     "metadata": {},
     "output_type": "execute_result"
    }
   ],
   "source": [
    "ds_Gall"
   ]
  },
  {
   "cell_type": "code",
   "execution_count": 16,
   "id": "1055eb07",
   "metadata": {},
   "outputs": [
    {
     "name": "stdout",
     "output_type": "stream",
     "text": [
      "0 snapshot_0000\n",
      "1 snapshot_0001\n",
      "2 snapshot_0002\n",
      "3 snapshot_0003\n",
      "4 snapshot_0004\n",
      "5 snapshot_0005\n",
      "6 snapshot_0000\n",
      "7 snapshot_0001\n",
      "8 snapshot_0002\n",
      "9 snapshot_0003\n",
      "10 snapshot_0004\n",
      "11 snapshot_0005\n",
      "12 snapshot_0000\n",
      "13 snapshot_0001\n",
      "14 snapshot_0002\n",
      "15 snapshot_0003\n",
      "16 snapshot_0004\n",
      "17 snapshot_0005\n",
      "18 snapshot_0000\n",
      "19 snapshot_0001\n",
      "20 snapshot_0002\n",
      "21 snapshot_0003\n",
      "22 snapshot_0004\n",
      "23 snapshot_0005\n"
     ]
    }
   ],
   "source": [
    "for i,ds1 in enumerate(ds_Gall):\n",
    "    print(i, ds1)"
   ]
  },
  {
   "cell_type": "markdown",
   "id": "cd2df356",
   "metadata": {},
   "source": [
    "# Gamma = 1"
   ]
  },
  {
   "cell_type": "markdown",
   "id": "700f03a3",
   "metadata": {},
   "source": [
    "# Densidades - 4 modelos "
   ]
  },
  {
   "cell_type": "code",
   "execution_count": null,
   "id": "f4667da0",
   "metadata": {},
   "outputs": [],
   "source": [
    "n=1\n",
    "\n",
    "# W365\n",
    "model1='W365;'\n",
    "nMod='1'\n",
    "Idx1=0; Idx2=1; Idx3=2; Idx4=3;  \n",
    "Idx5=4; Idx6=5;\n",
    "\n",
    "## -- Tiempo del ultimo --\n",
    "myUnit1='kyr'\n",
    "LastTime1=ds_Gall[Idx1].time_unit.in_units(myUnit1)\n",
    "LastTime1=round(LastTime1.item(0))*0.0\n",
    "## --\n",
    "LastTime2=ds_Gall[Idx2].time_unit.in_units(myUnit1)\n",
    "LastTime2=round(LastTime2.item(0))*0.05\n",
    "## --\n",
    "LastTime3=ds_Gall[Idx3].time_unit.in_units(myUnit1)\n",
    "LastTime3=round(LastTime3.item(0))*0.1\n",
    "## --\n",
    "LastTime4=ds_Gall[Idx4].time_unit.in_units(myUnit1)\n",
    "LastTime4=round(LastTime4.item(0))*0.15\n",
    "## --\n",
    "LastTime5=ds_Gall[Idx5].time_unit.in_units(myUnit1)\n",
    "LastTime5=round(LastTime5.item(0))*0.2\n",
    "## --\n",
    "## ----- Las imagenes --\n",
    "img2=plotBondiRhoIndi(n,rbArr[Idx2],RhobArr[Idx2],model1,str(LastTime2)+' '+myUnit1)\n",
    "img3=plotBondiRhoIndi(n,rbArr[Idx3],RhobArr[Idx3],model1,str(LastTime3)+' '+myUnit1)\n",
    "img4=plotBondiRhoIndi(n,rbArr[Idx4],RhobArr[Idx4],model1,str(LastTime4)+' '+myUnit1)\n",
    "img5=plotBondiRhoIndi(n,rbArr[Idx5],RhobArr[Idx5],model1,str(LastTime5)+' '+myUnit1)\n",
    "\n",
    "\n",
    "plt.savefig(str(model1)+'_'+str(nMod)+'_Rho_v1.png')"
   ]
  },
  {
   "cell_type": "code",
   "execution_count": null,
   "id": "771a793a",
   "metadata": {},
   "outputs": [],
   "source": [
    "n=1\n",
    "# W579\n",
    "model1='W579;'\n",
    "nMod='1'\n",
    "Idx1=6; Idx2=7; Idx3=8; Idx4=9;  \n",
    "Idx5=10; Idx6=11;\n",
    "\n",
    "## -- Tiempo del ultimo --\n",
    "myUnit1='kyr'\n",
    "LastTime1=ds_Gall[Idx1].time_unit.in_units(myUnit1)\n",
    "LastTime1=round(LastTime1.item(0))*0.0\n",
    "## --\n",
    "LastTime2=ds_Gall[Idx2].time_unit.in_units(myUnit1)\n",
    "LastTime2=round(LastTime2.item(0))*0.05\n",
    "## --\n",
    "LastTime3=ds_Gall[Idx3].time_unit.in_units(myUnit1)\n",
    "LastTime3=round(LastTime3.item(0))*0.1\n",
    "## --\n",
    "LastTime4=ds_Gall[Idx4].time_unit.in_units(myUnit1)\n",
    "LastTime4=round(LastTime4.item(0))*0.15\n",
    "## --\n",
    "LastTime5=ds_Gall[Idx5].time_unit.in_units(myUnit1)\n",
    "LastTime5=round(LastTime5.item(0))*0.2\n",
    "## --\n",
    "## ----- Las imagenes --\n",
    "#img1=plotBondiRhoIndi(n,rbArr[Idx1],RhobArr[Idx1],model1,str(LastTime1)+' '+myUnit1)\n",
    "img2=plotBondiRhoIndi(n,rbArr[Idx2],RhobArr[Idx2],model1,str(LastTime2)+' '+myUnit1)\n",
    "img3=plotBondiRhoIndi(n,rbArr[Idx3],RhobArr[Idx3],model1,str(LastTime3)+' '+myUnit1)\n",
    "img4=plotBondiRhoIndi(n,rbArr[Idx4],RhobArr[Idx4],model1,str(LastTime4)+' '+myUnit1)\n",
    "img5=plotBondiRhoIndi(n,rbArr[Idx5],RhobArr[Idx5],model1,str(LastTime5)+' '+myUnit1)\n",
    "\n",
    "\n",
    "plt.savefig(str(model1)+'_'+str(nMod)+'_Rho_v1.png')"
   ]
  },
  {
   "cell_type": "code",
   "execution_count": null,
   "id": "4a688c86",
   "metadata": {},
   "outputs": [],
   "source": [
    "n=1\n",
    "# W1000\n",
    "model1='W1000;'\n",
    "nMod='1'\n",
    "Idx1=12; Idx2=13; Idx3=14; Idx4=15;  \n",
    "Idx5=16; Idx6=17;\n",
    "\n",
    "## -- Tiempo del ultimo --\n",
    "myUnit1='kyr'\n",
    "LastTime1=ds_Gall[Idx1].time_unit.in_units(myUnit1)\n",
    "LastTime1=round(LastTime1.item(0))*0.0\n",
    "## --\n",
    "LastTime2=ds_Gall[Idx2].time_unit.in_units(myUnit1)\n",
    "LastTime2=round(LastTime2.item(0))*0.05\n",
    "## --\n",
    "LastTime3=ds_Gall[Idx3].time_unit.in_units(myUnit1)\n",
    "LastTime3=round(LastTime3.item(0))*0.1\n",
    "## --\n",
    "LastTime4=ds_Gall[Idx4].time_unit.in_units(myUnit1)\n",
    "LastTime4=round(LastTime4.item(0))*0.15\n",
    "## --\n",
    "LastTime5=ds_Gall[Idx5].time_unit.in_units(myUnit1)\n",
    "LastTime5=round(LastTime5.item(0))*0.2\n",
    "## --\n",
    "## ----- Las imagenes --\n",
    "#img1=plotBondiRhoIndi(n,rbArr[Idx1],RhobArr[Idx1],model1,str(LastTime1)+' '+myUnit1)\n",
    "img2=plotBondiRhoIndi(n,rbArr[Idx2],RhobArr[Idx2],model1,str(LastTime2)+' '+myUnit1)\n",
    "img3=plotBondiRhoIndi(n,rbArr[Idx3],RhobArr[Idx3],model1,str(LastTime3)+' '+myUnit1)\n",
    "img4=plotBondiRhoIndi(n,rbArr[Idx4],RhobArr[Idx4],model1,str(LastTime4)+' '+myUnit1)\n",
    "img5=plotBondiRhoIndi(n,rbArr[Idx5],RhobArr[Idx5],model1,str(LastTime5)+' '+myUnit1)\n",
    "\n",
    "\n",
    "plt.savefig(str(model1)+'_'+str(nMod)+'_Rho_v1.png')"
   ]
  },
  {
   "cell_type": "code",
   "execution_count": null,
   "id": "3bbdecef",
   "metadata": {},
   "outputs": [],
   "source": [
    "n=1\n",
    "# W1953\n",
    "model1='W1953;'\n",
    "nMod='1'\n",
    "Idx1=18; Idx2=19; Idx3=20; Idx4=21;  \n",
    "Idx5=22; Idx6=23;\n",
    "\n",
    "## -- Tiempo del ultimo --\n",
    "myUnit1='kyr'\n",
    "LastTime1=ds_Gall[Idx1].time_unit.in_units(myUnit1)\n",
    "LastTime1=round(LastTime1.item(0))*0.0\n",
    "## --\n",
    "LastTime2=ds_Gall[Idx2].time_unit.in_units(myUnit1)\n",
    "LastTime2=round(LastTime2.item(0))*0.05\n",
    "## --\n",
    "LastTime3=ds_Gall[Idx3].time_unit.in_units(myUnit1)\n",
    "LastTime3=round(LastTime3.item(0))*0.1\n",
    "## --\n",
    "LastTime4=ds_Gall[Idx4].time_unit.in_units(myUnit1)\n",
    "LastTime4=round(LastTime4.item(0))*0.15\n",
    "## --\n",
    "LastTime5=ds_Gall[Idx5].time_unit.in_units(myUnit1)\n",
    "LastTime5=round(LastTime5.item(0))*0.2\n",
    "## --\n",
    "## ----- Las imagenes --\n",
    "#img1=plotBondiRhoIndi(n,rbArr[Idx1],RhobArr[Idx1],model1,str(LastTime1)+' '+myUnit1)\n",
    "img2=plotBondiRhoIndi(n,rbArr[Idx2],RhobArr[Idx2],model1,str(LastTime2)+' '+myUnit1)\n",
    "img3=plotBondiRhoIndi(n,rbArr[Idx3],RhobArr[Idx3],model1,str(LastTime3)+' '+myUnit1)\n",
    "img4=plotBondiRhoIndi(n,rbArr[Idx4],RhobArr[Idx4],model1,str(LastTime4)+' '+myUnit1)\n",
    "img5=plotBondiRhoIndi(n,rbArr[Idx5],RhobArr[Idx5],model1,str(LastTime5)+' '+myUnit1)\n",
    "\n",
    "\n",
    "plt.savefig(str(model1)+'_'+str(nMod)+'_Rho_v1.png')"
   ]
  },
  {
   "cell_type": "markdown",
   "id": "c16887e1",
   "metadata": {},
   "source": [
    "---"
   ]
  },
  {
   "cell_type": "markdown",
   "id": "02d50084",
   "metadata": {},
   "source": [
    "# Cortes transversales ---"
   ]
  },
  {
   "cell_type": "code",
   "execution_count": 33,
   "id": "7da6436b",
   "metadata": {},
   "outputs": [
    {
     "name": "stdout",
     "output_type": "stream",
     "text": [
      "Object `annotate_timestamp` not found.\n"
     ]
    }
   ],
   "source": [
    "?annotate_timestamp"
   ]
  },
  {
   "cell_type": "code",
   "execution_count": 34,
   "id": "9713c0bc",
   "metadata": {},
   "outputs": [
    {
     "name": "stdout",
     "output_type": "stream",
     "text": [
      "Time unit:  26.912943464245508 kyr\n"
     ]
    }
   ],
   "source": [
    "print(\"Time unit: \", ds_Gall[1].time_unit.in_units(\"kyr\"))"
   ]
  },
  {
   "cell_type": "code",
   "execution_count": 35,
   "id": "878645ed",
   "metadata": {},
   "outputs": [
    {
     "name": "stderr",
     "output_type": "stream",
     "text": [
      "yt : [INFO     ] 2022-02-16 10:23:58,193 xlim = -1.250000 1.250000\n",
      "yt : [INFO     ] 2022-02-16 10:23:58,193 ylim = -1.250000 1.250000\n",
      "yt : [INFO     ] 2022-02-16 10:23:58,194 xlim = -1.250000 1.250000\n",
      "yt : [INFO     ] 2022-02-16 10:23:58,195 ylim = -1.250000 1.250000\n",
      "yt : [INFO     ] 2022-02-16 10:23:58,196 Making a fixed resolution buffer of (('gas', 'density')) 800 by 800\n"
     ]
    },
    {
     "name": "stdout",
     "output_type": "stream",
     "text": [
      "center =  [-1.67011285 -2.05801225  1.84805703] code_length\n",
      "Este es el box:  25.000019598918 pc\n",
      "[-29.20115138 -33.0801484    5.980575  ] pc\n",
      "[-4.20113178 -8.08012881 30.9805946 ] pc\n"
     ]
    },
    {
     "name": "stderr",
     "output_type": "stream",
     "text": [
      "/Users/josem/Desktop/Peiskos2020/CursoVAE101_v1/VAEtf1env/lib/python3.8/site-packages/yt/data_objects/data_containers.py:1421: VisibleDeprecationWarning: The requested field name 'x' is ambiguous and corresponds to any one of the following field types:\n",
      " {'all', 'gas', 'Gas'}\n",
      "Please specify the requested field as an explicit tuple (ftype, fname).\n",
      "Defaulting to '(\"gas\", \"x\")'.\n",
      "Deprecated since v4.0.0. This feature will be removed in v4.1.0\n",
      "  finfo = self.ds._get_field_info(field)\n",
      "yt : [INFO     ] 2022-02-16 10:24:26,008 Making a fixed resolution buffer of (('gas', 'x')) 800 by 800\n",
      "/Users/josem/Desktop/Peiskos2020/CursoVAE101_v1/VAEtf1env/lib/python3.8/site-packages/yt/data_objects/data_containers.py:1421: VisibleDeprecationWarning: The requested field name 'y' is ambiguous and corresponds to any one of the following field types:\n",
      " {'all', 'gas', 'Gas'}\n",
      "Please specify the requested field as an explicit tuple (ftype, fname).\n",
      "Defaulting to '(\"gas\", \"y\")'.\n",
      "Deprecated since v4.0.0. This feature will be removed in v4.1.0\n",
      "  finfo = self.ds._get_field_info(field)\n",
      "yt : [INFO     ] 2022-02-16 10:24:55,179 Making a fixed resolution buffer of (('gas', 'y')) 800 by 800\n",
      "/Users/josem/Desktop/Peiskos2020/CursoVAE101_v1/VAEtf1env/lib/python3.8/site-packages/yt/data_objects/data_containers.py:1421: VisibleDeprecationWarning: The requested field name 'density' is ambiguous and corresponds to any one of the following field types:\n",
      " {'all', 'gas'}\n",
      "Please specify the requested field as an explicit tuple (ftype, fname).\n",
      "Defaulting to '(\"gas\", \"density\")'.\n",
      "Deprecated since v4.0.0. This feature will be removed in v4.1.0\n",
      "  finfo = self.ds._get_field_info(field)\n"
     ]
    },
    {
     "data": {
      "text/html": [
       "<img style=\"max-width:100%;max-height:100%;\" src=\"data:image/png;base64,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\"><br>"
      ],
      "text/plain": [
       "<yt.visualization.plot_window.AxisAlignedSlicePlot at 0x15c088b50>"
      ]
     },
     "execution_count": 35,
     "metadata": {},
     "output_type": "execute_result"
    }
   ],
   "source": [
    "Idx = 22\n",
    "myUnit1='kyr'\n",
    "LastTime1=ds_Gall[Idx].time_unit.in_units(myUnit1)\n",
    "LastTime1=round(LastTime1.item(0)*0.2)\n",
    "model1='W1953'\n",
    "\n",
    "\n",
    "ad = ds_Gall[Idx].all_data()\n",
    "### Aqui defino --\n",
    "density = ad[(\"Gas\",\"Density\")]\n",
    "internal= ad[(\"Gas\",\"InternalEnergy\")]\n",
    "\n",
    "#####\n",
    "wdens = np.where(density == np.max(density))\n",
    "coordinates = ad[(\"Gas\",\"Coordinates\")]\n",
    "center = coordinates[wdens][0]\n",
    "print('center = ',center)\n",
    "\n",
    "### Nueva caja\n",
    "new_box_size = ds_Gall[Idx].quan(2.5,'code_length')\n",
    "left_edge = center - new_box_size/2\n",
    "right_edge = center + new_box_size/2\n",
    "\n",
    "print('Este es el box: ', new_box_size.in_units('pc'))\n",
    "print(left_edge.in_units('pc'))\n",
    "print(right_edge.in_units('pc'))\n",
    "\n",
    "#####\n",
    "px = yt.SlicePlot(ds_Gall[Idx], 'z', ('gas', 'density'), \n",
    "#center=[0.,new_box_size/2,new_box_size/2], width=new_box_size,\n",
    "#origin='lower-left-window')\n",
    "center=[0,0,0], width=new_box_size,\n",
    "origin='center-window') #'lower-left-window'\n",
    "px.set_unit('x','code_length')\n",
    "px.set_unit('y','code_length')\n",
    "px.set_unit((\"gas\", \"density\"),'code_density')\n",
    "px.set_cmap(field=\"density\", cmap='jet') ## amfhot,jet\n",
    "\n",
    "\n",
    "\n",
    "px.annotate_text((-.5,.5), \"(b) \"+model1+'; t= '+str(LastTime1)+' '+myUnit1, \n",
    "                 coord_system=\"plot\",\n",
    "                 text_args={\"color\": \"white\", \"size\":26,\n",
    "                           'family': 'sans-serif', \n",
    "                           'style': 'italic'})"
   ]
  },
  {
   "cell_type": "code",
   "execution_count": 36,
   "id": "ba914486",
   "metadata": {},
   "outputs": [
    {
     "name": "stderr",
     "output_type": "stream",
     "text": [
      "yt : [INFO     ] 2022-02-16 10:25:44,395 Saving plot snapshot_0004_Slice_z_density.png\n"
     ]
    },
    {
     "data": {
      "text/plain": [
       "['snapshot_0004_Slice_z_density.png']"
      ]
     },
     "execution_count": 36,
     "metadata": {},
     "output_type": "execute_result"
    }
   ],
   "source": [
    "px.save()"
   ]
  },
  {
   "cell_type": "markdown",
   "id": "b9b35202",
   "metadata": {},
   "source": [
    "# Solving and Plotting semi-Analytical solutions"
   ]
  },
  {
   "cell_type": "code",
   "execution_count": 17,
   "id": "4c80c87e",
   "metadata": {},
   "outputs": [
    {
     "data": {
      "text/plain": [
       "36341084.17671472"
      ]
     },
     "execution_count": 17,
     "metadata": {},
     "output_type": "execute_result"
    }
   ],
   "source": [
    "TX=1.e7\n",
    "pc = 3.18e+18\n",
    "BOLTZMANN  = 1.3806e-16\n",
    "PROTONMASS = 1.6726e-24\n",
    "HYDROGEN_MASSFRAC = 0.625\n",
    "mass_sun = 1.989e+33  ## g\n",
    "RHO0 = 1.0e-19        ## Density at infty\n",
    "Gnew = 6.672e-8       ##\n",
    "myPI = 3.14159\n",
    "Mbh  = 1.e+8*mass_sun ## Black hole mass\n",
    "## --\n",
    "myGamma=1.0\n",
    "## \n",
    "Uvel = np.sqrt((myGamma * BOLTZMANN * TX)/(HYDROGEN_MASSFRAC*PROTONMASS))\n",
    "Uvel"
   ]
  },
  {
   "cell_type": "code",
   "execution_count": 18,
   "id": "da67fc5a",
   "metadata": {},
   "outputs": [
    {
     "data": {
      "text/plain": [
       "0.3256448211948118"
      ]
     },
     "execution_count": 18,
     "metadata": {},
     "output_type": "execute_result"
    }
   ],
   "source": [
    "Rb=Gnew*Mbh/(Uvel*Uvel)  # 3.*(Mbh/(1.e+8*mass_sun))/(TX/1.e+7)\n",
    "FactX=Rb/(Rad0)\n",
    "FactX"
   ]
  },
  {
   "cell_type": "markdown",
   "id": "78b77830",
   "metadata": {},
   "source": [
    "# Isothermal Model"
   ]
  },
  {
   "cell_type": "code",
   "execution_count": 19,
   "id": "6be0e1e6",
   "metadata": {},
   "outputs": [],
   "source": [
    "with open('./Profiles_G1_v5.txt') as f:\n",
    "    lines1 = f.readlines()"
   ]
  },
  {
   "cell_type": "code",
   "execution_count": 20,
   "id": "2200901d",
   "metadata": {},
   "outputs": [
    {
     "data": {
      "text/plain": [
       "820.2538706454"
      ]
     },
     "execution_count": 20,
     "metadata": {},
     "output_type": "execute_result"
    }
   ],
   "source": [
    "np.float(lines1[5].split('\\t')[2])"
   ]
  },
  {
   "cell_type": "code",
   "execution_count": 21,
   "id": "d2750569",
   "metadata": {},
   "outputs": [],
   "source": [
    "Fact1=1.27 #\n",
    "Fact2=0.001 #\n",
    "\n",
    "xIso=[]\n",
    "MIso=[]\n",
    "RhoIso=[]\n",
    "for line in lines1[5:]:\n",
    "    xIso.append(FactX*np.float(line.split('\\t')[0]))\n",
    "    MIso.append(-Fact1*np.float(np.float(line.split('\\t')[1])))\n",
    "    RhoIso.append(Fact2 * np.float(np.float(line.split('\\t')[2])))\n",
    "#MIso"
   ]
  },
  {
   "cell_type": "code",
   "execution_count": 22,
   "id": "45ef9fb9",
   "metadata": {},
   "outputs": [
    {
     "data": {
      "text/plain": [
       "[<matplotlib.lines.Line2D at 0x14c559a30>]"
      ]
     },
     "execution_count": 22,
     "metadata": {},
     "output_type": "execute_result"
    },
    {
     "data": {
      "image/png": "[encoded data removed]",
      "text/plain": [
       "<Figure size 432x288 with 1 Axes>"
      ]
     },
     "metadata": {
      "needs_background": "light"
     },
     "output_type": "display_data"
    }
   ],
   "source": [
    "plt.xscale('log')\n",
    "plt.yscale('log')\n",
    "plt.plot(xIso, RhoIso)"
   ]
  },
  {
   "cell_type": "code",
   "execution_count": null,
   "id": "a4742889",
   "metadata": {},
   "outputs": [],
   "source": [
    "#temp = interpolate.interp1d(xIso, MIso)\n",
    "## ---\n",
    "Idx2=1\n",
    "np.where((np.min(xIso) < rbArr[Idx2]*FactX) & (rbArr[Idx2]*FactX < np.max(xIso)) )\n",
    "#xnew = rb[np.where(np.min(xIso) < rb < np.max(xIso))]"
   ]
  },
  {
   "cell_type": "code",
   "execution_count": 24,
   "id": "5f895861",
   "metadata": {},
   "outputs": [],
   "source": [
    "from scipy import interpolate\n",
    "\n",
    "def plotBondiVelRatio(n,rb,velb,lbs,i):\n",
    "    ## --- Estilo --\n",
    "    #plt.figure(figsize=(8,2))\n",
    "    putStyle(14,2,True,True)\n",
    "    ## -------------\n",
    "    # Interpolation\n",
    "    temp = interpolate.interp1d(xIso, MIso)\n",
    "    ## ---\n",
    "    ynew = temp(rb[np.where((np.min(xIso) < rb) & (rb < np.max(xIso)))])\n",
    "    xnew = rb[np.where((np.min(xIso) < rb) & (rb < np.max(xIso)))]\n",
    "    \n",
    "    \n",
    "    plt.scatter(xnew, (velb[np.where((np.min(xIso) < rb) \\\n",
    "                     & (rb < np.max(xIso)))] - ynew), 2)\n",
    "    plt.axhline(y = 0., color = 'black', linestyle = '--')\n",
    "    ## ----------------------------------------------------\n",
    "    #plt.legend(loc='best')\n",
    "    plt.xlabel(r'$r~(u.c)$')\n",
    "    ## Limits--\n",
    "    plt.xscale(\"log\")\n",
    "    plt.xlim(0.0005, 5.1)\n",
    "    plt.ylabel(r'Diff')\n",
    "    plt.ylim(-5, 5)"
   ]
  },
  {
   "cell_type": "markdown",
   "id": "79c489c1",
   "metadata": {},
   "source": [
    "# W365"
   ]
  },
  {
   "cell_type": "code",
   "execution_count": 25,
   "id": "0d74936d",
   "metadata": {},
   "outputs": [
    {
     "data": {
      "image/png": "[encoded data removed]",
      "text/plain": [
       "<Figure size 576x216 with 1 Axes>"
      ]
     },
     "metadata": {
      "needs_background": "light"
     },
     "output_type": "display_data"
    }
   ],
   "source": [
    "plt.figure(figsize=(8,3))\n",
    "n=1\n",
    "# W365\n",
    "model1='W365'\n",
    "nMod='Final_Fig1'\n",
    "Idx1=0; Idx2=1; Idx3=2; Idx4=3;  \n",
    "Idx5=4; Idx6=5;\n",
    "\n",
    "## -- Tiempo del ultimo --\n",
    "myUnit1='kyr'\n",
    "## --\n",
    "LastTime2=ds_Gall[Idx2].time_unit.in_units(myUnit1)\n",
    "LastTime2=round(LastTime2.item(0))*0.05\n",
    "## --\n",
    "LastTime3=ds_Gall[Idx3].time_unit.in_units(myUnit1)\n",
    "LastTime3=round(LastTime3.item(0))*0.1\n",
    "## --\n",
    "LastTime4=ds_Gall[Idx4].time_unit.in_units(myUnit1)\n",
    "LastTime4=round(LastTime4.item(0))*0.15\n",
    "## --\n",
    "LastTime5=ds_Gall[Idx5].time_unit.in_units(myUnit1)\n",
    "LastTime5=round(LastTime5.item(0))*0.2\n",
    "## --\n",
    "\n",
    "\n",
    "## ----- Las imagenes --\n",
    "img2=plotBondiVelRatio(n,rbArr[Idx2]*FactX,VelbArr[Idx2]/Fact1,model1,str(LastTime2)+' '+myUnit1)\n",
    "img3=plotBondiVelRatio(n,rbArr[Idx3]*FactX,VelbArr[Idx3]/Fact1,model1,str(LastTime3)+' '+myUnit1)\n",
    "img4=plotBondiVelRatio(n,rbArr[Idx4]*FactX,VelbArr[Idx4]/Fact1,model1,'22.4'+' '+myUnit1)\n",
    "img5=plotBondiVelRatio(n,rbArr[Idx5]*FactX,VelbArr[Idx5]/Fact1,model1,str(LastTime5)+' '+myUnit1)\n",
    "\n",
    "\n",
    "plt.savefig(str(model1)+'_'+str(nMod)+'_Vel_Diff_v1.png')"
   ]
  },
  {
   "cell_type": "code",
   "execution_count": 26,
   "id": "f1b78f72",
   "metadata": {},
   "outputs": [
    {
     "data": {
      "image/png": "[encoded data removed]",
      "text/plain": [
       "<Figure size 576x576 with 1 Axes>"
      ]
     },
     "metadata": {
      "needs_background": "light"
     },
     "output_type": "display_data"
    }
   ],
   "source": [
    "plt.xscale(\"log\")\n",
    "\n",
    "n=1\n",
    "plt.plot(xIso,MIso,'black', \n",
    "         label='$\\gamma$= '+str(n)+'; Theoretical - Ramirez etal. 2021')\n",
    "\n",
    "# W365\n",
    "model1='W365'\n",
    "nMod='Final_Fig1'\n",
    "Idx1=0; Idx2=1; Idx3=2; Idx4=3;  \n",
    "Idx5=4; Idx6=5;\n",
    "## -- Tiempo del ultimo --\n",
    "myUnit1='kyr'\n",
    "## --\n",
    "LastTime2=ds_Gall[Idx2].time_unit.in_units(myUnit1)\n",
    "LastTime2=round(LastTime2.item(0))*0.05\n",
    "## --\n",
    "LastTime3=ds_Gall[Idx3].time_unit.in_units(myUnit1)\n",
    "LastTime3=round(LastTime3.item(0))*0.1\n",
    "## --\n",
    "LastTime4=ds_Gall[Idx4].time_unit.in_units(myUnit1)\n",
    "LastTime4=round(LastTime4.item(0)*0.15)\n",
    "## --\n",
    "LastTime5=ds_Gall[Idx5].time_unit.in_units(myUnit1)\n",
    "LastTime5=round(LastTime5.item(0))*0.2\n",
    "## --\n",
    "\n",
    "\n",
    "## ----- Las imagenes --\n",
    "img2=plotBondiVelIndi(n,rbArr[Idx2]*FactX,VelbArr[Idx2]/Fact1,model1,str(LastTime2)+' '+myUnit1)\n",
    "img3=plotBondiVelIndi(n,rbArr[Idx3]*FactX,VelbArr[Idx3]/Fact1,model1,str(LastTime3)+' '+myUnit1)\n",
    "img4=plotBondiVelIndi(n,rbArr[Idx4]*FactX,VelbArr[Idx4]/Fact1,model1,str(LastTime4)+' '+myUnit1)\n",
    "img5=plotBondiVelIndi(n,rbArr[Idx5]*FactX,VelbArr[Idx5]/Fact1,model1,str(LastTime5)+' '+myUnit1)\n",
    "\n",
    "\n",
    "plt.savefig(str(model1)+'_'+str(nMod)+'_Vel_v1.png')"
   ]
  },
  {
   "cell_type": "markdown",
   "id": "a5cc9568",
   "metadata": {},
   "source": [
    "# W579"
   ]
  },
  {
   "cell_type": "code",
   "execution_count": 27,
   "id": "70462e06",
   "metadata": {},
   "outputs": [
    {
     "data": {
      "image/png": "[encoded data removed]",
      "text/plain": [
       "<Figure size 576x216 with 1 Axes>"
      ]
     },
     "metadata": {
      "needs_background": "light"
     },
     "output_type": "display_data"
    }
   ],
   "source": [
    "# plt.xscale(\"log\")\n",
    "plt.figure(figsize=(8,3))\n",
    "\n",
    "n=1\n",
    "# W579\n",
    "model1='W579'\n",
    "nMod='Final_Fig1'\n",
    "Idx1=6; Idx2=7; Idx3=8; Idx4=9;  \n",
    "Idx5=10; Idx6=11;\n",
    "\n",
    "## -- Tiempo del ultimo --\n",
    "myUnit1='kyr'\n",
    "## --\n",
    "LastTime2=ds_Gall[Idx2].time_unit.in_units(myUnit1)\n",
    "LastTime2=round(LastTime2.item(0))*0.05\n",
    "## --\n",
    "LastTime3=ds_Gall[Idx3].time_unit.in_units(myUnit1)\n",
    "LastTime3=round(LastTime3.item(0))*0.1\n",
    "## --\n",
    "LastTime4=ds_Gall[Idx4].time_unit.in_units(myUnit1)\n",
    "LastTime4=round(LastTime4.item(0)*0.15)\n",
    "## --\n",
    "LastTime5=ds_Gall[Idx5].time_unit.in_units(myUnit1)\n",
    "LastTime5=round(LastTime5.item(0))*0.2\n",
    "## --\n",
    "\n",
    "\n",
    "## ----- Las imagenes --\n",
    "img2=plotBondiVelRatio(n,rbArr[Idx2]*FactX,VelbArr[Idx2]/Fact1,model1,str(LastTime2)+' '+myUnit1)\n",
    "img3=plotBondiVelRatio(n,rbArr[Idx3]*FactX,VelbArr[Idx3]/Fact1,model1,str(LastTime3)+' '+myUnit1)\n",
    "img4=plotBondiVelRatio(n,rbArr[Idx4]*FactX,VelbArr[Idx4]/Fact1,model1,str(LastTime3)+' '+myUnit1)\n",
    "img5=plotBondiVelRatio(n,rbArr[Idx5]*FactX,VelbArr[Idx5]/Fact1,model1,str(LastTime5)+' '+myUnit1)\n",
    "\n",
    "\n",
    "plt.savefig(str(model1)+'_'+str(nMod)+'_Vel_Diff_v1.png')"
   ]
  },
  {
   "cell_type": "code",
   "execution_count": 28,
   "id": "08853d08",
   "metadata": {},
   "outputs": [
    {
     "data": {
      "image/png": "[encoded data removed]",
      "text/plain": [
       "<Figure size 576x576 with 1 Axes>"
      ]
     },
     "metadata": {
      "needs_background": "light"
     },
     "output_type": "display_data"
    }
   ],
   "source": [
    "plt.xscale(\"log\")\n",
    "#plt.figure(figsize=(8,6))\n",
    "\n",
    "n=1\n",
    "plt.plot(xIso,MIso,'black', \n",
    "         label='$\\gamma$= '+str(n)+'; Theoretical - Ramirez etal. 2021')\n",
    "\n",
    "\n",
    "# W256\n",
    "model1='W579'\n",
    "nMod='Final_Fig1'\n",
    "Idx1=6; Idx2=7; Idx3=8; Idx4=9;  \n",
    "Idx5=10; Idx6=11;\n",
    "\n",
    "## -- Tiempo del ultimo --\n",
    "myUnit1='kyr'\n",
    "## --\n",
    "LastTime2=ds_Gall[Idx2].time_unit.in_units(myUnit1)\n",
    "LastTime2=round(LastTime2.item(0))*0.05\n",
    "## --\n",
    "LastTime3=ds_Gall[Idx3].time_unit.in_units(myUnit1)\n",
    "LastTime3=round(LastTime3.item(0))*0.1\n",
    "## --\n",
    "LastTime4=ds_Gall[Idx4].time_unit.in_units(myUnit1)\n",
    "LastTime4=round(LastTime4.item(0)*0.15)\n",
    "## --\n",
    "LastTime5=ds_Gall[Idx5].time_unit.in_units(myUnit1)\n",
    "LastTime5=round(LastTime5.item(0))*0.2\n",
    "## --\n",
    "\n",
    "\n",
    "\n",
    "## ----- Las imagenes --\n",
    "img2=plotBondiVelIndi(n,rbArr[Idx2]*FactX,VelbArr[Idx2]/Fact1,model1,str(LastTime2)+' '+myUnit1)\n",
    "img3=plotBondiVelIndi(n,rbArr[Idx3]*FactX,VelbArr[Idx3]/Fact1,model1,str(LastTime3)+' '+myUnit1)\n",
    "img4=plotBondiVelIndi(n,rbArr[Idx4]*FactX,VelbArr[Idx4]/Fact1,model1,str(LastTime4)+' '+myUnit1)\n",
    "img5=plotBondiVelIndi(n,rbArr[Idx5]*FactX,VelbArr[Idx5]/Fact1,model1,str(LastTime5)+' '+myUnit1)\n",
    "\n",
    "\n",
    "plt.savefig(str(model1)+'_'+str(nMod)+'_Vel_v1.png')"
   ]
  },
  {
   "cell_type": "markdown",
   "id": "32878eac",
   "metadata": {},
   "source": [
    "# W1000"
   ]
  },
  {
   "cell_type": "code",
   "execution_count": 29,
   "id": "c2ad6272",
   "metadata": {},
   "outputs": [
    {
     "data": {
      "image/png": "[encoded data removed]",
      "text/plain": [
       "<Figure size 576x216 with 1 Axes>"
      ]
     },
     "metadata": {
      "needs_background": "light"
     },
     "output_type": "display_data"
    }
   ],
   "source": [
    "# plt.xscale(\"log\")\n",
    "plt.figure(figsize=(8,3))\n",
    "\n",
    "n=1\n",
    "#plt.plot(xIso,MIso,'blue', \n",
    "#         label='$\\gamma$= '+str(n)+'; Theoretical - Ramirez etal. 2021')\n",
    "\n",
    "\n",
    "# W256\n",
    "model1='W1000'\n",
    "nMod='Final_Fig1'\n",
    "Idx1=12; Idx2=13; Idx3=14; Idx4=15;  \n",
    "Idx5=16; Idx6=17;\n",
    "\n",
    "## -- Tiempo del ultimo --\n",
    "myUnit1='kyr'\n",
    "## --\n",
    "LastTime2=ds_Gall[Idx2].time_unit.in_units(myUnit1)\n",
    "LastTime2=round(LastTime2.item(0))*0.05\n",
    "## --\n",
    "LastTime3=ds_Gall[Idx3].time_unit.in_units(myUnit1)\n",
    "LastTime3=round(LastTime3.item(0))*0.1\n",
    "## --\n",
    "LastTime4=ds_Gall[Idx4].time_unit.in_units(myUnit1)\n",
    "LastTime4=round(LastTime4.item(0))*0.15\n",
    "## --\n",
    "LastTime5=ds_Gall[Idx5].time_unit.in_units(myUnit1)\n",
    "LastTime5=round(LastTime5.item(0))*0.2\n",
    "## --\n",
    "\n",
    "\n",
    "\n",
    "## ----- Las imagenes --\n",
    "img2=plotBondiVelRatio(n,rbArr[Idx2]*FactX,VelbArr[Idx2]/Fact1,model1,str(LastTime2)+' '+myUnit1)\n",
    "img3=plotBondiVelRatio(n,rbArr[Idx3]*FactX,VelbArr[Idx3]/Fact1,model1,str(LastTime3)+' '+myUnit1)\n",
    "img4=plotBondiVelRatio(n,rbArr[Idx4]*FactX,VelbArr[Idx4]/Fact1,model1,'22.4'+' '+myUnit1)\n",
    "img5=plotBondiVelRatio(n,rbArr[Idx5]*FactX,VelbArr[Idx5]/Fact1,model1,str(LastTime5)+' '+myUnit1)\n",
    "\n",
    "\n",
    "plt.savefig(str(model1)+'_'+str(nMod)+'_Vel_Diff_v1.png')"
   ]
  },
  {
   "cell_type": "code",
   "execution_count": 30,
   "id": "01afabba",
   "metadata": {},
   "outputs": [
    {
     "data": {
      "image/png": "[encoded data removed]",
      "text/plain": [
       "<Figure size 576x576 with 1 Axes>"
      ]
     },
     "metadata": {
      "needs_background": "light"
     },
     "output_type": "display_data"
    }
   ],
   "source": [
    "plt.xscale(\"log\")\n",
    "#plt.figure(figsize=(8,6))\n",
    "\n",
    "n=1\n",
    "plt.plot(xIso,MIso,'black', \n",
    "         label='$\\gamma$= '+str(n)+'; Theoretical - Ramirez etal. 2021')\n",
    "\n",
    "\n",
    "# W1000\n",
    "model1='W1000'\n",
    "nMod='Final_Fig1'\n",
    "Idx1=12; Idx2=13; Idx3=14; Idx4=15;  \n",
    "Idx5=16; Idx6=17;\n",
    "\n",
    "## -- Tiempo del ultimo --\n",
    "myUnit1='kyr'\n",
    "## --\n",
    "LastTime2=ds_Gall[Idx2].time_unit.in_units(myUnit1)\n",
    "LastTime2=round(LastTime2.item(0))*0.05\n",
    "## --\n",
    "LastTime3=ds_Gall[Idx3].time_unit.in_units(myUnit1)\n",
    "LastTime3=round(LastTime3.item(0))*0.1\n",
    "## --\n",
    "LastTime4=ds_Gall[Idx4].time_unit.in_units(myUnit1)\n",
    "LastTime4=round(LastTime4.item(0)*0.15)\n",
    "## --\n",
    "LastTime5=ds_Gall[Idx5].time_unit.in_units(myUnit1)\n",
    "LastTime5=round(LastTime5.item(0))*0.2\n",
    "## --\n",
    "\n",
    "\n",
    "\n",
    "## ----- Las imagenes --\n",
    "img2=plotBondiVelIndi(n,rbArr[Idx2]*FactX,VelbArr[Idx2]/Fact1,model1,str(LastTime2)+' '+myUnit1)\n",
    "img3=plotBondiVelIndi(n,rbArr[Idx3]*FactX,VelbArr[Idx3]/Fact1,model1,str(LastTime3)+' '+myUnit1)\n",
    "img4=plotBondiVelIndi(n,rbArr[Idx4]*FactX,VelbArr[Idx4]/Fact1,model1,str(LastTime4)+' '+myUnit1)\n",
    "img5=plotBondiVelIndi(n,rbArr[Idx5]*FactX,VelbArr[Idx5]/Fact1,model1,str(LastTime5)+' '+myUnit1)\n",
    "\n",
    "\n",
    "plt.savefig(str(model1)+'_'+str(nMod)+'_Vel_v1.png')"
   ]
  },
  {
   "cell_type": "markdown",
   "id": "94f689ee",
   "metadata": {},
   "source": [
    "# W 1953"
   ]
  },
  {
   "cell_type": "code",
   "execution_count": 31,
   "id": "ea8f9cc9",
   "metadata": {},
   "outputs": [
    {
     "data": {
      "image/png": "[encoded data removed]",
      "text/plain": [
       "<Figure size 576x216 with 1 Axes>"
      ]
     },
     "metadata": {
      "needs_background": "light"
     },
     "output_type": "display_data"
    }
   ],
   "source": [
    "# plt.xscale(\"log\")\n",
    "plt.figure(figsize=(8,3))\n",
    "\n",
    "n=1\n",
    "#plt.plot(xIso,MIso,'blue', \n",
    "#         label='$\\gamma$= '+str(n)+'; Theoretical - Ramirez etal. 2021')\n",
    "\n",
    "\n",
    "# W256\n",
    "model1='W1953'\n",
    "nMod='Final_Fig1'\n",
    "Idx1=18; Idx2=19; Idx3=20; Idx4=21;  \n",
    "Idx5=22; Idx6=23;\n",
    "\n",
    "## -- Tiempo del ultimo --\n",
    "myUnit1='kyr'\n",
    "## --\n",
    "LastTime2=ds_Gall[Idx2].time_unit.in_units(myUnit1)\n",
    "LastTime2=round(LastTime2.item(0))*0.05\n",
    "## --\n",
    "LastTime3=ds_Gall[Idx3].time_unit.in_units(myUnit1)\n",
    "LastTime3=round(LastTime3.item(0))*0.1\n",
    "## --\n",
    "LastTime4=ds_Gall[Idx4].time_unit.in_units(myUnit1)\n",
    "LastTime4=round(LastTime4.item(0))*0.15\n",
    "## --\n",
    "LastTime5=ds_Gall[Idx5].time_unit.in_units(myUnit1)\n",
    "LastTime5=round(LastTime5.item(0))*0.2\n",
    "## --\n",
    "\n",
    "\n",
    "\n",
    "## ----- Las imagenes --\n",
    "img2=plotBondiVelRatio(n,rbArr[Idx2]*FactX,VelbArr[Idx2]/Fact1,model1,str(LastTime2)+' '+myUnit1)\n",
    "img3=plotBondiVelRatio(n,rbArr[Idx3]*FactX,VelbArr[Idx3]/Fact1,model1,str(LastTime3)+' '+myUnit1)\n",
    "img4=plotBondiVelRatio(n,rbArr[Idx4]*FactX,VelbArr[Idx4]/Fact1,model1,'22.4'+' '+myUnit1)\n",
    "img5=plotBondiVelRatio(n,rbArr[Idx5]*FactX,VelbArr[Idx5]/Fact1,model1,str(LastTime5)+' '+myUnit1)\n",
    "\n",
    "\n",
    "plt.savefig(str(model1)+'_'+str(nMod)+'_Vel_Diff_v1.png')"
   ]
  },
  {
   "cell_type": "code",
   "execution_count": 32,
   "id": "53b914f3",
   "metadata": {},
   "outputs": [
    {
     "data": {
      "image/png": "[encoded data removed]",
      "text/plain": [
       "<Figure size 576x576 with 1 Axes>"
      ]
     },
     "metadata": {
      "needs_background": "light"
     },
     "output_type": "display_data"
    }
   ],
   "source": [
    "plt.xscale(\"log\")\n",
    "#plt.figure(figsize=(8,6))\n",
    "\n",
    "n=1\n",
    "plt.plot(xIso,MIso,'black', \n",
    "         label='$\\gamma$= '+str(n)+'; Theoretical - Ramirez etal. 2021')\n",
    "\n",
    "\n",
    "# W256\n",
    "model1='W1953'\n",
    "nMod='Final_Fig1'\n",
    "Idx1=18; Idx2=19; Idx3=20; Idx4=21;  \n",
    "Idx5=22; Idx6=23;\n",
    "\n",
    "## -- Tiempo del ultimo --\n",
    "myUnit1='kyr'\n",
    "## --\n",
    "LastTime2=ds_Gall[Idx2].time_unit.in_units(myUnit1)\n",
    "LastTime2=round(LastTime2.item(0))*0.05\n",
    "## --\n",
    "LastTime3=ds_Gall[Idx3].time_unit.in_units(myUnit1)\n",
    "LastTime3=round(LastTime3.item(0))*0.1\n",
    "## --\n",
    "LastTime4=ds_Gall[Idx4].time_unit.in_units(myUnit1)\n",
    "LastTime4=round(LastTime4.item(0)*0.15)\n",
    "## --\n",
    "LastTime5=ds_Gall[Idx5].time_unit.in_units(myUnit1)\n",
    "LastTime5=round(LastTime5.item(0))*0.2\n",
    "## --\n",
    "\n",
    "\n",
    "\n",
    "## ----- Las imagenes --\n",
    "img2=plotBondiVelIndi(n,rbArr[Idx2]*FactX,VelbArr[Idx2]/Fact1,model1,str(LastTime2)+' '+myUnit1)\n",
    "img3=plotBondiVelIndi(n,rbArr[Idx3]*FactX,VelbArr[Idx3]/Fact1,model1,str(LastTime3)+' '+myUnit1)\n",
    "img4=plotBondiVelIndi(n,rbArr[Idx4]*FactX,VelbArr[Idx4]/Fact1,model1,str(LastTime4)+' '+myUnit1)\n",
    "img5=plotBondiVelIndi(n,rbArr[Idx5]*FactX,VelbArr[Idx5]/Fact1,model1,str(LastTime5)+' '+myUnit1)\n",
    "\n",
    "\n",
    "plt.savefig(str(model1)+'_'+str(nMod)+'_Vel_v1.png')"
   ]
  },
  {
   "cell_type": "code",
   "execution_count": null,
   "id": "efc856df",
   "metadata": {},
   "outputs": [],
   "source": []
  }
 ],
 "metadata": {
  "kernelspec": {
   "display_name": "vaetf1env",
   "language": "python",
   "name": "vaetf1env"
  },
  "language_info": {
   "codemirror_mode": {
    "name": "ipython",
    "version": 3
   },
   "file_extension": ".py",
   "mimetype": "text/x-python",
   "name": "python",
   "nbconvert_exporter": "python",
   "pygments_lexer": "ipython3",
   "version": "3.8.12"
  }
 },
 "nbformat": 4,
 "nbformat_minor": 5
}
